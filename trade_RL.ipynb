{
 "cells": [
  {
   "cell_type": "code",
   "execution_count": 71,
   "metadata": {},
   "outputs": [],
   "source": [
    "import gymnasium\n",
    "from gymnasium import spaces\n",
    "import numpy as np\n",
    "\n",
    "class StockTradingEnv(gym.Env):\n",
    "    def __init__(self, data):\n",
    "        super().__init__()\n",
    "\n",
    "        # Stock price data (time series of stock prices)\n",
    "        self.data = data\n",
    "        self.n = len(data)\n",
    "\n",
    "        # Action space (Buy, Sell, Hold)\n",
    "        self.action_space = spaces.Discrete(3)\n",
    "\n",
    "        # Observation space (current stock price, number of stocks held)\n",
    "        self.observation_space = spaces.Box(low=0, high=np.inf, shape=(2,))\n",
    "\n",
    "        # Initial balance and stock holdings\n",
    "        self.balance = 10000  # Initial balance\n",
    "        self.stock_held = 0   # No stocks initially\n",
    "        self.current_step = 0\n",
    "\n",
    "    def reset(self, seed=None, options=None):\n",
    "        super().reset(seed=seed, options=options)\n",
    "        self.current_step = 0\n",
    "        self.balance = 10000\n",
    "        self.stock_held = 0\n",
    "        return np.array([self.data[self.current_step], self.stock_held]).astype(np.float32), {}\n",
    "\n",
    "    def step(self, action):\n",
    "        assert self.action_space.contains(action)\n",
    "\n",
    "        current_price = self.data[self.current_step]\n",
    "        next_price = self.data[self.current_step + 1]\n",
    "\n",
    "        if action == 0:  # Buy\n",
    "            max_shares = int(self.balance / current_price)\n",
    "            shares_bought = min(max_shares, 10)  # Buy at most 10 shares at a time\n",
    "            cost = shares_bought * current_price\n",
    "            self.balance -= cost\n",
    "            self.stock_held += shares_bought\n",
    "        elif action == 1:  # Sell\n",
    "            shares_sold = min(self.stock_held, 10)  # Sell at most 10 shares at a time\n",
    "            revenue = shares_sold * current_price\n",
    "            self.balance += revenue\n",
    "            self.stock_held -= shares_sold\n",
    "\n",
    "        self.current_step += 1\n",
    "\n",
    "        # Calculate reward (change in portfolio value)\n",
    "        portfolio_value = self.balance + (self.stock_held * next_price)\n",
    "        prev_portfolio_value = self.balance + (self.stock_held * current_price)\n",
    "        reward = portfolio_value - prev_portfolio_value\n",
    "        terminated = self.balance <= 0 or self.current_step >= self.n - 1\n",
    "        truncated = False\n",
    "\n",
    "        done = self.current_step == self.n - 1  # End of data\n",
    "\n",
    "        info = {}\n",
    "\n",
    "        return obs, reward, terminated, truncated, info\n",
    "\n",
    "    def render(self, mode=\"human\", close=False):\n",
    "        pass\n",
    "\n",
    "    def close(self):\n",
    "        pass\n"
   ]
  },
  {
   "cell_type": "code",
   "execution_count": 72,
   "metadata": {},
   "outputs": [
    {
     "ename": "AssertionError",
     "evalue": "The observation returned by the `step()` method does not match the shape of the given observation space Box(0.0, inf, (2,), float32). Expected: (2,), actual shape: (1,)",
     "output_type": "error",
     "traceback": [
      "\u001b[0;31m---------------------------------------------------------------------------\u001b[0m",
      "\u001b[0;31mAssertionError\u001b[0m                            Traceback (most recent call last)",
      "\u001b[1;32m/Users/HSY/PhD/backtrader-crypto-rl/trade_RL.ipynb Cell 2\u001b[0m line \u001b[0;36m6\n\u001b[1;32m      <a href='vscode-notebook-cell:/Users/HSY/PhD/backtrader-crypto-rl/trade_RL.ipynb#W2sZmlsZQ%3D%3D?line=2'>3</a>\u001b[0m prices \u001b[39m=\u001b[39m np\u001b[39m.\u001b[39mrandom\u001b[39m.\u001b[39mrandint(\u001b[39m1\u001b[39m, \u001b[39m100\u001b[39m, size\u001b[39m=\u001b[39m\u001b[39m1000\u001b[39m)\n\u001b[1;32m      <a href='vscode-notebook-cell:/Users/HSY/PhD/backtrader-crypto-rl/trade_RL.ipynb#W2sZmlsZQ%3D%3D?line=3'>4</a>\u001b[0m env \u001b[39m=\u001b[39m StockTradingEnv(prices)\n\u001b[0;32m----> <a href='vscode-notebook-cell:/Users/HSY/PhD/backtrader-crypto-rl/trade_RL.ipynb#W2sZmlsZQ%3D%3D?line=5'>6</a>\u001b[0m check_env(env)\n",
      "File \u001b[0;32m~/miniconda3/envs/uoa-mdt/lib/python3.10/site-packages/stable_baselines3/common/env_checker.py:438\u001b[0m, in \u001b[0;36mcheck_env\u001b[0;34m(env, warn, skip_render_check)\u001b[0m\n\u001b[1;32m    433\u001b[0m         warnings\u001b[39m.\u001b[39mwarn(\n\u001b[1;32m    434\u001b[0m             \u001b[39mf\u001b[39m\u001b[39m\"\u001b[39m\u001b[39mYour action space has dtype \u001b[39m\u001b[39m{\u001b[39;00maction_space\u001b[39m.\u001b[39mdtype\u001b[39m}\u001b[39;00m\u001b[39m, we recommend using np.float32 to avoid cast errors.\u001b[39m\u001b[39m\"\u001b[39m\n\u001b[1;32m    435\u001b[0m         )\n\u001b[1;32m    437\u001b[0m \u001b[39m# ============ Check the returned values ===============\u001b[39;00m\n\u001b[0;32m--> 438\u001b[0m _check_returned_values(env, observation_space, action_space)\n\u001b[1;32m    440\u001b[0m \u001b[39m# ==== Check the render method and the declared render modes ====\u001b[39;00m\n\u001b[1;32m    441\u001b[0m \u001b[39mif\u001b[39;00m \u001b[39mnot\u001b[39;00m skip_render_check:\n",
      "File \u001b[0;32m~/miniconda3/envs/uoa-mdt/lib/python3.10/site-packages/stable_baselines3/common/env_checker.py:312\u001b[0m, in \u001b[0;36m_check_returned_values\u001b[0;34m(env, observation_space, action_space)\u001b[0m\n\u001b[1;32m    309\u001b[0m             \u001b[39mraise\u001b[39;00m \u001b[39mAssertionError\u001b[39;00m(\u001b[39mf\u001b[39m\u001b[39m\"\u001b[39m\u001b[39mError while checking key=\u001b[39m\u001b[39m{\u001b[39;00mkey\u001b[39m}\u001b[39;00m\u001b[39m: \u001b[39m\u001b[39m\"\u001b[39m \u001b[39m+\u001b[39m \u001b[39mstr\u001b[39m(e)) \u001b[39mfrom\u001b[39;00m \u001b[39me\u001b[39;00m\n\u001b[1;32m    311\u001b[0m \u001b[39melse\u001b[39;00m:\n\u001b[0;32m--> 312\u001b[0m     _check_obs(obs, observation_space, \u001b[39m\"\u001b[39;49m\u001b[39mstep\u001b[39;49m\u001b[39m\"\u001b[39;49m)\n\u001b[1;32m    314\u001b[0m \u001b[39m# We also allow int because the reward will be cast to float\u001b[39;00m\n\u001b[1;32m    315\u001b[0m \u001b[39massert\u001b[39;00m \u001b[39misinstance\u001b[39m(reward, (\u001b[39mfloat\u001b[39m, \u001b[39mint\u001b[39m)), \u001b[39m\"\u001b[39m\u001b[39mThe reward returned by `step()` must be a float\u001b[39m\u001b[39m\"\u001b[39m\n",
      "File \u001b[0;32m~/miniconda3/envs/uoa-mdt/lib/python3.10/site-packages/stable_baselines3/common/env_checker.py:195\u001b[0m, in \u001b[0;36m_check_obs\u001b[0;34m(obs, observation_space, method_name)\u001b[0m\n\u001b[1;32m    192\u001b[0m \u001b[39m# Additional checks for numpy arrays, so the error message is clearer (see GH#1399)\u001b[39;00m\n\u001b[1;32m    193\u001b[0m \u001b[39mif\u001b[39;00m \u001b[39misinstance\u001b[39m(obs, np\u001b[39m.\u001b[39mndarray):\n\u001b[1;32m    194\u001b[0m     \u001b[39m# check obs dimensions, dtype and bounds\u001b[39;00m\n\u001b[0;32m--> 195\u001b[0m     \u001b[39massert\u001b[39;00m observation_space\u001b[39m.\u001b[39mshape \u001b[39m==\u001b[39m obs\u001b[39m.\u001b[39mshape, (\n\u001b[1;32m    196\u001b[0m         \u001b[39mf\u001b[39m\u001b[39m\"\u001b[39m\u001b[39mThe observation returned by the `\u001b[39m\u001b[39m{\u001b[39;00mmethod_name\u001b[39m}\u001b[39;00m\u001b[39m()` method does not match the shape \u001b[39m\u001b[39m\"\u001b[39m\n\u001b[1;32m    197\u001b[0m         \u001b[39mf\u001b[39m\u001b[39m\"\u001b[39m\u001b[39mof the given observation space \u001b[39m\u001b[39m{\u001b[39;00mobservation_space\u001b[39m}\u001b[39;00m\u001b[39m. \u001b[39m\u001b[39m\"\u001b[39m\n\u001b[1;32m    198\u001b[0m         \u001b[39mf\u001b[39m\u001b[39m\"\u001b[39m\u001b[39mExpected: \u001b[39m\u001b[39m{\u001b[39;00mobservation_space\u001b[39m.\u001b[39mshape\u001b[39m}\u001b[39;00m\u001b[39m, actual shape: \u001b[39m\u001b[39m{\u001b[39;00mobs\u001b[39m.\u001b[39mshape\u001b[39m}\u001b[39;00m\u001b[39m\"\u001b[39m\n\u001b[1;32m    199\u001b[0m     )\n\u001b[1;32m    200\u001b[0m     \u001b[39massert\u001b[39;00m np\u001b[39m.\u001b[39mcan_cast(obs\u001b[39m.\u001b[39mdtype, observation_space\u001b[39m.\u001b[39mdtype), (\n\u001b[1;32m    201\u001b[0m         \u001b[39mf\u001b[39m\u001b[39m\"\u001b[39m\u001b[39mThe observation returned by the `\u001b[39m\u001b[39m{\u001b[39;00mmethod_name\u001b[39m}\u001b[39;00m\u001b[39m()` method does not match the data type (cannot cast) \u001b[39m\u001b[39m\"\u001b[39m\n\u001b[1;32m    202\u001b[0m         \u001b[39mf\u001b[39m\u001b[39m\"\u001b[39m\u001b[39mof the given observation space \u001b[39m\u001b[39m{\u001b[39;00mobservation_space\u001b[39m}\u001b[39;00m\u001b[39m. \u001b[39m\u001b[39m\"\u001b[39m\n\u001b[1;32m    203\u001b[0m         \u001b[39mf\u001b[39m\u001b[39m\"\u001b[39m\u001b[39mExpected: \u001b[39m\u001b[39m{\u001b[39;00mobservation_space\u001b[39m.\u001b[39mdtype\u001b[39m}\u001b[39;00m\u001b[39m, actual dtype: \u001b[39m\u001b[39m{\u001b[39;00mobs\u001b[39m.\u001b[39mdtype\u001b[39m}\u001b[39;00m\u001b[39m\"\u001b[39m\n\u001b[1;32m    204\u001b[0m     )\n\u001b[1;32m    205\u001b[0m     \u001b[39mif\u001b[39;00m \u001b[39misinstance\u001b[39m(observation_space, spaces\u001b[39m.\u001b[39mBox):\n",
      "\u001b[0;31mAssertionError\u001b[0m: The observation returned by the `step()` method does not match the shape of the given observation space Box(0.0, inf, (2,), float32). Expected: (2,), actual shape: (1,)"
     ]
    }
   ],
   "source": [
    "from stable_baselines3.common.env_checker import check_env\n",
    "\n",
    "prices = np.random.randint(1, 100, size=1000)\n",
    "env = StockTradingEnv(prices)\n",
    "\n",
    "check_env(env)"
   ]
  },
  {
   "cell_type": "code",
   "execution_count": null,
   "metadata": {},
   "outputs": [],
   "source": []
  }
 ],
 "metadata": {
  "kernelspec": {
   "display_name": "uoa-mdt",
   "language": "python",
   "name": "python3"
  },
  "language_info": {
   "codemirror_mode": {
    "name": "ipython",
    "version": 3
   },
   "file_extension": ".py",
   "mimetype": "text/x-python",
   "name": "python",
   "nbconvert_exporter": "python",
   "pygments_lexer": "ipython3",
   "version": "3.10.0"
  },
  "orig_nbformat": 4
 },
 "nbformat": 4,
 "nbformat_minor": 2
}

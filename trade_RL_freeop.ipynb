{
 "cells": [
  {
   "cell_type": "markdown",
   "metadata": {},
   "source": [
    "# Construct a custom Environment for Pair Trading\n",
    "\n",
    "Built upon RL_restrict\n",
    "\n",
    "Feed in both spread data and two pricing data\n",
    "\n",
    "However, the trade is not limited to open-close pattern\n",
    "\n",
    "It's a freestyle for learner to decide the percentage we should hold. "
   ]
  },
  {
   "cell_type": "code",
   "execution_count": 21,
   "metadata": {},
   "outputs": [],
   "source": [
    "import warnings\n",
    "warnings.filterwarnings('ignore')\n",
    "\n",
    "import os\n",
    "import csv\n",
    "import numpy as np\n",
    "import pandas as pd\n",
    "import gymnasium as gym\n",
    "import statsmodels.api as sm\n",
    "\n",
    "from gymnasium import spaces\n",
    "from datetime import date\n",
    "from envs.env_gridsearch import kellycriterion\n",
    "from sklearn.model_selection import train_test_split\n",
    "from stable_baselines3.common.vec_env import DummyVecEnv\n",
    "from utils.read2df import read2df\n",
    "\n",
    "os.makedirs(\"result/rl-freeop\", exist_ok=True)\n",
    "\n",
    "for root, dirs, files in os.walk(f\"result/rl-freeop/\"):\n",
    "    for file in files:\n",
    "        os.remove(os.path.join(root, file))"
   ]
  },
  {
   "cell_type": "markdown",
   "metadata": {},
   "source": [
    "Define data parameters"
   ]
  },
  {
   "cell_type": "code",
   "execution_count": 22,
   "metadata": {},
   "outputs": [],
   "source": [
    "# symbols = ['BTCUSDT', 'ETHUSDT', 'LTCUSDT', 'XMRUSDT', 'BNBUSDT', 'ADAUSDT', 'DOGEUSDT', 'SOLUSDT', 'TRXUSDT']\n",
    "symbols = ['BTCUSDT', 'BTCUSD', 'BTCTUSD', 'BTCUSDC', 'BTCBUSD', 'BTCDAI']\n",
    "# symbols = ['USDCUSDT', 'DAIUSDT', 'TUSDUSDT', 'BUSDUSDT', 'USDCTUSD', 'USDCBUSD', 'DAIBUSD', 'TUSDBUSD', 'BUSDDAI']\n",
    "start_date = '2022-01-01'\n",
    "trade_date = '2023-01-01'\n",
    "\n",
    "# freqs = {'1h':60, '2h':120, '4h':240, '6h':360, '8h':480, '12h':720, '1d':1440}\n",
    "freqs = {'3m':3, '5m':5, '15m':15, '30m':30}"
   ]
  },
  {
   "cell_type": "markdown",
   "metadata": {},
   "source": [
    "Download data from `binance-public-data`"
   ]
  },
  {
   "cell_type": "code",
   "execution_count": 23,
   "metadata": {},
   "outputs": [],
   "source": [
    "%%capture\n",
    "if symbols is None:\n",
    "    !python binance-public-data/python/download-kline.py \\\n",
    "        -i {\" \".join(list(freqs.keys()))} -startDate {start_date} -t spot -skip-daily 1\n",
    "else:\n",
    "    !python binance-public-data/python/download-kline.py \\\n",
    "        -s {\" \".join(symbols)} -i {\" \".join(list(freqs.keys()))} -startDate {start_date} -t spot -skip-daily 1"
   ]
  },
  {
   "cell_type": "code",
   "execution_count": 24,
   "metadata": {},
   "outputs": [],
   "source": [
    "import pickle\n",
    "\n",
    "dfs = read2df(symbols, freqs)\n",
    "\n",
    "with open('result/cointncorr.pickle', 'rb') as pk:\n",
    "    data = pickle.load(pk)\n",
    "\n",
    "freq_position = list(freqs.keys()).index(data[1])\n",
    "\n",
    "df0 = dfs[freq_position][dfs[freq_position]['tic']==data[0][0]].reset_index(drop=True)\n",
    "df1 = dfs[freq_position][dfs[freq_position]['tic']==data[0][1]].reset_index(drop=True)"
   ]
  },
  {
   "cell_type": "markdown",
   "metadata": {},
   "source": [
    "Set data before `trade_data` as training data, after `trade_data` is trade_data"
   ]
  },
  {
   "cell_type": "code",
   "execution_count": 25,
   "metadata": {},
   "outputs": [
    {
     "name": "stdout",
     "output_type": "stream",
     "text": [
      "The length of our training data: 130140\n"
     ]
    }
   ],
   "source": [
    "train0 = df0[df0['datetime'] < trade_date]\n",
    "train1 = df1[df1['datetime'] < trade_date]\n",
    "\n",
    "test0 = df0[df0['datetime'] >= trade_date]\n",
    "test1 = df1[df1['datetime'] >= trade_date]\n",
    "\n",
    "print(f\"The length of our training data: {len(train0)}\")"
   ]
  },
  {
   "cell_type": "markdown",
   "metadata": {},
   "source": [
    "# Define the custom Environment\n",
    "\n",
    "The behaviour of RL learner is restricted. \n",
    "\n",
    "The action is defined as discrete actions -1, 0, 1\n",
    "\n",
    "-1 means short df0 long df1, 0 means close position, +1 means long df0 short df1"
   ]
  },
  {
   "cell_type": "code",
   "execution_count": 64,
   "metadata": {},
   "outputs": [],
   "source": [
    "'''\n",
    "Because it is freestyle, so we don't care about whether we have a position or not.\n",
    "But we do need to make sure that if we are holding the maximum as we can then we shouldn't long further.\n",
    "'''\n",
    "\n",
    "# The lookback period for the observation space\n",
    "PERIOD = 15 # Only look at the current price\n",
    "CASH = 10000\n",
    "isKelly = True\n",
    "\n",
    "class PairTradingEnv(gym.Env):\n",
    "    metadata = {'render.modes': ['console']}\n",
    "\n",
    "    # for pair trading, we need to feed in two OHLCV dataframes\n",
    "    def __init__(self, df0, df1, tc=0.001, period=PERIOD, cash=CASH, isKelly=True, model=\"\"):\n",
    "        super().__init__()\n",
    "\n",
    "        if not df0['time'].equals(df1['time']):\n",
    "            raise ValueError(\"Two dataframe must have same time index\")\n",
    "\n",
    "        self.cash = cash\n",
    "        self.period = period\n",
    "        self.model = model\n",
    "\n",
    "        self.tic0 = df0['tic'].iloc[0]\n",
    "        self.tic1 = df1['tic'].iloc[0]\n",
    "\n",
    "        # transaction cost\n",
    "        self.tc = tc\n",
    "        self.isKelly = isKelly\n",
    "\n",
    "        self.df0 = df0[['close', 'datetime']]\n",
    "        self.df1 = df1[['close', 'datetime']]\n",
    "\n",
    "        self.reward_range = (-np.inf, np.inf)\n",
    "\n",
    "        # The action space should be something between -100% to 100%\n",
    "        self.action_space = spaces.Box(low=-1.0, high=1.0, shape=(1,))\n",
    "        \n",
    "        self.observation_space = spaces.Dict({\n",
    "            \"price_leg0\": spaces.Box(low=0, high=np.inf, shape=(PERIOD,), dtype=np.float64),\n",
    "            \"price_leg1\": spaces.Box(low=0, high=np.inf, shape=(PERIOD,), dtype=np.float64),\n",
    "            \"zscore\":     spaces.Box(low=-np.inf, high=np.inf, shape=(PERIOD,), dtype=np.float64),\n",
    "            \"position\":   spaces.Box(low=-np.inf, high=np.inf, shape=(1,), dtype=np.float64),\n",
    "        })\n",
    "\n",
    "        # if the length is 35, then the index shall be 0~34\n",
    "        self.max_steps = len(df0)-1\n",
    "    \n",
    "    def _kellycriterion(self, direct):\n",
    "        # direct is +1 or -1\n",
    "        spreads = pd.Series(self.residuals.iloc[-self.period:-1]) * direct   \n",
    "        kc_f = kellycriterion(spreads)\n",
    "\n",
    "        return kc_f\n",
    "\n",
    "    def _next_observation(self):\n",
    "        # The current step is always higher than the PERIOD as defined in the \n",
    "\n",
    "        prices0 = df0['close'].iloc[self.current_step-self.period: self.current_step]\n",
    "        prices1 = df1['close'].iloc[self.current_step-self.period: self.current_step]\n",
    "        \n",
    "        model = sm.OLS(prices0, sm.add_constant(prices1)).fit()\n",
    "\n",
    "        # positive residual means df0 > df1 at that point\n",
    "        self.residuals = model.resid\n",
    "        zscores = self.residuals / np.std(self.residuals)\n",
    "        \n",
    "        # print(len(np.array(prices0)), len(np.array(prices1)), len(np.array(zscores)))\n",
    "        \n",
    "        obs = {\n",
    "            \"price_leg0\": np.array(prices0.iloc[-PERIOD:]),\n",
    "            \"price_leg1\": np.array(prices1.iloc[-PERIOD:]),\n",
    "            \"zscore\": np.array(zscores.iloc[-PERIOD:]),\n",
    "            \"position\": np.array(self.action)\n",
    "        }\n",
    "        \n",
    "        return obs\n",
    "\n",
    "    def _take_action(self, action):\n",
    "\n",
    "        self.curr_price0 = self.df0['close'].iloc[self.current_step]\n",
    "        self.curr_price1 = self.df1['close'].iloc[self.current_step]\n",
    "\n",
    "        max_amount0 = self.cash/self.curr_price0\n",
    "        max_amount1 = self.cash/self.curr_price1\n",
    "\n",
    "        curr_holding0 = self.holding0/max_amount0\n",
    "        curr_holding1 = self.holding1/max_amount1\n",
    "\n",
    "        # The action swing from -1 to 1, 1 means long curr0 short curr1, -1 means short curr0 long curr1\n",
    "        self.action = action\n",
    "        \n",
    "        self.holding0 = max_amount0 * action\n",
    "        self.holding1 = max_amount1 * action\n",
    "\n",
    "        tc_fee0 = abs(action-curr_holding0)*max_amount0*self.curr_price0*self.tc \n",
    "        tc_fee1 = abs(-action-curr_holding1)*max_amount1*self.curr_price1*self.tc\n",
    "        tc_fee =  tc_fee0 + tc_fee1\n",
    "\n",
    "        # We record the net_worth from previous period to prev_net_worth\n",
    "        self.prev_net_worth = self.net_worth\n",
    "        self.net_worth = self.cash + self.holding0*self.curr_price0 + self.holding1*self.curr_price1 - tc_fee\n",
    "\n",
    "    def step(self, action):\n",
    "        self.action = action # for rendering\n",
    "        self._take_action(action)\n",
    "        self.current_step += 1\n",
    "\n",
    "        self.observation = self._next_observation()\n",
    "        reward = floatself.net_worth - self.prev_net_worth\n",
    "        terminated = bool(self.current_step >= self.max_steps)\n",
    "        truncated = bool(self.net_worth <= 0)\n",
    "        info = {}\n",
    "\n",
    "        return self.observation, reward, terminated, truncated, info\n",
    "\n",
    "    def reset(self, seed=None):\n",
    "        np.random.seed(seed)\n",
    "        \n",
    "        self.cash = self.cash\n",
    "        self.net_worth = self.cash\n",
    "        self.prev_net_worth = self.cash\n",
    "        self.max_net_worth = self.cash\n",
    "        self.position = 0\n",
    "        self.holding0 = 0\n",
    "        self.holding1 = 0\n",
    "        self.render_step = 0\n",
    "        self.order_amount0 = 0\n",
    "        self.order_amount1 = 0\n",
    "        self.action = [0]\n",
    "\n",
    "        # self.current_step = self.period \n",
    "        self.current_step = np.random.randint(self.period, self.max_steps)\n",
    "\n",
    "        obs = self._next_observation()\n",
    "        \n",
    "        print(obs)\n",
    "        \n",
    "        return self._next_observation(), {}\n",
    "    \n",
    "    def render(self):\n",
    "        profit = self.net_worth - self.cash\n",
    "        # print(self.df0['datetime'].iloc[self.current_step], self.net_worth)\n",
    "\n",
    "        with open(f\"result/rl-freeop/networth_{self.model}.csv\", mode='a', newline='') as csv_f:\n",
    "            if self.action != 1:\n",
    "                writer = csv.writer(csv_f)\n",
    "                writer.writerow(\n",
    "                    [self.df0['datetime'].iloc[self.current_step], \n",
    "                    self.net_worth, self.action, self.position, \n",
    "                    self.curr_price0*self.order_amount0, self.curr_price1*self.order_amount1]\n",
    "                )"
   ]
  },
  {
   "cell_type": "markdown",
   "metadata": {},
   "source": [
    "## Check with baselin3 `env_checker`\n",
    "\n",
    "Check if the env meets the requirements of `stable_baseline3`"
   ]
  },
  {
   "cell_type": "code",
   "execution_count": 65,
   "metadata": {},
   "outputs": [
    {
     "name": "stdout",
     "output_type": "stream",
     "text": [
      "{'price_leg0': array([30175.02, 30157.94, 30153.88, 30171.94, 30141.94, 30150.  ,\n",
      "       30164.26, 30183.23, 30247.31, 30228.01, 30271.25, 30273.48,\n",
      "       30323.93, 30312.24, 30348.01]), 'price_leg1': array([30105.7 , 30105.7 , 30105.7 , 30145.4 , 30145.4 , 30113.66,\n",
      "       30113.66, 30231.19, 30231.19, 30231.19, 30231.19, 30285.42,\n",
      "       30285.42, 30290.81, 30290.81]), 'zscore': array([ 1.04702501,  0.43822105,  0.29350536, -0.25475647, -1.32408425,\n",
      "       -0.0837943 ,  0.42449284, -2.42818758, -0.14410343, -0.83203764,\n",
      "        0.70922015, -0.83955526,  0.95869764,  0.38018086,  1.65517603]), 'position': array([0])}\n",
      "{'price_leg0': array([31280.  , 31262.01, 31312.01, 31403.01, 31427.32, 31397.97,\n",
      "       31368.99, 31364.56, 31393.48, 31437.72, 31377.39, 31428.25,\n",
      "       31420.28, 31405.34, 31432.9 ]), 'price_leg1': array([31259.98, 31260.04, 31320.33, 31402.91, 31407.25, 31361.82,\n",
      "       31368.52, 31349.08, 31389.35, 31369.03, 31369.03, 31410.  ,\n",
      "       31437.6 , 31411.21, 31419.46]), 'zscore': array([ 0.18381932, -0.72254326, -1.11017146, -0.51041528,  0.50179707,\n",
      "        1.21203709, -0.5655002 ,  0.14667635, -0.33707103,  2.86167666,\n",
      "       -0.16816314,  0.41628541, -1.31095772, -0.79245592,  0.1949861 ]), 'position': array([0])}\n"
     ]
    },
    {
     "ename": "AssertionError",
     "evalue": "The reward returned by `step()` must be a float",
     "output_type": "error",
     "traceback": [
      "\u001b[1;31m---------------------------------------------------------------------------\u001b[0m",
      "\u001b[1;31mAssertionError\u001b[0m                            Traceback (most recent call last)",
      "Cell \u001b[1;32mIn[65], line 7\u001b[0m\n\u001b[0;32m      2\u001b[0m \u001b[38;5;66;03m# > UserWarning: The action space is not based off a numpy array. Typically this means it's either a Dict or Tuple space. This type of action space is currently not supported by Stable Baselines 3. You should try to flatten the action using a wrapper.\u001b[39;00m\n\u001b[0;32m      3\u001b[0m \u001b[38;5;66;03m# Baseline 3 does not support Dict/Tuple action spaces....only Box Discrete MultiDiscrete MultiBinary\u001b[39;00m\n\u001b[0;32m      4\u001b[0m \u001b[38;5;66;03m# Is there another way to achieve the same functionality?\u001b[39;00m\n\u001b[0;32m      6\u001b[0m env \u001b[38;5;241m=\u001b[39m PairTradingEnv(train0, train1)\n\u001b[1;32m----> 7\u001b[0m \u001b[43mcheck_env\u001b[49m\u001b[43m(\u001b[49m\u001b[43menv\u001b[49m\u001b[43m)\u001b[49m\n",
      "File \u001b[1;32m~\\Miniconda3\\lib\\site-packages\\stable_baselines3\\common\\env_checker.py:444\u001b[0m, in \u001b[0;36mcheck_env\u001b[1;34m(env, warn, skip_render_check)\u001b[0m\n\u001b[0;32m    439\u001b[0m         warnings\u001b[38;5;241m.\u001b[39mwarn(\n\u001b[0;32m    440\u001b[0m             \u001b[38;5;124mf\u001b[39m\u001b[38;5;124m\"\u001b[39m\u001b[38;5;124mYour action space has dtype \u001b[39m\u001b[38;5;132;01m{\u001b[39;00maction_space\u001b[38;5;241m.\u001b[39mdtype\u001b[38;5;132;01m}\u001b[39;00m\u001b[38;5;124m, we recommend using np.float32 to avoid cast errors.\u001b[39m\u001b[38;5;124m\"\u001b[39m\n\u001b[0;32m    441\u001b[0m         )\n\u001b[0;32m    443\u001b[0m \u001b[38;5;66;03m# ============ Check the returned values ===============\u001b[39;00m\n\u001b[1;32m--> 444\u001b[0m \u001b[43m_check_returned_values\u001b[49m\u001b[43m(\u001b[49m\u001b[43menv\u001b[49m\u001b[43m,\u001b[49m\u001b[43m \u001b[49m\u001b[43mobservation_space\u001b[49m\u001b[43m,\u001b[49m\u001b[43m \u001b[49m\u001b[43maction_space\u001b[49m\u001b[43m)\u001b[49m\n\u001b[0;32m    446\u001b[0m \u001b[38;5;66;03m# ==== Check the render method and the declared render modes ====\u001b[39;00m\n\u001b[0;32m    447\u001b[0m \u001b[38;5;28;01mif\u001b[39;00m \u001b[38;5;129;01mnot\u001b[39;00m skip_render_check:\n",
      "File \u001b[1;32m~\\Miniconda3\\lib\\site-packages\\stable_baselines3\\common\\env_checker.py:321\u001b[0m, in \u001b[0;36m_check_returned_values\u001b[1;34m(env, observation_space, action_space)\u001b[0m\n\u001b[0;32m    318\u001b[0m     _check_obs(obs, observation_space, \u001b[38;5;124m\"\u001b[39m\u001b[38;5;124mstep\u001b[39m\u001b[38;5;124m\"\u001b[39m)\n\u001b[0;32m    320\u001b[0m \u001b[38;5;66;03m# We also allow int because the reward will be cast to float\u001b[39;00m\n\u001b[1;32m--> 321\u001b[0m \u001b[38;5;28;01massert\u001b[39;00m \u001b[38;5;28misinstance\u001b[39m(reward, (\u001b[38;5;28mfloat\u001b[39m, \u001b[38;5;28mint\u001b[39m)), \u001b[38;5;124m\"\u001b[39m\u001b[38;5;124mThe reward returned by `step()` must be a float\u001b[39m\u001b[38;5;124m\"\u001b[39m\n\u001b[0;32m    322\u001b[0m \u001b[38;5;28;01massert\u001b[39;00m \u001b[38;5;28misinstance\u001b[39m(terminated, \u001b[38;5;28mbool\u001b[39m), \u001b[38;5;124m\"\u001b[39m\u001b[38;5;124mThe `terminated` signal must be a boolean\u001b[39m\u001b[38;5;124m\"\u001b[39m\n\u001b[0;32m    323\u001b[0m \u001b[38;5;28;01massert\u001b[39;00m \u001b[38;5;28misinstance\u001b[39m(truncated, \u001b[38;5;28mbool\u001b[39m), \u001b[38;5;124m\"\u001b[39m\u001b[38;5;124mThe `truncated` signal must be a boolean\u001b[39m\u001b[38;5;124m\"\u001b[39m\n",
      "\u001b[1;31mAssertionError\u001b[0m: The reward returned by `step()` must be a float"
     ]
    }
   ],
   "source": [
    "from stable_baselines3.common.env_checker import check_env\n",
    "# > UserWarning: The action space is not based off a numpy array. Typically this means it's either a Dict or Tuple space. This type of action space is currently not supported by Stable Baselines 3. You should try to flatten the action using a wrapper.\n",
    "# Baseline 3 does not support Dict/Tuple action spaces....only Box Discrete MultiDiscrete MultiBinary\n",
    "# Is there another way to achieve the same functionality?\n",
    "\n",
    "env = PairTradingEnv(train0, train1)\n",
    "check_env(env)"
   ]
  },
  {
   "cell_type": "markdown",
   "metadata": {},
   "source": [
    "## Do a test run with random generated actions"
   ]
  },
  {
   "cell_type": "code",
   "execution_count": 8,
   "metadata": {},
   "outputs": [
    {
     "name": "stdout",
     "output_type": "stream",
     "text": [
      "observation_space: Dict('price_leg0': Box(0.0, inf, (15,), float64), 'price_leg1': Box(0.0, inf, (15,), float64), 'zscore': Box(-inf, inf, (15,), float64))\n",
      "action_space: Discrete(3)\n",
      "action_space.sample: 0\n"
     ]
    }
   ],
   "source": [
    "env = PairTradingEnv(train0, train1, tc=0, model=\"test\")\n",
    "obs, _ = env.reset()\n",
    "\n",
    "print(f\"observation_space: {env.observation_space}\")\n",
    "print(f\"action_space: {env.action_space}\")\n",
    "print(f\"action_space.sample: {env.action_space.sample()}\")\n",
    "\n",
    "n_steps = 5\n",
    "\n",
    "for step in range(n_steps):\n",
    "    obs, reward, terminated, truncated, info = env.step(action=env.action_space.sample())\n",
    "    done = terminated or truncated\n",
    "    env.render()\n",
    "    if done:\n",
    "        break"
   ]
  },
  {
   "cell_type": "markdown",
   "metadata": {},
   "source": [
    "## Models from stable_baselines3\n",
    "\n",
    "Train with training data"
   ]
  },
  {
   "cell_type": "code",
   "execution_count": 9,
   "metadata": {},
   "outputs": [],
   "source": [
    "'''PPO'''\n",
    "\n",
    "from stable_baselines3 import PPO\n",
    "\n",
    "env = PairTradingEnv(train0, train1, tc=0, model=\"ppo\", isKelly=False)\n",
    "\n",
    "model_ppo = PPO(\"MultiInputPolicy\", env, verbose=0, tensorboard_log=\"logs\")\n",
    "model_ppo.learn(total_timesteps=100000)\n",
    "model_ppo.save(\"result/rl-freeop/ppo_pairtrading\")"
   ]
  },
  {
   "cell_type": "code",
   "execution_count": 10,
   "metadata": {},
   "outputs": [],
   "source": [
    "'''A2C'''\n",
    "\n",
    "from stable_baselines3 import A2C\n",
    "\n",
    "env = PairTradingEnv(train0, train1, tc=0, model=\"a2c\", isKelly=False)\n",
    "\n",
    "model_a2c = A2C(\"MultiInputPolicy\", env, verbose=0, tensorboard_log=\"logs\")\n",
    "model_a2c.learn(total_timesteps=100000)\n",
    "model_a2c.save(\"result/rl-freeop/a2c_pairtrading\")"
   ]
  },
  {
   "cell_type": "code",
   "execution_count": 11,
   "metadata": {},
   "outputs": [],
   "source": [
    "'''DQN'''\n",
    "\n",
    "from stable_baselines3 import DQN\n",
    "\n",
    "env = PairTradingEnv(train0, train1, tc=0, model=\"dqn\", isKelly=False)\n",
    "\n",
    "model_dqn = DQN(\"MultiInputPolicy\", env, verbose=0, tensorboard_log=\"logs\")\n",
    "model_dqn.learn(total_timesteps=100000)\n",
    "model_dqn.save(\"result/rl-freeop/dqn_pairtrading\")"
   ]
  },
  {
   "cell_type": "markdown",
   "metadata": {},
   "source": [
    "## Use the model on Test data"
   ]
  },
  {
   "cell_type": "code",
   "execution_count": 12,
   "metadata": {},
   "outputs": [],
   "source": [
    "# del model_ppo, model_a2c, model_dqn\n",
    "\n",
    "model_ppo = PPO.load(\"result/rl-freeop/ppo_pairtrading.zip\")\n",
    "model_a2c = A2C.load(\"result/rl-freeop/a2c_pairtrading.zip\")\n",
    "model_dqn = DQN.load(\"result/rl-freeop/dqn_pairtrading.zip\")"
   ]
  },
  {
   "cell_type": "code",
   "execution_count": 13,
   "metadata": {},
   "outputs": [
    {
     "name": "stdout",
     "output_type": "stream",
     "text": [
      "Test Finished!\n"
     ]
    }
   ],
   "source": [
    "env = PairTradingEnv(test0, test1, tc=0, model=\"ppo\")\n",
    "\n",
    "env.reset()\n",
    "while True:\n",
    "    action, _states = model_ppo.predict(obs)\n",
    "    observation, reward, terminated, truncated, info = env.step(action)\n",
    "    done = terminated or truncated\n",
    "    env.render()\n",
    "    if terminated:\n",
    "        print(\"Test Finished!\")\n",
    "        break\n",
    "    elif truncated:\n",
    "        print(\"bankrupted!\")\n",
    "        break"
   ]
  },
  {
   "cell_type": "code",
   "execution_count": 14,
   "metadata": {},
   "outputs": [
    {
     "name": "stdout",
     "output_type": "stream",
     "text": [
      "Test Finished!\n"
     ]
    }
   ],
   "source": [
    "env = PairTradingEnv(test0, test1, tc=0, model=\"a2c\")\n",
    "\n",
    "env.reset()\n",
    "while True:\n",
    "    action, _states = model_a2c.predict(obs)\n",
    "    observation, reward, terminated, truncated, info = env.step(action)\n",
    "    done = terminated or truncated\n",
    "    env.render()\n",
    "    if terminated:\n",
    "        print(\"Test Finished!\")\n",
    "        break\n",
    "    elif truncated:\n",
    "        print(\"bankrupted!\")\n",
    "        break"
   ]
  },
  {
   "cell_type": "code",
   "execution_count": 15,
   "metadata": {},
   "outputs": [
    {
     "name": "stdout",
     "output_type": "stream",
     "text": [
      "Test Finished!\n"
     ]
    }
   ],
   "source": [
    "env = PairTradingEnv(test0, test1, tc=0, model=\"dqn\")\n",
    "\n",
    "env.reset()\n",
    "while True:\n",
    "    action, _states = model_dqn.predict(obs)\n",
    "    observation, reward, terminated, truncated, info = env.step(action)\n",
    "    done = terminated or truncated\n",
    "    env.render()\n",
    "    if terminated:\n",
    "        print(\"Test Finished!\")\n",
    "        break\n",
    "    elif truncated:\n",
    "        print(\"bankrupted!\")\n",
    "        break"
   ]
  },
  {
   "cell_type": "markdown",
   "metadata": {},
   "source": [
    "### Analyze with PyFolio"
   ]
  },
  {
   "cell_type": "code",
   "execution_count": 16,
   "metadata": {},
   "outputs": [
    {
     "name": "stdout",
     "output_type": "stream",
     "text": [
      "The ending capital of networth_a2c.csv is ['2023-10-31 23:59:59.999000']\n",
      "The ending capital of networth_dqn.csv is ['2023-10-31 23:53:59.999000']\n",
      "The ending capital of networth_ppo.csv is ['2023-10-31 23:56:59.999000']\n",
      "The best model is networth_a2c.csv\n"
     ]
    }
   ],
   "source": [
    "folder_path = f\"result/rl-freeop/\"\n",
    "os.remove(f\"{folder_path}networth_test.csv\") if os.path.exists(f\"{folder_path}networth_test.csv\") else None\n",
    "csv_files = [file for file in os.listdir(folder_path) if file.endswith('.csv')]\n",
    "\n",
    "best_res, best_model = None, None\n",
    "for file_name in csv_files:\n",
    "    file_path = os.path.join(folder_path, file_name)\n",
    "    \n",
    "    with open(file_path, 'r') as csv_file:\n",
    "        csv_reader = csv.reader(csv_file)\n",
    "        \n",
    "        # Loop through the lines in the CSV file\n",
    "        last_line = None\n",
    "        for row in csv_reader:\n",
    "            last_line = row  # Update last_line with the current row\n",
    "    \n",
    "    if best_res is None or float(best_res) < float(last_line[1]):\n",
    "        best_res = last_line[1]\n",
    "        best_model = file_name\n",
    "\n",
    "    print(f\"The ending capital of {file_name} is {last_line[0:2]}\")\n",
    "\n",
    "print(f\"The best model is {best_model}\")"
   ]
  },
  {
   "cell_type": "code",
   "execution_count": 17,
   "metadata": {},
   "outputs": [],
   "source": [
    "def get_return(networthcsv):\n",
    "    returns = pd.read_csv(networthcsv, names=['datetime', 'returns', \"action\", \"position\", \"order0\", \"order1\"])\n",
    "    returns['datetime'] = pd.to_datetime(returns['datetime'])\n",
    "    returns.set_index('datetime', inplace=True)\n",
    "    res_daily = returns.resample('D').mean()\n",
    "    res_daily['returns'] = res_daily['returns'].pct_change()\n",
    "    res_daily = res_daily.dropna()\n",
    "    return res_daily\n",
    "\n",
    "best_return = get_return(f'result/rl-freeop/{best_model}')"
   ]
  },
  {
   "cell_type": "code",
   "execution_count": 18,
   "metadata": {},
   "outputs": [
    {
     "data": {
      "text/html": [
       "<div>\n",
       "<style scoped>\n",
       "    .dataframe tbody tr th:only-of-type {\n",
       "        vertical-align: middle;\n",
       "    }\n",
       "\n",
       "    .dataframe tbody tr th {\n",
       "        vertical-align: top;\n",
       "    }\n",
       "\n",
       "    .dataframe thead th {\n",
       "        text-align: right;\n",
       "    }\n",
       "</style>\n",
       "<table border=\"1\" class=\"dataframe\">\n",
       "  <thead>\n",
       "    <tr style=\"text-align: right;\">\n",
       "      <th></th>\n",
       "      <th>datetime</th>\n",
       "      <th>networth</th>\n",
       "      <th>action</th>\n",
       "      <th>position</th>\n",
       "      <th>order0</th>\n",
       "      <th>order1</th>\n",
       "    </tr>\n",
       "  </thead>\n",
       "  <tbody>\n",
       "  </tbody>\n",
       "</table>\n",
       "</div>"
      ],
      "text/plain": [
       "Empty DataFrame\n",
       "Columns: [datetime, networth, action, position, order0, order1]\n",
       "Index: []"
      ]
     },
     "execution_count": 18,
     "metadata": {},
     "output_type": "execute_result"
    }
   ],
   "source": [
    "best_df = pd.read_csv(f'result/rl-freeop/{best_model}', names=[\"datetime\", \"networth\", \"action\", \"position\", \"order0\", \"order1\"])\n",
    "best_df = best_df[best_df['action']!=1]\n",
    "best_df = best_df[best_df['order0']!=0]\n",
    "best_df.head(20)"
   ]
  },
  {
   "cell_type": "code",
   "execution_count": 19,
   "metadata": {},
   "outputs": [],
   "source": [
    "# # Calculate total orders count\n",
    "# total_orders_count = best_df.shape[0]\n",
    "\n",
    "# # Calculate won orders count\n",
    "# won_orders_count = best_df[(best_df['order1'] == 1) & (best_df['position'] == 0)].shape[0]\n",
    "\n",
    "# # Calculate lost orders count\n",
    "# lost_orders_count = best_df[(best_df['order1'] == 2) & (best_df['position'] == 0)].shape[0]\n",
    "\n",
    "# # Calculate Win/Loss order ratio\n",
    "# win_loss_order_ratio = won_orders_count / lost_orders_count if lost_orders_count != 0 else np.inf\n",
    "\n",
    "# # Calculate Avg order pnl\n",
    "# avg_order_pnl = best_df['order0'].mean()\n",
    "\n",
    "# # Calculate Avg order pnl won\n",
    "# avg_order_pnl_won = best_df[(best_df['order1'] == 1) & (best_df['position'] == 0)]['order0'].mean()\n",
    "\n",
    "# # Calculate Avg order pnl lost\n",
    "# avg_order_pnl_lost = best_df[(best_df['order1'] == 2) & (best_df['position'] == 0)]['order0'].mean()\n",
    "\n",
    "# # Calculate Avg long order pnl\n",
    "# avg_long_order_pnl = best_df[(best_df['order1'] == 1) & (best_df['position'] == 2)]['order0'].mean()\n",
    "\n",
    "# # Calculate Avg short order pnl\n",
    "# avg_short_order_pnl = best_df[(best_df['order1'] == 1) & (best_df['position'] == 0)]['order1'].mean()\n",
    "\n",
    "# # Print the calculated indices\n",
    "# print(\"Total orders count:\", total_orders_count)\n",
    "# print(\"Won orders count:\", won_orders_count)\n",
    "# print(\"Lost orders count:\", lost_orders_count)\n",
    "# print(\"Win/Loss order ratio:\", win_loss_order_ratio)\n",
    "# print(\"Avg order pnl:\", avg_order_pnl)\n",
    "# print(\"Avg order pnl won:\", avg_order_pnl_won)\n",
    "# print(\"Avg order pnl lost:\", avg_order_pnl_lost)\n",
    "# print(\"Avg long order pnl:\", avg_long_order_pnl)\n",
    "# print(\"Avg short order pnl:\", avg_short_order_pnl)\n"
   ]
  },
  {
   "cell_type": "code",
   "execution_count": 20,
   "metadata": {},
   "outputs": [
    {
     "ename": "AttributeError",
     "evalue": "'Series' object has no attribute 'iteritems'",
     "output_type": "error",
     "traceback": [
      "\u001b[1;31m---------------------------------------------------------------------------\u001b[0m",
      "\u001b[1;31mAttributeError\u001b[0m                            Traceback (most recent call last)",
      "\u001b[1;32m~\\AppData\\Local\\Temp\\ipykernel_21080\\2370240305.py\u001b[0m in \u001b[0;36m?\u001b[1;34m()\u001b[0m\n\u001b[1;32m----> 3\u001b[1;33m \u001b[1;32mimport\u001b[0m \u001b[0mpyfolio\u001b[0m\u001b[1;33m\u001b[0m\u001b[1;33m\u001b[0m\u001b[0m\n\u001b[0m\u001b[0;32m      4\u001b[0m \u001b[1;33m\u001b[0m\u001b[0m\n\u001b[0;32m      5\u001b[0m \u001b[0mpyfolio\u001b[0m\u001b[1;33m.\u001b[0m\u001b[0mtears\u001b[0m\u001b[1;33m.\u001b[0m\u001b[0mcreate_full_tear_sheet\u001b[0m\u001b[1;33m(\u001b[0m\u001b[0mbest_return\u001b[0m\u001b[1;33m[\u001b[0m\u001b[1;34m'returns'\u001b[0m\u001b[1;33m]\u001b[0m\u001b[1;33m)\u001b[0m\u001b[1;33m\u001b[0m\u001b[1;33m\u001b[0m\u001b[0m\n",
      "\u001b[1;32m~\\Miniconda3\\lib\\site-packages\\pyfolio\\tears.py\u001b[0m in \u001b[0;36m?\u001b[1;34m(returns, positions, transactions, market_data, benchmark_rets, slippage, live_start_date, sector_mappings, bayesian, round_trips, estimate_intraday, hide_positions, cone_std, bootstrap, unadjusted_returns, style_factor_panel, sectors, caps, shares_held, volumes, percentile, turnover_denom, set_context, factor_returns, factor_loadings, pos_in_dollars, header_rows, factor_partitions)\u001b[0m\n\u001b[0;32m    197\u001b[0m \u001b[1;33m\u001b[0m\u001b[0m\n\u001b[0;32m    198\u001b[0m     positions = utils.check_intraday(estimate_intraday, returns,\n\u001b[0;32m    199\u001b[0m                                      positions, transactions)\n\u001b[0;32m    200\u001b[0m \u001b[1;33m\u001b[0m\u001b[0m\n\u001b[1;32m--> 201\u001b[1;33m     create_returns_tear_sheet(\n\u001b[0m\u001b[0;32m    202\u001b[0m         \u001b[0mreturns\u001b[0m\u001b[1;33m,\u001b[0m\u001b[1;33m\u001b[0m\u001b[1;33m\u001b[0m\u001b[0m\n\u001b[0;32m    203\u001b[0m         \u001b[0mpositions\u001b[0m\u001b[1;33m=\u001b[0m\u001b[0mpositions\u001b[0m\u001b[1;33m,\u001b[0m\u001b[1;33m\u001b[0m\u001b[1;33m\u001b[0m\u001b[0m\n\u001b[0;32m    204\u001b[0m         \u001b[0mtransactions\u001b[0m\u001b[1;33m=\u001b[0m\u001b[0mtransactions\u001b[0m\u001b[1;33m,\u001b[0m\u001b[1;33m\u001b[0m\u001b[1;33m\u001b[0m\u001b[0m\n",
      "\u001b[1;32m~\\Miniconda3\\lib\\site-packages\\pyfolio\\plotting.py\u001b[0m in \u001b[0;36m?\u001b[1;34m(*args, **kwargs)\u001b[0m\n\u001b[0;32m     48\u001b[0m     \u001b[1;32mdef\u001b[0m \u001b[0mcall_w_context\u001b[0m\u001b[1;33m(\u001b[0m\u001b[1;33m*\u001b[0m\u001b[0margs\u001b[0m\u001b[1;33m,\u001b[0m \u001b[1;33m**\u001b[0m\u001b[0mkwargs\u001b[0m\u001b[1;33m)\u001b[0m\u001b[1;33m:\u001b[0m\u001b[1;33m\u001b[0m\u001b[1;33m\u001b[0m\u001b[0m\n\u001b[0;32m     49\u001b[0m         \u001b[0mset_context\u001b[0m \u001b[1;33m=\u001b[0m \u001b[0mkwargs\u001b[0m\u001b[1;33m.\u001b[0m\u001b[0mpop\u001b[0m\u001b[1;33m(\u001b[0m\u001b[1;34m'set_context'\u001b[0m\u001b[1;33m,\u001b[0m \u001b[1;32mTrue\u001b[0m\u001b[1;33m)\u001b[0m\u001b[1;33m\u001b[0m\u001b[1;33m\u001b[0m\u001b[0m\n\u001b[0;32m     50\u001b[0m         \u001b[1;32mif\u001b[0m \u001b[0mset_context\u001b[0m\u001b[1;33m:\u001b[0m\u001b[1;33m\u001b[0m\u001b[1;33m\u001b[0m\u001b[0m\n\u001b[0;32m     51\u001b[0m             \u001b[1;32mwith\u001b[0m \u001b[0mplotting_context\u001b[0m\u001b[1;33m(\u001b[0m\u001b[1;33m)\u001b[0m\u001b[1;33m,\u001b[0m \u001b[0maxes_style\u001b[0m\u001b[1;33m(\u001b[0m\u001b[1;33m)\u001b[0m\u001b[1;33m:\u001b[0m\u001b[1;33m\u001b[0m\u001b[1;33m\u001b[0m\u001b[0m\n\u001b[1;32m---> 52\u001b[1;33m                 \u001b[1;32mreturn\u001b[0m \u001b[0mfunc\u001b[0m\u001b[1;33m(\u001b[0m\u001b[1;33m*\u001b[0m\u001b[0margs\u001b[0m\u001b[1;33m,\u001b[0m \u001b[1;33m**\u001b[0m\u001b[0mkwargs\u001b[0m\u001b[1;33m)\u001b[0m\u001b[1;33m\u001b[0m\u001b[1;33m\u001b[0m\u001b[0m\n\u001b[0m\u001b[0;32m     53\u001b[0m         \u001b[1;32melse\u001b[0m\u001b[1;33m:\u001b[0m\u001b[1;33m\u001b[0m\u001b[1;33m\u001b[0m\u001b[0m\n\u001b[0;32m     54\u001b[0m             \u001b[1;32mreturn\u001b[0m \u001b[0mfunc\u001b[0m\u001b[1;33m(\u001b[0m\u001b[1;33m*\u001b[0m\u001b[0margs\u001b[0m\u001b[1;33m,\u001b[0m \u001b[1;33m**\u001b[0m\u001b[0mkwargs\u001b[0m\u001b[1;33m)\u001b[0m\u001b[1;33m\u001b[0m\u001b[1;33m\u001b[0m\u001b[0m\n",
      "\u001b[1;32m~\\Miniconda3\\lib\\site-packages\\pyfolio\\tears.py\u001b[0m in \u001b[0;36m?\u001b[1;34m(returns, positions, transactions, live_start_date, cone_std, benchmark_rets, bootstrap, turnover_denom, header_rows, return_fig)\u001b[0m\n\u001b[0;32m    492\u001b[0m \u001b[1;33m\u001b[0m\u001b[0m\n\u001b[0;32m    493\u001b[0m     \u001b[1;32mif\u001b[0m \u001b[0mbenchmark_rets\u001b[0m \u001b[1;32mis\u001b[0m \u001b[1;32mnot\u001b[0m \u001b[1;32mNone\u001b[0m\u001b[1;33m:\u001b[0m\u001b[1;33m\u001b[0m\u001b[1;33m\u001b[0m\u001b[0m\n\u001b[0;32m    494\u001b[0m         \u001b[0mreturns\u001b[0m \u001b[1;33m=\u001b[0m \u001b[0mutils\u001b[0m\u001b[1;33m.\u001b[0m\u001b[0mclip_returns_to_benchmark\u001b[0m\u001b[1;33m(\u001b[0m\u001b[0mreturns\u001b[0m\u001b[1;33m,\u001b[0m \u001b[0mbenchmark_rets\u001b[0m\u001b[1;33m)\u001b[0m\u001b[1;33m\u001b[0m\u001b[1;33m\u001b[0m\u001b[0m\n\u001b[0;32m    495\u001b[0m \u001b[1;33m\u001b[0m\u001b[0m\n\u001b[1;32m--> 496\u001b[1;33m     plotting.show_perf_stats(returns, benchmark_rets,\n\u001b[0m\u001b[0;32m    497\u001b[0m                              \u001b[0mpositions\u001b[0m\u001b[1;33m=\u001b[0m\u001b[0mpositions\u001b[0m\u001b[1;33m,\u001b[0m\u001b[1;33m\u001b[0m\u001b[1;33m\u001b[0m\u001b[0m\n\u001b[0;32m    498\u001b[0m                              \u001b[0mtransactions\u001b[0m\u001b[1;33m=\u001b[0m\u001b[0mtransactions\u001b[0m\u001b[1;33m,\u001b[0m\u001b[1;33m\u001b[0m\u001b[1;33m\u001b[0m\u001b[0m\n\u001b[0;32m    499\u001b[0m                              \u001b[0mturnover_denom\u001b[0m\u001b[1;33m=\u001b[0m\u001b[0mturnover_denom\u001b[0m\u001b[1;33m,\u001b[0m\u001b[1;33m\u001b[0m\u001b[1;33m\u001b[0m\u001b[0m\n",
      "\u001b[1;32m~\\Miniconda3\\lib\\site-packages\\pyfolio\\plotting.py\u001b[0m in \u001b[0;36m?\u001b[1;34m(returns, factor_returns, positions, transactions, turnover_denom, live_start_date, bootstrap, header_rows)\u001b[0m\n\u001b[0;32m    644\u001b[0m                                             APPROX_BDAYS_PER_MONTH)\n\u001b[0;32m    645\u001b[0m         \u001b[0mperf_stats\u001b[0m \u001b[1;33m=\u001b[0m \u001b[0mpd\u001b[0m\u001b[1;33m.\u001b[0m\u001b[0mDataFrame\u001b[0m\u001b[1;33m(\u001b[0m\u001b[0mperf_stats_all\u001b[0m\u001b[1;33m,\u001b[0m \u001b[0mcolumns\u001b[0m\u001b[1;33m=\u001b[0m\u001b[1;33m[\u001b[0m\u001b[1;34m'Backtest'\u001b[0m\u001b[1;33m]\u001b[0m\u001b[1;33m)\u001b[0m\u001b[1;33m\u001b[0m\u001b[1;33m\u001b[0m\u001b[0m\n\u001b[0;32m    646\u001b[0m \u001b[1;33m\u001b[0m\u001b[0m\n\u001b[0;32m    647\u001b[0m     \u001b[1;32mfor\u001b[0m \u001b[0mcolumn\u001b[0m \u001b[1;32min\u001b[0m \u001b[0mperf_stats\u001b[0m\u001b[1;33m.\u001b[0m\u001b[0mcolumns\u001b[0m\u001b[1;33m:\u001b[0m\u001b[1;33m\u001b[0m\u001b[1;33m\u001b[0m\u001b[0m\n\u001b[1;32m--> 648\u001b[1;33m         \u001b[1;32mfor\u001b[0m \u001b[0mstat\u001b[0m\u001b[1;33m,\u001b[0m \u001b[0mvalue\u001b[0m \u001b[1;32min\u001b[0m \u001b[0mperf_stats\u001b[0m\u001b[1;33m[\u001b[0m\u001b[0mcolumn\u001b[0m\u001b[1;33m]\u001b[0m\u001b[1;33m.\u001b[0m\u001b[0miteritems\u001b[0m\u001b[1;33m(\u001b[0m\u001b[1;33m)\u001b[0m\u001b[1;33m:\u001b[0m\u001b[1;33m\u001b[0m\u001b[1;33m\u001b[0m\u001b[0m\n\u001b[0m\u001b[0;32m    649\u001b[0m             \u001b[1;32mif\u001b[0m \u001b[0mstat\u001b[0m \u001b[1;32min\u001b[0m \u001b[0mSTAT_FUNCS_PCT\u001b[0m\u001b[1;33m:\u001b[0m\u001b[1;33m\u001b[0m\u001b[1;33m\u001b[0m\u001b[0m\n\u001b[0;32m    650\u001b[0m                 perf_stats.loc[stat, column] = str(np.round(value * 100,\n\u001b[0;32m    651\u001b[0m                                                             1)) + '%'\n",
      "\u001b[1;32m~\\Miniconda3\\lib\\site-packages\\pandas\\core\\generic.py\u001b[0m in \u001b[0;36m?\u001b[1;34m(self, name)\u001b[0m\n\u001b[0;32m   6200\u001b[0m             \u001b[1;32mand\u001b[0m \u001b[0mname\u001b[0m \u001b[1;32mnot\u001b[0m \u001b[1;32min\u001b[0m \u001b[0mself\u001b[0m\u001b[1;33m.\u001b[0m\u001b[0m_accessors\u001b[0m\u001b[1;33m\u001b[0m\u001b[1;33m\u001b[0m\u001b[0m\n\u001b[0;32m   6201\u001b[0m             \u001b[1;32mand\u001b[0m \u001b[0mself\u001b[0m\u001b[1;33m.\u001b[0m\u001b[0m_info_axis\u001b[0m\u001b[1;33m.\u001b[0m\u001b[0m_can_hold_identifiers_and_holds_name\u001b[0m\u001b[1;33m(\u001b[0m\u001b[0mname\u001b[0m\u001b[1;33m)\u001b[0m\u001b[1;33m\u001b[0m\u001b[1;33m\u001b[0m\u001b[0m\n\u001b[0;32m   6202\u001b[0m         ):\n\u001b[0;32m   6203\u001b[0m             \u001b[1;32mreturn\u001b[0m \u001b[0mself\u001b[0m\u001b[1;33m[\u001b[0m\u001b[0mname\u001b[0m\u001b[1;33m]\u001b[0m\u001b[1;33m\u001b[0m\u001b[1;33m\u001b[0m\u001b[0m\n\u001b[1;32m-> 6204\u001b[1;33m         \u001b[1;32mreturn\u001b[0m \u001b[0mobject\u001b[0m\u001b[1;33m.\u001b[0m\u001b[0m__getattribute__\u001b[0m\u001b[1;33m(\u001b[0m\u001b[0mself\u001b[0m\u001b[1;33m,\u001b[0m \u001b[0mname\u001b[0m\u001b[1;33m)\u001b[0m\u001b[1;33m\u001b[0m\u001b[1;33m\u001b[0m\u001b[0m\n\u001b[0m",
      "\u001b[1;31mAttributeError\u001b[0m: 'Series' object has no attribute 'iteritems'"
     ]
    }
   ],
   "source": [
    "import pyfolio\n",
    "\n",
    "pyfolio.tears.create_full_tear_sheet(best_return['returns'])"
   ]
  },
  {
   "cell_type": "code",
   "execution_count": null,
   "metadata": {},
   "outputs": [],
   "source": []
  }
 ],
 "metadata": {
  "kernelspec": {
   "display_name": "Python 3 (ipykernel)",
   "language": "python",
   "name": "python3"
  },
  "language_info": {
   "codemirror_mode": {
    "name": "ipython",
    "version": 3
   },
   "file_extension": ".py",
   "mimetype": "text/x-python",
   "name": "python",
   "nbconvert_exporter": "python",
   "pygments_lexer": "ipython3",
   "version": "3.9.18"
  }
 },
 "nbformat": 4,
 "nbformat_minor": 4
}

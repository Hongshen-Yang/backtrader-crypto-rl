{
 "cells": [
  {
   "cell_type": "markdown",
   "metadata": {},
   "source": [
    "# Construct a custom Environment for Pair Trading\n",
    "\n",
    "Some examples on the market\n",
    "* [custom env example](https://colab.research.google.com/github/araffin/rl-tutorial-jnrr19/blob/sb3/5_custom_gym_env.ipynb#scrollTo=RqxatIwPOXe_)\n",
    "* [StockTradingEnv by Adam King](https://github.com/notadamking/Stock-Trading-Environment)\n",
    "* [FinRL](https://github.com/AI4Finance-Foundation/FinRL)\n",
    "\n",
    "Target is to construct a custom Env for pair trading\n",
    "\n",
    "This env allows the learner to hold a position as a percentage\n",
    "\n"
   ]
  },
  {
   "cell_type": "code",
   "execution_count": 1,
   "metadata": {},
   "outputs": [],
   "source": [
    "import warnings\n",
    "warnings.filterwarnings('ignore')\n",
    "\n",
    "import os\n",
    "import csv\n",
    "import math\n",
    "import numpy as np\n",
    "import pandas as pd\n",
    "import gymnasium as gym\n",
    "import statsmodels.api as sm\n",
    "\n",
    "from gymnasium import spaces\n",
    "from datetime import date\n",
    "from envs.env_gridsearch import kellycriterion\n",
    "from sklearn.model_selection import train_test_split\n",
    "from stable_baselines3.common.vec_env import DummyVecEnv\n",
    "from utils.read2df import read2df\n",
    "from params import *\n",
    "from envs.env_rl_freeop import PairTradingEnv\n",
    "\n",
    "from stable_baselines3 import PPO, A2C, DQN\n",
    "\n",
    "os.makedirs(\"result/rl-freeop\", exist_ok=True)\n",
    "\n",
    "# for root, dirs, files in os.walk(f\"result/rl-freeop/\"):\n",
    "#     for file in files:\n",
    "#         os.remove(os.path.join(root, file))"
   ]
  },
  {
   "cell_type": "markdown",
   "metadata": {},
   "source": [
    "Load data from `preliminaries.ipynb`"
   ]
  },
  {
   "cell_type": "code",
   "execution_count": 2,
   "metadata": {},
   "outputs": [],
   "source": [
    "import pickle\n",
    "\n",
    "with open('result/cointncorr.pickle', 'rb') as pk:\n",
    "    data = pickle.load(pk)\n",
    "\n",
    "dfs = read2df(symbols=data[0], freqs={data[1]: freqs[data[1]]})\n",
    "\n",
    "df0 = dfs[0][dfs[0]['tic']==data[0][0]].reset_index(drop=True)\n",
    "df1 = dfs[0][dfs[0]['tic']==data[0][1]].reset_index(drop=True)"
   ]
  },
  {
   "cell_type": "markdown",
   "metadata": {},
   "source": [
    "Set data before `trade_data` as training data, after `trade_data` is trade_data"
   ]
  },
  {
   "cell_type": "code",
   "execution_count": 3,
   "metadata": {},
   "outputs": [
    {
     "name": "stdout",
     "output_type": "stream",
     "text": [
      "The length of our training data: 1191842\n"
     ]
    }
   ],
   "source": [
    "train0 = df0[df0['datetime'] < trade_date]\n",
    "train1 = df1[df1['datetime'] < trade_date]\n",
    "\n",
    "test0 = df0[df0['datetime'] >= trade_date]\n",
    "test1 = df1[df1['datetime'] >= trade_date]\n",
    "\n",
    "print(f\"The length of our training data: {len(train0)}\")"
   ]
  },
  {
   "cell_type": "markdown",
   "metadata": {},
   "source": [
    "## Check with baselin3 `env_checker`\n",
    "\n",
    "Check if the env meets the requirements of `stable_baseline3`"
   ]
  },
  {
   "cell_type": "code",
   "execution_count": 4,
   "metadata": {},
   "outputs": [],
   "source": [
    "from stable_baselines3.common.env_checker import check_env\n",
    "# > UserWarning: The action space is not based off a numpy array. Typically this means it's either a Dict or Tuple space. This type of action space is currently not supported by Stable Baselines 3. You should try to flatten the action using a wrapper.\n",
    "# Baseline 3 does not support Dict/Tuple action spaces....only Box Discrete MultiDiscrete MultiBinary\n",
    "# Is there another way to achieve the same functionality?\n",
    "\n",
    "env = PairTradingEnv(train0, train1, fixed_amt=1000, isKelly=False)\n",
    "check_env(env)"
   ]
  },
  {
   "cell_type": "markdown",
   "metadata": {},
   "source": [
    "## Do a test run with random generated actions"
   ]
  },
  {
   "cell_type": "code",
   "execution_count": 5,
   "metadata": {},
   "outputs": [
    {
     "name": "stdout",
     "output_type": "stream",
     "text": [
      "observation_space: Dict('compare_clos_thre': Discrete(3), 'compare_open_thre': Discrete(3), 'position': Box(-1.0, 1.0, (1,), float64), 'zscore': Box(-inf, inf, (1,), float64))\n",
      "action_space: Discrete(3)\n",
      "action_space.sample: 0\n"
     ]
    }
   ],
   "source": [
    "env = PairTradingEnv(train0, train1, tc=0, isKelly=False, fixed_amt=1000, model=\"test\")\n",
    "obs, _ = env.reset()\n",
    "\n",
    "print(f\"observation_space: {env.observation_space}\")\n",
    "print(f\"action_space: {env.action_space}\")\n",
    "print(f\"action_space.sample: {env.action_space.sample()}\")\n",
    "\n",
    "n_steps = 20\n",
    "\n",
    "for step in range(n_steps):\n",
    "    obs, reward, terminated, truncated, info = env.step(action=env.action_space.sample())\n",
    "    done = terminated or truncated\n",
    "    env.render()\n",
    "    if done:\n",
    "        break"
   ]
  },
  {
   "cell_type": "markdown",
   "metadata": {},
   "source": [
    "## Models from stable_baselines3\n",
    "\n",
    "Train with training data"
   ]
  },
  {
   "cell_type": "code",
   "execution_count": 6,
   "metadata": {},
   "outputs": [],
   "source": [
    "'''PPO'''\n",
    "\n",
    "env = PairTradingEnv(train0, train1, tc=0, verbose=1, model=\"ppo\")\n",
    "\n",
    "model_ppo = PPO(\"MultiInputPolicy\", env, verbose=0, tensorboard_log=\"logs\")\n",
    "model_ppo.learn(total_timesteps=20000)\n",
    "model_ppo.save(\"result/rl-freeop/ppo_pairtrading\")"
   ]
  },
  {
   "cell_type": "code",
   "execution_count": null,
   "metadata": {},
   "outputs": [],
   "source": [
    "'''A2C'''\n",
    "\n",
    "env = PairTradingEnv(train0, train1, tc=0, model=\"a2c\")\n",
    "\n",
    "model_a2c = A2C(\"MultiInputPolicy\", env, verbose=0)\n",
    "model_a2c.learn(total_timesteps=20000)\n",
    "model_a2c.save(\"result/rl-freeop/a2c_pairtrading\")"
   ]
  },
  {
   "cell_type": "code",
   "execution_count": null,
   "metadata": {},
   "outputs": [],
   "source": [
    "'''DQN'''\n",
    "\n",
    "env = PairTradingEnv(train0, train1, tc=0, model=\"dqn\")\n",
    "\n",
    "model_dqn = DQN(\"MultiInputPolicy\", env, verbose=0)\n",
    "model_dqn.learn(total_timesteps=20000)\n",
    "model_dqn.save(\"result/rl-freeop/dqn_pairtrading\")"
   ]
  },
  {
   "cell_type": "markdown",
   "metadata": {},
   "source": [
    "## Use the model on Test data"
   ]
  },
  {
   "cell_type": "code",
   "execution_count": null,
   "metadata": {},
   "outputs": [],
   "source": [
    "# del model_ppo, model_a2c, model_dqn\n",
    "\n",
    "model_ppo = PPO.load(\"result/rl-freeop/ppo_pairtrading.zip\")\n",
    "model_a2c = A2C.load(\"result/rl-freeop/a2c_pairtrading.zip\")\n",
    "model_dqn = DQN.load(\"result/rl-freeop/dqn_pairtrading.zip\")"
   ]
  },
  {
   "cell_type": "code",
   "execution_count": null,
   "metadata": {},
   "outputs": [],
   "source": [
    "try:\n",
    "    os.remove(\"result/rl-freeop/networth_ppo.csv\")\n",
    "except OSError:\n",
    "    pass\n",
    "\n",
    "env = PairTradingEnv(test0, test1, tc=0, model=\"ppo\")\n",
    "obs, _ = env.reset()\n",
    "\n",
    "while True:\n",
    "    action, _states = model_ppo.predict(obs)\n",
    "    observation, reward, terminated, truncated, info = env.step(action)\n",
    "    done = terminated or truncated\n",
    "    env.render()\n",
    "    if terminated:\n",
    "        print(\"Test Finished!\")\n",
    "        break\n",
    "    elif truncated:\n",
    "        print(\"bankrupted!\")\n",
    "        break"
   ]
  },
  {
   "cell_type": "code",
   "execution_count": null,
   "metadata": {},
   "outputs": [],
   "source": [
    "try:\n",
    "    os.remove(\"result/rl-freeop/networth_a2c.csv\")\n",
    "except OSError:\n",
    "    pass\n",
    "\n",
    "env = PairTradingEnv(test0, test1, tc=0, model=\"a2c\")\n",
    "obs, _ = env.reset()\n",
    "\n",
    "while True:\n",
    "    action, _states = model_a2c.predict(obs)\n",
    "    observation, reward, terminated, truncated, info = env.step(action)\n",
    "    done = terminated or truncated\n",
    "    env.render()\n",
    "    if terminated:\n",
    "        print(\"Test Finished!\")\n",
    "        break\n",
    "    elif truncated:\n",
    "        print(\"bankrupted!\")\n",
    "        break"
   ]
  },
  {
   "cell_type": "code",
   "execution_count": null,
   "metadata": {},
   "outputs": [],
   "source": [
    "try:\n",
    "    os.remove(\"result/rl-freeop/networth_dqn.csv\")\n",
    "except OSError:\n",
    "    pass\n",
    "\n",
    "env = PairTradingEnv(test0, test1, tc=0, model=\"dqn\")\n",
    "obs, _ = env.reset()\n",
    "\n",
    "while True:\n",
    "    action, _states = model_dqn.predict(obs)\n",
    "    observation, reward, terminated, truncated, info = env.step(action)\n",
    "    done = terminated or truncated\n",
    "    env.render()\n",
    "    if terminated:\n",
    "        print(\"Test Finished!\")\n",
    "        break\n",
    "    elif truncated:\n",
    "        print(\"bankrupted!\")\n",
    "        break"
   ]
  },
  {
   "cell_type": "markdown",
   "metadata": {},
   "source": [
    "### Analyze with PyFolio"
   ]
  },
  {
   "cell_type": "code",
   "execution_count": null,
   "metadata": {},
   "outputs": [],
   "source": [
    "folder_path = f\"result/rl-freeop/\"\n",
    "os.remove(f\"{folder_path}networth_test.csv\") if os.path.exists(f\"{folder_path}networth_test.csv\") else None\n",
    "csv_files = [file for file in os.listdir(folder_path) if file.endswith('.csv')]\n",
    "\n",
    "best_res, best_model = None, None\n",
    "for file_name in csv_files:\n",
    "    file_path = os.path.join(folder_path, file_name)\n",
    "    \n",
    "    with open(file_path, 'r') as csv_file:\n",
    "        csv_reader = csv.reader(csv_file)\n",
    "        \n",
    "        # Loop through the lines in the CSV file\n",
    "        last_line = None\n",
    "        for row in csv_reader:\n",
    "            last_line = row  # Update last_line with the current row\n",
    "    \n",
    "    if best_res is None or float(best_res) < float(last_line[1]):\n",
    "        best_res = last_line[1]\n",
    "        best_model = file_name\n",
    "\n",
    "    print(f\"The ending capital of {file_name} is {last_line[0:2]}\")\n",
    "\n",
    "print(f\"The best model is {best_model}\")"
   ]
  },
  {
   "cell_type": "code",
   "execution_count": null,
   "metadata": {},
   "outputs": [],
   "source": [
    "from utils.rlmetrics import get_return, get_metrics\n",
    "\n",
    "best_return = get_return(f'result/rl-freeop/{best_model}')\n",
    "get_metrics(best_return)"
   ]
  },
  {
   "cell_type": "code",
   "execution_count": null,
   "metadata": {},
   "outputs": [],
   "source": [
    "import matplotlib.pyplot as plt\n",
    "import matplotlib.dates as mdates\n",
    "\n",
    "fig, (ax1, ax2) = plt.subplots(2, 1, sharex=True)\n",
    "\n",
    "ax1.plot(best_return.index, best_return['returns'], linewidth=0.5)\n",
    "ax1.set_title(\"Portfolio Returns\")\n",
    "\n",
    "ax2.plot(best_return.index, best_return['values'], linewidth=0.5)\n",
    "ax2.set_title(\"Portfolio Networth\")\n",
    "\n",
    "ax2.set_xticklabels(ax2.get_xticks(), rotation=45)\n",
    "ax2.xaxis.set_major_formatter(mdates.DateFormatter('%Y-%m-%d'))"
   ]
  },
  {
   "cell_type": "code",
   "execution_count": null,
   "metadata": {},
   "outputs": [],
   "source": [
    "# import pyfolio\n",
    "\n",
    "# pyfolio.tears.create_full_tear_sheet(pd.Series(best_return['returns']))"
   ]
  },
  {
   "cell_type": "code",
   "execution_count": null,
   "metadata": {},
   "outputs": [],
   "source": []
  }
 ],
 "metadata": {
  "kernelspec": {
   "display_name": "Python 3 (ipykernel)",
   "language": "python",
   "name": "python3"
  },
  "language_info": {
   "codemirror_mode": {
    "name": "ipython",
    "version": 3
   },
   "file_extension": ".py",
   "mimetype": "text/x-python",
   "name": "python",
   "nbconvert_exporter": "python",
   "pygments_lexer": "ipython3",
   "version": "3.9.18"
  }
 },
 "nbformat": 4,
 "nbformat_minor": 4
}

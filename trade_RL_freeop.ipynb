{
 "cells": [
  {
   "cell_type": "markdown",
   "metadata": {},
   "source": [
    "# Construct a custom Environment for Pair Trading\n",
    "\n",
    "Built upon RL_restrict\n",
    "\n",
    "Feed in both spread data and two pricing data\n",
    "\n",
    "However, the trade is not limited to open-close pattern\n",
    "\n",
    "It's a freestyle for learner to decide the percentage we should hold. "
   ]
  },
  {
   "cell_type": "code",
   "execution_count": 21,
   "metadata": {},
   "outputs": [],
   "source": [
    "import warnings\n",
    "warnings.filterwarnings('ignore')\n",
    "\n",
    "import os\n",
    "import csv\n",
    "import numpy as np\n",
    "import pandas as pd\n",
    "import gymnasium as gym\n",
    "import statsmodels.api as sm\n",
    "\n",
    "from gymnasium import spaces\n",
    "from datetime import date\n",
    "from envs.env_gridsearch import kellycriterion\n",
    "from sklearn.model_selection import train_test_split\n",
    "from stable_baselines3.common.vec_env import DummyVecEnv\n",
    "from utils.read2df import read2df\n",
    "from params import *\n",
    "\n",
    "os.makedirs(\"result/rl-freeop\", exist_ok=True)\n",
    "\n",
    "for root, dirs, files in os.walk(f\"result/rl-freeop/\"):\n",
    "    for file in files:\n",
    "        os.remove(os.path.join(root, file))"
   ]
  },
  {
   "cell_type": "markdown",
   "metadata": {},
   "source": [
    "Download data from `binance-public-data`"
   ]
  },
  {
   "cell_type": "code",
   "execution_count": 23,
   "metadata": {},
   "outputs": [],
   "source": [
    "%%capture\n",
    "if symbols is None:\n",
    "    !python binance-public-data/python/download-kline.py \\\n",
    "        -i {\" \".join(list(freqs.keys()))} -startDate {start_date} -t spot -skip-daily 1\n",
    "else:\n",
    "    !python binance-public-data/python/download-kline.py \\\n",
    "        -s {\" \".join(symbols)} -i {\" \".join(list(freqs.keys()))} -startDate {start_date} -t spot -skip-daily 1"
   ]
  },
  {
   "cell_type": "code",
   "execution_count": 24,
   "metadata": {},
   "outputs": [],
   "source": [
    "import pickle\n",
    "\n",
    "dfs = read2df(symbols, freqs)\n",
    "\n",
    "with open('result/cointncorr.pickle', 'rb') as pk:\n",
    "    data = pickle.load(pk)\n",
    "\n",
    "freq_position = list(freqs.keys()).index(data[1])\n",
    "\n",
    "df0 = dfs[freq_position][dfs[freq_position]['tic']==data[0][0]].reset_index(drop=True)\n",
    "df1 = dfs[freq_position][dfs[freq_position]['tic']==data[0][1]].reset_index(drop=True)"
   ]
  },
  {
   "cell_type": "markdown",
   "metadata": {},
   "source": [
    "Set data before `trade_data` as training data, after `trade_data` is trade_data"
   ]
  },
  {
   "cell_type": "code",
   "execution_count": 25,
   "metadata": {},
   "outputs": [
    {
     "name": "stdout",
     "output_type": "stream",
     "text": [
      "The length of our training data: 130140\n"
     ]
    }
   ],
   "source": [
    "train0 = df0[df0['datetime'] < trade_date]\n",
    "train1 = df1[df1['datetime'] < trade_date]\n",
    "\n",
    "test0 = df0[df0['datetime'] >= trade_date]\n",
    "test1 = df1[df1['datetime'] >= trade_date]\n",
    "\n",
    "print(f\"The length of our training data: {len(train0)}\")"
   ]
  },
  {
   "cell_type": "markdown",
   "metadata": {},
   "source": [
    "# Define the custom Environment\n",
    "\n",
    "The behaviour of RL learner is restricted. \n",
    "\n",
    "The action is defined as discrete actions -1, 0, 1\n",
    "\n",
    "-1 means short df0 long df1, 0 means close position, +1 means long df0 short df1"
   ]
  },
  {
   "cell_type": "code",
   "execution_count": 67,
   "metadata": {},
   "outputs": [],
   "source": [
    "'''\n",
    "Because it is freestyle, so we don't care about whether we have a position or not.\n",
    "But we do need to make sure that if we are holding the maximum as we can then we shouldn't long further.\n",
    "'''\n",
    "\n",
    "# The lookback period for the observation space\n",
    "PERIOD = 15 # Only look at the current price\n",
    "CASH = 10000\n",
    "isKelly = True\n",
    "\n",
    "class PairTradingEnv(gym.Env):\n",
    "    metadata = {'render.modes': ['console']}\n",
    "\n",
    "    # for pair trading, we need to feed in two OHLCV dataframes\n",
    "    def __init__(self, df0, df1, tc=0.001, period=PERIOD, cash=CASH, isKelly=True, model=\"\"):\n",
    "        super().__init__()\n",
    "\n",
    "        if not df0['time'].equals(df1['time']):\n",
    "            raise ValueError(\"Two dataframe must have same time index\")\n",
    "\n",
    "        self.cash = cash\n",
    "        self.period = period\n",
    "        self.model = model\n",
    "\n",
    "        self.tic0 = df0['tic'].iloc[0]\n",
    "        self.tic1 = df1['tic'].iloc[0]\n",
    "\n",
    "        # transaction cost\n",
    "        self.tc = tc\n",
    "        self.isKelly = isKelly\n",
    "\n",
    "        self.df0 = df0[['close', 'datetime']]\n",
    "        self.df1 = df1[['close', 'datetime']]\n",
    "\n",
    "        self.reward_range = (-np.inf, np.inf)\n",
    "\n",
    "        # The action space should be something between -100% to 100%\n",
    "        self.action_space = spaces.Box(low=-1.0, high=1.0, shape=(1,))\n",
    "        \n",
    "        self.observation_space = spaces.Dict({\n",
    "            \"price_leg0\": spaces.Box(low=0, high=np.inf, shape=(PERIOD,), dtype=np.float64),\n",
    "            \"price_leg1\": spaces.Box(low=0, high=np.inf, shape=(PERIOD,), dtype=np.float64),\n",
    "            \"zscore\":     spaces.Box(low=-np.inf, high=np.inf, shape=(PERIOD,), dtype=np.float64),\n",
    "            \"position\":   spaces.Box(low=-np.inf, high=np.inf, shape=(1,), dtype=np.float64),\n",
    "        })\n",
    "\n",
    "        # if the length is 35, then the index shall be 0~34\n",
    "        self.max_steps = len(df0)-1\n",
    "    \n",
    "    def _kellycriterion(self, direct):\n",
    "        # direct is +1 or -1\n",
    "        spreads = pd.Series(self.residuals.iloc[-self.period:-1]) * direct   \n",
    "        kc_f = kellycriterion(spreads)\n",
    "\n",
    "        return kc_f\n",
    "\n",
    "    def _next_observation(self):\n",
    "        # The current step is always higher than the PERIOD as defined in the \n",
    "\n",
    "        prices0 = df0['close'].iloc[self.current_step-self.period: self.current_step]\n",
    "        prices1 = df1['close'].iloc[self.current_step-self.period: self.current_step]\n",
    "        \n",
    "        model = sm.OLS(prices0, sm.add_constant(prices1)).fit()\n",
    "\n",
    "        # positive residual means df0 > df1 at that point\n",
    "        self.residuals = model.resid\n",
    "        zscores = self.residuals / np.std(self.residuals)\n",
    "        \n",
    "        # print(len(np.array(prices0)), len(np.array(prices1)), len(np.array(zscores)))\n",
    "        \n",
    "        obs = {\n",
    "            \"price_leg0\": np.array(prices0.iloc[-PERIOD:]),\n",
    "            \"price_leg1\": np.array(prices1.iloc[-PERIOD:]),\n",
    "            \"zscore\": np.array(zscores.iloc[-PERIOD:]),\n",
    "            \"position\": np.array(self.action)\n",
    "        }\n",
    "        \n",
    "        return obs\n",
    "\n",
    "    def _take_action(self, action):\n",
    "\n",
    "        self.curr_price0 = self.df0['close'].iloc[self.current_step]\n",
    "        self.curr_price1 = self.df1['close'].iloc[self.current_step]\n",
    "\n",
    "        max_amount0 = self.cash/self.curr_price0\n",
    "        max_amount1 = self.cash/self.curr_price1\n",
    "\n",
    "        curr_holding0 = self.holding0/max_amount0\n",
    "        curr_holding1 = self.holding1/max_amount1\n",
    "\n",
    "        # The action swing from -1 to 1, 1 means long curr0 short curr1, -1 means short curr0 long curr1\n",
    "        self.action = action\n",
    "        \n",
    "        self.holding0 = max_amount0 * action\n",
    "        self.holding1 = max_amount1 * action\n",
    "\n",
    "        tc_fee0 = abs(action-curr_holding0)*max_amount0*self.curr_price0*self.tc \n",
    "        tc_fee1 = abs(-action-curr_holding1)*max_amount1*self.curr_price1*self.tc\n",
    "        tc_fee =  tc_fee0 + tc_fee1\n",
    "\n",
    "        # We record the net_worth from previous period to prev_net_worth\n",
    "        self.prev_net_worth = self.net_worth\n",
    "        self.net_worth = self.cash + self.holding0*self.curr_price0 + self.holding1*self.curr_price1 - tc_fee\n",
    "\n",
    "    def step(self, action):\n",
    "        self.action = action # for rendering\n",
    "        self._take_action(action)\n",
    "        self.current_step += 1\n",
    "\n",
    "        self.observation = self._next_observation()\n",
    "        reward = float(self.net_worth - self.prev_net_worth)\n",
    "        terminated = bool(self.current_step >= self.max_steps)\n",
    "        truncated = bool(self.net_worth <= 0)\n",
    "        info = {}\n",
    "\n",
    "        return self.observation, reward, terminated, truncated, info\n",
    "\n",
    "    def reset(self, seed=None):\n",
    "        np.random.seed(seed)\n",
    "        \n",
    "        self.cash = self.cash\n",
    "        self.net_worth = self.cash\n",
    "        self.prev_net_worth = self.cash\n",
    "        self.max_net_worth = self.cash\n",
    "        self.position = 0\n",
    "        self.holding0 = 0\n",
    "        self.holding1 = 0\n",
    "        self.render_step = 0\n",
    "        self.order_amount0 = 0\n",
    "        self.order_amount1 = 0\n",
    "        self.action = [0]\n",
    "\n",
    "        # self.current_step = self.period \n",
    "        self.current_step = np.random.randint(self.period, self.max_steps)\n",
    "\n",
    "        obs = self._next_observation()\n",
    "        \n",
    "        return self._next_observation(), {}\n",
    "    \n",
    "    def render(self):\n",
    "        profit = self.net_worth - self.cash\n",
    "        # print(self.df0['datetime'].iloc[self.current_step], self.net_worth)\n",
    "\n",
    "        with open(f\"result/rl-freeop/networth_{self.model}.csv\", mode='a', newline='') as csv_f:\n",
    "            if self.action != 1:\n",
    "                writer = csv.writer(csv_f)\n",
    "                writer.writerow(\n",
    "                    [self.df0['datetime'].iloc[self.current_step], \n",
    "                    self.net_worth, self.action, self.position, \n",
    "                    self.curr_price0*self.order_amount0, self.curr_price1*self.order_amount1]\n",
    "                )"
   ]
  },
  {
   "cell_type": "markdown",
   "metadata": {},
   "source": [
    "## Check with baselin3 `env_checker`\n",
    "\n",
    "Check if the env meets the requirements of `stable_baseline3`"
   ]
  },
  {
   "cell_type": "code",
   "execution_count": 68,
   "metadata": {},
   "outputs": [],
   "source": [
    "from stable_baselines3.common.env_checker import check_env\n",
    "# > UserWarning: The action space is not based off a numpy array. Typically this means it's either a Dict or Tuple space. This type of action space is currently not supported by Stable Baselines 3. You should try to flatten the action using a wrapper.\n",
    "# Baseline 3 does not support Dict/Tuple action spaces....only Box Discrete MultiDiscrete MultiBinary\n",
    "# Is there another way to achieve the same functionality?\n",
    "\n",
    "env = PairTradingEnv(train0, train1)\n",
    "check_env(env)"
   ]
  },
  {
   "cell_type": "markdown",
   "metadata": {},
   "source": [
    "## Do a test run with random generated actions"
   ]
  },
  {
   "cell_type": "code",
   "execution_count": 8,
   "metadata": {},
   "outputs": [
    {
     "name": "stdout",
     "output_type": "stream",
     "text": [
      "observation_space: Dict('price_leg0': Box(0.0, inf, (15,), float64), 'price_leg1': Box(0.0, inf, (15,), float64), 'zscore': Box(-inf, inf, (15,), float64))\n",
      "action_space: Discrete(3)\n",
      "action_space.sample: 0\n"
     ]
    }
   ],
   "source": [
    "env = PairTradingEnv(train0, train1, tc=0, model=\"test\")\n",
    "obs, _ = env.reset()\n",
    "\n",
    "print(f\"observation_space: {env.observation_space}\")\n",
    "print(f\"action_space: {env.action_space}\")\n",
    "print(f\"action_space.sample: {env.action_space.sample()}\")\n",
    "\n",
    "n_steps = 5\n",
    "\n",
    "for step in range(n_steps):\n",
    "    obs, reward, terminated, truncated, info = env.step(action=env.action_space.sample())\n",
    "    done = terminated or truncated\n",
    "    env.render()\n",
    "    if done:\n",
    "        break"
   ]
  },
  {
   "cell_type": "markdown",
   "metadata": {},
   "source": [
    "## Models from stable_baselines3\n",
    "\n",
    "Train with training data"
   ]
  },
  {
   "cell_type": "code",
   "execution_count": 9,
   "metadata": {},
   "outputs": [],
   "source": [
    "'''PPO'''\n",
    "\n",
    "from stable_baselines3 import PPO\n",
    "\n",
    "env = PairTradingEnv(train0, train1, tc=0, model=\"ppo\", isKelly=False)\n",
    "\n",
    "model_ppo = PPO(\"MultiInputPolicy\", env, verbose=0, tensorboard_log=\"logs\")\n",
    "model_ppo.learn(total_timesteps=100000)\n",
    "model_ppo.save(\"result/rl-freeop/ppo_pairtrading\")"
   ]
  },
  {
   "cell_type": "code",
   "execution_count": 10,
   "metadata": {},
   "outputs": [],
   "source": [
    "'''A2C'''\n",
    "\n",
    "from stable_baselines3 import A2C\n",
    "\n",
    "env = PairTradingEnv(train0, train1, tc=0, model=\"a2c\", isKelly=False)\n",
    "\n",
    "model_a2c = A2C(\"MultiInputPolicy\", env, verbose=0, tensorboard_log=\"logs\")\n",
    "model_a2c.learn(total_timesteps=100000)\n",
    "model_a2c.save(\"result/rl-freeop/a2c_pairtrading\")"
   ]
  },
  {
   "cell_type": "code",
   "execution_count": 11,
   "metadata": {},
   "outputs": [],
   "source": [
    "'''DQN'''\n",
    "\n",
    "from stable_baselines3 import DQN\n",
    "\n",
    "env = PairTradingEnv(train0, train1, tc=0, model=\"dqn\", isKelly=False)\n",
    "\n",
    "model_dqn = DQN(\"MultiInputPolicy\", env, verbose=0, tensorboard_log=\"logs\")\n",
    "model_dqn.learn(total_timesteps=100000)\n",
    "model_dqn.save(\"result/rl-freeop/dqn_pairtrading\")"
   ]
  },
  {
   "cell_type": "markdown",
   "metadata": {},
   "source": [
    "## Use the model on Test data"
   ]
  },
  {
   "cell_type": "code",
   "execution_count": 12,
   "metadata": {},
   "outputs": [],
   "source": [
    "# del model_ppo, model_a2c, model_dqn\n",
    "\n",
    "model_ppo = PPO.load(\"result/rl-freeop/ppo_pairtrading.zip\")\n",
    "model_a2c = A2C.load(\"result/rl-freeop/a2c_pairtrading.zip\")\n",
    "model_dqn = DQN.load(\"result/rl-freeop/dqn_pairtrading.zip\")"
   ]
  },
  {
   "cell_type": "code",
   "execution_count": 13,
   "metadata": {},
   "outputs": [
    {
     "name": "stdout",
     "output_type": "stream",
     "text": [
      "Test Finished!\n"
     ]
    }
   ],
   "source": [
    "env = PairTradingEnv(test0, test1, tc=0, model=\"ppo\")\n",
    "\n",
    "env.reset()\n",
    "while True:\n",
    "    action, _states = model_ppo.predict(obs)\n",
    "    observation, reward, terminated, truncated, info = env.step(action)\n",
    "    done = terminated or truncated\n",
    "    env.render()\n",
    "    if terminated:\n",
    "        print(\"Test Finished!\")\n",
    "        break\n",
    "    elif truncated:\n",
    "        print(\"bankrupted!\")\n",
    "        break"
   ]
  },
  {
   "cell_type": "code",
   "execution_count": 14,
   "metadata": {},
   "outputs": [
    {
     "name": "stdout",
     "output_type": "stream",
     "text": [
      "Test Finished!\n"
     ]
    }
   ],
   "source": [
    "env = PairTradingEnv(test0, test1, tc=0, model=\"a2c\")\n",
    "\n",
    "env.reset()\n",
    "while True:\n",
    "    action, _states = model_a2c.predict(obs)\n",
    "    observation, reward, terminated, truncated, info = env.step(action)\n",
    "    done = terminated or truncated\n",
    "    env.render()\n",
    "    if terminated:\n",
    "        print(\"Test Finished!\")\n",
    "        break\n",
    "    elif truncated:\n",
    "        print(\"bankrupted!\")\n",
    "        break"
   ]
  },
  {
   "cell_type": "code",
   "execution_count": 15,
   "metadata": {},
   "outputs": [
    {
     "name": "stdout",
     "output_type": "stream",
     "text": [
      "Test Finished!\n"
     ]
    }
   ],
   "source": [
    "env = PairTradingEnv(test0, test1, tc=0, model=\"dqn\")\n",
    "\n",
    "env.reset()\n",
    "while True:\n",
    "    action, _states = model_dqn.predict(obs)\n",
    "    observation, reward, terminated, truncated, info = env.step(action)\n",
    "    done = terminated or truncated\n",
    "    env.render()\n",
    "    if terminated:\n",
    "        print(\"Test Finished!\")\n",
    "        break\n",
    "    elif truncated:\n",
    "        print(\"bankrupted!\")\n",
    "        break"
   ]
  },
  {
   "cell_type": "markdown",
   "metadata": {},
   "source": [
    "### Analyze with PyFolio"
   ]
  },
  {
   "cell_type": "code",
   "execution_count": 16,
   "metadata": {},
   "outputs": [
    {
     "name": "stdout",
     "output_type": "stream",
     "text": [
      "The ending capital of networth_a2c.csv is ['2023-10-31 23:59:59.999000']\n",
      "The ending capital of networth_dqn.csv is ['2023-10-31 23:53:59.999000']\n",
      "The ending capital of networth_ppo.csv is ['2023-10-31 23:56:59.999000']\n",
      "The best model is networth_a2c.csv\n"
     ]
    }
   ],
   "source": [
    "folder_path = f\"result/rl-freeop/\"\n",
    "os.remove(f\"{folder_path}networth_test.csv\") if os.path.exists(f\"{folder_path}networth_test.csv\") else None\n",
    "csv_files = [file for file in os.listdir(folder_path) if file.endswith('.csv')]\n",
    "\n",
    "best_res, best_model = None, None\n",
    "for file_name in csv_files:\n",
    "    file_path = os.path.join(folder_path, file_name)\n",
    "    \n",
    "    with open(file_path, 'r') as csv_file:\n",
    "        csv_reader = csv.reader(csv_file)\n",
    "        \n",
    "        # Loop through the lines in the CSV file\n",
    "        last_line = None\n",
    "        for row in csv_reader:\n",
    "            last_line = row  # Update last_line with the current row\n",
    "    \n",
    "    if best_res is None or float(best_res) < float(last_line[1]):\n",
    "        best_res = last_line[1]\n",
    "        best_model = file_name\n",
    "\n",
    "    print(f\"The ending capital of {file_name} is {last_line[0:2]}\")\n",
    "\n",
    "print(f\"The best model is {best_model}\")"
   ]
  },
  {
   "cell_type": "code",
   "execution_count": 17,
   "metadata": {},
   "outputs": [],
   "source": [
    "def get_return(networthcsv):\n",
    "    returns = pd.read_csv(networthcsv, names=['datetime', 'returns', \"action\", \"position\", \"order0\", \"order1\"])\n",
    "    returns['datetime'] = pd.to_datetime(returns['datetime'])\n",
    "    returns.set_index('datetime', inplace=True)\n",
    "    res_daily = returns.resample('D').mean()\n",
    "    res_daily['returns'] = res_daily['returns'].pct_change()\n",
    "    res_daily = res_daily.dropna()\n",
    "    return res_daily\n",
    "\n",
    "best_return = get_return(f'result/rl-freeop/{best_model}')"
   ]
  },
  {
   "cell_type": "code",
   "execution_count": 18,
   "metadata": {},
   "outputs": [
    {
     "data": {
      "text/html": [
       "<div>\n",
       "<style scoped>\n",
       "    .dataframe tbody tr th:only-of-type {\n",
       "        vertical-align: middle;\n",
       "    }\n",
       "\n",
       "    .dataframe tbody tr th {\n",
       "        vertical-align: top;\n",
       "    }\n",
       "\n",
       "    .dataframe thead th {\n",
       "        text-align: right;\n",
       "    }\n",
       "</style>\n",
       "<table border=\"1\" class=\"dataframe\">\n",
       "  <thead>\n",
       "    <tr style=\"text-align: right;\">\n",
       "      <th></th>\n",
       "      <th>datetime</th>\n",
       "      <th>networth</th>\n",
       "      <th>action</th>\n",
       "      <th>position</th>\n",
       "      <th>order0</th>\n",
       "      <th>order1</th>\n",
       "    </tr>\n",
       "  </thead>\n",
       "  <tbody>\n",
       "  </tbody>\n",
       "</table>\n",
       "</div>"
      ],
      "text/plain": [
       "Empty DataFrame\n",
       "Columns: [datetime, networth, action, position, order0, order1]\n",
       "Index: []"
      ]
     },
     "execution_count": 18,
     "metadata": {},
     "output_type": "execute_result"
    }
   ],
   "source": [
    "best_df = pd.read_csv(f'result/rl-freeop/{best_model}', names=[\"datetime\", \"networth\", \"action\", \"position\", \"order0\", \"order1\"])\n",
    "best_df = best_df[best_df['action']!=1]\n",
    "best_df = best_df[best_df['order0']!=0]\n",
    "best_df.head(20)"
   ]
  },
  {
   "cell_type": "code",
   "execution_count": 19,
   "metadata": {},
   "outputs": [],
   "source": [
    "# # Calculate total orders count\n",
    "# total_orders_count = best_df.shape[0]\n",
    "\n",
    "# # Calculate won orders count\n",
    "# won_orders_count = best_df[(best_df['order1'] == 1) & (best_df['position'] == 0)].shape[0]\n",
    "\n",
    "# # Calculate lost orders count\n",
    "# lost_orders_count = best_df[(best_df['order1'] == 2) & (best_df['position'] == 0)].shape[0]\n",
    "\n",
    "# # Calculate Win/Loss order ratio\n",
    "# win_loss_order_ratio = won_orders_count / lost_orders_count if lost_orders_count != 0 else np.inf\n",
    "\n",
    "# # Calculate Avg order pnl\n",
    "# avg_order_pnl = best_df['order0'].mean()\n",
    "\n",
    "# # Calculate Avg order pnl won\n",
    "# avg_order_pnl_won = best_df[(best_df['order1'] == 1) & (best_df['position'] == 0)]['order0'].mean()\n",
    "\n",
    "# # Calculate Avg order pnl lost\n",
    "# avg_order_pnl_lost = best_df[(best_df['order1'] == 2) & (best_df['position'] == 0)]['order0'].mean()\n",
    "\n",
    "# # Calculate Avg long order pnl\n",
    "# avg_long_order_pnl = best_df[(best_df['order1'] == 1) & (best_df['position'] == 2)]['order0'].mean()\n",
    "\n",
    "# # Calculate Avg short order pnl\n",
    "# avg_short_order_pnl = best_df[(best_df['order1'] == 1) & (best_df['position'] == 0)]['order1'].mean()\n",
    "\n",
    "# # Print the calculated indices\n",
    "# print(\"Total orders count:\", total_orders_count)\n",
    "# print(\"Won orders count:\", won_orders_count)\n",
    "# print(\"Lost orders count:\", lost_orders_count)\n",
    "# print(\"Win/Loss order ratio:\", win_loss_order_ratio)\n",
    "# print(\"Avg order pnl:\", avg_order_pnl)\n",
    "# print(\"Avg order pnl won:\", avg_order_pnl_won)\n",
    "# print(\"Avg order pnl lost:\", avg_order_pnl_lost)\n",
    "# print(\"Avg long order pnl:\", avg_long_order_pnl)\n",
    "# print(\"Avg short order pnl:\", avg_short_order_pnl)\n"
   ]
  },
  {
   "cell_type": "code",
   "execution_count": 20,
   "metadata": {},
   "outputs": [
    {
     "ename": "AttributeError",
     "evalue": "'Series' object has no attribute 'iteritems'",
     "output_type": "error",
     "traceback": [
      "\u001b[1;31m---------------------------------------------------------------------------\u001b[0m",
      "\u001b[1;31mAttributeError\u001b[0m                            Traceback (most recent call last)",
      "\u001b[1;32m~\\AppData\\Local\\Temp\\ipykernel_21080\\2370240305.py\u001b[0m in \u001b[0;36m?\u001b[1;34m()\u001b[0m\n\u001b[1;32m----> 3\u001b[1;33m \u001b[1;32mimport\u001b[0m \u001b[0mpyfolio\u001b[0m\u001b[1;33m\u001b[0m\u001b[1;33m\u001b[0m\u001b[0m\n\u001b[0m\u001b[0;32m      4\u001b[0m \u001b[1;33m\u001b[0m\u001b[0m\n\u001b[0;32m      5\u001b[0m \u001b[0mpyfolio\u001b[0m\u001b[1;33m.\u001b[0m\u001b[0mtears\u001b[0m\u001b[1;33m.\u001b[0m\u001b[0mcreate_full_tear_sheet\u001b[0m\u001b[1;33m(\u001b[0m\u001b[0mbest_return\u001b[0m\u001b[1;33m[\u001b[0m\u001b[1;34m'returns'\u001b[0m\u001b[1;33m]\u001b[0m\u001b[1;33m)\u001b[0m\u001b[1;33m\u001b[0m\u001b[1;33m\u001b[0m\u001b[0m\n",
      "\u001b[1;32m~\\Miniconda3\\lib\\site-packages\\pyfolio\\tears.py\u001b[0m in \u001b[0;36m?\u001b[1;34m(returns, positions, transactions, market_data, benchmark_rets, slippage, live_start_date, sector_mappings, bayesian, round_trips, estimate_intraday, hide_positions, cone_std, bootstrap, unadjusted_returns, style_factor_panel, sectors, caps, shares_held, volumes, percentile, turnover_denom, set_context, factor_returns, factor_loadings, pos_in_dollars, header_rows, factor_partitions)\u001b[0m\n\u001b[0;32m    197\u001b[0m \u001b[1;33m\u001b[0m\u001b[0m\n\u001b[0;32m    198\u001b[0m     positions = utils.check_intraday(estimate_intraday, returns,\n\u001b[0;32m    199\u001b[0m                                      positions, transactions)\n\u001b[0;32m    200\u001b[0m \u001b[1;33m\u001b[0m\u001b[0m\n\u001b[1;32m--> 201\u001b[1;33m     create_returns_tear_sheet(\n\u001b[0m\u001b[0;32m    202\u001b[0m         \u001b[0mreturns\u001b[0m\u001b[1;33m,\u001b[0m\u001b[1;33m\u001b[0m\u001b[1;33m\u001b[0m\u001b[0m\n\u001b[0;32m    203\u001b[0m         \u001b[0mpositions\u001b[0m\u001b[1;33m=\u001b[0m\u001b[0mpositions\u001b[0m\u001b[1;33m,\u001b[0m\u001b[1;33m\u001b[0m\u001b[1;33m\u001b[0m\u001b[0m\n\u001b[0;32m    204\u001b[0m         \u001b[0mtransactions\u001b[0m\u001b[1;33m=\u001b[0m\u001b[0mtransactions\u001b[0m\u001b[1;33m,\u001b[0m\u001b[1;33m\u001b[0m\u001b[1;33m\u001b[0m\u001b[0m\n",
      "\u001b[1;32m~\\Miniconda3\\lib\\site-packages\\pyfolio\\plotting.py\u001b[0m in \u001b[0;36m?\u001b[1;34m(*args, **kwargs)\u001b[0m\n\u001b[0;32m     48\u001b[0m     \u001b[1;32mdef\u001b[0m \u001b[0mcall_w_context\u001b[0m\u001b[1;33m(\u001b[0m\u001b[1;33m*\u001b[0m\u001b[0margs\u001b[0m\u001b[1;33m,\u001b[0m \u001b[1;33m**\u001b[0m\u001b[0mkwargs\u001b[0m\u001b[1;33m)\u001b[0m\u001b[1;33m:\u001b[0m\u001b[1;33m\u001b[0m\u001b[1;33m\u001b[0m\u001b[0m\n\u001b[0;32m     49\u001b[0m         \u001b[0mset_context\u001b[0m \u001b[1;33m=\u001b[0m \u001b[0mkwargs\u001b[0m\u001b[1;33m.\u001b[0m\u001b[0mpop\u001b[0m\u001b[1;33m(\u001b[0m\u001b[1;34m'set_context'\u001b[0m\u001b[1;33m,\u001b[0m \u001b[1;32mTrue\u001b[0m\u001b[1;33m)\u001b[0m\u001b[1;33m\u001b[0m\u001b[1;33m\u001b[0m\u001b[0m\n\u001b[0;32m     50\u001b[0m         \u001b[1;32mif\u001b[0m \u001b[0mset_context\u001b[0m\u001b[1;33m:\u001b[0m\u001b[1;33m\u001b[0m\u001b[1;33m\u001b[0m\u001b[0m\n\u001b[0;32m     51\u001b[0m             \u001b[1;32mwith\u001b[0m \u001b[0mplotting_context\u001b[0m\u001b[1;33m(\u001b[0m\u001b[1;33m)\u001b[0m\u001b[1;33m,\u001b[0m \u001b[0maxes_style\u001b[0m\u001b[1;33m(\u001b[0m\u001b[1;33m)\u001b[0m\u001b[1;33m:\u001b[0m\u001b[1;33m\u001b[0m\u001b[1;33m\u001b[0m\u001b[0m\n\u001b[1;32m---> 52\u001b[1;33m                 \u001b[1;32mreturn\u001b[0m \u001b[0mfunc\u001b[0m\u001b[1;33m(\u001b[0m\u001b[1;33m*\u001b[0m\u001b[0margs\u001b[0m\u001b[1;33m,\u001b[0m \u001b[1;33m**\u001b[0m\u001b[0mkwargs\u001b[0m\u001b[1;33m)\u001b[0m\u001b[1;33m\u001b[0m\u001b[1;33m\u001b[0m\u001b[0m\n\u001b[0m\u001b[0;32m     53\u001b[0m         \u001b[1;32melse\u001b[0m\u001b[1;33m:\u001b[0m\u001b[1;33m\u001b[0m\u001b[1;33m\u001b[0m\u001b[0m\n\u001b[0;32m     54\u001b[0m             \u001b[1;32mreturn\u001b[0m \u001b[0mfunc\u001b[0m\u001b[1;33m(\u001b[0m\u001b[1;33m*\u001b[0m\u001b[0margs\u001b[0m\u001b[1;33m,\u001b[0m \u001b[1;33m**\u001b[0m\u001b[0mkwargs\u001b[0m\u001b[1;33m)\u001b[0m\u001b[1;33m\u001b[0m\u001b[1;33m\u001b[0m\u001b[0m\n",
      "\u001b[1;32m~\\Miniconda3\\lib\\site-packages\\pyfolio\\tears.py\u001b[0m in \u001b[0;36m?\u001b[1;34m(returns, positions, transactions, live_start_date, cone_std, benchmark_rets, bootstrap, turnover_denom, header_rows, return_fig)\u001b[0m\n\u001b[0;32m    492\u001b[0m \u001b[1;33m\u001b[0m\u001b[0m\n\u001b[0;32m    493\u001b[0m     \u001b[1;32mif\u001b[0m \u001b[0mbenchmark_rets\u001b[0m \u001b[1;32mis\u001b[0m \u001b[1;32mnot\u001b[0m \u001b[1;32mNone\u001b[0m\u001b[1;33m:\u001b[0m\u001b[1;33m\u001b[0m\u001b[1;33m\u001b[0m\u001b[0m\n\u001b[0;32m    494\u001b[0m         \u001b[0mreturns\u001b[0m \u001b[1;33m=\u001b[0m \u001b[0mutils\u001b[0m\u001b[1;33m.\u001b[0m\u001b[0mclip_returns_to_benchmark\u001b[0m\u001b[1;33m(\u001b[0m\u001b[0mreturns\u001b[0m\u001b[1;33m,\u001b[0m \u001b[0mbenchmark_rets\u001b[0m\u001b[1;33m)\u001b[0m\u001b[1;33m\u001b[0m\u001b[1;33m\u001b[0m\u001b[0m\n\u001b[0;32m    495\u001b[0m \u001b[1;33m\u001b[0m\u001b[0m\n\u001b[1;32m--> 496\u001b[1;33m     plotting.show_perf_stats(returns, benchmark_rets,\n\u001b[0m\u001b[0;32m    497\u001b[0m                              \u001b[0mpositions\u001b[0m\u001b[1;33m=\u001b[0m\u001b[0mpositions\u001b[0m\u001b[1;33m,\u001b[0m\u001b[1;33m\u001b[0m\u001b[1;33m\u001b[0m\u001b[0m\n\u001b[0;32m    498\u001b[0m                              \u001b[0mtransactions\u001b[0m\u001b[1;33m=\u001b[0m\u001b[0mtransactions\u001b[0m\u001b[1;33m,\u001b[0m\u001b[1;33m\u001b[0m\u001b[1;33m\u001b[0m\u001b[0m\n\u001b[0;32m    499\u001b[0m                              \u001b[0mturnover_denom\u001b[0m\u001b[1;33m=\u001b[0m\u001b[0mturnover_denom\u001b[0m\u001b[1;33m,\u001b[0m\u001b[1;33m\u001b[0m\u001b[1;33m\u001b[0m\u001b[0m\n",
      "\u001b[1;32m~\\Miniconda3\\lib\\site-packages\\pyfolio\\plotting.py\u001b[0m in \u001b[0;36m?\u001b[1;34m(returns, factor_returns, positions, transactions, turnover_denom, live_start_date, bootstrap, header_rows)\u001b[0m\n\u001b[0;32m    644\u001b[0m                                             APPROX_BDAYS_PER_MONTH)\n\u001b[0;32m    645\u001b[0m         \u001b[0mperf_stats\u001b[0m \u001b[1;33m=\u001b[0m \u001b[0mpd\u001b[0m\u001b[1;33m.\u001b[0m\u001b[0mDataFrame\u001b[0m\u001b[1;33m(\u001b[0m\u001b[0mperf_stats_all\u001b[0m\u001b[1;33m,\u001b[0m \u001b[0mcolumns\u001b[0m\u001b[1;33m=\u001b[0m\u001b[1;33m[\u001b[0m\u001b[1;34m'Backtest'\u001b[0m\u001b[1;33m]\u001b[0m\u001b[1;33m)\u001b[0m\u001b[1;33m\u001b[0m\u001b[1;33m\u001b[0m\u001b[0m\n\u001b[0;32m    646\u001b[0m \u001b[1;33m\u001b[0m\u001b[0m\n\u001b[0;32m    647\u001b[0m     \u001b[1;32mfor\u001b[0m \u001b[0mcolumn\u001b[0m \u001b[1;32min\u001b[0m \u001b[0mperf_stats\u001b[0m\u001b[1;33m.\u001b[0m\u001b[0mcolumns\u001b[0m\u001b[1;33m:\u001b[0m\u001b[1;33m\u001b[0m\u001b[1;33m\u001b[0m\u001b[0m\n\u001b[1;32m--> 648\u001b[1;33m         \u001b[1;32mfor\u001b[0m \u001b[0mstat\u001b[0m\u001b[1;33m,\u001b[0m \u001b[0mvalue\u001b[0m \u001b[1;32min\u001b[0m \u001b[0mperf_stats\u001b[0m\u001b[1;33m[\u001b[0m\u001b[0mcolumn\u001b[0m\u001b[1;33m]\u001b[0m\u001b[1;33m.\u001b[0m\u001b[0miteritems\u001b[0m\u001b[1;33m(\u001b[0m\u001b[1;33m)\u001b[0m\u001b[1;33m:\u001b[0m\u001b[1;33m\u001b[0m\u001b[1;33m\u001b[0m\u001b[0m\n\u001b[0m\u001b[0;32m    649\u001b[0m             \u001b[1;32mif\u001b[0m \u001b[0mstat\u001b[0m \u001b[1;32min\u001b[0m \u001b[0mSTAT_FUNCS_PCT\u001b[0m\u001b[1;33m:\u001b[0m\u001b[1;33m\u001b[0m\u001b[1;33m\u001b[0m\u001b[0m\n\u001b[0;32m    650\u001b[0m                 perf_stats.loc[stat, column] = str(np.round(value * 100,\n\u001b[0;32m    651\u001b[0m                                                             1)) + '%'\n",
      "\u001b[1;32m~\\Miniconda3\\lib\\site-packages\\pandas\\core\\generic.py\u001b[0m in \u001b[0;36m?\u001b[1;34m(self, name)\u001b[0m\n\u001b[0;32m   6200\u001b[0m             \u001b[1;32mand\u001b[0m \u001b[0mname\u001b[0m \u001b[1;32mnot\u001b[0m \u001b[1;32min\u001b[0m \u001b[0mself\u001b[0m\u001b[1;33m.\u001b[0m\u001b[0m_accessors\u001b[0m\u001b[1;33m\u001b[0m\u001b[1;33m\u001b[0m\u001b[0m\n\u001b[0;32m   6201\u001b[0m             \u001b[1;32mand\u001b[0m \u001b[0mself\u001b[0m\u001b[1;33m.\u001b[0m\u001b[0m_info_axis\u001b[0m\u001b[1;33m.\u001b[0m\u001b[0m_can_hold_identifiers_and_holds_name\u001b[0m\u001b[1;33m(\u001b[0m\u001b[0mname\u001b[0m\u001b[1;33m)\u001b[0m\u001b[1;33m\u001b[0m\u001b[1;33m\u001b[0m\u001b[0m\n\u001b[0;32m   6202\u001b[0m         ):\n\u001b[0;32m   6203\u001b[0m             \u001b[1;32mreturn\u001b[0m \u001b[0mself\u001b[0m\u001b[1;33m[\u001b[0m\u001b[0mname\u001b[0m\u001b[1;33m]\u001b[0m\u001b[1;33m\u001b[0m\u001b[1;33m\u001b[0m\u001b[0m\n\u001b[1;32m-> 6204\u001b[1;33m         \u001b[1;32mreturn\u001b[0m \u001b[0mobject\u001b[0m\u001b[1;33m.\u001b[0m\u001b[0m__getattribute__\u001b[0m\u001b[1;33m(\u001b[0m\u001b[0mself\u001b[0m\u001b[1;33m,\u001b[0m \u001b[0mname\u001b[0m\u001b[1;33m)\u001b[0m\u001b[1;33m\u001b[0m\u001b[1;33m\u001b[0m\u001b[0m\n\u001b[0m",
      "\u001b[1;31mAttributeError\u001b[0m: 'Series' object has no attribute 'iteritems'"
     ]
    }
   ],
   "source": [
    "import pyfolio\n",
    "\n",
    "pyfolio.tears.create_full_tear_sheet(best_return['returns'])"
   ]
  },
  {
   "cell_type": "code",
   "execution_count": null,
   "metadata": {},
   "outputs": [],
   "source": []
  }
 ],
 "metadata": {
  "kernelspec": {
   "display_name": "Python 3 (ipykernel)",
   "language": "python",
   "name": "python3"
  },
  "language_info": {
   "codemirror_mode": {
    "name": "ipython",
    "version": 3
   },
   "file_extension": ".py",
   "mimetype": "text/x-python",
   "name": "python",
   "nbconvert_exporter": "python",
   "pygments_lexer": "ipython3",
   "version": "3.9.18"
  }
 },
 "nbformat": 4,
 "nbformat_minor": 4
}

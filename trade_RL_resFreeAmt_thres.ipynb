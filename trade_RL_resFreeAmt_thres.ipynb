{
 "cells": [
  {
   "cell_type": "markdown",
   "metadata": {},
   "source": [
    "# Construct a custom Environment for Pair Trading\n",
    "\n",
    "Some examples on the market\n",
    "* [custom env example](https://colab.research.google.com/github/araffin/rl-tutorial-jnrr19/blob/sb3/5_custom_gym_env.ipynb#scrollTo=RqxatIwPOXe_)\n",
    "* [StockTradingEnv by Adam King](https://github.com/notadamking/Stock-Trading-Environment)\n",
    "* [FinRL](https://github.com/AI4Finance-Foundation/FinRL)\n",
    "\n",
    "Target is to construct a custom Env for pair trading\n",
    "\n",
    "This env restrict the behaviour of RL learner to pair trading only\n",
    "The env enables the agent to freely bet on trading quantity."
   ]
  },
  {
   "cell_type": "markdown",
   "metadata": {},
   "source": [
    "## Import the Custom Trading Env"
   ]
  },
  {
   "cell_type": "code",
   "execution_count": 1,
   "metadata": {},
   "outputs": [],
   "source": [
    "import os\n",
    "import csv\n",
    "import pickle\n",
    "import pandas as pd\n",
    "import quantstats as qs\n",
    "import matplotlib.pyplot as plt\n",
    "from tqdm import trange\n",
    "from stable_baselines3 import PPO, A2C, DDPG, SAC, TD3\n",
    "\n",
    "from params import *\n",
    "from utils.read2df import read2df, unify_dfs\n",
    "from utils.clearlogs import clear_logs\n",
    "from utils.rlmetrics import get_return, get_metrics\n",
    "from envs.env_rl_restrict_thres import RL_RestrictFreeAmt_TradeEnv\n",
    "\n",
    "folder_path = f\"result/rl-restrict-thres-freeamt\"\n",
    "os.makedirs(folder_path, exist_ok=True)"
   ]
  },
  {
   "cell_type": "markdown",
   "metadata": {},
   "source": [
    "## Prepare Trading Data\n",
    "Load data from `preliminaries.ipynb`"
   ]
  },
  {
   "cell_type": "code",
   "execution_count": 2,
   "metadata": {},
   "outputs": [],
   "source": [
    "with open('result/cointncorr.pickle', 'rb') as pk:\n",
    "    cointncorr = pickle.load(pk)\n",
    "\n",
    "with open('result/gridsearch/best_res.pickle', 'rb') as pk:\n",
    "    best_profit, best_params = pickle.load(pk)\n",
    "\n",
    "dfs = read2df(symbols=cointncorr[0], freqs={cointncorr[1]: freqs[cointncorr[1]]}, marketType='spot')\n",
    "tics, df = unify_dfs(dfs, symbols=cointncorr[0], period=best_params['period'])"
   ]
  },
  {
   "cell_type": "code",
   "execution_count": 3,
   "metadata": {},
   "outputs": [
    {
     "data": {
      "text/html": [
       "<div>\n",
       "<style scoped>\n",
       "    .dataframe tbody tr th:only-of-type {\n",
       "        vertical-align: middle;\n",
       "    }\n",
       "\n",
       "    .dataframe tbody tr th {\n",
       "        vertical-align: top;\n",
       "    }\n",
       "\n",
       "    .dataframe thead th {\n",
       "        text-align: right;\n",
       "    }\n",
       "</style>\n",
       "<table border=\"1\" class=\"dataframe\">\n",
       "  <thead>\n",
       "    <tr style=\"text-align: right;\">\n",
       "      <th></th>\n",
       "      <th>time</th>\n",
       "      <th>close0</th>\n",
       "      <th>itvl</th>\n",
       "      <th>datetime</th>\n",
       "      <th>close1</th>\n",
       "      <th>spread</th>\n",
       "      <th>zscore</th>\n",
       "    </tr>\n",
       "  </thead>\n",
       "  <tbody>\n",
       "    <tr>\n",
       "      <th>521369</th>\n",
       "      <td>1703818259999</td>\n",
       "      <td>0.000026</td>\n",
       "      <td>1m</td>\n",
       "      <td>2023-12-29 02:50:59.999</td>\n",
       "      <td>0.000028</td>\n",
       "      <td>-0.000002</td>\n",
       "      <td>-0.496491</td>\n",
       "    </tr>\n",
       "    <tr>\n",
       "      <th>521370</th>\n",
       "      <td>1703818319999</td>\n",
       "      <td>0.000026</td>\n",
       "      <td>1m</td>\n",
       "      <td>2023-12-29 02:51:59.999</td>\n",
       "      <td>0.000028</td>\n",
       "      <td>-0.000002</td>\n",
       "      <td>-0.475316</td>\n",
       "    </tr>\n",
       "    <tr>\n",
       "      <th>521371</th>\n",
       "      <td>1703818379999</td>\n",
       "      <td>0.000026</td>\n",
       "      <td>1m</td>\n",
       "      <td>2023-12-29 02:52:59.999</td>\n",
       "      <td>0.000028</td>\n",
       "      <td>-0.000002</td>\n",
       "      <td>-0.459767</td>\n",
       "    </tr>\n",
       "    <tr>\n",
       "      <th>521372</th>\n",
       "      <td>1703818439999</td>\n",
       "      <td>0.000026</td>\n",
       "      <td>1m</td>\n",
       "      <td>2023-12-29 02:53:59.999</td>\n",
       "      <td>0.000028</td>\n",
       "      <td>-0.000002</td>\n",
       "      <td>-0.353173</td>\n",
       "    </tr>\n",
       "    <tr>\n",
       "      <th>521373</th>\n",
       "      <td>1703818499999</td>\n",
       "      <td>0.000026</td>\n",
       "      <td>1m</td>\n",
       "      <td>2023-12-29 02:54:59.999</td>\n",
       "      <td>0.000028</td>\n",
       "      <td>-0.000002</td>\n",
       "      <td>-0.268318</td>\n",
       "    </tr>\n",
       "    <tr>\n",
       "      <th>521374</th>\n",
       "      <td>1703818559999</td>\n",
       "      <td>0.000026</td>\n",
       "      <td>1m</td>\n",
       "      <td>2023-12-29 02:55:59.999</td>\n",
       "      <td>0.000028</td>\n",
       "      <td>-0.000002</td>\n",
       "      <td>0.141809</td>\n",
       "    </tr>\n",
       "    <tr>\n",
       "      <th>521375</th>\n",
       "      <td>1703818619999</td>\n",
       "      <td>0.000026</td>\n",
       "      <td>1m</td>\n",
       "      <td>2023-12-29 02:56:59.999</td>\n",
       "      <td>0.000028</td>\n",
       "      <td>-0.000002</td>\n",
       "      <td>0.375112</td>\n",
       "    </tr>\n",
       "    <tr>\n",
       "      <th>521376</th>\n",
       "      <td>1703818679999</td>\n",
       "      <td>0.000026</td>\n",
       "      <td>1m</td>\n",
       "      <td>2023-12-29 02:57:59.999</td>\n",
       "      <td>0.000028</td>\n",
       "      <td>-0.000002</td>\n",
       "      <td>0.888931</td>\n",
       "    </tr>\n",
       "    <tr>\n",
       "      <th>521377</th>\n",
       "      <td>1703818739999</td>\n",
       "      <td>0.000026</td>\n",
       "      <td>1m</td>\n",
       "      <td>2023-12-29 02:58:59.999</td>\n",
       "      <td>0.000028</td>\n",
       "      <td>-0.000002</td>\n",
       "      <td>2.161925</td>\n",
       "    </tr>\n",
       "    <tr>\n",
       "      <th>521378</th>\n",
       "      <td>1703818799999</td>\n",
       "      <td>0.000026</td>\n",
       "      <td>1m</td>\n",
       "      <td>2023-12-29 02:59:59.999</td>\n",
       "      <td>0.000028</td>\n",
       "      <td>-0.000002</td>\n",
       "      <td>4.241137</td>\n",
       "    </tr>\n",
       "  </tbody>\n",
       "</table>\n",
       "</div>"
      ],
      "text/plain": [
       "                 time    close0 itvl                datetime    close1  \\\n",
       "521369  1703818259999  0.000026   1m 2023-12-29 02:50:59.999  0.000028   \n",
       "521370  1703818319999  0.000026   1m 2023-12-29 02:51:59.999  0.000028   \n",
       "521371  1703818379999  0.000026   1m 2023-12-29 02:52:59.999  0.000028   \n",
       "521372  1703818439999  0.000026   1m 2023-12-29 02:53:59.999  0.000028   \n",
       "521373  1703818499999  0.000026   1m 2023-12-29 02:54:59.999  0.000028   \n",
       "521374  1703818559999  0.000026   1m 2023-12-29 02:55:59.999  0.000028   \n",
       "521375  1703818619999  0.000026   1m 2023-12-29 02:56:59.999  0.000028   \n",
       "521376  1703818679999  0.000026   1m 2023-12-29 02:57:59.999  0.000028   \n",
       "521377  1703818739999  0.000026   1m 2023-12-29 02:58:59.999  0.000028   \n",
       "521378  1703818799999  0.000026   1m 2023-12-29 02:59:59.999  0.000028   \n",
       "\n",
       "          spread    zscore  \n",
       "521369 -0.000002 -0.496491  \n",
       "521370 -0.000002 -0.475316  \n",
       "521371 -0.000002 -0.459767  \n",
       "521372 -0.000002 -0.353173  \n",
       "521373 -0.000002 -0.268318  \n",
       "521374 -0.000002  0.141809  \n",
       "521375 -0.000002  0.375112  \n",
       "521376 -0.000002  0.888931  \n",
       "521377 -0.000002  2.161925  \n",
       "521378 -0.000002  4.241137  "
      ]
     },
     "execution_count": 3,
     "metadata": {},
     "output_type": "execute_result"
    }
   ],
   "source": [
    "df.tail(10)"
   ]
  },
  {
   "cell_type": "code",
   "execution_count": 4,
   "metadata": {},
   "outputs": [
    {
     "data": {
      "image/png": "[encoded data removed]",
      "text/plain": [
       "<Figure size 1000x600 with 2 Axes>"
      ]
     },
     "metadata": {},
     "output_type": "display_data"
    }
   ],
   "source": [
    "fig, (ax1, ax2) = plt.subplots(2, 1, sharex=True)\n",
    "\n",
    "ax1.plot(df['datetime'], df['spread'], label='spread')\n",
    "ax2.plot(df['datetime'], df['zscore'], label='zscore')\n",
    "\n",
    "ax1.legend()\n",
    "ax2.legend()\n",
    "plt.suptitle(f'The Spread between {cointncorr[0][0]} and {cointncorr[0][1]}')\n",
    "\n",
    "plt.xticks(rotation=45)\n",
    "plt.show()"
   ]
  },
  {
   "cell_type": "code",
   "execution_count": 5,
   "metadata": {},
   "outputs": [
    {
     "name": "stdout",
     "output_type": "stream",
     "text": [
      "The length of our training data: 87840\n"
     ]
    }
   ],
   "source": [
    "train = df[(df['datetime'] >= datetime.strptime(start_date, date_format)) & (df['datetime'] < datetime.strptime(trade_date, date_format))]\n",
    "test = df[(df['datetime'] >= datetime.strptime(trade_date, date_format)) & (df['datetime'] < datetime.strptime(end_date, date_format))]\n",
    "\n",
    "max_train_len = int((len(train)-best_params['period'])*0.95)\n",
    "print(f\"The length of our training data: {len(train)}\")"
   ]
  },
  {
   "cell_type": "markdown",
   "metadata": {},
   "source": [
    "## Check with baselin3 `env_checker`\n",
    "\n",
    "Check if the env meets the requirements of `stable_baseline3`"
   ]
  },
  {
   "cell_type": "code",
   "execution_count": 6,
   "metadata": {},
   "outputs": [
    {
     "name": "stderr",
     "output_type": "stream",
     "text": [
      "c:\\Users\\hyan212\\Miniconda3\\envs\\btrl\\lib\\site-packages\\stable_baselines3\\common\\env_checker.py:452: UserWarning: Your action space has dtype float64, we recommend using np.float32 to avoid cast errors.\n",
      "  warnings.warn(\n"
     ]
    }
   ],
   "source": [
    "from stable_baselines3.common.env_checker import check_env\n",
    "\n",
    "env = RL_RestrictFreeAmt_TradeEnv(train)\n",
    "check_env(env)"
   ]
  },
  {
   "cell_type": "code",
   "execution_count": 7,
   "metadata": {},
   "outputs": [
    {
     "name": "stderr",
     "output_type": "stream",
     "text": [
      "100%|██████████| 20/20 [00:00<00:00, 147.55it/s]"
     ]
    },
    {
     "name": "stdout",
     "output_type": "stream",
     "text": [
      "Finished\n",
      "networth: 0.9710006927330971\n"
     ]
    },
    {
     "name": "stderr",
     "output_type": "stream",
     "text": [
      "\n"
     ]
    }
   ],
   "source": [
    "test_env_expt = RL_RestrictFreeAmt_TradeEnv(test, model=f\"{folder_path}/networth_expt.csv\", verbose=1)\n",
    "\n",
    "try:\n",
    "    os.remove(f\"{folder_path}/networth_expt.csv\")\n",
    "except OSError:\n",
    "    pass\n",
    "\n",
    "obs, _ = test_env_expt.reset()\n",
    "\n",
    "for i in trange(20):\n",
    "    obs, rewards, terminated, truncated, info = test_env_expt.step(action=env.action_space.sample())\n",
    "    # test_env_expt.render()\n",
    "\n",
    "test_env_expt.close()"
   ]
  },
  {
   "cell_type": "markdown",
   "metadata": {},
   "source": [
    "Tensorboard"
   ]
  },
  {
   "cell_type": "markdown",
   "metadata": {},
   "source": [
    "## Train the Model with Trading Env"
   ]
  },
  {
   "cell_type": "code",
   "execution_count": 8,
   "metadata": {},
   "outputs": [
    {
     "name": "stdout",
     "output_type": "stream",
     "text": [
      "Deleted: logs/restrict_thres_freeamt/A2C_1\n",
      "Deleted: logs/restrict_thres_freeamt/PPO_1\n",
      "Deleted: logs/restrict_thres_freeamt/SAC_1\n"
     ]
    }
   ],
   "source": [
    "log_path = f\"logs/restrict_thres_freeamt/\"\n",
    "clear_logs(log_path)\n",
    "\n",
    "# Read more about tensorboard\n",
    "# https://github.com/tensorflow/tensorboard/blob/master/README.md\n",
    "# https://www.tensorflow.org/tensorboard/get_started"
   ]
  },
  {
   "cell_type": "code",
   "execution_count": 9,
   "metadata": {},
   "outputs": [],
   "source": [
    "'''PPO'''\n",
    "\n",
    "model_ppo = PPO(\"MultiInputPolicy\", env, verbose=0, gamma=1, batch_size=256, tensorboard_log=log_path)\n",
    "model_ppo.learn(total_timesteps=max_train_len, progress_bar=False)\n",
    "model_ppo.save(f\"{folder_path}/ppo_pairtrading\")"
   ]
  },
  {
   "cell_type": "code",
   "execution_count": 10,
   "metadata": {},
   "outputs": [
    {
     "data": {
      "application/vnd.jupyter.widget-view+json": {
       "model_id": "a921e8ad810c45079872debfb912610d",
       "version_major": 2,
       "version_minor": 0
      },
      "text/plain": [
       "Output()"
      ]
     },
     "metadata": {},
     "output_type": "display_data"
    }
   ],
   "source": [
    "'''A2C'''\n",
    "\n",
    "model_a2c = A2C(\"MultiInputPolicy\", env, verbose=0, gamma=1, tensorboard_log=log_path)\n",
    "model_a2c.learn(total_timesteps=max_train_len, progress_bar=True)\n",
    "model_a2c.save(f\"{folder_path}/a2c_pairtrading\")"
   ]
  },
  {
   "cell_type": "code",
   "execution_count": null,
   "metadata": {},
   "outputs": [],
   "source": [
    "# '''\n",
    "# DDPG\n",
    "# '''\n",
    "\n",
    "# model_ddpg = DDPG(\"MultiInputPolicy\", env, verbose=0, tensorboard_log=log_path)\n",
    "# model_ddpg.learn(total_timesteps=max_train_len*0.1, progress_bar=True)\n",
    "# model_ddpg.save(f\"{folder_path}/ddpg_pairtrading\")"
   ]
  },
  {
   "cell_type": "code",
   "execution_count": null,
   "metadata": {},
   "outputs": [],
   "source": [
    "'''\n",
    "SAC\n",
    "'''\n",
    "\n",
    "model_sac = SAC(\"MultiInputPolicy\", env, verbose=0, gamma=1, batch_size=256, tensorboard_log=log_path)\n",
    "model_sac.learn(total_timesteps=max_train_len, progress_bar=True)\n",
    "model_sac.save(f\"{folder_path}/sac_pairtrading\")"
   ]
  },
  {
   "cell_type": "code",
   "execution_count": null,
   "metadata": {},
   "outputs": [],
   "source": [
    "# '''\n",
    "# TD3\n",
    "# '''\n",
    "\n",
    "# model_td3 = TD3(\"MultiInputPolicy\", env, verbose=0, gamma=1, batch_size=256, tensorboard_log=log_path)\n",
    "# model_td3.learn(total_timesteps=max_train_len*0.8, progress_bar=True)\n",
    "# model_td3.save(f\"{folder_path}/td3_pairtrading\")"
   ]
  },
  {
   "cell_type": "markdown",
   "metadata": {},
   "source": [
    "## Create the Custom Test Env"
   ]
  },
  {
   "cell_type": "code",
   "execution_count": null,
   "metadata": {},
   "outputs": [],
   "source": [
    "test_env_ppo = RL_RestrictFreeAmt_TradeEnv(test, model=f\"{folder_path}/networth_ppo.csv\", verbose=1)\n",
    "test_env_a2c = RL_RestrictFreeAmt_TradeEnv(test, model=f\"{folder_path}/networth_a2c.csv\", verbose=1)\n",
    "test_env_ddpg = RL_RestrictFreeAmt_TradeEnv(test, model=f\"{folder_path}/networth_ddpg.csv\", verbose=1)\n",
    "test_env_sac = RL_RestrictFreeAmt_TradeEnv(test, model=f\"{folder_path}/networth_sac.csv\", verbose=1)\n",
    "test_env_td3 = RL_RestrictFreeAmt_TradeEnv(test, model=f\"{folder_path}/networth_td3.csv\", verbose=1)\n",
    "test_env_expt = RL_RestrictFreeAmt_TradeEnv(test, model=f\"{folder_path}/networth_expt.csv\", verbose=1)"
   ]
  },
  {
   "cell_type": "code",
   "execution_count": null,
   "metadata": {},
   "outputs": [],
   "source": [
    "max_test_len = int(len(test) * 0.95)\n",
    "print(f\"The length of our test data: {max_test_len}\")"
   ]
  },
  {
   "cell_type": "markdown",
   "metadata": {},
   "source": [
    "## Test Env with Trained Model"
   ]
  },
  {
   "cell_type": "code",
   "execution_count": null,
   "metadata": {},
   "outputs": [],
   "source": [
    "try:\n",
    "    os.remove(f\"{folder_path}/networth_ppo.csv\")\n",
    "except OSError:\n",
    "    pass\n",
    "\n",
    "obs, _ = test_env_ppo.reset()\n",
    "\n",
    "for i in trange(max_test_len):\n",
    "    action, _states = model_ppo.predict(obs)\n",
    "    obs, rewards, terminated, truncated, info = test_env_ppo.step(action)\n",
    "    if i%int(max_test_len/10)==0:\n",
    "        test_env_ppo.render()\n",
    "\n",
    "test_env_ppo.close()"
   ]
  },
  {
   "cell_type": "code",
   "execution_count": null,
   "metadata": {},
   "outputs": [],
   "source": [
    "try:\n",
    "    os.remove(f\"{folder_path}/networth_a2c.csv\")\n",
    "except OSError:\n",
    "    pass\n",
    "\n",
    "test_env_a2c = RL_RestrictFreeAmt_TradeEnv(test, tc=0.002, model=f\"{folder_path}/networth_a2c.csv\", verbose=1)\n",
    "obs, _ = test_env_a2c.reset()\n",
    "\n",
    "for i in trange(max_test_len):\n",
    "    action, _states = model_a2c.predict(obs)\n",
    "    obs, rewards, terminated, truncated, info = test_env_a2c.step(action)\n",
    "    if i%int(max_test_len/10)==0:\n",
    "        test_env_a2c.render()\n",
    "\n",
    "# for i in trange(10):\n",
    "#     action, _states = model_a2c.predict(obs)\n",
    "#     obs, rewards, terminated, truncated, info = test_env_a2c.step(action)\n",
    "#     test_env_a2c.render()\n",
    "\n",
    "# test_env_a2c.close()"
   ]
  },
  {
   "cell_type": "code",
   "execution_count": null,
   "metadata": {},
   "outputs": [],
   "source": [
    "# try:\n",
    "#     os.remove(f\"{folder_path}/networth_ddpg.csv\")\n",
    "# except OSError:\n",
    "#     pass\n",
    "\n",
    "# obs, _ = test_env_ddpg.reset()\n",
    "\n",
    "# for i in trange(max_test_len):\n",
    "#     action, _states = model_ddpg.predict(obs)\n",
    "#     obs, rewards, terminated, truncated, info = test_env_ddpg.step(action)\n",
    "#     if i%int(max_test_len/10)==0:\n",
    "#         test_env_ddpg.render()\n",
    "\n",
    "# test_env_ddpg.close()"
   ]
  },
  {
   "cell_type": "code",
   "execution_count": null,
   "metadata": {},
   "outputs": [],
   "source": [
    "try:\n",
    "    os.remove(f\"{folder_path}/networth_sac.csv\")\n",
    "except OSError:\n",
    "    pass\n",
    "\n",
    "obs, _ = test_env_sac.reset()\n",
    "\n",
    "for i in trange(max_test_len):\n",
    "    action, _states = model_sac.predict(obs)\n",
    "    obs, rewards, terminated, truncated, info = test_env_sac.step(action)\n",
    "    if i%int(max_test_len/10)==0:\n",
    "        test_env_sac.render()\n",
    "\n",
    "test_env_sac.close()"
   ]
  },
  {
   "cell_type": "code",
   "execution_count": null,
   "metadata": {},
   "outputs": [],
   "source": [
    "# try:\n",
    "#     os.remove(f\"{folder_path}/networth_td3.csv\")\n",
    "# except OSError:\n",
    "#     pass\n",
    "\n",
    "# obs, _ = test_env_td3.reset()\n",
    "\n",
    "# for i in trange(max_test_len):\n",
    "#     action, _states = model_td3.predict(obs)\n",
    "#     obs, rewards, terminated, truncated, info = test_env_td3.step(action)\n",
    "#     if i%int(max_test_len/10)==0:\n",
    "#         test_env_td3.render()\n",
    "\n",
    "# test_env_td3.close()"
   ]
  },
  {
   "cell_type": "markdown",
   "metadata": {},
   "source": [
    "## Also run randomly generated actions"
   ]
  },
  {
   "cell_type": "code",
   "execution_count": null,
   "metadata": {},
   "outputs": [],
   "source": [
    "try:\n",
    "    os.remove(f\"{folder_path}/networth_expt.csv\")\n",
    "except OSError:\n",
    "    pass\n",
    "\n",
    "obs, _ = test_env_expt.reset()\n",
    "\n",
    "for i in trange(max_test_len):\n",
    "    obs, rewards, terminated, truncated, info = test_env_expt.step(action=env.action_space.sample())\n",
    "    if i%int(max_test_len/10)==0:\n",
    "        test_env_expt.render()\n",
    "\n",
    "test_env_expt.close()"
   ]
  },
  {
   "cell_type": "markdown",
   "metadata": {},
   "source": [
    "### Analyze with Quanstats"
   ]
  },
  {
   "cell_type": "code",
   "execution_count": null,
   "metadata": {},
   "outputs": [],
   "source": [
    "os.remove(f\"{folder_path}/networth_expt.csv\") if os.path.exists(f\"{folder_path}/networth_expt.csv\") else None\n",
    "\n",
    "csv_files = [file for file in os.listdir(folder_path) if file.endswith('.csv')]\n",
    "\n",
    "best_res, best_model = None, None\n",
    "for file_name in csv_files:\n",
    "    file_path = os.path.join(folder_path, file_name)\n",
    "    \n",
    "    with open(file_path, 'r') as csv_file:\n",
    "        csv_reader = csv.reader(csv_file)\n",
    "        \n",
    "        # Loop through the lines in the CSV file\n",
    "        last_line = None\n",
    "        for row in csv_reader:\n",
    "            last_line = row  # Update last_line with the current row\n",
    "    \n",
    "    if best_res is None or float(best_res) < float(last_line[1]):\n",
    "        best_res = last_line[1]\n",
    "        best_model = file_name\n",
    "\n",
    "    print(f\"The ending capital of {file_name} is {last_line[0:2]}\")\n",
    "\n",
    "print(f\"The best model is {best_model}\")"
   ]
  },
  {
   "cell_type": "code",
   "execution_count": null,
   "metadata": {},
   "outputs": [],
   "source": [
    "best_return = get_return(f'{folder_path}/{best_model}')\n",
    "get_metrics(best_return)"
   ]
  },
  {
   "cell_type": "code",
   "execution_count": null,
   "metadata": {},
   "outputs": [],
   "source": [
    "best_return"
   ]
  },
  {
   "cell_type": "code",
   "execution_count": null,
   "metadata": {},
   "outputs": [],
   "source": [
    "fig, ax = plt.subplots()\n",
    "\n",
    "ax.set_title(\"Profit and Loss\")\n",
    "ax.plot(best_return['returns'])\n",
    "\n",
    "plt.show()"
   ]
  },
  {
   "cell_type": "code",
   "execution_count": null,
   "metadata": {},
   "outputs": [],
   "source": [
    "qs.reports.full(best_return['returns'])"
   ]
  },
  {
   "cell_type": "code",
   "execution_count": null,
   "metadata": {},
   "outputs": [],
   "source": []
  }
 ],
 "metadata": {
  "kernelspec": {
   "display_name": "Python 3 (ipykernel)",
   "language": "python",
   "name": "python3"
  },
  "language_info": {
   "codemirror_mode": {
    "name": "ipython",
    "version": 3
   },
   "file_extension": ".py",
   "mimetype": "text/x-python",
   "name": "python",
   "nbconvert_exporter": "python",
   "pygments_lexer": "ipython3",
   "version": "3.8.18"
  }
 },
 "nbformat": 4,
 "nbformat_minor": 4
}

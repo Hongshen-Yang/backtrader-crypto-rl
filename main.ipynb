{
 "cells": [
  {
   "cell_type": "code",
   "execution_count": 1,
   "metadata": {},
   "outputs": [],
   "source": [
    "import os\n",
    "import numpy as np\n",
    "import pandas as pd\n",
    "from utils.gridsearch import gridsearch\n",
    "from utils.read2df import read2df\n",
    "import statsmodels.api as sm\n",
    "from statsmodels.tsa.stattools import coint\n",
    "\n",
    "import backtrader as bt\n",
    "from itertools import combinations"
   ]
  },
  {
   "cell_type": "code",
   "execution_count": 2,
   "metadata": {},
   "outputs": [],
   "source": [
    "symbols = ['BTCUSDT', 'ETHUSDT']\n",
    "start_date = '2023-01-01'\n",
    "\n",
    "# freqs = {'1m': 1, '3m': 3, '5m': 5, '15m': 15, '30m': 30, '1h':60, '2h': 120}\n",
    "freqs = {'1d': 1440}"
   ]
  },
  {
   "cell_type": "markdown",
   "metadata": {},
   "source": [
    "# Download Data from [binance-public-data](https://github.com/binance/binance-public-data/tree/master/python)\n",
    "\n",
    "Download BTCUSDT and ETHUSDT for all available history for intervals of 1m, 3m, 5m, 15m, 30m\n"
   ]
  },
  {
   "cell_type": "code",
   "execution_count": null,
   "metadata": {},
   "outputs": [],
   "source": [
    "%%capture\n",
    "if symbols is None:\n",
    "    !python binance-public-data/python/download-kline.py -i {\" \".join(list(freqs.keys()))} -startDate {start_date} -t spot -skip-daily 1\n",
    "else:\n",
    "    !python binance-public-data/python/download-kline.py -s {\" \".join(symbols)} -i {\" \".join(list(freqs.keys()))} -startDate {start_date} -t spot -skip-daily 1"
   ]
  },
  {
   "cell_type": "code",
   "execution_count": 3,
   "metadata": {},
   "outputs": [],
   "source": [
    "# dfs = read2df(symbols, freqs)\n",
    "dfs = read2df(symbols, freqs)"
   ]
  },
  {
   "cell_type": "markdown",
   "metadata": {},
   "source": [
    "# Check Cointegration and Correlation"
   ]
  },
  {
   "cell_type": "code",
   "execution_count": 6,
   "metadata": {},
   "outputs": [
    {
     "name": "stdout",
     "output_type": "stream",
     "text": [
      "Under 1d interval\n",
      "BTCUSDT and ETHUSDT are NOT cointegrated under 1d interval\n"
     ]
    }
   ],
   "source": [
    "for i, (FREQUENCY, f) in enumerate(freqs.items()):\n",
    "    print(f\"Under {FREQUENCY} interval\")\n",
    "    for comb in combinations(set(dfs[i]['tic']), 2):\n",
    "        first_ele = dfs[i][dfs[i]['tic'] == comb[0]]['close']\n",
    "        second_ele = dfs[i][dfs[i]['tic'] == comb[1]]['close']\n",
    "        _, pvalue, _ = coint(first_ele, second_ele)\n",
    "        if pvalue <= 0.05:\n",
    "            print(f\"{comb[0]} and {comb[1]} are cointegrated, with correlation as {np.corrcoef(first_ele, second_ele)[0][1]}\")\n",
    "        else:\n",
    "            print(f\"{comb[0]} and {comb[1]} are NOT cointegrated under {FREQUENCY} interval\")"
   ]
  },
  {
   "cell_type": "markdown",
   "metadata": {},
   "source": [
    "# Define Trading Strategy\n",
    "\n",
    "Firstly define a sizer based on [Kelly Criterion](https://www.wikiwand.com/en/Kelly_criterion)"
   ]
  },
  {
   "cell_type": "code",
   "execution_count": 170,
   "metadata": {},
   "outputs": [],
   "source": [
    "# Seems that Sizer can only be executed when self.buy(size=None). \n",
    "# We need to purchase amount in a certain ratio in Pair Trading.\n",
    "# Therefore the Sizer is hard to implemented.\n",
    "\n",
    "class KellyCriterionSizer(bt.Sizer):\n",
    "    params = (('period', 30),)\n",
    "\n",
    "    def _getsizing(self, comminfo, cash, data, isbuy):\n",
    "        position = self.broker.getposition(data).size\n",
    "\n",
    "        close_prices = data.close.get(size=self.p.period)\n",
    "        returns = np.log(close_prices / close_prices.shift(1)).dropna()\n",
    "\n",
    "        p = len(returns[returns > 0]) / len(returns)\n",
    "        a = (returns[returns > 0].mean() + 1) if len(returns[returns > 0]) > 0 else 1.0\n",
    "        b = (-returns[returns > 0].mean() + 1) if len(returns[returns < 0]) > 0 else 1.0\n",
    "        q = 1 - p\n",
    "\n",
    "        f = min(max((p/a - q/b), 0), 1)\n",
    "\n",
    "        if isbuy:\n",
    "            size = cash * f / data.close[0]\n",
    "        else:\n",
    "            size = position * f\n",
    "\n",
    "        return size"
   ]
  },
  {
   "cell_type": "markdown",
   "metadata": {},
   "source": [
    "Define a custom indicator for [Kelly Criterion](https://www.wikiwand.com/en/Kelly_criterion)"
   ]
  },
  {
   "cell_type": "code",
   "execution_count": 200,
   "metadata": {},
   "outputs": [],
   "source": [
    "class KellyCriterionIndicator(bt.indicators.PeriodN):\n",
    "    '''\n",
    "    Uses ``pandas``\n",
    "    '''\n",
    "    _mindatas = 1\n",
    "\n",
    "    packages = (\n",
    "        ('pandas', 'pd'),\n",
    "    )\n",
    "    lines = ('kc_f',)\n",
    "    params = (\n",
    "        ('period', 30),\n",
    "    )\n",
    "\n",
    "    def next(self):\n",
    "        spreads = pd.Series(self.data.get(size=self.p.period))\n",
    "        returns = spreads.pct_change()\n",
    "\n",
    "        kc_p = len(returns[returns > 0]) / len(returns)\n",
    "        kc_a = (returns[returns > 0].mean() + 1) if len(returns[returns > 0]) > 0 else 1\n",
    "        kc_b = (returns[returns < 0].mean() + 1) if len(returns[returns < 0]) > 0 else 1\n",
    "        kc_q = 1 - kc_p\n",
    "        \n",
    "        kc_f = min(max((kc_p/kc_a - kc_q/kc_b), 0), 1)\n",
    "        self.lines.kc_f[0] = kc_f"
   ]
  },
  {
   "cell_type": "markdown",
   "metadata": {},
   "source": [
    "Define custom CommissionInfo"
   ]
  },
  {
   "cell_type": "code",
   "execution_count": 218,
   "metadata": {},
   "outputs": [],
   "source": [
    "class PairTradingCommInfo(bt.CommInfoBase):\n",
    "    params = (\n",
    "        ('commission', 0.0), ('mult', 10), ('margin', 1000),\n",
    "        ('stocklike', False),\n",
    "        ('commtype', bt.CommInfoBase.COMM_PERC),\n",
    "        ('percabs', True),\n",
    "    )"
   ]
  },
  {
   "cell_type": "markdown",
   "metadata": {},
   "source": [
    "The strategy with fixed ordersize"
   ]
  },
  {
   "cell_type": "code",
   "execution_count": 211,
   "metadata": {},
   "outputs": [],
   "source": [
    "class PairTrading(bt.Strategy):\n",
    "    params = dict(\n",
    "        OPEN_THRE=2,\n",
    "        CLOS_THRE=0.1,\n",
    "        period=30\n",
    "    )\n",
    "\n",
    "    def notify_order(self, order):\n",
    "        if order.status in [order.Submitted, order.Accepted]:\n",
    "            return\n",
    "\n",
    "        if order.status == order.Completed:\n",
    "            if order.isbuy():\n",
    "                print(f\"Buy {order.data._name} @ price: {order.executed.price} for Qty: {order.executed.size}\")\n",
    "            else:\n",
    "                print(f\"Sell {order.data._name} @ price: {order.executed.price} for Qty: {order.executed.size}\")\n",
    "\n",
    "        elif order.status in [order.Expired, order.Canceled, order.Margin]:\n",
    "            print('%s ,' % order.Status[order.status])\n",
    "            pass\n",
    "\n",
    "    def __init__(self):\n",
    "        self.data0 = self.datas[0]\n",
    "        self.data1 = self.datas[1]\n",
    "\n",
    "        # Calculate zscore of the ratio\n",
    "        transform = bt.indicators.OLS_TransformationN(self.data1, self.data0, period=self.p.period)\n",
    "        spread = transform.spread\n",
    "        self.zscore = transform.zscore\n",
    "\n",
    "        self.kc_f = KellyCriterionIndicator(spread, period=self.p.period)\n",
    "\n",
    "        # -1 for short data1/data0, 1 for long data1/data0, 0 for no position\n",
    "        self.position_status = 0\n",
    "\n",
    "    def next(self):\n",
    "        # print(f'Right now the zscore is {self.transform.zscore[0]}, and the position is {self.position_status}')\n",
    "        \n",
    "        # Calculate the ratio between the 2 assets\n",
    "        ratio = self.data1.close[0] / self.data0.close[0]\n",
    "        cash = self.broker.get_cash()\n",
    "\n",
    "        if abs(self.zscore[0]) < self.p.CLOS_THRE and self.position_status != 0:\n",
    "            print(\"------\")\n",
    "            print(\"close position\")\n",
    "            self.position_status = 0\n",
    "            self.close(data=self.data0)\n",
    "            self.close(data=self.data1)\n",
    "    \n",
    "        elif self.zscore[0] < -self.p.OPEN_THRE and self.position_status == 0:\n",
    "            print(\"------\")\n",
    "            print(f\"long {self.data0.alias} and short {self.data1.alias}\")\n",
    "            self.position_status = 1\n",
    "\n",
    "            purchase_amount = self.broker.get_cash()/self.data0.close[0]*self.kc_f[0]\n",
    "\n",
    "            self.sell(data=self.data1, size=purchase_amount/ratio)\n",
    "            self.buy(data=self.data0, size=purchase_amount)\n",
    "\n",
    "        elif self.zscore[0] > self.p.OPEN_THRE and self.position_status == 0:\n",
    "            print(\"------\")\n",
    "            print(f\"long {self.data1.alias} and short {self.data0.alias}\")\n",
    "            self.position_status = -1\n",
    "            \n",
    "            purchase_amount = self.broker.get_cash()/self.data1.close[0]*self.kc_f[0]\n",
    "\n",
    "            self.sell(data=self.data0, size=purchase_amount*ratio)\n",
    "            self.buy(data=self.data1, size=purchase_amount)\n",
    "\n",
    "    def stop(self):\n",
    "        print('==================================================')\n",
    "        print('Starting Value - %.2f' % self.broker.startingcash)\n",
    "        print('Ending   Value - %.2f' % self.broker.getvalue())\n",
    "        print('==================================================')"
   ]
  },
  {
   "cell_type": "markdown",
   "metadata": {},
   "source": [
    "# Execute the Strategy\n",
    "\n",
    "Load the data"
   ]
  },
  {
   "cell_type": "code",
   "execution_count": 212,
   "metadata": {},
   "outputs": [
    {
     "name": "stdout",
     "output_type": "stream",
     "text": [
      "1d\n"
     ]
    }
   ],
   "source": [
    "datafeeds_0 = []\n",
    "datafeeds_1 = []\n",
    "\n",
    "for idx, freq in enumerate(freqs):\n",
    "    datafeeds_0.append(\n",
    "        bt.feeds.PandasData(\n",
    "            dataname=dfs[idx][dfs[idx]['tic']=='ETHUSDT'],\n",
    "            datetime='datetime',\n",
    "            open='open',\n",
    "            high='high',\n",
    "            low='low',\n",
    "            close='close',\n",
    "            volume='volume',\n",
    "            openinterest=None\n",
    "        )\n",
    "    )\n",
    "    datafeeds_1.append(\n",
    "        bt.feeds.PandasData(\n",
    "            dataname=dfs[idx][dfs[idx]['tic']=='BTCUSDT'],\n",
    "            datetime='datetime',\n",
    "            open='open',\n",
    "            high='high',\n",
    "            low='low',\n",
    "            close='close',\n",
    "            volume='volume',\n",
    "            openinterest=None\n",
    "        )\n",
    "    )\n",
    "    print(freq)"
   ]
  },
  {
   "cell_type": "markdown",
   "metadata": {},
   "source": [
    "The main strategy engine"
   ]
  },
  {
   "cell_type": "code",
   "execution_count": 220,
   "metadata": {},
   "outputs": [],
   "source": [
    "datafeed0 = datafeeds_0[0]\n",
    "datafeed1 = datafeeds_1[0]\n",
    "datafeeds = [datafeed0, datafeed1]\n",
    "param = {'OPEN_THRE':1, 'CLOS_THRE':0.1, 'period':30}\n",
    "\n",
    "def cerebro_run(datafeeds, param):\n",
    "    # Create a Cerebro instance and add the data feed\n",
    "    cerebro = bt.Cerebro()\n",
    "    cerebro.adddata(datafeeds[0], name='eth')\n",
    "    cerebro.adddata(datafeeds[1], name='btc')\n",
    "\n",
    "    # Set up other parameters for backtest\n",
    "    cerebro.broker.set_cash(10000)  # Set initial capital\n",
    "    \n",
    "    comminfo = PairTradingCommInfo(commission=0.002, margin=1000, mult=10)\n",
    "    cerebro.broker.addcommissioninfo(comminfo)\n",
    "\n",
    "    # cerebro.addanalyzer(bt.analyzers.TimeReturn, _name='timereturns')\n",
    "    cerebro.addanalyzer(bt.analyzers.Returns, _name='Returns')\n",
    "    # cerebro.addsizer(KellyCriterionSizer)\n",
    "\n",
    "    cerebro.addstrategy(PairTrading, **param)\n",
    "    strats = cerebro.run()\n",
    "    return strats\n",
    "\n",
    "# cerebro_run(datafeeds, param)"
   ]
  },
  {
   "cell_type": "markdown",
   "metadata": {},
   "source": [
    "# Grid Search the Strategy\n",
    "Define scoring and param_grid"
   ]
  },
  {
   "cell_type": "code",
   "execution_count": 221,
   "metadata": {},
   "outputs": [],
   "source": [
    "# param_grid = {\n",
    "#     'OPEN_THRE':np.arange(1, 3, 1), \n",
    "#     'CLOS_THRE':np.arange(0.2, 1.0, 0.2), \n",
    "#     'period': np.arange(30, 60, 10)\n",
    "# }\n",
    "\n",
    "param_grid = {\n",
    "    'OPEN_THRE': [2], \n",
    "    'CLOS_THRE': [0.5], \n",
    "    'period': [30]\n",
    "}\n",
    "\n",
    "def scoring(strats):\n",
    "    score = strats[0].analyzers.Returns.get_analysis()['rtot']\n",
    "    return score"
   ]
  },
  {
   "cell_type": "markdown",
   "metadata": {},
   "source": [
    "Grid Searching"
   ]
  },
  {
   "cell_type": "code",
   "execution_count": 222,
   "metadata": {},
   "outputs": [
    {
     "name": "stdout",
     "output_type": "stream",
     "text": [
      "------\n",
      "long () and short ()\n",
      "Sell eth @ price: 1673.73 for Qty: -5.974679309088085\n",
      "Buy btc @ price: 24998.78 for Qty: 0.4000195209526225\n",
      "------\n",
      "close position\n",
      "Buy eth @ price: 1773.88 for Qty: 5.974679309088085\n",
      "Sell btc @ price: 27968.050000000003 for Qty: -0.4000195209526225\n",
      "------\n",
      "long () and short ()\n",
      "Sell eth @ price: 1889.8600000000001 for Qty: -3.046203668143527\n",
      "Buy btc @ price: 30200.43 for Qty: 0.19062312591274314\n",
      "------\n",
      "close position\n",
      "Buy eth @ price: 1917.4 for Qty: 3.046203668143527\n",
      "Sell btc @ price: 29888.07 for Qty: -0.19062312591274314\n",
      "------\n",
      "long () and short ()\n",
      "Sell btc @ price: 28243.650000000005 for Qty: -0.17655300988593672\n",
      "Buy eth @ price: 1942.98 for Qty: 2.566419323752657\n",
      "------\n",
      "close position\n",
      "Sell eth @ price: 1874.1699999999998 for Qty: -2.566419323752657\n",
      "Buy btc @ price: 27816.849999999995 for Qty: 0.17655300988593672\n",
      "------\n",
      "long () and short ()\n",
      "Sell eth @ price: 1751.52 for Qty: -7.580900273209786\n",
      "Buy btc @ price: 25841.22 for Qty: 0.5138371715386059\n",
      "------\n",
      "close position\n",
      "Buy eth @ price: 1889.1 for Qty: 7.580900273209786\n",
      "Sell btc @ price: 29993.89 for Qty: -0.5138371715386059\n",
      "------\n",
      "long () and short ()\n",
      "Sell btc @ price: 30312.0 for Qty: -0.36841241188034995\n",
      "Buy eth @ price: 1937.8199999999997 for Qty: 5.76279689809802\n",
      "------\n",
      "close position\n",
      "Sell eth @ price: 1891.7300000000002 for Qty: -5.76279689809802\n",
      "Buy btc @ price: 29901.72 for Qty: 0.36841241188034995\n",
      "------\n",
      "long () and short ()\n",
      "Sell eth @ price: 1635.0 for Qty: -5.993427589349517\n",
      "Buy btc @ price: 26055.99 for Qty: 0.3760820607273015\n",
      "------\n",
      "close position\n",
      "Buy eth @ price: 1679.61 for Qty: 5.993427589349517\n",
      "Sell btc @ price: 26432.71 for Qty: -0.3760820607273015\n",
      "------\n",
      "long () and short ()\n",
      "Sell eth @ price: 1729.41 for Qty: -4.250873717497702\n",
      "Buy btc @ price: 27716.34 for Qty: 0.26524230921235903\n",
      "------\n",
      "close position\n",
      "==================================================\n",
      "Starting Value - 10000.00\n",
      "Ending   Value - 20321.51\n",
      "==================================================\n"
     ]
    },
    {
     "data": {
      "text/plain": [
       "(0.7090948115646988, {'OPEN_THRE': 2, 'CLOS_THRE': 0.5, 'period': 30})"
      ]
     },
     "execution_count": 222,
     "metadata": {},
     "output_type": "execute_result"
    }
   ],
   "source": [
    "gridsearch(cerebro_run, param_grid, scoring, datafeeds)"
   ]
  },
  {
   "cell_type": "code",
   "execution_count": null,
   "metadata": {},
   "outputs": [],
   "source": []
  }
 ],
 "metadata": {
  "kernelspec": {
   "display_name": "Python 3 (ipykernel)",
   "language": "python",
   "name": "python3"
  },
  "language_info": {
   "codemirror_mode": {
    "name": "ipython",
    "version": 3
   },
   "file_extension": ".py",
   "mimetype": "text/x-python",
   "name": "python",
   "nbconvert_exporter": "python",
   "pygments_lexer": "ipython3",
   "version": "3.10.0"
  }
 },
 "nbformat": 4,
 "nbformat_minor": 4
}

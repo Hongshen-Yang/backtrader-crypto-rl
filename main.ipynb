{
 "cells": [
  {
   "cell_type": "code",
   "execution_count": 6,
   "metadata": {},
   "outputs": [],
   "source": [
    "import os, zipfile\n",
    "import pandas as pd"
   ]
  },
  {
   "cell_type": "markdown",
   "metadata": {},
   "source": [
    "# Download Data from [binance-public-data](https://github.com/binance/binance-public-data/tree/master/python)\n",
    "\n",
    "Download BTCUSDT and ETHUSDT for all available history for intervals of 1m, 3m, 5m, 15m, 30m\n"
   ]
  },
  {
   "cell_type": "code",
   "execution_count": 14,
   "metadata": {},
   "outputs": [],
   "source": [
    "%%capture\n",
    "!python binance-public-data/python/download-kline.py -t spot -s BTCUSDT ETHUSDT -i 1m 3m 5m 15m 30m -skip-daily 1\n",
    "print(\"Downloading Completed)"
   ]
  },
  {
   "cell_type": "markdown",
   "metadata": {},
   "source": [
    "# Read Downloaded Data\n",
    "\n",
    "The downloaded data can be found in `binance-public-data/data/`"
   ]
  },
  {
   "cell_type": "code",
   "execution_count": 37,
   "metadata": {},
   "outputs": [],
   "source": [
    "# List of symbols to merge\n",
    "symbols = ['BTCUSDT', 'ETHUSDT']\n",
    "\n",
    "# Frequencies\n",
    "freqs = ['1m', '3m', '5m', '15m', '30m']\n",
    "\n",
    "# List to store individual DataFrames\n",
    "dfs = []\n",
    "\n",
    "# Loop through each freq\n",
    "for freq in freqs:\n",
    "    # Loop through each symbol\n",
    "    rawdfs = []\n",
    "    \n",
    "    for symbol in symbols:\n",
    "        directory = f'binance-public-data/python/data/spot/monthly/klines/{symbol}/{freq}/'\n",
    "        \n",
    "        # Loop through each zip file in the directory\n",
    "        for file_name in os.listdir(directory):\n",
    "            if file_name.endswith('.zip'):\n",
    "                with zipfile.ZipFile(os.path.join(directory, file_name), 'r') as zip_ref:\n",
    "                    # only one CSV file in each zip archive\n",
    "                    csv_file = zip_ref.namelist()[0]\n",
    "                    with zip_ref.open(csv_file) as csv_fp:\n",
    "                        # Read the CSV data into a DataFrame\n",
    "                        temp_df = pd.read_csv(csv_fp, header=None)\n",
    "                        temp_df.columns = [\n",
    "                            'open_time', 'open', 'high', 'low', 'close', 'volume', \n",
    "                            'close_time', 'quote_asset_volume', 'number_of_trades', \n",
    "                            'taker_buy_base_asset_volume', 'taker_buy_quote_asset_volume', 'ignore'\n",
    "                        ]\n",
    "                        # temp_df['date'] = pd.to_datetime(temp_df['close_time'], unit='ms').dt.strftime('%Y-%m-%d')\n",
    "                        temp_df = temp_df.rename(columns={\"close_time\": \"time\"})\n",
    "                        temp_df['tic'] = symbol\n",
    "                        temp_df['itvl'] = freq\n",
    "                        rawdfs.append(temp_df[['time', 'open', 'high', 'low', 'close', 'volume', 'tic', 'itvl']])\n",
    "\n",
    "    # Concatenate all symbols into a single DataFrame\n",
    "    rawdf = pd.concat(rawdfs, ignore_index=True)\n",
    "\n",
    "    # Count the number of unique 'tic' values per date\n",
    "    tic_counts = rawdf.groupby('time')['tic'].nunique()\n",
    "\n",
    "    # Filter the DataFrame to keep only rows where all 'tic' values participate\n",
    "    df = rawdf[rawdf['time'].isin(tic_counts[tic_counts == len(rawdf['tic'].unique())].index)]\n",
    "    # Only wanted columns\n",
    "    df = df[['time', 'open', 'high', 'low', 'close', 'volume', 'tic', 'itvl']]\n",
    "    df['datetime'] = pd.to_datetime(df['time'], unit='ms')\n",
    "\n",
    "    df = df.sort_values(['time', 'tic', 'itvl'],ignore_index=True)\n",
    "\n",
    "    dfs.append(df)"
   ]
  },
  {
   "cell_type": "code",
   "execution_count": null,
   "metadata": {},
   "outputs": [],
   "source": []
  }
 ],
 "metadata": {
  "kernelspec": {
   "display_name": "Python 3 (ipykernel)",
   "language": "python",
   "name": "python3"
  },
  "language_info": {
   "codemirror_mode": {
    "name": "ipython",
    "version": 3
   },
   "file_extension": ".py",
   "mimetype": "text/x-python",
   "name": "python",
   "nbconvert_exporter": "python",
   "pygments_lexer": "ipython3",
   "version": "3.10.0"
  }
 },
 "nbformat": 4,
 "nbformat_minor": 4
}

{
 "cells": [
  {
   "cell_type": "markdown",
   "metadata": {},
   "source": [
    "# Construct a custom Environment for Pair Trading\n",
    "\n",
    "Some examples on the market\n",
    "* [custom env example](https://colab.research.google.com/github/araffin/rl-tutorial-jnrr19/blob/sb3/5_custom_gym_env.ipynb#scrollTo=RqxatIwPOXe_)\n",
    "* [StockTradingEnv by Adam King](https://github.com/notadamking/Stock-Trading-Environment)\n",
    "* [FinRL](https://github.com/AI4Finance-Foundation/FinRL)\n",
    "\n",
    "Target is to construct a custom Env for pair trading\n",
    "\n",
    "This env restrict the behaviour of RL learner to pair trading only"
   ]
  },
  {
   "cell_type": "code",
   "execution_count": 1,
   "metadata": {},
   "outputs": [],
   "source": [
    "import pickle\n",
    "import warnings\n",
    "warnings.filterwarnings('ignore')\n",
    "\n",
    "import os, csv, shutil\n",
    "import numpy as np\n",
    "import pandas as pd\n",
    "import statsmodels.api as sm\n",
    "import matplotlib.pyplot as plt\n",
    "\n",
    "from datetime import date\n",
    "from envs.env_gridsearch import kellycriterion\n",
    "from sklearn.model_selection import train_test_split\n",
    "from stable_baselines3.common.vec_env import DummyVecEnv\n",
    "from utils.read2df import read2df, unify_dfs\n",
    "from utils.rlmetrics import get_return, get_metrics\n",
    "from utils.clearlogs import clear_logs\n",
    "from envs.env_rl_restrict import PairTradingEnv\n",
    "from params import *\n",
    "\n",
    "from stable_baselines3 import PPO, A2C, DQN\n",
    "import quantstats as qs\n",
    "\n",
    "folder_path = f\"result/rl-restrict-thres\"\n",
    "os.makedirs(folder_path, exist_ok=True)"
   ]
  },
  {
   "cell_type": "markdown",
   "metadata": {},
   "source": [
    "Load data from `preliminaries.ipynb`"
   ]
  },
  {
   "cell_type": "code",
   "execution_count": 2,
   "metadata": {},
   "outputs": [],
   "source": [
    "with open('result/cointncorr.pickle', 'rb') as pk:\n",
    "    data = pickle.load(pk)\n",
    "\n",
    "bestres_pickle = 'result/gridsearch/best_res.pickle'\n",
    "if os.path.exists(bestres_pickle):\n",
    "    with open(bestres_pickle, 'rb') as pk:\n",
    "        best_profit, best_params = pickle.load(pk)\n",
    "else:\n",
    "    print(\"pickle is not found, please execute `trade_gridsearch.ipynb` first\")\n",
    "\n",
    "dfs = read2df(symbols=data[0], freqs={data[1]: freqs[data[1]]})"
   ]
  },
  {
   "cell_type": "code",
   "execution_count": 3,
   "metadata": {},
   "outputs": [],
   "source": [
    "df = unify_dfs(dfs, symbols=data[0], period=best_params['period'])"
   ]
  },
  {
   "cell_type": "code",
   "execution_count": 4,
   "metadata": {},
   "outputs": [],
   "source": [
    "df0 = dfs[0][dfs[0]['tic']==data[0][0]].reset_index(drop=True)\n",
    "df1 = dfs[0][dfs[0]['tic']==data[0][1]].reset_index(drop=True)\n",
    "\n",
    "# Because we want to calculate profit based on BTC. Hence the price need to be changed.\n",
    "df0 = df0[['time', 'close', 'volume', 'tic', 'itvl', 'datetime']]\n",
    "df0['close'] = df0['close'].apply(lambda x: 1/x)\n",
    "\n",
    "df1 = df1[['time', 'close', 'volume', 'tic', 'itvl', 'datetime']]\n",
    "df1['close'] = df1['close'].apply(lambda x: 1/x)"
   ]
  },
  {
   "cell_type": "markdown",
   "metadata": {},
   "source": [
    "Set data before `trade_data` as training data, after `trade_data` is trade_data"
   ]
  },
  {
   "cell_type": "code",
   "execution_count": 5,
   "metadata": {},
   "outputs": [
    {
     "name": "stdout",
     "output_type": "stream",
     "text": [
      "The length of our training data: 1724321\n"
     ]
    }
   ],
   "source": [
    "train0 = df0[df0['datetime'] < trade_date]\n",
    "train1 = df1[df1['datetime'] < trade_date]\n",
    "\n",
    "test0 = df0[df0['datetime'] >= trade_date]\n",
    "test1 = df1[df1['datetime'] >= trade_date]\n",
    "\n",
    "max_train_len = len(train0)-best_params['period']-1\n",
    "print(f\"The length of our training data: {len(train0)}\")"
   ]
  },
  {
   "cell_type": "markdown",
   "metadata": {},
   "source": [
    "## Check with baselin3 `env_checker`\n",
    "\n",
    "Check if the env meets the requirements of `stable_baseline3`"
   ]
  },
  {
   "cell_type": "code",
   "execution_count": 6,
   "metadata": {},
   "outputs": [],
   "source": [
    "from stable_baselines3.common.env_checker import check_env\n",
    "# > UserWarning: The action space is not based off a numpy array. Typically this means it's either a Dict or Tuple space. This type of action space is currently not supported by Stable Baselines 3. You should try to flatten the action using a wrapper.\n",
    "# Baseline 3 does not support Dict/Tuple action spaces....only Box Discrete MultiDiscrete MultiBinary\n",
    "# Is there another way to achieve the same functionality?\n",
    "\n",
    "env = PairTradingEnv(train0, train1)\n",
    "check_env(env)"
   ]
  },
  {
   "cell_type": "markdown",
   "metadata": {},
   "source": [
    "## Do an experimental run with randomly generated actions"
   ]
  },
  {
   "cell_type": "code",
   "execution_count": 7,
   "metadata": {},
   "outputs": [],
   "source": [
    "# env = PairTradingEnv(train0, train1, tc=0.002, verbose=1, model=f\"{folder_path}/networth_experiment.csv\")\n",
    "# obs, _ = env.reset()\n",
    "\n",
    "# print(f\"observation_space: {env.observation_space}\")\n",
    "# print(f\"action_space: {env.action_space}\")\n",
    "# print(f\"action_space.sample: {env.action_space.sample()}\")\n",
    "\n",
    "# n_steps = 20\n",
    "\n",
    "# for step in range(n_steps):\n",
    "#     obs, reward, terminated, truncated, info = env.step(action=env.action_space.sample())\n",
    "#     done = terminated or truncated\n",
    "#     env.render()\n",
    "#     if done:\n",
    "#         break"
   ]
  },
  {
   "cell_type": "markdown",
   "metadata": {},
   "source": [
    "## Models from stable_baselines3\n",
    "\n",
    "Delete existing tensorboard logs"
   ]
  },
  {
   "cell_type": "code",
   "execution_count": 8,
   "metadata": {},
   "outputs": [
    {
     "name": "stdout",
     "output_type": "stream",
     "text": [
      "Deleted: logs/restrict_thres/PPO_1\n"
     ]
    }
   ],
   "source": [
    "log_path = f\"logs/restrict_thres/\"\n",
    "clear_logs(log_path)\n",
    "\n",
    "# Read more about tensorboard\n",
    "# https://github.com/tensorflow/tensorboard/blob/master/README.md\n",
    "# https://www.tensorflow.org/tensorboard/get_started"
   ]
  },
  {
   "cell_type": "markdown",
   "metadata": {},
   "source": [
    "Train with training data"
   ]
  },
  {
   "cell_type": "code",
   "execution_count": 9,
   "metadata": {},
   "outputs": [],
   "source": [
    "'''PPO'''\n",
    "\n",
    "env_ppo = PairTradingEnv(train0, train1, tc=0.00, verbose=1, model=f\"{folder_path}/networth_ppo.csv\")\n",
    "\n",
    "model_ppo = PPO(\"MultiInputPolicy\", env_ppo, verbose=0, gamma=1, batch_size =3000, learning_rate=0.003, tensorboard_log=log_path)\n",
    "model_ppo.learn(total_timesteps=max_train_len/20)\n",
    "model_ppo.save(f\"{folder_path}/ppo_pairtrading\")"
   ]
  },
  {
   "cell_type": "code",
   "execution_count": null,
   "metadata": {},
   "outputs": [],
   "source": [
    "# '''A2C'''\n",
    "\n",
    "# env = PairTradingEnv(train0, train1, tc=0.00, model=f\"{folder_path}/networth_a2c.csv\")\n",
    "\n",
    "# model_a2c = A2C(\"MultiInputPolicy\", env, verbose=0, gamma=1, tensorboard_log=log_path)\n",
    "# model_a2c.learn(total_timesteps=max_train_len/10)\n",
    "# model_a2c.save(f\"{folder_path}/a2c_pairtrading\")"
   ]
  },
  {
   "cell_type": "code",
   "execution_count": null,
   "metadata": {},
   "outputs": [],
   "source": [
    "# '''DQN'''\n",
    "\n",
    "# env = PairTradingEnv(train0, train1, tc=0.00, model=f\"{folder_path}/networth_dqn.csv\")\n",
    "\n",
    "# model_dqn = DQN(\"MultiInputPolicy\", env, verbose=0, gamma=1, tensorboard_log=log_path)\n",
    "# model_dqn.learn(total_timesteps=max_train_len/10)\n",
    "# model_dqn.save(f\"{folder_path}/dqn_pairtrading\")"
   ]
  },
  {
   "cell_type": "markdown",
   "metadata": {},
   "source": [
    "## Use the model on Test data"
   ]
  },
  {
   "cell_type": "code",
   "execution_count": null,
   "metadata": {},
   "outputs": [],
   "source": [
    "# # del model_ppo, model_a2c, model_dqn\n",
    "\n",
    "# model_ppo = PPO.load(f\"{folder_path}/ppo_pairtrading\")\n",
    "# model_a2c = A2C.load(f\"{folder_path}/a2c_pairtrading\")\n",
    "# model_dqn = DQN.load(f\"{folder_path}/dqn_pairtrading\")"
   ]
  },
  {
   "cell_type": "code",
   "execution_count": null,
   "metadata": {},
   "outputs": [],
   "source": [
    "try:\n",
    "    os.remove(f\"{folder_path}/networth_ppo.csv\")\n",
    "except OSError:\n",
    "    pass\n",
    "\n",
    "obs, _ = env_ppo.reset()\n",
    "\n",
    "while True:\n",
    "    action, _states = model_ppo.predict(obs)\n",
    "    observation, reward, terminated, truncated, info = env_ppo.step(action)\n",
    "    done = terminated or truncated\n",
    "    env_ppo.render()\n",
    "    if terminated:\n",
    "        print(\"Test Finished!\")\n",
    "        break\n",
    "    elif truncated:\n",
    "        print(\"bankrupted!\")\n",
    "        break"
   ]
  },
  {
   "cell_type": "code",
   "execution_count": null,
   "metadata": {},
   "outputs": [],
   "source": [
    "# try:\n",
    "#     os.remove(f\"{folder_path}/networth_a2c.csv\")\n",
    "# except OSError:\n",
    "#     pass\n",
    "\n",
    "# env = PairTradingEnv(test0, test1, tc=0.00, model=f\"{folder_path}/networth_a2c.csv\")\n",
    "# obs, _ = env.reset()\n",
    "\n",
    "# while True:\n",
    "#     action, _states = model_a2c.predict(obs)\n",
    "#     observation, reward, terminated, truncated, info = env.step(action)\n",
    "#     done = terminated or truncated\n",
    "#     env.render()\n",
    "#     if terminated:\n",
    "#         print(\"Test Finished!\")\n",
    "#         break\n",
    "#     elif truncated:\n",
    "#         print(\"bankrupted!\")\n",
    "#         break"
   ]
  },
  {
   "cell_type": "code",
   "execution_count": null,
   "metadata": {},
   "outputs": [],
   "source": [
    "# try:\n",
    "#     os.remove(f\"{folder_path}/networth_dqn.csv\")\n",
    "# except OSError:\n",
    "#     pass\n",
    "\n",
    "# env = PairTradingEnv(test0, test1, tc=0.00, verbose=0, model=f\"{folder_path}/networth_dqn.csv\")\n",
    "# obs, _ = env.reset()\n",
    "\n",
    "# while True:\n",
    "#     action, _states = model_dqn.predict(obs)\n",
    "#     observation, reward, terminated, truncated, info = env.step(action)\n",
    "#     done = terminated or truncated\n",
    "#     env.render()\n",
    "#     if terminated:\n",
    "#         print(\"Test Finished!\")\n",
    "#         break\n",
    "#     elif truncated:\n",
    "#         print(\"bankrupted!\")\n",
    "#         break"
   ]
  },
  {
   "cell_type": "markdown",
   "metadata": {},
   "source": [
    "### Analyze with Quanstats"
   ]
  },
  {
   "cell_type": "code",
   "execution_count": null,
   "metadata": {},
   "outputs": [],
   "source": [
    "os.remove(f\"{folder_path}/networth_experiment.csv\") if os.path.exists(f\"{folder_path}/networth_experiment.csv\") else None\n",
    "\n",
    "csv_files = [file for file in os.listdir(folder_path) if file.endswith('.csv')]\n",
    "\n",
    "best_res, best_model = None, None\n",
    "for file_name in csv_files:\n",
    "    file_path = os.path.join(folder_path, file_name)\n",
    "    \n",
    "    with open(file_path, 'r') as csv_file:\n",
    "        csv_reader = csv.reader(csv_file)\n",
    "        \n",
    "        # Loop through the lines in the CSV file\n",
    "        last_line = None\n",
    "        for row in csv_reader:\n",
    "            last_line = row  # Update last_line with the current row\n",
    "    \n",
    "    if best_res is None or float(best_res) < float(last_line[1]):\n",
    "        best_res = last_line[1]\n",
    "        best_model = file_name\n",
    "\n",
    "    print(f\"The ending capital of {file_name} is {last_line[0:2]}\")\n",
    "\n",
    "print(f\"The best model is {best_model}\")"
   ]
  },
  {
   "cell_type": "code",
   "execution_count": null,
   "metadata": {},
   "outputs": [],
   "source": [
    "best_return = get_return(f'{folder_path}/{best_model}')\n",
    "get_metrics(best_return)\n",
    "\n",
    "len(best_return)"
   ]
  },
  {
   "cell_type": "markdown",
   "metadata": {},
   "source": [
    "# Some graphs"
   ]
  },
  {
   "cell_type": "code",
   "execution_count": null,
   "metadata": {},
   "outputs": [],
   "source": [
    "fig, ax = plt.subplots()\n",
    "\n",
    "ax.set_title(\"Profit and Loss\")\n",
    "ax.plot(best_return['pnl'])\n",
    "\n",
    "plt.show()"
   ]
  },
  {
   "cell_type": "code",
   "execution_count": null,
   "metadata": {},
   "outputs": [],
   "source": [
    "# fig, (ax1, ax2) = plt.subplots(2, 1)\n",
    "\n",
    "# ax1.plot(best_return['return'])"
   ]
  },
  {
   "cell_type": "code",
   "execution_count": null,
   "metadata": {},
   "outputs": [],
   "source": [
    "qs.reports.full(best_return['returns'])"
   ]
  },
  {
   "cell_type": "code",
   "execution_count": null,
   "metadata": {},
   "outputs": [],
   "source": []
  }
 ],
 "metadata": {
  "kernelspec": {
   "display_name": "Python 3 (ipykernel)",
   "language": "python",
   "name": "python3"
  },
  "language_info": {
   "codemirror_mode": {
    "name": "ipython",
    "version": 3
   },
   "file_extension": ".py",
   "mimetype": "text/x-python",
   "name": "python",
   "nbconvert_exporter": "python",
   "pygments_lexer": "ipython3",
   "version": "3.8.18"
  }
 },
 "nbformat": 4,
 "nbformat_minor": 4
}

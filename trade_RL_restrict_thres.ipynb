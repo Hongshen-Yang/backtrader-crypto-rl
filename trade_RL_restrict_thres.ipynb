{
 "cells": [
  {
   "cell_type": "markdown",
   "metadata": {},
   "source": [
    "# Construct a custom Environment for Pair Trading\n",
    "\n",
    "Some examples on the market\n",
    "* [custom env example](https://colab.research.google.com/github/araffin/rl-tutorial-jnrr19/blob/sb3/5_custom_gym_env.ipynb#scrollTo=RqxatIwPOXe_)\n",
    "* [StockTradingEnv by Adam King](https://github.com/notadamking/Stock-Trading-Environment)\n",
    "* [FinRL](https://github.com/AI4Finance-Foundation/FinRL)\n",
    "\n",
    "Target is to construct a custom Env for pair trading\n",
    "\n",
    "This env restrict the behaviour of RL learner to pair trading only"
   ]
  },
  {
   "cell_type": "code",
   "execution_count": 1,
   "metadata": {},
   "outputs": [],
   "source": [
    "import warnings\n",
    "warnings.filterwarnings('ignore')\n",
    "\n",
    "import os, csv, shutil\n",
    "import numpy as np\n",
    "import pandas as pd\n",
    "import statsmodels.api as sm\n",
    "import matplotlib.pyplot as plt\n",
    "\n",
    "from datetime import date\n",
    "from envs.env_gridsearch import kellycriterion\n",
    "from sklearn.model_selection import train_test_split\n",
    "from stable_baselines3.common.vec_env import DummyVecEnv\n",
    "from utils.read2df import read2df, unify_dfs\n",
    "from utils.rlmetrics import get_return, get_metrics\n",
    "from utils.clearlogs import clear_logs\n",
    "from envs.env_rl_restrict import PairTradingEnv\n",
    "from params import *\n",
    "\n",
    "from stable_baselines3 import PPO, A2C, DQN\n",
    "import quantstats as qs\n",
    "\n",
    "folder_path = f\"result/rl-restrict-thres\"\n",
    "os.makedirs(folder_path, exist_ok=True)"
   ]
  },
  {
   "cell_type": "markdown",
   "metadata": {},
   "source": [
    "Load data from `preliminaries.ipynb`"
   ]
  },
  {
   "cell_type": "code",
   "execution_count": 2,
   "metadata": {},
   "outputs": [],
   "source": [
    "import pickle\n",
    "\n",
    "with open('result/cointncorr.pickle', 'rb') as pk:\n",
    "    data = pickle.load(pk)\n",
    "\n",
    "bestres_pickle = 'result/gridsearch/best_res.pickle'\n",
    "if os.path.exists(bestres_pickle):\n",
    "    with open(bestres_pickle, 'rb') as pk:\n",
    "        best_profit, best_params = pickle.load(pk)\n",
    "else:\n",
    "    print(\"pickle is not found, please execute `trade_gridsearch.ipynb` first\")\n",
    "\n",
    "dfs = read2df(symbols=data[0], freqs={data[1]: freqs[data[1]]})"
   ]
  },
  {
   "cell_type": "code",
   "execution_count": 3,
   "metadata": {},
   "outputs": [],
   "source": [
    "df = unify_dfs(dfs, symbols=data[0], period=best_params['period'])"
   ]
  },
  {
   "cell_type": "code",
   "execution_count": 5,
   "metadata": {},
   "outputs": [
    {
     "data": {
      "text/html": [
       "<div>\n",
       "<style scoped>\n",
       "    .dataframe tbody tr th:only-of-type {\n",
       "        vertical-align: middle;\n",
       "    }\n",
       "\n",
       "    .dataframe tbody tr th {\n",
       "        vertical-align: top;\n",
       "    }\n",
       "\n",
       "    .dataframe thead th {\n",
       "        text-align: right;\n",
       "    }\n",
       "</style>\n",
       "<table border=\"1\" class=\"dataframe\">\n",
       "  <thead>\n",
       "    <tr style=\"text-align: right;\">\n",
       "      <th></th>\n",
       "      <th>time</th>\n",
       "      <th>close_ETHEUR</th>\n",
       "      <th>itvl</th>\n",
       "      <th>datetime</th>\n",
       "      <th>close_ETHGBP</th>\n",
       "      <th>spread</th>\n",
       "      <th>zscore</th>\n",
       "    </tr>\n",
       "  </thead>\n",
       "  <tbody>\n",
       "    <tr>\n",
       "      <th>0</th>\n",
       "      <td>1592560859999</td>\n",
       "      <td>0.004827</td>\n",
       "      <td>1m</td>\n",
       "      <td>2020-06-19 10:00:59.999</td>\n",
       "      <td>0.005422</td>\n",
       "      <td>-0.000594</td>\n",
       "      <td>0.000000</td>\n",
       "    </tr>\n",
       "    <tr>\n",
       "      <th>1</th>\n",
       "      <td>1592560919999</td>\n",
       "      <td>0.004827</td>\n",
       "      <td>1m</td>\n",
       "      <td>2020-06-19 10:01:59.999</td>\n",
       "      <td>0.005412</td>\n",
       "      <td>-0.000584</td>\n",
       "      <td>0.000000</td>\n",
       "    </tr>\n",
       "    <tr>\n",
       "      <th>2</th>\n",
       "      <td>1592560979999</td>\n",
       "      <td>0.004827</td>\n",
       "      <td>1m</td>\n",
       "      <td>2020-06-19 10:02:59.999</td>\n",
       "      <td>0.005412</td>\n",
       "      <td>-0.000584</td>\n",
       "      <td>0.000000</td>\n",
       "    </tr>\n",
       "    <tr>\n",
       "      <th>3</th>\n",
       "      <td>1592561039999</td>\n",
       "      <td>0.004854</td>\n",
       "      <td>1m</td>\n",
       "      <td>2020-06-19 10:03:59.999</td>\n",
       "      <td>0.005412</td>\n",
       "      <td>-0.000557</td>\n",
       "      <td>0.000000</td>\n",
       "    </tr>\n",
       "    <tr>\n",
       "      <th>4</th>\n",
       "      <td>1592561099999</td>\n",
       "      <td>0.004854</td>\n",
       "      <td>1m</td>\n",
       "      <td>2020-06-19 10:04:59.999</td>\n",
       "      <td>0.005412</td>\n",
       "      <td>-0.000557</td>\n",
       "      <td>0.000000</td>\n",
       "    </tr>\n",
       "    <tr>\n",
       "      <th>...</th>\n",
       "      <td>...</td>\n",
       "      <td>...</td>\n",
       "      <td>...</td>\n",
       "      <td>...</td>\n",
       "      <td>...</td>\n",
       "      <td>...</td>\n",
       "      <td>...</td>\n",
       "    </tr>\n",
       "    <tr>\n",
       "      <th>1812156</th>\n",
       "      <td>1701388559999</td>\n",
       "      <td>0.000530</td>\n",
       "      <td>1m</td>\n",
       "      <td>2023-11-30 23:55:59.999</td>\n",
       "      <td>0.000615</td>\n",
       "      <td>-0.000084</td>\n",
       "      <td>-0.628750</td>\n",
       "    </tr>\n",
       "    <tr>\n",
       "      <th>1812157</th>\n",
       "      <td>1701388619999</td>\n",
       "      <td>0.000530</td>\n",
       "      <td>1m</td>\n",
       "      <td>2023-11-30 23:56:59.999</td>\n",
       "      <td>0.000615</td>\n",
       "      <td>-0.000084</td>\n",
       "      <td>-0.603341</td>\n",
       "    </tr>\n",
       "    <tr>\n",
       "      <th>1812158</th>\n",
       "      <td>1701388679999</td>\n",
       "      <td>0.000530</td>\n",
       "      <td>1m</td>\n",
       "      <td>2023-11-30 23:57:59.999</td>\n",
       "      <td>0.000615</td>\n",
       "      <td>-0.000084</td>\n",
       "      <td>-0.623742</td>\n",
       "    </tr>\n",
       "    <tr>\n",
       "      <th>1812159</th>\n",
       "      <td>1701388739999</td>\n",
       "      <td>0.000530</td>\n",
       "      <td>1m</td>\n",
       "      <td>2023-11-30 23:58:59.999</td>\n",
       "      <td>0.000615</td>\n",
       "      <td>-0.000084</td>\n",
       "      <td>-0.613500</td>\n",
       "    </tr>\n",
       "    <tr>\n",
       "      <th>1812160</th>\n",
       "      <td>1701388799999</td>\n",
       "      <td>0.000530</td>\n",
       "      <td>1m</td>\n",
       "      <td>2023-11-30 23:59:59.999</td>\n",
       "      <td>0.000615</td>\n",
       "      <td>-0.000084</td>\n",
       "      <td>-0.555104</td>\n",
       "    </tr>\n",
       "  </tbody>\n",
       "</table>\n",
       "<p>1812161 rows × 7 columns</p>\n",
       "</div>"
      ],
      "text/plain": [
       "                  time  close_ETHEUR itvl                datetime  \\\n",
       "0        1592560859999      0.004827   1m 2020-06-19 10:00:59.999   \n",
       "1        1592560919999      0.004827   1m 2020-06-19 10:01:59.999   \n",
       "2        1592560979999      0.004827   1m 2020-06-19 10:02:59.999   \n",
       "3        1592561039999      0.004854   1m 2020-06-19 10:03:59.999   \n",
       "4        1592561099999      0.004854   1m 2020-06-19 10:04:59.999   \n",
       "...                ...           ...  ...                     ...   \n",
       "1812156  1701388559999      0.000530   1m 2023-11-30 23:55:59.999   \n",
       "1812157  1701388619999      0.000530   1m 2023-11-30 23:56:59.999   \n",
       "1812158  1701388679999      0.000530   1m 2023-11-30 23:57:59.999   \n",
       "1812159  1701388739999      0.000530   1m 2023-11-30 23:58:59.999   \n",
       "1812160  1701388799999      0.000530   1m 2023-11-30 23:59:59.999   \n",
       "\n",
       "         close_ETHGBP    spread    zscore  \n",
       "0            0.005422 -0.000594  0.000000  \n",
       "1            0.005412 -0.000584  0.000000  \n",
       "2            0.005412 -0.000584  0.000000  \n",
       "3            0.005412 -0.000557  0.000000  \n",
       "4            0.005412 -0.000557  0.000000  \n",
       "...               ...       ...       ...  \n",
       "1812156      0.000615 -0.000084 -0.628750  \n",
       "1812157      0.000615 -0.000084 -0.603341  \n",
       "1812158      0.000615 -0.000084 -0.623742  \n",
       "1812159      0.000615 -0.000084 -0.613500  \n",
       "1812160      0.000615 -0.000084 -0.555104  \n",
       "\n",
       "[1812161 rows x 7 columns]"
      ]
     },
     "execution_count": 5,
     "metadata": {},
     "output_type": "execute_result"
    }
   ],
   "source": [
    "df"
   ]
  },
  {
   "cell_type": "code",
   "execution_count": null,
   "metadata": {},
   "outputs": [],
   "source": [
    "df0 = dfs[0][dfs[0]['tic']==data[0][0]].reset_index(drop=True)\n",
    "df1 = dfs[0][dfs[0]['tic']==data[0][1]].reset_index(drop=True)\n",
    "\n",
    "# Because we want to calculate profit based on BTC. Hence the price need to be changed.\n",
    "df0 = df0[['time', 'close', 'volume', 'tic', 'itvl', 'datetime']]\n",
    "df0['close'] = df0['close'].apply(lambda x: 1/x)\n",
    "\n",
    "df1 = df1[['time', 'close', 'volume', 'tic', 'itvl', 'datetime']]\n",
    "df1['close'] = df1['close'].apply(lambda x: 1/x)"
   ]
  },
  {
   "cell_type": "markdown",
   "metadata": {},
   "source": [
    "Set data before `trade_data` as training data, after `trade_data` is trade_data"
   ]
  },
  {
   "cell_type": "code",
   "execution_count": null,
   "metadata": {},
   "outputs": [],
   "source": [
    "train0 = df0[df0['datetime'] < trade_date]\n",
    "train1 = df1[df1['datetime'] < trade_date]\n",
    "\n",
    "test0 = df0[df0['datetime'] >= trade_date]\n",
    "test1 = df1[df1['datetime'] >= trade_date]\n",
    "\n",
    "max_train_len = len(train0)-best_params['period']-1\n",
    "print(f\"The length of our training data: {len(train0)}\")"
   ]
  },
  {
   "cell_type": "markdown",
   "metadata": {},
   "source": [
    "## Check with baselin3 `env_checker`\n",
    "\n",
    "Check if the env meets the requirements of `stable_baseline3`"
   ]
  },
  {
   "cell_type": "code",
   "execution_count": null,
   "metadata": {},
   "outputs": [],
   "source": [
    "from stable_baselines3.common.env_checker import check_env\n",
    "# > UserWarning: The action space is not based off a numpy array. Typically this means it's either a Dict or Tuple space. This type of action space is currently not supported by Stable Baselines 3. You should try to flatten the action using a wrapper.\n",
    "# Baseline 3 does not support Dict/Tuple action spaces....only Box Discrete MultiDiscrete MultiBinary\n",
    "# Is there another way to achieve the same functionality?\n",
    "\n",
    "env = PairTradingEnv(train0, train1)\n",
    "check_env(env)"
   ]
  },
  {
   "cell_type": "markdown",
   "metadata": {},
   "source": [
    "## Do an experimental run with randomly generated actions"
   ]
  },
  {
   "cell_type": "code",
   "execution_count": null,
   "metadata": {},
   "outputs": [],
   "source": [
    "# env = PairTradingEnv(train0, train1, tc=0.002, verbose=1, model=f\"{folder_path}/networth_experiment.csv\")\n",
    "# obs, _ = env.reset()\n",
    "\n",
    "# print(f\"observation_space: {env.observation_space}\")\n",
    "# print(f\"action_space: {env.action_space}\")\n",
    "# print(f\"action_space.sample: {env.action_space.sample()}\")\n",
    "\n",
    "# n_steps = 20\n",
    "\n",
    "# for step in range(n_steps):\n",
    "#     obs, reward, terminated, truncated, info = env.step(action=env.action_space.sample())\n",
    "#     done = terminated or truncated\n",
    "#     env.render()\n",
    "#     if done:\n",
    "#         break"
   ]
  },
  {
   "cell_type": "markdown",
   "metadata": {},
   "source": [
    "## Models from stable_baselines3"
   ]
  },
  {
   "cell_type": "markdown",
   "metadata": {},
   "source": [
    "Delete existing tensorboard logs"
   ]
  },
  {
   "cell_type": "code",
   "execution_count": null,
   "metadata": {},
   "outputs": [],
   "source": [
    "log_path = f\"logs/restrict_thres/\"\n",
    "clear_logs(log_path)\n",
    "\n",
    "# Read more about tensorboard\n",
    "# https://github.com/tensorflow/tensorboard/blob/master/README.md\n",
    "# https://www.tensorflow.org/tensorboard/get_started"
   ]
  },
  {
   "cell_type": "markdown",
   "metadata": {},
   "source": [
    "Train with training data"
   ]
  },
  {
   "cell_type": "code",
   "execution_count": null,
   "metadata": {},
   "outputs": [],
   "source": [
    "'''PPO'''\n",
    "\n",
    "env = PairTradingEnv(train0, train1, tc=0.00, model=f\"{folder_path}/networth_ppo.csv\")\n",
    "\n",
    "model_ppo = PPO(\"MultiInputPolicy\", env, verbose=0, gamma=1, batch_size =3000, learning_rate=0.003, tensorboard_log=log_path)\n",
    "model_ppo.learn(total_timesteps=max_train_len/20)\n",
    "model_ppo.save(f\"{folder_path}/ppo_pairtrading\")"
   ]
  },
  {
   "cell_type": "code",
   "execution_count": null,
   "metadata": {},
   "outputs": [],
   "source": [
    "# '''A2C'''\n",
    "\n",
    "# env = PairTradingEnv(train0, train1, tc=0.00, model=f\"{folder_path}/networth_a2c.csv\")\n",
    "\n",
    "# model_a2c = A2C(\"MultiInputPolicy\", env, verbose=0, gamma=1, tensorboard_log=log_path)\n",
    "# model_a2c.learn(total_timesteps=max_train_len/10)\n",
    "# model_a2c.save(f\"{folder_path}/a2c_pairtrading\")"
   ]
  },
  {
   "cell_type": "code",
   "execution_count": null,
   "metadata": {},
   "outputs": [],
   "source": [
    "# '''DQN'''\n",
    "\n",
    "# env = PairTradingEnv(train0, train1, tc=0.00, model=f\"{folder_path}/networth_dqn.csv\")\n",
    "\n",
    "# model_dqn = DQN(\"MultiInputPolicy\", env, verbose=0, gamma=1, tensorboard_log=log_path)\n",
    "# model_dqn.learn(total_timesteps=max_train_len/10)\n",
    "# model_dqn.save(f\"{folder_path}/dqn_pairtrading\")"
   ]
  },
  {
   "cell_type": "markdown",
   "metadata": {},
   "source": [
    "## Use the model on Test data"
   ]
  },
  {
   "cell_type": "code",
   "execution_count": null,
   "metadata": {},
   "outputs": [],
   "source": [
    "# # del model_ppo, model_a2c, model_dqn\n",
    "\n",
    "# model_ppo = PPO.load(f\"{folder_path}/ppo_pairtrading\")\n",
    "# model_a2c = A2C.load(f\"{folder_path}/a2c_pairtrading\")\n",
    "# model_dqn = DQN.load(f\"{folder_path}/dqn_pairtrading\")"
   ]
  },
  {
   "cell_type": "code",
   "execution_count": null,
   "metadata": {},
   "outputs": [],
   "source": [
    "try:\n",
    "    os.remove(f\"{folder_path}/networth_ppo.csv\")\n",
    "except OSError:\n",
    "    pass\n",
    "\n",
    "env = PairTradingEnv(test0, test1, tc=0.00, verbose=1, model=f\"{folder_path}/networth_ppo.csv\")\n",
    "obs, _ = env.reset()\n",
    "\n",
    "while True:\n",
    "    action, _states = model_ppo.predict(obs)\n",
    "    observation, reward, terminated, truncated, info = env.step(action)\n",
    "    done = terminated or truncated\n",
    "    env.render()\n",
    "    if terminated:\n",
    "        print(\"Test Finished!\")\n",
    "        break\n",
    "    elif truncated:\n",
    "        print(\"bankrupted!\")\n",
    "        break"
   ]
  },
  {
   "cell_type": "code",
   "execution_count": null,
   "metadata": {},
   "outputs": [],
   "source": [
    "# try:\n",
    "#     os.remove(f\"{folder_path}/networth_a2c.csv\")\n",
    "# except OSError:\n",
    "#     pass\n",
    "\n",
    "# env = PairTradingEnv(test0, test1, tc=0.00, model=f\"{folder_path}/networth_a2c.csv\")\n",
    "# obs, _ = env.reset()\n",
    "\n",
    "# while True:\n",
    "#     action, _states = model_a2c.predict(obs)\n",
    "#     observation, reward, terminated, truncated, info = env.step(action)\n",
    "#     done = terminated or truncated\n",
    "#     env.render()\n",
    "#     if terminated:\n",
    "#         print(\"Test Finished!\")\n",
    "#         break\n",
    "#     elif truncated:\n",
    "#         print(\"bankrupted!\")\n",
    "#         break"
   ]
  },
  {
   "cell_type": "code",
   "execution_count": null,
   "metadata": {},
   "outputs": [],
   "source": [
    "# try:\n",
    "#     os.remove(f\"{folder_path}/networth_dqn.csv\")\n",
    "# except OSError:\n",
    "#     pass\n",
    "\n",
    "# env = PairTradingEnv(test0, test1, tc=0.00, verbose=0, model=f\"{folder_path}/networth_dqn.csv\")\n",
    "# obs, _ = env.reset()\n",
    "\n",
    "# while True:\n",
    "#     action, _states = model_dqn.predict(obs)\n",
    "#     observation, reward, terminated, truncated, info = env.step(action)\n",
    "#     done = terminated or truncated\n",
    "#     env.render()\n",
    "#     if terminated:\n",
    "#         print(\"Test Finished!\")\n",
    "#         break\n",
    "#     elif truncated:\n",
    "#         print(\"bankrupted!\")\n",
    "#         break"
   ]
  },
  {
   "cell_type": "markdown",
   "metadata": {},
   "source": [
    "### Analyze with Quanstats"
   ]
  },
  {
   "cell_type": "code",
   "execution_count": null,
   "metadata": {},
   "outputs": [],
   "source": [
    "os.remove(f\"{folder_path}/networth_experiment.csv\") if os.path.exists(f\"{folder_path}/networth_experiment.csv\") else None\n",
    "\n",
    "csv_files = [file for file in os.listdir(folder_path) if file.endswith('.csv')]\n",
    "\n",
    "best_res, best_model = None, None\n",
    "for file_name in csv_files:\n",
    "    file_path = os.path.join(folder_path, file_name)\n",
    "    \n",
    "    with open(file_path, 'r') as csv_file:\n",
    "        csv_reader = csv.reader(csv_file)\n",
    "        \n",
    "        # Loop through the lines in the CSV file\n",
    "        last_line = None\n",
    "        for row in csv_reader:\n",
    "            last_line = row  # Update last_line with the current row\n",
    "    \n",
    "    if best_res is None or float(best_res) < float(last_line[1]):\n",
    "        best_res = last_line[1]\n",
    "        best_model = file_name\n",
    "\n",
    "    print(f\"The ending capital of {file_name} is {last_line[0:2]}\")\n",
    "\n",
    "print(f\"The best model is {best_model}\")"
   ]
  },
  {
   "cell_type": "code",
   "execution_count": null,
   "metadata": {},
   "outputs": [],
   "source": [
    "best_return = get_return(f'{folder_path}/{best_model}')\n",
    "get_metrics(best_return)\n",
    "\n",
    "len(best_return)"
   ]
  },
  {
   "cell_type": "markdown",
   "metadata": {},
   "source": [
    "# Some graphs"
   ]
  },
  {
   "cell_type": "code",
   "execution_count": null,
   "metadata": {},
   "outputs": [],
   "source": [
    "fig, ax = plt.subplots()\n",
    "\n",
    "ax.set_title(\"Profit and Loss\")\n",
    "ax.plot(best_return['pnl'])\n",
    "\n",
    "plt.show()"
   ]
  },
  {
   "cell_type": "code",
   "execution_count": null,
   "metadata": {},
   "outputs": [],
   "source": [
    "# fig, (ax1, ax2) = plt.subplots(2, 1)\n",
    "\n",
    "# ax1.plot(best_return['return'])"
   ]
  },
  {
   "cell_type": "code",
   "execution_count": null,
   "metadata": {},
   "outputs": [],
   "source": [
    "qs.reports.full(best_return['returns'])"
   ]
  },
  {
   "cell_type": "code",
   "execution_count": null,
   "metadata": {},
   "outputs": [],
   "source": []
  }
 ],
 "metadata": {
  "kernelspec": {
   "display_name": "Python 3 (ipykernel)",
   "language": "python",
   "name": "python3"
  },
  "language_info": {
   "codemirror_mode": {
    "name": "ipython",
    "version": 3
   },
   "file_extension": ".py",
   "mimetype": "text/x-python",
   "name": "python",
   "nbconvert_exporter": "python",
   "pygments_lexer": "ipython3",
   "version": "3.8.18"
  }
 },
 "nbformat": 4,
 "nbformat_minor": 4
}

{
 "cells": [
  {
   "cell_type": "markdown",
   "metadata": {},
   "source": [
    "# Construct a custom Environment for Pair Trading\n",
    "\n",
    "Some examples on the market\n",
    "* [custom env example](https://colab.research.google.com/github/araffin/rl-tutorial-jnrr19/blob/sb3/5_custom_gym_env.ipynb#scrollTo=RqxatIwPOXe_)\n",
    "* [StockTradingEnv by Adam King](https://github.com/notadamking/Stock-Trading-Environment)\n",
    "* [FinRL](https://github.com/AI4Finance-Foundation/FinRL)\n",
    "\n",
    "Target is to construct a custom Env for pair trading\n",
    "\n",
    "This env restrict the behaviour of RL learner to pair trading only\n",
    "The env enables the agent to freely bet on trading quantity.\n",
    "Also, Technical Indicators from TA-lib is also provided to RL"
   ]
  },
  {
   "cell_type": "markdown",
   "metadata": {},
   "source": [
    "## Import the Custom Trading Env"
   ]
  },
  {
   "cell_type": "code",
   "execution_count": 1,
   "metadata": {},
   "outputs": [],
   "source": [
    "import os\n",
    "import csv\n",
    "import pickle\n",
    "import pandas as pd\n",
    "import quantstats as qs\n",
    "import matplotlib.pyplot as plt\n",
    "from tqdm import trange\n",
    "from stable_baselines3 import PPO, A2C, DDPG, SAC, TD3\n",
    "\n",
    "from params import *\n",
    "from utils.read2df import read2df, unify_dfs\n",
    "from utils.clearlogs import clear_logs\n",
    "from utils.rlmetrics import get_return, get_metrics\n",
    "from envs.env_rl_restrict_thres import RL_RestrictFreeAmt_TradeEnv\n",
    "\n",
    "folder_path = f\"result/rl-restrict-thres-freeamt\"\n",
    "os.makedirs(folder_path, exist_ok=True)"
   ]
  },
  {
   "cell_type": "markdown",
   "metadata": {},
   "source": [
    "## Prepare Trading Data\n",
    "Load data from `preliminaries.ipynb`"
   ]
  },
  {
   "cell_type": "code",
   "execution_count": 2,
   "metadata": {},
   "outputs": [],
   "source": [
    "with open('result/cointncorr.pickle', 'rb') as pk:\n",
    "    cointncorr = pickle.load(pk)\n",
    "\n",
    "with open('result/gridsearch/best_res.pickle', 'rb') as pk:\n",
    "    best_profit, best_params = pickle.load(pk)\n",
    "\n",
    "dfs = read2df(symbols=cointncorr[0], freqs={cointncorr[1]: freqs[cointncorr[1]]}, marketType='spot')\n",
    "tics, df = unify_dfs(dfs, symbols=cointncorr[0], period=best_params['period'], TI=True)"
   ]
  },
  {
   "cell_type": "code",
   "execution_count": 10,
   "metadata": {},
   "outputs": [],
   "source": [
    "import talib\n",
    "from talib.abstract import *\n",
    "# Choose one indicator on each Indicator Groups\n",
    "\n",
    "## Overlap Studies: BBANDS Bollinger Bands\n",
    "## Momentum Indicators: ADX - Average Directional Movement Index\n",
    "## Volume Indicators: AD Chaikin A/D Line\n",
    "## Volatility Indicators: ATR Average True Range\n",
    "## Cycle Indicators: HT_DCPERIOD Hilbert Transform - Dominant Cycle Period\n",
    "\n",
    "df['upperband0'], df['middleband0'], df['lowerband0'] = BBANDS(df['close0'], timeperiod=best_params['period'])\n",
    "df['upperband1'], df['middleband1'], df['lowerband1'] = BBANDS(df['close1'], timeperiod=best_params['period'])\n",
    "df['adx0'] = ADX(df['high0'], df['low0'], df['close0'], timeperiod=best_params['period'])\n",
    "df['adx1'] = ADX(df['high1'], df['low1'], df['close1'], timeperiod=best_params['period'])\n",
    "df['ad0'] = AD(df['high0'], df['low0'], df['close0'], df['volume0'])\n",
    "df['ad1'] = AD(df['high1'], df['low1'], df['close1'], df['volume1'])\n",
    "df['atr0'] = ATR(df['high0'], df['low0'], df['close0'], timeperiod=best_params['period'])\n",
    "df['atr1'] = ATR(df['high1'], df['low1'], df['close1'], timeperiod=best_params['period'])\n",
    "df['ht_dcperiod0'] = HT_DCPERIOD(df['close0'])\n",
    "df['ht_dcperiod1'] = HT_DCPERIOD(df['close1'])\n",
    "\n",
    "df.dropna(inplace=True)"
   ]
  },
  {
   "cell_type": "code",
   "execution_count": 15,
   "metadata": {},
   "outputs": [
    {
     "data": {
      "text/html": [
       "<div>\n",
       "<style scoped>\n",
       "    .dataframe tbody tr th:only-of-type {\n",
       "        vertical-align: middle;\n",
       "    }\n",
       "\n",
       "    .dataframe tbody tr th {\n",
       "        vertical-align: top;\n",
       "    }\n",
       "\n",
       "    .dataframe thead th {\n",
       "        text-align: right;\n",
       "    }\n",
       "</style>\n",
       "<table border=\"1\" class=\"dataframe\">\n",
       "  <thead>\n",
       "    <tr style=\"text-align: right;\">\n",
       "      <th></th>\n",
       "      <th>time</th>\n",
       "      <th>high0</th>\n",
       "      <th>low0</th>\n",
       "      <th>volume0</th>\n",
       "      <th>close0</th>\n",
       "      <th>itvl</th>\n",
       "      <th>datetime</th>\n",
       "      <th>high1</th>\n",
       "      <th>low1</th>\n",
       "      <th>volume1</th>\n",
       "      <th>...</th>\n",
       "      <th>middleband1</th>\n",
       "      <th>lowerband1</th>\n",
       "      <th>adx0</th>\n",
       "      <th>adx1</th>\n",
       "      <th>ad0</th>\n",
       "      <th>ad1</th>\n",
       "      <th>atr0</th>\n",
       "      <th>atr1</th>\n",
       "      <th>ht_dcperiod0</th>\n",
       "      <th>ht_dcperiod1</th>\n",
       "    </tr>\n",
       "  </thead>\n",
       "  <tbody>\n",
       "    <tr>\n",
       "      <th>39</th>\n",
       "      <td>1672533599999</td>\n",
       "      <td>15410.22</td>\n",
       "      <td>15402.20</td>\n",
       "      <td>0.91172</td>\n",
       "      <td>0.000065</td>\n",
       "      <td>1m</td>\n",
       "      <td>2023-01-01 00:39:59.999</td>\n",
       "      <td>13661.40</td>\n",
       "      <td>13660.44</td>\n",
       "      <td>0.07082</td>\n",
       "      <td>...</td>\n",
       "      <td>0.000073</td>\n",
       "      <td>0.000073</td>\n",
       "      <td>16.330117</td>\n",
       "      <td>21.686687</td>\n",
       "      <td>-164131.448986</td>\n",
       "      <td>-21846.064160</td>\n",
       "      <td>15417.744567</td>\n",
       "      <td>13666.779168</td>\n",
       "      <td>25.685034</td>\n",
       "      <td>25.710022</td>\n",
       "    </tr>\n",
       "    <tr>\n",
       "      <th>40</th>\n",
       "      <td>1672533659999</td>\n",
       "      <td>15409.05</td>\n",
       "      <td>15403.39</td>\n",
       "      <td>0.15660</td>\n",
       "      <td>0.000065</td>\n",
       "      <td>1m</td>\n",
       "      <td>2023-01-01 00:40:59.999</td>\n",
       "      <td>13659.01</td>\n",
       "      <td>13658.96</td>\n",
       "      <td>0.01594</td>\n",
       "      <td>...</td>\n",
       "      <td>0.000073</td>\n",
       "      <td>0.000073</td>\n",
       "      <td>16.843377</td>\n",
       "      <td>22.167316</td>\n",
       "      <td>-164983.962782</td>\n",
       "      <td>-30555.032949</td>\n",
       "      <td>15417.309835</td>\n",
       "      <td>13666.390706</td>\n",
       "      <td>26.568471</td>\n",
       "      <td>26.596556</td>\n",
       "    </tr>\n",
       "    <tr>\n",
       "      <th>41</th>\n",
       "      <td>1672533719999</td>\n",
       "      <td>15407.42</td>\n",
       "      <td>15397.19</td>\n",
       "      <td>1.26157</td>\n",
       "      <td>0.000065</td>\n",
       "      <td>1m</td>\n",
       "      <td>2023-01-01 00:41:59.999</td>\n",
       "      <td>13656.01</td>\n",
       "      <td>13655.43</td>\n",
       "      <td>0.48026</td>\n",
       "      <td>...</td>\n",
       "      <td>0.000073</td>\n",
       "      <td>0.000073</td>\n",
       "      <td>17.757095</td>\n",
       "      <td>22.895158</td>\n",
       "      <td>-168782.806543</td>\n",
       "      <td>-53169.846922</td>\n",
       "      <td>15416.815340</td>\n",
       "      <td>13665.871667</td>\n",
       "      <td>27.316431</td>\n",
       "      <td>27.344156</td>\n",
       "    </tr>\n",
       "    <tr>\n",
       "      <th>42</th>\n",
       "      <td>1672533779999</td>\n",
       "      <td>15399.01</td>\n",
       "      <td>15397.27</td>\n",
       "      <td>0.20591</td>\n",
       "      <td>0.000065</td>\n",
       "      <td>1m</td>\n",
       "      <td>2023-01-01 00:42:59.999</td>\n",
       "      <td>13656.01</td>\n",
       "      <td>13656.01</td>\n",
       "      <td>0.00000</td>\n",
       "      <td>...</td>\n",
       "      <td>0.000073</td>\n",
       "      <td>0.000073</td>\n",
       "      <td>18.625127</td>\n",
       "      <td>23.586608</td>\n",
       "      <td>-172427.209984</td>\n",
       "      <td>-53169.846922</td>\n",
       "      <td>15415.925070</td>\n",
       "      <td>13665.378580</td>\n",
       "      <td>27.947131</td>\n",
       "      <td>27.970556</td>\n",
       "    </tr>\n",
       "    <tr>\n",
       "      <th>43</th>\n",
       "      <td>1672533839999</td>\n",
       "      <td>15400.23</td>\n",
       "      <td>15396.89</td>\n",
       "      <td>0.26236</td>\n",
       "      <td>0.000065</td>\n",
       "      <td>1m</td>\n",
       "      <td>2023-01-01 00:43:59.999</td>\n",
       "      <td>13656.01</td>\n",
       "      <td>13656.01</td>\n",
       "      <td>0.00000</td>\n",
       "      <td>...</td>\n",
       "      <td>0.000073</td>\n",
       "      <td>0.000073</td>\n",
       "      <td>19.282962</td>\n",
       "      <td>24.243485</td>\n",
       "      <td>-174846.351412</td>\n",
       "      <td>-53169.846922</td>\n",
       "      <td>15415.140313</td>\n",
       "      <td>13664.910147</td>\n",
       "      <td>28.476346</td>\n",
       "      <td>28.494015</td>\n",
       "    </tr>\n",
       "  </tbody>\n",
       "</table>\n",
       "<p>5 rows × 27 columns</p>\n",
       "</div>"
      ],
      "text/plain": [
       "             time     high0      low0  volume0    close0 itvl  \\\n",
       "39  1672533599999  15410.22  15402.20  0.91172  0.000065   1m   \n",
       "40  1672533659999  15409.05  15403.39  0.15660  0.000065   1m   \n",
       "41  1672533719999  15407.42  15397.19  1.26157  0.000065   1m   \n",
       "42  1672533779999  15399.01  15397.27  0.20591  0.000065   1m   \n",
       "43  1672533839999  15400.23  15396.89  0.26236  0.000065   1m   \n",
       "\n",
       "                  datetime     high1      low1  volume1  ...  middleband1  \\\n",
       "39 2023-01-01 00:39:59.999  13661.40  13660.44  0.07082  ...     0.000073   \n",
       "40 2023-01-01 00:40:59.999  13659.01  13658.96  0.01594  ...     0.000073   \n",
       "41 2023-01-01 00:41:59.999  13656.01  13655.43  0.48026  ...     0.000073   \n",
       "42 2023-01-01 00:42:59.999  13656.01  13656.01  0.00000  ...     0.000073   \n",
       "43 2023-01-01 00:43:59.999  13656.01  13656.01  0.00000  ...     0.000073   \n",
       "\n",
       "    lowerband1       adx0       adx1            ad0           ad1  \\\n",
       "39    0.000073  16.330117  21.686687 -164131.448986 -21846.064160   \n",
       "40    0.000073  16.843377  22.167316 -164983.962782 -30555.032949   \n",
       "41    0.000073  17.757095  22.895158 -168782.806543 -53169.846922   \n",
       "42    0.000073  18.625127  23.586608 -172427.209984 -53169.846922   \n",
       "43    0.000073  19.282962  24.243485 -174846.351412 -53169.846922   \n",
       "\n",
       "            atr0          atr1  ht_dcperiod0  ht_dcperiod1  \n",
       "39  15417.744567  13666.779168     25.685034     25.710022  \n",
       "40  15417.309835  13666.390706     26.568471     26.596556  \n",
       "41  15416.815340  13665.871667     27.316431     27.344156  \n",
       "42  15415.925070  13665.378580     27.947131     27.970556  \n",
       "43  15415.140313  13664.910147     28.476346     28.494015  \n",
       "\n",
       "[5 rows x 27 columns]"
      ]
     },
     "execution_count": 15,
     "metadata": {},
     "output_type": "execute_result"
    }
   ],
   "source": [
    "df.head()"
   ]
  },
  {
   "cell_type": "code",
   "execution_count": 16,
   "metadata": {},
   "outputs": [
    {
     "data": {
      "image/png": "[encoded data removed]",
      "text/plain": [
       "<Figure size 1000x600 with 2 Axes>"
      ]
     },
     "metadata": {},
     "output_type": "display_data"
    }
   ],
   "source": [
    "fig, (ax1, ax2) = plt.subplots(2, 1, sharex=True)\n",
    "\n",
    "ax1.plot(df['datetime'], df['spread'], label='spread')\n",
    "ax2.plot(df['datetime'], df['zscore'], label='zscore')\n",
    "\n",
    "ax1.legend()\n",
    "ax2.legend()\n",
    "plt.suptitle(f'The Spread between {cointncorr[0][0]} and {cointncorr[0][1]}')\n",
    "\n",
    "plt.xticks(rotation=45)\n",
    "plt.show()"
   ]
  },
  {
   "cell_type": "code",
   "execution_count": null,
   "metadata": {},
   "outputs": [],
   "source": [
    "train = df[(df['datetime'] >= datetime.strptime(start_date, date_format)) & (df['datetime'] < datetime.strptime(trade_date, date_format))]\n",
    "test = df[(df['datetime'] >= datetime.strptime(trade_date, date_format)) & (df['datetime'] < datetime.strptime(end_date, date_format))]\n",
    "\n",
    "max_train_len = int((len(train)-best_params['period'])*0.95)\n",
    "print(f\"The length of our training data: {len(train)}\")"
   ]
  },
  {
   "cell_type": "markdown",
   "metadata": {},
   "source": [
    "## Check with baselin3 `env_checker`\n",
    "\n",
    "Check if the env meets the requirements of `stable_baseline3`"
   ]
  },
  {
   "cell_type": "code",
   "execution_count": null,
   "metadata": {},
   "outputs": [],
   "source": [
    "from stable_baselines3.common.env_checker import check_env\n",
    "\n",
    "env = RL_RestrictFreeAmt_TradeEnv(train)\n",
    "check_env(env)"
   ]
  },
  {
   "cell_type": "code",
   "execution_count": null,
   "metadata": {},
   "outputs": [],
   "source": [
    "test_env_expt = RL_RestrictFreeAmt_TradeEnv(test, model=f\"{folder_path}/networth_expt.csv\", verbose=1)\n",
    "\n",
    "try:\n",
    "    os.remove(f\"{folder_path}/networth_expt.csv\")\n",
    "except OSError:\n",
    "    pass\n",
    "\n",
    "obs, _ = test_env_expt.reset()\n",
    "\n",
    "for i in trange(20):\n",
    "    obs, rewards, terminated, truncated, info = test_env_expt.step(action=env.action_space.sample())\n",
    "    # test_env_expt.render()\n",
    "\n",
    "test_env_expt.close()"
   ]
  },
  {
   "cell_type": "markdown",
   "metadata": {},
   "source": [
    "Tensorboard"
   ]
  },
  {
   "cell_type": "markdown",
   "metadata": {},
   "source": [
    "## Train the Model with Trading Env"
   ]
  },
  {
   "cell_type": "code",
   "execution_count": null,
   "metadata": {},
   "outputs": [],
   "source": [
    "log_path = f\"logs/restrict_thres_freeamt/\"\n",
    "clear_logs(log_path)\n",
    "\n",
    "# Read more about tensorboard\n",
    "# https://github.com/tensorflow/tensorboard/blob/master/README.md\n",
    "# https://www.tensorflow.org/tensorboard/get_started"
   ]
  },
  {
   "cell_type": "code",
   "execution_count": null,
   "metadata": {},
   "outputs": [],
   "source": [
    "'''PPO'''\n",
    "\n",
    "model_ppo = PPO(\"MultiInputPolicy\", env, verbose=0, gamma=1, batch_size=256, tensorboard_log=log_path)\n",
    "model_ppo.learn(total_timesteps=max_train_len, progress_bar=False)\n",
    "model_ppo.save(f\"{folder_path}/ppo_pairtrading\")"
   ]
  },
  {
   "cell_type": "code",
   "execution_count": null,
   "metadata": {},
   "outputs": [],
   "source": [
    "'''A2C'''\n",
    "\n",
    "model_a2c = A2C(\"MultiInputPolicy\", env, verbose=0, gamma=1, tensorboard_log=log_path)\n",
    "model_a2c.learn(total_timesteps=max_train_len, progress_bar=True)\n",
    "model_a2c.save(f\"{folder_path}/a2c_pairtrading\")"
   ]
  },
  {
   "cell_type": "code",
   "execution_count": null,
   "metadata": {},
   "outputs": [],
   "source": [
    "# '''\n",
    "# DDPG\n",
    "# '''\n",
    "\n",
    "# model_ddpg = DDPG(\"MultiInputPolicy\", env, verbose=0, gamma=1, batch_size=256, tensorboard_log=log_path)\n",
    "# model_ddpg.learn(total_timesteps=max_train_len*0.9, progress_bar=True)\n",
    "# model_ddpg.save(f\"{folder_path}/ddpg_pairtrading\")"
   ]
  },
  {
   "cell_type": "code",
   "execution_count": null,
   "metadata": {},
   "outputs": [],
   "source": [
    "'''\n",
    "SAC\n",
    "'''\n",
    "\n",
    "model_sac = SAC(\"MultiInputPolicy\", env, verbose=0, gamma=1, batch_size=256, tensorboard_log=log_path)\n",
    "model_sac.learn(total_timesteps=max_train_len, progress_bar=True)\n",
    "model_sac.save(f\"{folder_path}/sac_pairtrading\")"
   ]
  },
  {
   "cell_type": "code",
   "execution_count": null,
   "metadata": {},
   "outputs": [],
   "source": [
    "'''\n",
    "TD3\n",
    "'''\n",
    "\n",
    "model_td3 = TD3(\"MultiInputPolicy\", env, verbose=0, gamma=1, batch_size=256, tensorboard_log=log_path)\n",
    "model_td3.learn(total_timesteps=max_train_len*0.95, progress_bar=True)\n",
    "model_td3.save(f\"{folder_path}/td3_pairtrading\")"
   ]
  },
  {
   "cell_type": "markdown",
   "metadata": {},
   "source": [
    "## Create the Custom Test Env"
   ]
  },
  {
   "cell_type": "code",
   "execution_count": null,
   "metadata": {},
   "outputs": [],
   "source": [
    "test_env_ppo = RL_RestrictFreeAmt_TradeEnv(test, model=f\"{folder_path}/networth_ppo.csv\", verbose=1)\n",
    "test_env_a2c = RL_RestrictFreeAmt_TradeEnv(test, model=f\"{folder_path}/networth_a2c.csv\", verbose=1)\n",
    "test_env_ddpg = RL_RestrictFreeAmt_TradeEnv(test, model=f\"{folder_path}/networth_ddpg.csv\", verbose=1)\n",
    "test_env_sac = RL_RestrictFreeAmt_TradeEnv(test, model=f\"{folder_path}/networth_sac.csv\", verbose=1)\n",
    "test_env_td3 = RL_RestrictFreeAmt_TradeEnv(test, model=f\"{folder_path}/networth_td3.csv\", verbose=1)\n",
    "test_env_expt = RL_RestrictFreeAmt_TradeEnv(test, model=f\"{folder_path}/networth_expt.csv\", verbose=1)"
   ]
  },
  {
   "cell_type": "code",
   "execution_count": null,
   "metadata": {},
   "outputs": [],
   "source": [
    "max_test_len = int(len(test) * 0.95)\n",
    "print(f\"The length of our test data: {max_test_len}\")"
   ]
  },
  {
   "cell_type": "markdown",
   "metadata": {},
   "source": [
    "## Test Env with Trained Model"
   ]
  },
  {
   "cell_type": "code",
   "execution_count": null,
   "metadata": {},
   "outputs": [],
   "source": [
    "try:\n",
    "    os.remove(f\"{folder_path}/networth_ppo.csv\")\n",
    "except OSError:\n",
    "    pass\n",
    "\n",
    "obs, _ = test_env_ppo.reset()\n",
    "\n",
    "for i in trange(max_test_len):\n",
    "    action, _states = model_ppo.predict(obs)\n",
    "    obs, rewards, terminated, truncated, info = test_env_ppo.step(action)\n",
    "    if i%int(max_test_len/10)==0:\n",
    "        test_env_ppo.render()\n",
    "\n",
    "test_env_ppo.close()"
   ]
  },
  {
   "cell_type": "code",
   "execution_count": null,
   "metadata": {},
   "outputs": [],
   "source": [
    "try:\n",
    "    os.remove(f\"{folder_path}/networth_a2c.csv\")\n",
    "except OSError:\n",
    "    pass\n",
    "\n",
    "obs, _ = test_env_a2c.reset()\n",
    "\n",
    "for i in trange(max_test_len):\n",
    "    action, _states = model_a2c.predict(obs)\n",
    "    obs, rewards, terminated, truncated, info = test_env_a2c.step(action)\n",
    "    if i%int(max_test_len/10)==0:\n",
    "        test_env_a2c.render()\n",
    "\n",
    "test_env_a2c.close()"
   ]
  },
  {
   "cell_type": "code",
   "execution_count": null,
   "metadata": {},
   "outputs": [],
   "source": [
    "# try:\n",
    "#     os.remove(f\"{folder_path}/networth_ddpg.csv\")\n",
    "# except OSError:\n",
    "#     pass\n",
    "\n",
    "# obs, _ = test_env_ddpg.reset()\n",
    "\n",
    "# for i in trange(max_test_len):\n",
    "#     action, _states = model_ddpg.predict(obs)\n",
    "#     obs, rewards, terminated, truncated, info = test_env_ddpg.step(action)\n",
    "#     if i%int(max_test_len/10)==0:\n",
    "#         test_env_ddpg.render()\n",
    "\n",
    "# test_env_ddpg.close()"
   ]
  },
  {
   "cell_type": "code",
   "execution_count": null,
   "metadata": {},
   "outputs": [],
   "source": [
    "try:\n",
    "    os.remove(f\"{folder_path}/networth_sac.csv\")\n",
    "except OSError:\n",
    "    pass\n",
    "\n",
    "obs, _ = test_env_sac.reset()\n",
    "\n",
    "for i in trange(max_test_len):\n",
    "    action, _states = model_sac.predict(obs)\n",
    "    obs, rewards, terminated, truncated, info = test_env_sac.step(action)\n",
    "    if i%int(max_test_len/10)==0:\n",
    "        test_env_sac.render()\n",
    "\n",
    "test_env_sac.close()"
   ]
  },
  {
   "cell_type": "code",
   "execution_count": null,
   "metadata": {},
   "outputs": [],
   "source": [
    "try:\n",
    "    os.remove(f\"{folder_path}/networth_td3.csv\")\n",
    "except OSError:\n",
    "    pass\n",
    "\n",
    "obs, _ = test_env_td3.reset()\n",
    "\n",
    "for i in trange(max_test_len):\n",
    "    action, _states = model_td3.predict(obs)\n",
    "    obs, rewards, terminated, truncated, info = test_env_td3.step(action)\n",
    "    if i%int(max_test_len/10)==0:\n",
    "        test_env_td3.render()\n",
    "\n",
    "test_env_td3.close()"
   ]
  },
  {
   "cell_type": "markdown",
   "metadata": {},
   "source": [
    "## Also run randomly generated actions"
   ]
  },
  {
   "cell_type": "code",
   "execution_count": null,
   "metadata": {},
   "outputs": [],
   "source": [
    "try:\n",
    "    os.remove(f\"{folder_path}/networth_expt.csv\")\n",
    "except OSError:\n",
    "    pass\n",
    "\n",
    "obs, _ = test_env_expt.reset()\n",
    "\n",
    "for i in trange(max_test_len):\n",
    "    obs, rewards, terminated, truncated, info = test_env_expt.step(action=env.action_space.sample())\n",
    "    if i%int(max_test_len/10)==0:\n",
    "        test_env_expt.render()\n",
    "\n",
    "test_env_expt.close()"
   ]
  },
  {
   "cell_type": "markdown",
   "metadata": {},
   "source": [
    "### Analyze with Quanstats"
   ]
  },
  {
   "cell_type": "code",
   "execution_count": null,
   "metadata": {},
   "outputs": [],
   "source": [
    "os.remove(f\"{folder_path}/networth_expt.csv\") if os.path.exists(f\"{folder_path}/networth_expt.csv\") else None\n",
    "\n",
    "csv_files = [file for file in os.listdir(folder_path) if file.endswith('.csv')]\n",
    "\n",
    "best_res, best_model = None, None\n",
    "for file_name in csv_files:\n",
    "    file_path = os.path.join(folder_path, file_name)\n",
    "    \n",
    "    with open(file_path, 'r') as csv_file:\n",
    "        csv_reader = csv.reader(csv_file)\n",
    "        \n",
    "        # Loop through the lines in the CSV file\n",
    "        last_line = None\n",
    "        for row in csv_reader:\n",
    "            last_line = row  # Update last_line with the current row\n",
    "    \n",
    "    if best_res is None or float(best_res) < float(last_line[1]):\n",
    "        best_res = last_line[1]\n",
    "        best_model = file_name\n",
    "\n",
    "    print(f\"The ending capital of {file_name} is {last_line[0:2]}\")\n",
    "\n",
    "print(f\"The best model is {best_model}\")"
   ]
  },
  {
   "cell_type": "code",
   "execution_count": null,
   "metadata": {},
   "outputs": [],
   "source": [
    "best_return = get_return(f'{folder_path}/{best_model}')\n",
    "get_metrics(best_return)"
   ]
  },
  {
   "cell_type": "code",
   "execution_count": null,
   "metadata": {},
   "outputs": [],
   "source": [
    "best_return"
   ]
  },
  {
   "cell_type": "code",
   "execution_count": null,
   "metadata": {},
   "outputs": [],
   "source": [
    "fig, ax = plt.subplots()\n",
    "\n",
    "ax.set_title(\"Profit and Loss\")\n",
    "ax.plot(best_return['returns'])\n",
    "\n",
    "plt.show()"
   ]
  },
  {
   "cell_type": "code",
   "execution_count": null,
   "metadata": {},
   "outputs": [],
   "source": [
    "qs.reports.full(best_return['returns'])"
   ]
  }
 ],
 "metadata": {
  "kernelspec": {
   "display_name": "Python 3 (ipykernel)",
   "language": "python",
   "name": "python3"
  },
  "language_info": {
   "codemirror_mode": {
    "name": "ipython",
    "version": 3
   },
   "file_extension": ".py",
   "mimetype": "text/x-python",
   "name": "python",
   "nbconvert_exporter": "python",
   "pygments_lexer": "ipython3",
   "version": "3.8.18"
  }
 },
 "nbformat": 4,
 "nbformat_minor": 4
}

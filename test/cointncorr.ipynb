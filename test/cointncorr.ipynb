{
 "cells": [
  {
   "cell_type": "code",
   "execution_count": 1,
   "metadata": {},
   "outputs": [],
   "source": [
    "import time\n",
    "from utils.read2df import read2df\n",
    "from utils.cointncorr import CointnCorr\n",
    "import pandas as pd"
   ]
  },
  {
   "cell_type": "code",
   "execution_count": 2,
   "metadata": {},
   "outputs": [],
   "source": [
    "symbols = ['BTCUSDT', 'ETHUSDT', 'LTCUSDT', 'XMRUSDT']\n",
    "start_date = '2020-01-01'\n",
    "\n",
    "# freqs = {'1h':60, '2h':120, '4h':240, '6h':360, '8h':480, '12h':720, '1d':1440}\n",
    "freqs = {'1h':60,}"
   ]
  },
  {
   "cell_type": "code",
   "execution_count": 3,
   "metadata": {},
   "outputs": [],
   "source": [
    "%%capture\n",
    "if symbols is None:\n",
    "    !python binance-public-data/python/download-kline.py -i {\" \".join(list(freqs.keys()))} -startDate {start_date} -t spot -skip-daily 1\n",
    "else:\n",
    "    !python binance-public-data/python/download-kline.py -s {\" \".join(symbols)} -i {\" \".join(list(freqs.keys()))} -startDate {start_date} -t spot -skip-daily 1"
   ]
  },
  {
   "cell_type": "markdown",
   "metadata": {},
   "source": []
  },
  {
   "cell_type": "code",
   "execution_count": 4,
   "metadata": {},
   "outputs": [],
   "source": [
    "# dfs = read2df(symbols, freqs)\n",
    "dfs = read2df(symbols, freqs)\n",
    "\n",
    "df0 = dfs[0][dfs[0]['tic']=='BTCUSDT'].reset_index(drop=True)\n",
    "df1 = dfs[0][dfs[0]['tic']=='ETHUSDT'].reset_index(drop=True)"
   ]
  },
  {
   "cell_type": "code",
   "execution_count": 5,
   "metadata": {},
   "outputs": [
    {
     "name": "stdout",
     "output_type": "stream",
     "text": [
      "calculating 1h\n",
      "Results for Singular Testing: --- 273.2515048980713 seconds ---\n",
      "BTCUSDT_ETHUSDT: {'1h': {'coint': 0.23507348905287553, 'corr': 0.8379425547378878}}\n",
      "BTCUSDT_LTCUSDT: {'1h': {'coint': 0.23086540220772092, 'corr': 0.7396032350163358}}\n",
      "BTCUSDT_XMRUSDT: {'1h': {'coint': 0.2190339696285906, 'corr': 0.5815610356704719}}\n",
      "ETHUSDT_LTCUSDT: {'1h': {'coint': 0.21717387326950052, 'corr': 0.7651963232934651}}\n",
      "ETHUSDT_XMRUSDT: {'1h': {'coint': 0.19991461852777948, 'corr': 0.5684641941577686}}\n",
      "LTCUSDT_XMRUSDT: {'1h': {'coint': 0.20665365615661402, 'corr': 0.555611779581521}}\n"
     ]
    }
   ],
   "source": [
    "start_time = time.time()\n",
    "res_single = CointnCorr(dfs, freqs).cointncorr_single()\n",
    "print(\"Results for Singular Testing: --- %s seconds ---\" % (time.time() - start_time))\n",
    "for pair in res_single:\n",
    "    print(f\"{pair}: {res_single[pair]}\")"
   ]
  },
  {
   "cell_type": "code",
   "execution_count": 8,
   "metadata": {},
   "outputs": [
    {
     "name": "stdout",
     "output_type": "stream",
     "text": [
      "calculating 1h\n",
      "Results for Batch Testing: --- 11.540539264678955 seconds ---\n",
      "BTCUSDT_ETHUSDT: {'1h': {'coint': 0.25676664228237017, 'corr': 0.8375356688835204}}\n",
      "BTCUSDT_LTCUSDT: {'1h': {'coint': 0.23043160204828092, 'corr': 0.7335897344223473}}\n",
      "BTCUSDT_XMRUSDT: {'1h': {'coint': 0.25237746891002194, 'corr': 0.5757126160585416}}\n",
      "ETHUSDT_LTCUSDT: {'1h': {'coint': 0.22311631309436722, 'corr': 0.7548955371934201}}\n",
      "ETHUSDT_XMRUSDT: {'1h': {'coint': 0.2121433796634967, 'corr': 0.5581723658378787}}\n",
      "LTCUSDT_XMRUSDT: {'1h': {'coint': 0.22457937088514995, 'corr': 0.5511338314709224}}\n"
     ]
    }
   ],
   "source": [
    "start_time = time.time()\n",
    "res_batch = CointnCorr(dfs, freqs).cointncorr()\n",
    "print(\"Results for Batch Testing: --- %s seconds ---\" % (time.time() - start_time))\n",
    "for pair_batch in res_batch:\n",
    "    print(f\"{pair_batch}: {res_batch[pair_batch]}\")"
   ]
  },
  {
   "cell_type": "code",
   "execution_count": null,
   "metadata": {},
   "outputs": [],
   "source": []
  }
 ],
 "metadata": {
  "kernelspec": {
   "display_name": "uoa-mdt",
   "language": "python",
   "name": "python3"
  },
  "language_info": {
   "codemirror_mode": {
    "name": "ipython",
    "version": 3
   },
   "file_extension": ".py",
   "mimetype": "text/x-python",
   "name": "python",
   "nbconvert_exporter": "python",
   "pygments_lexer": "ipython3",
   "version": "3.10.0"
  }
 },
 "nbformat": 4,
 "nbformat_minor": 2
}

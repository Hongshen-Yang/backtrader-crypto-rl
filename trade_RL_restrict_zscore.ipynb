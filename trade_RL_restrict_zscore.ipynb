{
 "cells": [
  {
   "cell_type": "markdown",
   "metadata": {},
   "source": [
    "# Construct a custom Environment for Pair Trading\n",
    "\n",
    "Some examples on the market\n",
    "* [custom env example](https://colab.research.google.com/github/araffin/rl-tutorial-jnrr19/blob/sb3/5_custom_gym_env.ipynb#scrollTo=RqxatIwPOXe_)\n",
    "* [StockTradingEnv by Adam King](https://github.com/notadamking/Stock-Trading-Environment)\n",
    "* [FinRL](https://github.com/AI4Finance-Foundation/FinRL)\n",
    "\n",
    "Target is to construct a custom Env for pair trading\n",
    "\n",
    "This env restrict the behaviour of RL learner to pair trading only"
   ]
  },
  {
   "cell_type": "code",
   "execution_count": 1,
   "metadata": {},
   "outputs": [],
   "source": [
    "import warnings\n",
    "warnings.filterwarnings('ignore')\n",
    "\n",
    "import os, csv\n",
    "import numpy as np\n",
    "import pandas as pd\n",
    "import statsmodels.api as sm\n",
    "\n",
    "from datetime import date\n",
    "from envs.env_gridsearch import kellycriterion\n",
    "from sklearn.model_selection import train_test_split\n",
    "from stable_baselines3.common.vec_env import DummyVecEnv\n",
    "from utils.read2df import read2df\n",
    "from utils.rlmetrics import get_return, get_metrics\n",
    "from envs.env_rl_restrict import PairTradingEnv\n",
    "from params import *\n",
    "\n",
    "from stable_baselines3 import PPO, A2C, DQN\n",
    "import quantstats as qs\n",
    "\n",
    "folder_path = f\"result/rl-restrict-zscore/\"\n",
    "os.makedirs(folder_path, exist_ok=True)"
   ]
  },
  {
   "cell_type": "markdown",
   "metadata": {},
   "source": [
    "Load data from `preliminaries.ipynb`"
   ]
  },
  {
   "cell_type": "code",
   "execution_count": 2,
   "metadata": {},
   "outputs": [],
   "source": [
    "import pickle\n",
    "\n",
    "with open('result/cointncorr.pickle', 'rb') as pk:\n",
    "    data = pickle.load(pk)\n",
    "\n",
    "dfs = read2df(symbols=data[0], freqs={data[1]: freqs[data[1]]})\n",
    "\n",
    "df0 = dfs[0][dfs[0]['tic']==data[0][0]].reset_index(drop=True)\n",
    "df1 = dfs[0][dfs[0]['tic']==data[0][1]].reset_index(drop=True)"
   ]
  },
  {
   "cell_type": "markdown",
   "metadata": {},
   "source": [
    "Set data before `trade_data` as training data, after `trade_data` is trade_data"
   ]
  },
  {
   "cell_type": "code",
   "execution_count": 3,
   "metadata": {},
   "outputs": [
    {
     "name": "stdout",
     "output_type": "stream",
     "text": [
      "The length of our training data: 257345\n"
     ]
    }
   ],
   "source": [
    "train0 = df0[df0['datetime'] < trade_date]\n",
    "train1 = df1[df1['datetime'] < trade_date]\n",
    "\n",
    "test0 = df0[df0['datetime'] >= trade_date]\n",
    "test1 = df1[df1['datetime'] >= trade_date]\n",
    "\n",
    "print(f\"The length of our training data: {len(train0)}\")"
   ]
  },
  {
   "cell_type": "markdown",
   "metadata": {},
   "source": [
    "## Check with baselin3 `env_checker`\n",
    "\n",
    "Check if the env meets the requirements of `stable_baseline3`"
   ]
  },
  {
   "cell_type": "code",
   "execution_count": 4,
   "metadata": {},
   "outputs": [],
   "source": [
    "from stable_baselines3.common.env_checker import check_env\n",
    "# > UserWarning: The action space is not based off a numpy array. Typically this means it's either a Dict or Tuple space. This type of action space is currently not supported by Stable Baselines 3. You should try to flatten the action using a wrapper.\n",
    "# Baseline 3 does not support Dict/Tuple action spaces....only Box Discrete MultiDiscrete MultiBinary\n",
    "# Is there another way to achieve the same functionality?\n",
    "\n",
    "env = PairTradingEnv(train0, train1, noThres=True)\n",
    "check_env(env)"
   ]
  },
  {
   "cell_type": "markdown",
   "metadata": {},
   "source": [
    "## Do an experimental run with random generated actions"
   ]
  },
  {
   "cell_type": "code",
   "execution_count": 5,
   "metadata": {},
   "outputs": [
    {
     "name": "stdout",
     "output_type": "stream",
     "text": [
      "observation_space: Dict('position': Discrete(3), 'zscore': Box(-inf, inf, (1,), float64))\n",
      "action_space: Discrete(4)\n",
      "action_space.sample: 3\n",
      "networth: 10000.0, action: 1, position: 1, kc: 0 order_amount0: 0, order_amount1: 0 holding0: 0, holding1: 0 cash: 10000.0, curr_price0: 1.071, curr_price1: 1.258 \n",
      "networth: 10000.0, action: 2, position: 2, kc: 1 order_amount0: 933.7068160597573, order_amount1: -795.5449482895784 holding0: 933.7068160597573, holding1: -795.5449482895784 cash: 10000.0, curr_price0: 1.071, curr_price1: 1.257 \n",
      "networth: 10000.93370681606, action: 2, position: 2, kc: 1 order_amount0: 933.7068160597573, order_amount1: -795.5449482895784 holding0: 933.7068160597573, holding1: -795.5449482895784 cash: 10000.0, curr_price0: 1.072, curr_price1: 1.257 \n",
      "networth: 10000.795544948289, action: 2, position: 2, kc: 1 order_amount0: 933.7068160597573, order_amount1: -795.5449482895784 holding0: 933.7068160597573, holding1: -795.5449482895784 cash: 10000.0, curr_price0: 1.071, curr_price1: 1.256 \n",
      "networth: 10000.65738308052, action: 0, position: 0, kc: 1 order_amount0: -1868.2862553120938, order_amount1: 1592.3576972935625 holding0: -934.5794392523364, holding1: 796.8127490039841 cash: 10000.65738308052, curr_price0: 1.07, curr_price1: 1.255 \n",
      "networth: 10000.519616390271, action: 0, position: 0, kc: 1 order_amount0: -1868.2862553120938, order_amount1: 1592.3576972935625 holding0: -934.5794392523364, holding1: 796.8127490039841 cash: 10000.65738308052, curr_price0: 1.071, curr_price1: 1.256 \n",
      "networth: 10000.381849700023, action: 2, position: 2, kc: 1 order_amount0: 1867.4152601478588, order_amount1: -1592.3576972935625 holding0: 932.8358208955224, holding1: -795.5449482895784 cash: 10000.381849700023, curr_price0: 1.072, curr_price1: 1.257 \n",
      "networth: 10001.177394648312, action: 0, position: 0, kc: 1 order_amount0: -1865.6716417910447, order_amount1: 1591.723292238623 holding0: -932.8358208955224, holding1: 796.1783439490445 cash: 10001.177394648312, curr_price0: 1.072, curr_price1: 1.256 \n",
      "networth: 10002.906408813156, action: 1, position: 1, kc: 1 order_amount0: 932.8358208955224, order_amount1: -796.1783439490445 holding0: 0, holding1: 0 cash: 10002.906408813156, curr_price0: 1.071, curr_price1: 1.257 \n",
      "networth: 10002.906408813156, action: 2, position: 2, kc: 1 order_amount0: 933.7068160597573, order_amount1: -794.912559618442 holding0: 933.7068160597573, holding1: -794.912559618442 cash: 10002.906408813156, curr_price0: 1.071, curr_price1: 1.258 \n",
      "networth: 10002.906408813156, action: 2, position: 2, kc: 1 order_amount0: 933.7068160597573, order_amount1: -794.912559618442 holding0: 933.7068160597573, holding1: -794.912559618442 cash: 10002.906408813156, curr_price0: 1.071, curr_price1: 1.258 \n",
      "networth: 10004.635028188835, action: 2, position: 2, kc: 1 order_amount0: 933.7068160597573, order_amount1: -794.912559618442 holding0: 933.7068160597573, holding1: -794.912559618442 cash: 10002.906408813156, curr_price0: 1.072, curr_price1: 1.257 \n",
      "networth: 10004.773822445277, action: 0, position: 0, kc: 1 order_amount0: -1865.673265267586, order_amount1: 1589.825119236884 holding0: -931.9664492078286, holding1: 794.912559618442 cash: 10004.773822445277, curr_price0: 1.073, curr_price1: 1.258 \n",
      "networth: 10003.978909885658, action: 1, position: 1, kc: 1 order_amount0: 931.9664492078286, order_amount1: -794.912559618442 holding0: 0, holding1: 0 cash: 10003.978909885658, curr_price0: 1.073, curr_price1: 1.257 \n",
      "networth: 10003.978909885658, action: 1, position: 1, kc: 1 order_amount0: 0, order_amount1: 0 holding0: 0, holding1: 0 cash: 10003.978909885658, curr_price0: 1.072, curr_price1: 1.258 \n",
      "networth: 10003.978909885658, action: 1, position: 1, kc: 1 order_amount0: 0, order_amount1: 0 holding0: 0, holding1: 0 cash: 10003.978909885658, curr_price0: 1.073, curr_price1: 1.257 \n",
      "networth: 10003.978909885658, action: 3, position: 1, kc: 1 order_amount0: 0, order_amount1: 0 holding0: 0, holding1: 0 cash: 10003.978909885658, curr_price0: 1.072, curr_price1: 1.257 \n",
      "networth: 10003.978909885658, action: 3, position: 1, kc: 1 order_amount0: 0, order_amount1: 0 holding0: 0, holding1: 0 cash: 10003.978909885658, curr_price0: 1.073, curr_price1: 1.257 \n",
      "networth: 10003.978909885658, action: 3, position: 1, kc: 1 order_amount0: 0, order_amount1: 0 holding0: 0, holding1: 0 cash: 10003.978909885658, curr_price0: 1.073, curr_price1: 1.257 \n",
      "networth: 10003.978909885658, action: 2, position: 2, kc: 1 order_amount0: 931.9664492078285, order_amount1: -795.5449482895784 holding0: 931.9664492078285, holding1: -795.5449482895784 cash: 10003.978909885658, curr_price0: 1.073, curr_price1: 1.257 \n"
     ]
    }
   ],
   "source": [
    "env = PairTradingEnv(train0, train1, tc=0, verbose=1, noThres=True, model=f\"{folder_path}/networth_experiment.csv\")\n",
    "obs, _ = env.reset()\n",
    "\n",
    "print(f\"observation_space: {env.observation_space}\")\n",
    "print(f\"action_space: {env.action_space}\")\n",
    "print(f\"action_space.sample: {env.action_space.sample()}\")\n",
    "\n",
    "n_steps = 20\n",
    "\n",
    "for step in range(n_steps):\n",
    "    obs, reward, terminated, truncated, info = env.step(action=env.action_space.sample())\n",
    "    done = terminated or truncated\n",
    "    env.render()\n",
    "    if done:\n",
    "        break"
   ]
  },
  {
   "cell_type": "markdown",
   "metadata": {},
   "source": [
    "## Models from stable_baselines3\n",
    "\n",
    "Train with training data"
   ]
  },
  {
   "cell_type": "code",
   "execution_count": 6,
   "metadata": {},
   "outputs": [],
   "source": [
    "'''PPO'''\n",
    "\n",
    "env = PairTradingEnv(train0, train1, tc=0, noThres=True, model=f\"{folder_path}/networth_ppo.csv\")\n",
    "\n",
    "model_ppo = PPO(\"MultiInputPolicy\", env, verbose=0)\n",
    "model_ppo.learn(total_timesteps=200000)\n",
    "model_ppo.save(f\"{folder_path}/ppo_pairtrading\")"
   ]
  },
  {
   "cell_type": "code",
   "execution_count": 7,
   "metadata": {},
   "outputs": [],
   "source": [
    "'''A2C'''\n",
    "\n",
    "from stable_baselines3 import A2C\n",
    "\n",
    "env = PairTradingEnv(train0, train1, tc=0, noThres=True, model=f\"{folder_path}/networth_a2c.csv\")\n",
    "\n",
    "model_a2c = A2C(\"MultiInputPolicy\", env, verbose=0)\n",
    "model_a2c.learn(total_timesteps=200000)\n",
    "model_a2c.save(f\"{folder_path}/a2c_pairtrading\")"
   ]
  },
  {
   "cell_type": "code",
   "execution_count": 8,
   "metadata": {},
   "outputs": [],
   "source": [
    "'''DQN'''\n",
    "\n",
    "from stable_baselines3 import DQN\n",
    "\n",
    "env = PairTradingEnv(train0, train1, tc=0, noThres=True, model=f\"{folder_path}/networth_dqn.csv\")\n",
    "\n",
    "model_dqn = DQN(\"MultiInputPolicy\", env, verbose=0)\n",
    "model_dqn.learn(total_timesteps=200000)\n",
    "model_dqn.save(f\"{folder_path}/dqn_pairtrading\")"
   ]
  },
  {
   "cell_type": "markdown",
   "metadata": {},
   "source": [
    "## Use the model on Test data"
   ]
  },
  {
   "cell_type": "code",
   "execution_count": 9,
   "metadata": {},
   "outputs": [],
   "source": [
    "# del model_ppo, model_a2c, model_dqn\n",
    "\n",
    "model_ppo = PPO.load(f\"{folder_path}/ppo_pairtrading\")\n",
    "model_a2c = A2C.load(f\"{folder_path}/a2c_pairtrading\")\n",
    "model_dqn = DQN.load(f\"{folder_path}/dqn_pairtrading\")"
   ]
  },
  {
   "cell_type": "code",
   "execution_count": 10,
   "metadata": {},
   "outputs": [
    {
     "name": "stdout",
     "output_type": "stream",
     "text": [
      "Test Finished!\n"
     ]
    }
   ],
   "source": [
    "try:\n",
    "    os.remove(f\"{folder_path}/networth_ppo.csv\")\n",
    "except OSError:\n",
    "    pass\n",
    "\n",
    "env = PairTradingEnv(test0, test1, tc=0, noThres=True, model=f\"{folder_path}/networth_ppo.csv\")\n",
    "obs, _ = env.reset()\n",
    "\n",
    "while True:\n",
    "    action, _states = model_ppo.predict(obs)\n",
    "    observation, reward, terminated, truncated, info = env.step(action)\n",
    "    done = terminated or truncated\n",
    "    env.render()\n",
    "    if terminated:\n",
    "        print(\"Test Finished!\")\n",
    "        break\n",
    "    elif truncated:\n",
    "        print(\"bankrupted!\")\n",
    "        break"
   ]
  },
  {
   "cell_type": "code",
   "execution_count": 11,
   "metadata": {},
   "outputs": [
    {
     "name": "stdout",
     "output_type": "stream",
     "text": [
      "Test Finished!\n"
     ]
    }
   ],
   "source": [
    "try:\n",
    "    os.remove(f\"{folder_path}/networth_a2c.csv\")\n",
    "except OSError:\n",
    "    pass\n",
    "\n",
    "env = PairTradingEnv(test0, test1, tc=0, noThres=True, model=f\"{folder_path}/networth_a2c.csv\")\n",
    "obs, _ = env.reset()\n",
    "\n",
    "while True:\n",
    "    action, _states = model_a2c.predict(obs)\n",
    "    observation, reward, terminated, truncated, info = env.step(action)\n",
    "    done = terminated or truncated\n",
    "    env.render()\n",
    "    if terminated:\n",
    "        print(\"Test Finished!\")\n",
    "        break\n",
    "    elif truncated:\n",
    "        print(\"bankrupted!\")\n",
    "        break"
   ]
  },
  {
   "cell_type": "code",
   "execution_count": 12,
   "metadata": {},
   "outputs": [
    {
     "name": "stdout",
     "output_type": "stream",
     "text": [
      "Test Finished!\n"
     ]
    }
   ],
   "source": [
    "try:\n",
    "    os.remove(f\"{folder_path}/networth_dqn.csv\")\n",
    "except OSError:\n",
    "    pass\n",
    "\n",
    "env = PairTradingEnv(test0, test1, tc=0, noThres=True, model=f\"{folder_path}/networth_dqn.csv\")\n",
    "obs, _ = env.reset()\n",
    "\n",
    "while True:\n",
    "    action, _states = model_dqn.predict(obs)\n",
    "    observation, reward, terminated, truncated, info = env.step(action)\n",
    "    done = terminated or truncated\n",
    "    env.render()\n",
    "    if terminated:\n",
    "        print(\"Test Finished!\")\n",
    "        break\n",
    "    elif truncated:\n",
    "        print(\"bankrupted!\")\n",
    "        break"
   ]
  },
  {
   "cell_type": "markdown",
   "metadata": {},
   "source": [
    "### Analyze with Quanstats"
   ]
  },
  {
   "cell_type": "code",
   "execution_count": 13,
   "metadata": {},
   "outputs": [
    {
     "name": "stdout",
     "output_type": "stream",
     "text": [
      "The ending capital of networth_a2c.csv is ['2023-10-31 23:59:59.999000', '10000.094464386926']\n",
      "The ending capital of networth_dqn.csv is ['2023-10-31 23:59:59.999000', '9981.472145634987']\n",
      "The ending capital of networth_ppo.csv is ['2023-10-31 23:59:59.999000', '9984.390943921033']\n",
      "The best model is networth_a2c.csv\n"
     ]
    }
   ],
   "source": [
    "os.remove(f\"{folder_path}/networth_experiment.csv\") if os.path.exists(f\"{folder_path}/networth_experiment.csv\") else None\n",
    "csv_files = [file for file in os.listdir(folder_path) if file.endswith('.csv')]\n",
    "\n",
    "best_res, best_model = None, None\n",
    "for file_name in csv_files:\n",
    "    file_path = os.path.join(folder_path, file_name)\n",
    "    \n",
    "    with open(file_path, 'r') as csv_file:\n",
    "        csv_reader = csv.reader(csv_file)\n",
    "        \n",
    "        # Loop through the lines in the CSV file\n",
    "        last_line = None\n",
    "        for row in csv_reader:\n",
    "            last_line = row  # Update last_line with the current row\n",
    "    \n",
    "    if best_res is None or float(best_res) < float(last_line[1]):\n",
    "        best_res = last_line[1]\n",
    "        best_model = file_name\n",
    "\n",
    "    print(f\"The ending capital of {file_name} is {last_line[0:2]}\")\n",
    "\n",
    "print(f\"The best model is {best_model}\")"
   ]
  },
  {
   "cell_type": "code",
   "execution_count": 14,
   "metadata": {},
   "outputs": [
    {
     "name": "stdout",
     "output_type": "stream",
     "text": [
      "Yearly return: 0%\n",
      "Total orders count: 54213\n",
      "Total long action: 1\n",
      "Total short action: 0\n",
      "Won orders count: 1\n",
      "Lost orders count: 0\n",
      "Win/Loss order ratio: inf\n",
      "Avg order pnl: 1.7424674326464698e-10\n",
      "Avg order pnl won: 9.446438692606307e-06\n",
      "Avg order pnl lost: nan\n",
      "Avg long order pnl: 0.0\n",
      "Avg short order pnl: nan\n"
     ]
    }
   ],
   "source": [
    "best_return = get_return(f\"{folder_path}/{best_model}\")\n",
    "get_metrics(best_return)"
   ]
  },
  {
   "cell_type": "code",
   "execution_count": 15,
   "metadata": {},
   "outputs": [
    {
     "data": {
      "text/html": [
       "<h4>Performance Metrics</h4>"
      ],
      "text/plain": [
       "<IPython.core.display.HTML object>"
      ]
     },
     "metadata": {},
     "output_type": "display_data"
    },
    {
     "name": "stdout",
     "output_type": "stream",
     "text": [
      "                    Strategy\n",
      "------------------  ----------\n",
      "Start Period        2023-04-26\n",
      "End Period          2023-10-31\n",
      "Risk-Free Rate      0.0%\n",
      "Time in Market      1.0%\n",
      "\n",
      "Cumulative Return   0.0%\n",
      "CAGR﹪              0.0%\n",
      "\n",
      "Sharpe              0.07\n",
      "Prob. Sharpe Ratio  81.45%\n",
      "Sortino             -\n",
      "Sortino/√2          -\n",
      "Omega               -\n",
      "\n",
      "Max Drawdown        %\n",
      "Longest DD Days     -\n",
      "\n",
      "Gain/Pain Ratio     -\n",
      "Gain/Pain (1M)      -\n",
      "\n",
      "Payoff Ratio        -\n",
      "Profit Factor       -\n",
      "Common Sense Ratio  -\n",
      "CPC Index           -\n",
      "Tail Ratio          -\n",
      "Outlier Win Ratio   0.0\n",
      "Outlier Loss Ratio  -\n",
      "\n",
      "MTD                 0.0%\n",
      "3M                  0.0%\n",
      "6M                  0.0%\n",
      "YTD                 0.0%\n",
      "1Y                  0.0%\n",
      "3Y (ann.)           0.0%\n",
      "5Y (ann.)           0.0%\n",
      "10Y (ann.)          0.0%\n",
      "All-time (ann.)     0.0%\n",
      "\n",
      "Recovery Factor     -\n",
      "Ulcer Index         0.0\n",
      "Serenity Index      -\n",
      "Avg. Drawdown Days  -\n"
     ]
    },
    {
     "data": {
      "text/html": [
       "<h4>Strategy Visualization</h4>"
      ],
      "text/plain": [
       "<IPython.core.display.HTML object>"
      ]
     },
     "metadata": {},
     "output_type": "display_data"
    },
    {
     "data": {
      "image/png": "[encoded data removed]",
      "text/plain": [
       "<Figure size 800x800 with 3 Axes>"
      ]
     },
     "metadata": {},
     "output_type": "display_data"
    },
    {
     "data": {
      "image/png": "[encoded data removed]",
      "text/plain": [
       "<Figure size 840.8x400 with 2 Axes>"
      ]
     },
     "metadata": {},
     "output_type": "display_data"
    }
   ],
   "source": [
    "qs.reports.basic(best_return['returns'])"
   ]
  },
  {
   "cell_type": "code",
   "execution_count": 16,
   "metadata": {},
   "outputs": [],
   "source": [
    "# import matplotlib.pyplot as plt\n",
    "# import matplotlib.dates as mdates\n",
    "\n",
    "# fig, (ax1, ax2) = plt.subplots(2, 1, sharex=True)\n",
    "\n",
    "# ax1.plot(best_return.index, best_return['returns'], linewidth=0.5)\n",
    "# ax1.set_title(\"Portfolio Returns\")\n",
    "\n",
    "# ax2.plot(best_return.index, best_return['values'], linewidth=0.5)\n",
    "# ax2.set_title(\"Portfolio Networth\")\n",
    "\n",
    "# ax2.set_xticklabels(ax2.get_xticks(), rotation=45)\n",
    "# ax2.xaxis.set_major_formatter(mdates.DateFormatter('%Y-%m-%d'))"
   ]
  },
  {
   "cell_type": "code",
   "execution_count": 17,
   "metadata": {},
   "outputs": [],
   "source": [
    "# import pyfolio\n",
    "\n",
    "# pyfolio.tears.create_full_tear_sheet(best_return['returns'])"
   ]
  },
  {
   "cell_type": "code",
   "execution_count": null,
   "metadata": {},
   "outputs": [],
   "source": []
  }
 ],
 "metadata": {
  "kernelspec": {
   "display_name": "Python 3 (ipykernel)",
   "language": "python",
   "name": "python3"
  },
  "language_info": {
   "codemirror_mode": {
    "name": "ipython",
    "version": 3
   },
   "file_extension": ".py",
   "mimetype": "text/x-python",
   "name": "python",
   "nbconvert_exporter": "python",
   "pygments_lexer": "ipython3",
   "version": "3.8.18"
  }
 },
 "nbformat": 4,
 "nbformat_minor": 4
}

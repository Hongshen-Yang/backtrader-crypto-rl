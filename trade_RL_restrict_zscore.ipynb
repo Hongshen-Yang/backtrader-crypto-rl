{
 "cells": [
  {
   "cell_type": "markdown",
   "metadata": {},
   "source": [
    "# Construct a custom Environment for Pair Trading\n",
    "\n",
    "Some examples on the market\n",
    "* [custom env example](https://colab.research.google.com/github/araffin/rl-tutorial-jnrr19/blob/sb3/5_custom_gym_env.ipynb#scrollTo=RqxatIwPOXe_)\n",
    "* [StockTradingEnv by Adam King](https://github.com/notadamking/Stock-Trading-Environment)\n",
    "* [FinRL](https://github.com/AI4Finance-Foundation/FinRL)\n",
    "\n",
    "Target is to construct a custom Env for pair trading\n",
    "\n",
    "This env restrict the behaviour of RL learner to pair trading only"
   ]
  },
  {
   "cell_type": "code",
   "execution_count": 1,
   "metadata": {},
   "outputs": [],
   "source": [
    "import warnings\n",
    "warnings.filterwarnings('ignore')\n",
    "\n",
    "import os, csv, pickle, shutil\n",
    "import numpy as np\n",
    "import pandas as pd\n",
    "import statsmodels.api as sm\n",
    "\n",
    "from datetime import date\n",
    "from envs.env_gridsearch import kellycriterion\n",
    "from sklearn.model_selection import train_test_split\n",
    "from stable_baselines3.common.vec_env import DummyVecEnv\n",
    "from utils.read2df import read2df\n",
    "from utils.rlmetrics import get_return, get_metrics\n",
    "from utils.clearlogs import clear_logs\n",
    "from envs.env_rl_restrict import PairTradingEnv\n",
    "from params import *\n",
    "\n",
    "from stable_baselines3 import PPO, A2C, DQN\n",
    "import quantstats as qs\n",
    "\n",
    "folder_path = f\"result/rl-restrict-zscore/\"\n",
    "os.makedirs(folder_path, exist_ok=True)"
   ]
  },
  {
   "cell_type": "markdown",
   "metadata": {},
   "source": [
    "Load data from `preliminaries.ipynb`"
   ]
  },
  {
   "cell_type": "code",
   "execution_count": 2,
   "metadata": {},
   "outputs": [],
   "source": [
    "# Load from cointncorr pickle file\n",
    "with open('result/cointncorr.pickle', 'rb') as pk:\n",
    "    data = pickle.load(pk)\n",
    "\n",
    "dfs = read2df(symbols=data[0], freqs={data[1]: freqs[data[1]]})\n",
    "\n",
    "df0 = dfs[0][dfs[0]['tic']==data[0][0]].reset_index(drop=True)\n",
    "df1 = dfs[0][dfs[0]['tic']==data[0][1]].reset_index(drop=True)\n",
    "\n",
    "# Because we want to calculate profit based on BTC. Hence the price need to be changed.\n",
    "df0 = df0[['time', 'close', 'volume', 'tic', 'itvl', 'datetime']]\n",
    "df0['close'] = df0['close'].apply(lambda x: 1/x)\n",
    "\n",
    "df1 = df1[['time', 'close', 'volume', 'tic', 'itvl', 'datetime']]\n",
    "df1['close'] = df1['close'].apply(lambda x: 1/x)"
   ]
  },
  {
   "cell_type": "markdown",
   "metadata": {},
   "source": [
    "Set data before `trade_data` as training data, after `trade_data` is trade_data"
   ]
  },
  {
   "cell_type": "code",
   "execution_count": 3,
   "metadata": {},
   "outputs": [
    {
     "name": "stdout",
     "output_type": "stream",
     "text": [
      "The length of our training data: 1331282\n"
     ]
    }
   ],
   "source": [
    "train0 = df0[df0['datetime'] < trade_date]\n",
    "train1 = df1[df1['datetime'] < trade_date]\n",
    "\n",
    "test0 = df0[df0['datetime'] >= trade_date]\n",
    "test1 = df1[df1['datetime'] >= trade_date]\n",
    "\n",
    "print(f\"The length of our training data: {len(train0)}\")"
   ]
  },
  {
   "cell_type": "markdown",
   "metadata": {},
   "source": [
    "## Check with baselin3 `env_checker`\n",
    "\n",
    "Check if the env meets the requirements of `stable_baseline3`"
   ]
  },
  {
   "cell_type": "code",
   "execution_count": 4,
   "metadata": {},
   "outputs": [],
   "source": [
    "from stable_baselines3.common.env_checker import check_env\n",
    "# > UserWarning: The action space is not based off a numpy array. Typically this means it's either a Dict or Tuple space. This type of action space is currently not supported by Stable Baselines 3. You should try to flatten the action using a wrapper.\n",
    "# Baseline 3 does not support Dict/Tuple action spaces....only Box Discrete MultiDiscrete MultiBinary\n",
    "# Is there another way to achieve the same functionality?\n",
    "\n",
    "env = PairTradingEnv(train0, train1, noThres=True)\n",
    "check_env(env)"
   ]
  },
  {
   "cell_type": "markdown",
   "metadata": {},
   "source": [
    "## Do an experimental run with randomly generated actions"
   ]
  },
  {
   "cell_type": "code",
   "execution_count": 5,
   "metadata": {},
   "outputs": [
    {
     "name": "stdout",
     "output_type": "stream",
     "text": [
      "observation_space: Dict('position': Discrete(3), 'zscore': Box(-inf, inf, (1,), float64))\n",
      "action_space: Discrete(4)\n",
      "action_space.sample: 0\n",
      "networth: 1.0, action: 2, position: 2, zscore: -0.7498675219653336 order_amount0: 20.634, order_amount1: -18.493000000000002 holding0: 20.634, holding1: -18.493000000000002 cash: 1.0, curr_price0: 0.004846370068818455, curr_price1: 0.005407451468123073 \n",
      "networth: 1.0, action: 0, position: 0, zscore: -0.7516868911149867 order_amount0: -41.268, order_amount1: 36.986000000000004 holding0: -20.634, holding1: 18.493000000000002 cash: 1.0, curr_price0: 0.004846370068818455, curr_price1: 0.005407451468123073 \n",
      "networth: 1.0, action: 1, position: 1, zscore: -0.7514654852045904 order_amount0: 20.634, order_amount1: -18.493000000000002 holding0: 0, holding1: 0 cash: 1.0, curr_price0: 0.004846370068818455, curr_price1: 0.005407451468123073 \n",
      "networth: 1.0, action: 3, position: 1, zscore: -0.7512441469138676 order_amount0: 20.634, order_amount1: -18.493000000000002 holding0: 0, holding1: 0 cash: 1.0, curr_price0: 0.004846370068818455, curr_price1: 0.005407451468123073 \n",
      "networth: 1.0, action: 0, position: 0, zscore: -0.7510228761947806 order_amount0: -20.634, order_amount1: 18.493000000000002 holding0: -20.634, holding1: 18.493000000000002 cash: 1.0, curr_price0: 0.004846370068818455, curr_price1: 0.005407451468123073 \n",
      "networth: 1.0, action: 1, position: 1, zscore: -0.7508016729993505 order_amount0: 20.634, order_amount1: -18.493000000000002 holding0: 0, holding1: 0 cash: 1.0, curr_price0: 0.004846370068818455, curr_price1: 0.005407451468123073 \n",
      "networth: 1.0, action: 0, position: 0, zscore: -0.7503491197992053 order_amount0: -20.634, order_amount1: 18.493000000000002 holding0: -20.634, holding1: 18.493000000000002 cash: 1.0, curr_price0: 0.004846370068818455, curr_price1: 0.005407451468123073 \n",
      "networth: 1.0, action: 0, position: 0, zscore: -0.7498968341825205 order_amount0: -20.634, order_amount1: 18.493000000000002 holding0: -20.634, holding1: 18.493000000000002 cash: 1.0, curr_price0: 0.004846370068818455, curr_price1: 0.005407451468123073 \n",
      "networth: 1.0, action: 2, position: 2, zscore: -0.7494448157651922 order_amount0: 41.268, order_amount1: -36.986000000000004 holding0: 20.634, holding1: -18.493000000000002 cash: 1.0, curr_price0: 0.004846370068818455, curr_price1: 0.005407451468123073 \n",
      "networth: 1.0, action: 3, position: 2, zscore: -0.7489930641638404 order_amount0: 41.268, order_amount1: -36.986000000000004 holding0: 20.634, holding1: -18.493000000000002 cash: 1.0, curr_price0: 0.004846370068818455, curr_price1: 0.005407451468123073 \n",
      "networth: 1.0, action: 3, position: 2, zscore: -0.7485415789958078 order_amount0: 41.268, order_amount1: -36.986000000000004 holding0: 20.634, holding1: -18.493000000000002 cash: 1.0, curr_price0: 0.004846370068818455, curr_price1: 0.005407451468123073 \n",
      "networth: 1.0, action: 3, position: 2, zscore: -0.7477305347673383 order_amount0: 41.268, order_amount1: -36.986000000000004 holding0: 20.634, holding1: -18.493000000000002 cash: 1.0, curr_price0: 0.004846370068818455, curr_price1: 0.005407451468123073 \n",
      "networth: 1.0, action: 0, position: 0, zscore: -0.7479148902087485 order_amount0: -41.268, order_amount1: 36.986000000000004 holding0: -20.634, holding1: 18.493000000000002 cash: 1.0, curr_price0: 0.004846370068818455, curr_price1: 0.005407451468123073 \n",
      "networth: 1.0, action: 3, position: 0, zscore: -0.7480992961529263 order_amount0: -41.268, order_amount1: 36.986000000000004 holding0: -20.634, holding1: 18.493000000000002 cash: 1.0, curr_price0: 0.004846370068818455, curr_price1: 0.005407451468123073 \n",
      "networth: 1.0, action: 2, position: 2, zscore: -0.7482837526305487 order_amount0: 41.268, order_amount1: -36.986000000000004 holding0: 20.634, holding1: -18.493000000000002 cash: 1.0, curr_price0: 0.004846370068818455, curr_price1: 0.005407451468123073 \n",
      "networth: 1.0, action: 2, position: 2, zscore: -0.748468259672305 order_amount0: 41.268, order_amount1: -36.986000000000004 holding0: 20.634, holding1: -18.493000000000002 cash: 1.0, curr_price0: 0.004846370068818455, curr_price1: 0.005407451468123073 \n",
      "networth: 1.0, action: 1, position: 1, zscore: -0.748444902005776 order_amount0: -20.634, order_amount1: 18.493000000000002 holding0: 0, holding1: 0 cash: 1.0, curr_price0: 0.004846370068818455, curr_price1: 0.005407451468123073 \n",
      "networth: 1.0, action: 2, position: 2, zscore: -0.748421545121025 order_amount0: 20.634, order_amount1: -18.493000000000002 holding0: 20.634, holding1: -18.493000000000002 cash: 1.0, curr_price0: 0.004846370068818455, curr_price1: 0.005407451468123073 \n",
      "networth: 1.0, action: 1, position: 1, zscore: -0.7483981890179884 order_amount0: -20.634, order_amount1: 18.493000000000002 holding0: 0, holding1: 0 cash: 1.0, curr_price0: 0.004846370068818455, curr_price1: 0.005407451468123073 \n",
      "networth: 1.0, action: 3, position: 1, zscore: -0.7483748336966111 order_amount0: -20.634, order_amount1: 18.493000000000002 holding0: 0, holding1: 0 cash: 1.0, curr_price0: 0.004846370068818455, curr_price1: 0.005407451468123073 \n"
     ]
    }
   ],
   "source": [
    "env = PairTradingEnv(train0, train1, tc=0, verbose=1, noThres=True, model=f\"{folder_path}/networth_experiment.csv\")\n",
    "obs, _ = env.reset()\n",
    "\n",
    "print(f\"observation_space: {env.observation_space}\")\n",
    "print(f\"action_space: {env.action_space}\")\n",
    "print(f\"action_space.sample: {env.action_space.sample()}\")\n",
    "\n",
    "n_steps = 20\n",
    "\n",
    "for step in range(n_steps):\n",
    "    obs, reward, terminated, truncated, info = env.step(action=env.action_space.sample())\n",
    "    done = terminated or truncated\n",
    "    env.render()\n",
    "    if done:\n",
    "        break"
   ]
  },
  {
   "cell_type": "markdown",
   "metadata": {},
   "source": [
    "## Models from stable_baselines3"
   ]
  },
  {
   "cell_type": "markdown",
   "metadata": {},
   "source": [
    "Delete existing tensorboard logs"
   ]
  },
  {
   "cell_type": "code",
   "execution_count": 6,
   "metadata": {},
   "outputs": [
    {
     "name": "stdout",
     "output_type": "stream",
     "text": [
      "Deleted: logs/restrict_zscore/PPO_1\n"
     ]
    }
   ],
   "source": [
    "log_path = f\"logs/restrict_zscore/\"\n",
    "clear_logs(log_path)"
   ]
  },
  {
   "cell_type": "markdown",
   "metadata": {},
   "source": [
    "Train with training data"
   ]
  },
  {
   "cell_type": "code",
   "execution_count": 7,
   "metadata": {},
   "outputs": [],
   "source": [
    "'''PPO'''\n",
    "\n",
    "env = PairTradingEnv(train0, train1, tc=0.00, noThres=True, model=f\"{folder_path}/networth_ppo.csv\")\n",
    "\n",
    "model_ppo = PPO(\"MultiInputPolicy\", env, verbose=0, tensorboard_log=log_path)\n",
    "model_ppo.learn(total_timesteps=250000)\n",
    "model_ppo.save(f\"{folder_path}/ppo_pairtrading\")"
   ]
  },
  {
   "cell_type": "code",
   "execution_count": null,
   "metadata": {},
   "outputs": [],
   "source": [
    "'''A2C'''\n",
    "\n",
    "from stable_baselines3 import A2C\n",
    "\n",
    "env = PairTradingEnv(train0, train1, tc=0.00, noThres=True, model=f\"{folder_path}/networth_a2c.csv\")\n",
    "\n",
    "model_a2c = A2C(\"MultiInputPolicy\", env, verbose=0, tensorboard_log=log_path)\n",
    "model_a2c.learn(total_timesteps=250000)\n",
    "model_a2c.save(f\"{folder_path}/a2c_pairtrading\")"
   ]
  },
  {
   "cell_type": "code",
   "execution_count": null,
   "metadata": {},
   "outputs": [],
   "source": [
    "'''DQN'''\n",
    "\n",
    "from stable_baselines3 import DQN\n",
    "\n",
    "env = PairTradingEnv(train0, train1, tc=0.00, noThres=True, model=f\"{folder_path}/networth_dqn.csv\")\n",
    "\n",
    "model_dqn = DQN(\"MultiInputPolicy\", env, verbose=0, tensorboard_log=log_path)\n",
    "model_dqn.learn(total_timesteps=250000)\n",
    "model_dqn.save(f\"{folder_path}/dqn_pairtrading\")"
   ]
  },
  {
   "cell_type": "markdown",
   "metadata": {},
   "source": [
    "## Use the model on Test data"
   ]
  },
  {
   "cell_type": "code",
   "execution_count": null,
   "metadata": {},
   "outputs": [],
   "source": [
    "# del model_ppo, model_a2c, model_dqn\n",
    "\n",
    "model_ppo = PPO.load(f\"{folder_path}/ppo_pairtrading\")\n",
    "model_a2c = A2C.load(f\"{folder_path}/a2c_pairtrading\")\n",
    "model_dqn = DQN.load(f\"{folder_path}/dqn_pairtrading\")"
   ]
  },
  {
   "cell_type": "code",
   "execution_count": null,
   "metadata": {},
   "outputs": [],
   "source": [
    "try:\n",
    "    os.remove(f\"{folder_path}/networth_ppo.csv\")\n",
    "except OSError:\n",
    "    pass\n",
    "\n",
    "env = PairTradingEnv(test0, test1, tc=0.00, noThres=True, model=f\"{folder_path}/networth_ppo.csv\")\n",
    "obs, _ = env.reset()\n",
    "\n",
    "while True:\n",
    "    action, _states = model_ppo.predict(obs)\n",
    "    observation, reward, terminated, truncated, info = env.step(action)\n",
    "    done = terminated or truncated\n",
    "    env.render()\n",
    "    if terminated:\n",
    "        print(\"Test Finished!\")\n",
    "        break\n",
    "    elif truncated:\n",
    "        print(\"bankrupted!\")\n",
    "        break"
   ]
  },
  {
   "cell_type": "code",
   "execution_count": null,
   "metadata": {},
   "outputs": [],
   "source": [
    "try:\n",
    "    os.remove(f\"{folder_path}/networth_a2c.csv\")\n",
    "except OSError:\n",
    "    pass\n",
    "\n",
    "env = PairTradingEnv(test0, test1, tc=0.00, noThres=True, model=f\"{folder_path}/networth_a2c.csv\")\n",
    "obs, _ = env.reset()\n",
    "\n",
    "while True:\n",
    "    action, _states = model_a2c.predict(obs)\n",
    "    observation, reward, terminated, truncated, info = env.step(action)\n",
    "    done = terminated or truncated\n",
    "    env.render()\n",
    "    if terminated:\n",
    "        print(\"Test Finished!\")\n",
    "        break\n",
    "    elif truncated:\n",
    "        print(\"bankrupted!\")\n",
    "        break"
   ]
  },
  {
   "cell_type": "code",
   "execution_count": null,
   "metadata": {},
   "outputs": [],
   "source": [
    "try:\n",
    "    os.remove(f\"{folder_path}/networth_dqn.csv\")\n",
    "except OSError:\n",
    "    pass\n",
    "\n",
    "env = PairTradingEnv(test0, test1, tc=0.00, noThres=True, model=f\"{folder_path}/networth_dqn.csv\")\n",
    "obs, _ = env.reset()\n",
    "\n",
    "while True:\n",
    "    action, _states = model_dqn.predict(obs)\n",
    "    observation, reward, terminated, truncated, info = env.step(action)\n",
    "    done = terminated or truncated\n",
    "    env.render()\n",
    "    if terminated:\n",
    "        print(\"Test Finished!\")\n",
    "        break\n",
    "    elif truncated:\n",
    "        print(\"bankrupted!\")\n",
    "        break"
   ]
  },
  {
   "cell_type": "markdown",
   "metadata": {},
   "source": [
    "### Analyze with Quanstats"
   ]
  },
  {
   "cell_type": "code",
   "execution_count": null,
   "metadata": {},
   "outputs": [],
   "source": [
    "os.remove(f\"{folder_path}/networth_experiment.csv\") if os.path.exists(f\"{folder_path}/networth_experiment.csv\") else None\n",
    "csv_files = [file for file in os.listdir(folder_path) if file.endswith('.csv')]\n",
    "\n",
    "best_res, best_model = None, None\n",
    "for file_name in csv_files:\n",
    "    file_path = os.path.join(folder_path, file_name)\n",
    "    \n",
    "    with open(file_path, 'r') as csv_file:\n",
    "        csv_reader = csv.reader(csv_file)\n",
    "        \n",
    "        # Loop through the lines in the CSV file\n",
    "        last_line = None\n",
    "        for row in csv_reader:\n",
    "            last_line = row  # Update last_line with the current row\n",
    "    \n",
    "    if best_res is None or float(best_res) < float(last_line[1]):\n",
    "        best_res = last_line[1]\n",
    "        best_model = file_name\n",
    "\n",
    "    print(f\"The ending capital of {file_name} is {last_line[0:2]}\")\n",
    "\n",
    "print(f\"The best model is {best_model}\")"
   ]
  },
  {
   "cell_type": "code",
   "execution_count": null,
   "metadata": {},
   "outputs": [],
   "source": [
    "best_return = get_return(f\"{folder_path}/{best_model}\")\n",
    "get_metrics(best_return)"
   ]
  },
  {
   "cell_type": "code",
   "execution_count": null,
   "metadata": {},
   "outputs": [],
   "source": [
    "qs.reports.basic(best_return['returns'])"
   ]
  },
  {
   "cell_type": "code",
   "execution_count": null,
   "metadata": {},
   "outputs": [],
   "source": []
  }
 ],
 "metadata": {
  "kernelspec": {
   "display_name": "Python 3 (ipykernel)",
   "language": "python",
   "name": "python3"
  },
  "language_info": {
   "codemirror_mode": {
    "name": "ipython",
    "version": 3
   },
   "file_extension": ".py",
   "mimetype": "text/x-python",
   "name": "python",
   "nbconvert_exporter": "python",
   "pygments_lexer": "ipython3",
   "version": "3.8.18"
  }
 },
 "nbformat": 4,
 "nbformat_minor": 4
}

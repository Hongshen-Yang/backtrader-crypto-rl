{
 "cells": [
  {
   "cell_type": "markdown",
   "metadata": {},
   "source": [
    "# Construct a custom Environment for Pair Trading\n",
    "\n",
    "Some examples on the market\n",
    "* [custom env example](https://colab.research.google.com/github/araffin/rl-tutorial-jnrr19/blob/sb3/5_custom_gym_env.ipynb#scrollTo=RqxatIwPOXe_)\n",
    "* [StockTradingEnv by Adam King](https://github.com/notadamking/Stock-Trading-Environment)\n",
    "* [FinRL](https://github.com/AI4Finance-Foundation/FinRL)\n",
    "\n",
    "Target is to construct a custom Env for pair trading\n",
    "\n",
    "This env restrict the behaviour of RL learner to pair trading only"
   ]
  },
  {
   "cell_type": "code",
   "execution_count": 1,
   "metadata": {},
   "outputs": [],
   "source": [
    "import warnings\n",
    "warnings.filterwarnings('ignore')\n",
    "\n",
    "import os, csv, pickle\n",
    "import numpy as np\n",
    "import pandas as pd\n",
    "import statsmodels.api as sm\n",
    "\n",
    "from datetime import date\n",
    "from envs.env_gridsearch import kellycriterion\n",
    "from sklearn.model_selection import train_test_split\n",
    "from stable_baselines3.common.vec_env import DummyVecEnv\n",
    "from utils.read2df import read2df\n",
    "from utils.rlmetrics import get_return, get_metrics\n",
    "from envs.env_rl_restrict import PairTradingEnv\n",
    "from params import *\n",
    "\n",
    "from stable_baselines3 import PPO, A2C, DQN\n",
    "import quantstats as qs\n",
    "\n",
    "folder_path = f\"result/rl-restrict-zscore/\"\n",
    "os.makedirs(folder_path, exist_ok=True)"
   ]
  },
  {
   "cell_type": "markdown",
   "metadata": {},
   "source": [
    "Load data from `preliminaries.ipynb`"
   ]
  },
  {
   "cell_type": "code",
   "execution_count": 2,
   "metadata": {},
   "outputs": [],
   "source": [
    "# Load from cointncorr pickle file\n",
    "with open('result/cointncorr.pickle', 'rb') as pk:\n",
    "    data = pickle.load(pk)\n",
    "\n",
    "dfs = read2df(symbols=data[0], freqs={data[1]: freqs[data[1]]})\n",
    "\n",
    "df0 = dfs[0][dfs[0]['tic']==data[0][0]].reset_index(drop=True)\n",
    "df1 = dfs[0][dfs[0]['tic']==data[0][1]].reset_index(drop=True)\n",
    "\n",
    "# Because we want to calculate profit based on BTC. Hence the price need to be changed.\n",
    "df0 = df0[['time', 'close', 'volume', 'tic', 'itvl', 'datetime']]\n",
    "df0['close'] = df0['close'].apply(lambda x: 1/x)\n",
    "\n",
    "df1 = df1[['time', 'close', 'volume', 'tic', 'itvl', 'datetime']]\n",
    "df1['close'] = df1['close'].apply(lambda x: 1/x)"
   ]
  },
  {
   "cell_type": "markdown",
   "metadata": {},
   "source": [
    "Set data before `trade_data` as training data, after `trade_data` is trade_data"
   ]
  },
  {
   "cell_type": "code",
   "execution_count": 3,
   "metadata": {},
   "outputs": [
    {
     "name": "stdout",
     "output_type": "stream",
     "text": [
      "The length of our training data: 1331282\n"
     ]
    }
   ],
   "source": [
    "train0 = df0[df0['datetime'] < trade_date]\n",
    "train1 = df1[df1['datetime'] < trade_date]\n",
    "\n",
    "test0 = df0[df0['datetime'] >= trade_date]\n",
    "test1 = df1[df1['datetime'] >= trade_date]\n",
    "\n",
    "print(f\"The length of our training data: {len(train0)}\")"
   ]
  },
  {
   "cell_type": "markdown",
   "metadata": {},
   "source": [
    "## Check with baselin3 `env_checker`\n",
    "\n",
    "Check if the env meets the requirements of `stable_baseline3`"
   ]
  },
  {
   "cell_type": "code",
   "execution_count": 4,
   "metadata": {},
   "outputs": [],
   "source": [
    "from stable_baselines3.common.env_checker import check_env\n",
    "# > UserWarning: The action space is not based off a numpy array. Typically this means it's either a Dict or Tuple space. This type of action space is currently not supported by Stable Baselines 3. You should try to flatten the action using a wrapper.\n",
    "# Baseline 3 does not support Dict/Tuple action spaces....only Box Discrete MultiDiscrete MultiBinary\n",
    "# Is there another way to achieve the same functionality?\n",
    "\n",
    "env = PairTradingEnv(train0, train1, noThres=True)\n",
    "check_env(env)"
   ]
  },
  {
   "cell_type": "markdown",
   "metadata": {},
   "source": [
    "## Do an experimental run with randomly generated actions"
   ]
  },
  {
   "cell_type": "code",
   "execution_count": 5,
   "metadata": {},
   "outputs": [
    {
     "name": "stdout",
     "output_type": "stream",
     "text": [
      "observation_space: Dict('position': Discrete(3), 'zscore': Box(-inf, inf, (1,), float64))\n",
      "action_space: Discrete(4)\n",
      "action_space.sample: 3\n",
      "networth: 1.0, action: 2, position: 2, kc: 1 order_amount0: 20.634, order_amount1: -18.493000000000002 holding0: 20.634, holding1: -18.493000000000002 cash: 1.0, curr_price0: 0.004846370068818455, curr_price1: 0.005407451468123073 \n",
      "networth: 1.0, action: 1, position: 1, kc: 1 order_amount0: -20.634, order_amount1: 18.493000000000002 holding0: 0, holding1: 0 cash: 1.0, curr_price0: 0.004846370068818455, curr_price1: 0.005407451468123073 \n",
      "networth: 1.0, action: 1, position: 1, kc: 1 order_amount0: 0, order_amount1: 0 holding0: 0, holding1: 0 cash: 1.0, curr_price0: 0.004846370068818455, curr_price1: 0.005407451468123073 \n",
      "networth: 1.0, action: 2, position: 2, kc: 1 order_amount0: 20.634, order_amount1: -18.493000000000002 holding0: 20.634, holding1: -18.493000000000002 cash: 1.0, curr_price0: 0.004846370068818455, curr_price1: 0.005407451468123073 \n",
      "networth: 1.0, action: 2, position: 2, kc: 1 order_amount0: 20.634, order_amount1: -18.493000000000002 holding0: 20.634, holding1: -18.493000000000002 cash: 1.0, curr_price0: 0.004846370068818455, curr_price1: 0.005407451468123073 \n",
      "networth: 1.0, action: 2, position: 2, kc: 1 order_amount0: 20.634, order_amount1: -18.493000000000002 holding0: 20.634, holding1: -18.493000000000002 cash: 1.0, curr_price0: 0.004846370068818455, curr_price1: 0.005407451468123073 \n",
      "networth: 1.0, action: 1, position: 1, kc: 1 order_amount0: -20.634, order_amount1: 18.493000000000002 holding0: 0, holding1: 0 cash: 1.0, curr_price0: 0.004846370068818455, curr_price1: 0.005407451468123073 \n",
      "networth: 1.0, action: 0, position: 0, kc: 1 order_amount0: -20.634, order_amount1: 18.493000000000002 holding0: -20.634, holding1: 18.493000000000002 cash: 1.0, curr_price0: 0.004846370068818455, curr_price1: 0.005407451468123073 \n",
      "networth: 1.0, action: 1, position: 1, kc: 1 order_amount0: 20.634, order_amount1: -18.493000000000002 holding0: 0, holding1: 0 cash: 1.0, curr_price0: 0.004846370068818455, curr_price1: 0.005407451468123073 \n",
      "networth: 1.0, action: 1, position: 1, kc: 1 order_amount0: 0, order_amount1: 0 holding0: 0, holding1: 0 cash: 1.0, curr_price0: 0.004846370068818455, curr_price1: 0.005407451468123073 \n",
      "networth: 1.0, action: 2, position: 2, kc: 1 order_amount0: 20.634, order_amount1: -18.493000000000002 holding0: 20.634, holding1: -18.493000000000002 cash: 1.0, curr_price0: 0.004846370068818455, curr_price1: 0.005407451468123073 \n",
      "networth: 1.0, action: 3, position: 2, kc: 1 order_amount0: 20.634, order_amount1: -18.493000000000002 holding0: 20.634, holding1: -18.493000000000002 cash: 1.0, curr_price0: 0.004846370068818455, curr_price1: 0.005407451468123073 \n",
      "networth: 1.0, action: 3, position: 2, kc: 1 order_amount0: 20.634, order_amount1: -18.493000000000002 holding0: 20.634, holding1: -18.493000000000002 cash: 1.0, curr_price0: 0.004846370068818455, curr_price1: 0.005407451468123073 \n",
      "networth: 1.0, action: 3, position: 2, kc: 1 order_amount0: 20.634, order_amount1: -18.493000000000002 holding0: 20.634, holding1: -18.493000000000002 cash: 1.0, curr_price0: 0.004846370068818455, curr_price1: 0.005407451468123073 \n",
      "networth: 1.0, action: 2, position: 2, kc: 1 order_amount0: 20.634, order_amount1: -18.493000000000002 holding0: 20.634, holding1: -18.493000000000002 cash: 1.0, curr_price0: 0.004846370068818455, curr_price1: 0.005407451468123073 \n",
      "networth: 1.0, action: 0, position: 0, kc: 1 order_amount0: -41.268, order_amount1: 36.986000000000004 holding0: -20.634, holding1: 18.493000000000002 cash: 1.0, curr_price0: 0.004846370068818455, curr_price1: 0.005407451468123073 \n",
      "networth: 1.0, action: 1, position: 1, kc: 1 order_amount0: 20.634, order_amount1: -18.493000000000002 holding0: 0, holding1: 0 cash: 1.0, curr_price0: 0.004846370068818455, curr_price1: 0.005407451468123073 \n",
      "networth: 1.0, action: 2, position: 2, kc: 1 order_amount0: 20.634, order_amount1: -18.493000000000002 holding0: 20.634, holding1: -18.493000000000002 cash: 1.0, curr_price0: 0.004846370068818455, curr_price1: 0.005407451468123073 \n",
      "networth: 1.0, action: 2, position: 2, kc: 1 order_amount0: 20.634, order_amount1: -18.493000000000002 holding0: 20.634, holding1: -18.493000000000002 cash: 1.0, curr_price0: 0.004846370068818455, curr_price1: 0.005407451468123073 \n",
      "networth: 1.0, action: 1, position: 1, kc: 1 order_amount0: -20.634, order_amount1: 18.493000000000002 holding0: 0, holding1: 0 cash: 1.0, curr_price0: 0.004846370068818455, curr_price1: 0.005407451468123073 \n"
     ]
    }
   ],
   "source": [
    "env = PairTradingEnv(train0, train1, tc=0, verbose=1, noThres=True, model=f\"{folder_path}/networth_experiment.csv\")\n",
    "obs, _ = env.reset()\n",
    "\n",
    "print(f\"observation_space: {env.observation_space}\")\n",
    "print(f\"action_space: {env.action_space}\")\n",
    "print(f\"action_space.sample: {env.action_space.sample()}\")\n",
    "\n",
    "n_steps = 20\n",
    "\n",
    "for step in range(n_steps):\n",
    "    obs, reward, terminated, truncated, info = env.step(action=env.action_space.sample())\n",
    "    done = terminated or truncated\n",
    "    env.render()\n",
    "    if done:\n",
    "        break"
   ]
  },
  {
   "cell_type": "markdown",
   "metadata": {},
   "source": [
    "## Models from stable_baselines3"
   ]
  },
  {
   "cell_type": "markdown",
   "metadata": {},
   "source": [
    "Delete existing tensorboard logs"
   ]
  },
  {
   "cell_type": "code",
   "execution_count": 6,
   "metadata": {},
   "outputs": [],
   "source": [
    "log_path = \"./logs/restrict_zscore/\"\n",
    "log_files = os.listdir(log_path)\n",
    "\n",
    "for file_name in log_files:\n",
    "    file_path = os.path.join(log_path, file_name)\n",
    "\n",
    "    if os.path.isfile(file_path):\n",
    "        os.remove(file_path)\n",
    "        print(f\"Deleted: {file_path}\")"
   ]
  },
  {
   "cell_type": "markdown",
   "metadata": {},
   "source": [
    "Train with training data"
   ]
  },
  {
   "cell_type": "code",
   "execution_count": 7,
   "metadata": {},
   "outputs": [],
   "source": [
    "'''PPO'''\n",
    "\n",
    "env = PairTradingEnv(train0, train1, tc=0.002, noThres=True, model=f\"{folder_path}/networth_ppo.csv\")\n",
    "\n",
    "model_ppo = PPO(\"MultiInputPolicy\", env, verbose=0, tensorboard_log=log_path)\n",
    "model_ppo.learn(total_timesteps=500000)\n",
    "model_ppo.save(f\"{folder_path}/ppo_pairtrading\")"
   ]
  },
  {
   "cell_type": "code",
   "execution_count": null,
   "metadata": {},
   "outputs": [],
   "source": [
    "'''A2C'''\n",
    "\n",
    "from stable_baselines3 import A2C\n",
    "\n",
    "env = PairTradingEnv(train0, train1, tc=0.002, noThres=True, model=f\"{folder_path}/networth_a2c.csv\")\n",
    "\n",
    "model_a2c = A2C(\"MultiInputPolicy\", env, verbose=0, tensorboard_log=log_path)\n",
    "model_a2c.learn(total_timesteps=500000)\n",
    "model_a2c.save(f\"{folder_path}/a2c_pairtrading\")"
   ]
  },
  {
   "cell_type": "code",
   "execution_count": null,
   "metadata": {},
   "outputs": [],
   "source": [
    "'''DQN'''\n",
    "\n",
    "from stable_baselines3 import DQN\n",
    "\n",
    "env = PairTradingEnv(train0, train1, tc=0.002, noThres=True, model=f\"{folder_path}/networth_dqn.csv\")\n",
    "\n",
    "model_dqn = DQN(\"MultiInputPolicy\", env, verbose=0, tensorboard_log=log_path)\n",
    "model_dqn.learn(total_timesteps=500000)\n",
    "model_dqn.save(f\"{folder_path}/dqn_pairtrading\")"
   ]
  },
  {
   "cell_type": "markdown",
   "metadata": {},
   "sour
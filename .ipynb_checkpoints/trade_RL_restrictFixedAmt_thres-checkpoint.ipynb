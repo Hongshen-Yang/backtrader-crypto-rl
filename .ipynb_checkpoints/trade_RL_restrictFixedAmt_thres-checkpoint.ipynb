{
 "cells": [
  {
   "cell_type": "markdown",
   "metadata": {},
   "source": [
    "# Construct a custom Environment for Pair Trading\n",
    "\n",
    "Some examples on the market\n",
    "* [custom env example](https://colab.research.google.com/github/araffin/rl-tutorial-jnrr19/blob/sb3/5_custom_gym_env.ipynb#scrollTo=RqxatIwPOXe_)\n",
    "* [StockTradingEnv by Adam King](https://github.com/notadamking/Stock-Trading-Environment)\n",
    "* [FinRL](https://github.com/AI4Finance-Foundation/FinRL)\n",
    "\n",
    "Target is to construct a custom Env for pair trading\n",
    "\n",
    "This env restrict the behaviour of RL learner to pair trading only"
   ]
  },
  {
   "cell_type": "markdown",
   "metadata": {},
   "source": [
    "## Import the Custom Trading Env"
   ]
  },
  {
   "cell_type": "code",
   "execution_count": 1,
   "metadata": {},
   "outputs": [],
   "source": [
    "import os\n",
    "import csv\n",
    "import pickle\n",
    "import pandas as pd\n",
    "import quantstats as qs\n",
    "import matplotlib.pyplot as plt\n",
    "from tqdm import trange\n",
    "from stable_baselines3 import PPO, A2C, DQN\n",
    "\n",
    "from params import *\n",
    "from utils.read2df import read2df, unify_dfs\n",
    "from utils.clearlogs import clear_logs\n",
    "from utils.rlmetrics import get_return, get_metrics\n",
    "from envs.env_rl_restrict_thres import RL_Restrict_TradeEnv\n",
    "\n",
    "folder_path = f\"result/rl-restrict-thres\"\n",
    "os.makedirs(folder_path, exist_ok=True)"
   ]
  },
  {
   "cell_type": "markdown",
   "metadata": {},
   "source": [
    "## Prepare Trading Data\n",
    "Load data from `preliminaries.ipynb`"
   ]
  },
  {
   "cell_type": "code",
   "execution_count": 2,
   "metadata": {},
   "outputs": [
    {
     "ename": "",
     "evalue": "",
     "output_type": "error",
     "traceback": [
      "\u001b[1;31mThe Kernel crashed while executing code in the current cell or a previous cell. \n",
      "\u001b[1;31mPlease review the code in the cell(s) to identify a possible cause of the failure. \n",
      "\u001b[1;31mClick <a href='https://aka.ms/vscodeJupyterKernelCrash'>here</a> for more info. \n",
      "\u001b[1;31mView Jupyter <a href='command:jupyter.viewOutput'>log</a> for further details."
     ]
    }
   ],
   "source": [
    "with open('result/cointncorr.pickle', 'rb') as pk:\n",
    "    cointncorr = pickle.load(pk)\n",
    "\n",
    "with open('result/gridsearch/best_res.pickle', 'rb') as pk:\n",
    "    best_profit, best_params = pickle.load(pk)\n",
    "\n",
    "dfs = read2df(symbols=cointncorr[0], freqs={cointncorr[1]: freqs[cointncorr[1]]}, marketType='spot')\n",
    "tics, df = unify_dfs(dfs, symbols=cointncorr[0], period=best_params['period'])"
   ]
  },
  {
   "cell_type": "code",
   "execution_count": null,
   "metadata": {},
   "outputs": [],
   "source": [
    "df.tail(10)"
   ]
  },
  {
   "cell_type": "code",
   "execution_count": null,
   "metadata": {},
   "outputs": [],
   "source": [
    "fig, (ax1, ax2) = plt.subplots(2, 1, sharex=True)\n",
    "\n",
    "ax1.plot(df['datetime'], df['spread'], label='spread')\n",
    "ax2.plot(df['datetime'], df['zscore'], label='zscore')\n",
    "\n",
    "ax1.legend()\n",
    "ax2.legend()\n",
    "plt.suptitle(f'The Spread between {cointncorr[0][0]} and {cointncorr[0][1]}')\n",
    "\n",
    "plt.xticks(rotation=45)\n",
    "plt.show()"
   ]
  },
  {
   "cell_type": "code",
   "execution_count": null,
   "metadata": {},
   "outputs": [],
   "source": [
    "train = df[(df['datetime'] >= datetime.strptime(start_date, date_format)) & (df['datetime'] < datetime.strptime(trade_date, date_format))]\n",
    "test = df[(df['datetime'] >= datetime.strptime(trade_date, date_format)) & (df['datetime'] < datetime.strptime(end_date, date_format))]\n",
    "\n",
    "max_train_len = int((len(train)-best_params['period']) * 0.95)\n",
    "print(f\"The length of our training data: {len(train)}\")"
   ]
  },
  {
   "cell_type": "markdown",
   "metadata": {},
   "source": [
    "## Check with baselin3 `env_checker`\n",
    "\n",
    "Check if the env meets the requirements of `stable_baseline3`"
   ]
  },
  {
   "cell_type": "code",
   "execution_count": null,
   "metadata": {},
   "outputs": [],
   "source": [
    "from stable_baselines3.common.env_checker import check_env\n",
    "\n",
    "env = RL_Restrict_TradeEnv(train)\n",
    "obs, _ = env.reset()\n",
    "check_env(env)"
   ]
  },
  {
   "cell_type": "markdown",
   "metadata": {},
   "source": [
    "Tensorboard"
   ]
  },
  {
   "cell_type": "markdown",
   "metadata": {},
   "source": [
    "## Train the Model with Trading Env"
   ]
  },
  {
   "cell_type": "code",
   "execution_count": null,
   "metadata": {},
   "outputs": [],
   "source": [
    "log_path = f\"logs/restrict_thres/\"\n",
    "clear_logs(log_path)\n",
    "\n",
    "# Read more about tensorboard\n",
    "# https://github.com/tensorflow/tensorboard/blob/master/README.md\n",
    "# https://www.tensorflow.org/tensorboard/get_started"
   ]
  },
  {
   "cell_type": "code",
   "execution_count": null,
   "metadata": {},
   "outputs": [],
   "source": [
    "'''PPO'''\n",
    "\n",
    "model_ppo = PPO(\"MultiInputPolicy\", env, verbose=0, gamma=1, batch_size=256, tensorboard_log=log_path)\n",
    "model_ppo.learn(total_timesteps=max_train_len, progress_bar=True)\n",
    "model_ppo.save(f\"{folder_path}/ppo_pairtrading\")"
   ]
  },
  {
   "cell_type": "code",
   "execution_count": null,
   "metadata": {},
   "outputs": [],
   "source": [
    "'''A2C'''\n",
    "\n",
    "model_a2c = A2C(\"MultiInputPolicy\", env, verbose=0, gamma=1, tensorboard_log=log_path)\n",
    "model_a2c.learn(total_timesteps=max_train_len, progress_bar=True)\n",
    "model_a2c.save(f\"{folder_path}/a2c_pairtrading\")"
   ]
  },
  {
   "cell_type": "code",
   "execution_count": null,
   "metadata": {},
   "outputs": [],
   "source": [
    "'''DQN'''\n",
    "\n",
    "model_dqn = DQN(\"MultiInputPolicy\", env, verbose=0, gamma=1, batch_size=256, tensorboard_log=log_path)\n",
    "model_dqn.learn(total_timesteps=max_train_len, progress_bar=True)\n",
    "model_dqn.save(f\"{folder_path}/dqn_pairtrading\")"
   ]
  },
  {
   "cell_type": "markdown",
   "metadata": {},
   "source": [
    "## Create the Custom Test Env"
   ]
  },
  {
   "cell_type": "code",
   "execution_count": null,
   "metadata": {},
   "outputs": [],
   "source": [
    "test_env_ppo = RL_Restrict_TradeEnv(test, model=f\"{folder_path}/networth_ppo.csv\", verbose=1)\n",
    "test_env_a2c = RL_Restrict_TradeEnv(test, model=f\"{folder_path}/networth_a2c.csv\", verbose=1)\n",
    "test_env_dqn = RL_Restrict_TradeEnv(test, model=f\"{folder_path}/networth_dqn.csv\", verbose=1)\n",
    "test_env_expt = RL_Restrict_TradeEnv(test, model=f\"{folder_path}/networth_expt.csv\", verbose=1)"
   ]
  },
  {
   "cell_type": "code",
   "execution_count": null,
   "metadata": {},
   "outputs": [],
   "source": [
    "max_test_len = int(len(test) * 0.95)\n",
    "print(f\"The length of our test data: {max_test_len}\")"
   ]
  },
  {
   "cell_type": "markdown",
   "metadata": {},
   "source": [
    "## Test Env with Trained Model"
   ]
  },
  {
   "cell_type": "code",
   "execution_count": null,
   "metadata": {},
   "outputs": [],
   "source": [
    "try:\n",
    "    os.remove(f\"{folder_path}/networth_ppo.csv\")\n",
    "except OSError:\n",
    "    pass\n",
    "\n",
    "obs, _ = test_env_ppo.reset()\n",
    "\n",
    "for i in trange(max_test_len):\n",
    "    action, _states = model_ppo.predict(obs)\n",
    "    obs, rewards, terminated, truncated, info = test_env_ppo.step(action)\n",
    "    if i%int(max_test_len/10)==0:\n",
    "        test_env_ppo.render()\n",
    "\n",
    "test_env_ppo.close()"
   ]
  },
  {
   "cell_type": "code",
   "execution_count": null,
   "metadata": {},
   "outputs": [],
   "source": [
    "try:\n",
    "    os.remove(f\"{folder_path}/networth_a2c.csv\")\n",
    "except OSError:\n",
    "    pass\n",
    "\n",
    "obs, _ = test_env_a2c.reset()\n",
    "\n",
    "for i in trange(max_test_len):\n",
    "    action, _states = model_a2c.predict(obs)\n",
    "    obs, rewards, terminated, truncated, info = test_env_a2c.step(action)\n",
    "    if i%int(max_test_len/10)==0:\n",
    "        test_env_a2c.render()\n",
    "\n",
    "test_env_a2c.close()"
   ]
  },
  {
   "cell_type": "code",
   "execution_count": null,
   "metadata": {},
   "outputs": [],
   "source": [
    "try:\n",
    "    os.remove(f\"{folder_path}/networth_dqn.csv\")\n",
    "except OSError:\n",
    "    pass\n",
    "\n",
    "obs, _ = test_env_dqn.reset()\n",
    "\n",
    "for i in trange(max_test_len):\n",
    "    action, _states = model_dqn.predict(obs)\n",
    "    obs, rewards, terminated, truncated, info = test_env_dqn.step(action)\n",
    "    if i%int(max_test_len/10)==0:\n",
    "        test_env_dqn.render()\n",
    "\n",
    "test_env_dqn.close()"
   ]
  },
  {
   "cell_type": "markdown",
   "metadata": {},
   "source": [
    "## Also run randomly generated actions"
   ]
  },
  {
   "cell_type": "code",
   "execution_count": null,
   "metadata": {},
   "outputs": [],
   "source": [
    "try:\n",
    "    os.remove(f\"{folder_path}/networth_expt.csv\")\n",
    "except OSError:\n",
    "    pass\n",
    "\n",
    "obs, _ = test_env_expt.reset()\n",
    "\n",
    "for i in trange(max_test_len):\n",
    "    obs, rewards, terminated, truncated, info = test_env_expt.step(action=env.action_space.sample())\n",
    "    if i%int(max_test_len/10)==0:\n",
    "        test_env_expt.render()\n",
    "\n",
    "test_env_expt.close()"
   ]
  },
  {
   "cell_type": "markdown",
   "metadata": {},
   "source": [
    "### Analyze with Quanstats"
   ]
  },
  {
   "cell_type": "code",
   "execution_count": null,
   "metadata": {},
   "outputs": [],
   "source": [
    "os.remove(f\"{folder_path}/networth_expt.csv\") if os.path.exists(f\"{folder_path}/networth_expt.csv\") else None\n",
    "\n",
    "csv_files = [file for file in os.listdir(folder_path) if file.endswith('.csv')]\n",
    "\n",
    "best_res, best_model = None, None\n",
    "for file_name in csv_files:\n",
    "    file_path = os.path.join(folder_path, file_name)\n",
    "    \n",
    "    with open(file_path, 'r') as csv_file:\n",
    "        csv_reader = csv.reader(csv_file)\n",
    "        \n",
    "        # Loop through the lines in the CSV file\n",
    "        last_line = None\n",
    "        for row in csv_reader:\n",
    "            last_line = row  # Update last_line with the current row\n",
    "    \n",
    "    if best_res is None or float(best_res) < float(last_line[1]):\n",
    "        best_res = last_line[1]\n",
    "        best_model = file_name\n",
    "\n",
    "    print(f\"The ending capital of {file_name} is {last_line[0:2]}\")\n",
    "\n",
    "print(f\"The best model is {best_model}\")"
   ]
  },
  {
   "cell_type": "code",
   "execution_count": null,
   "metadata": {},
   "outputs": [],
   "source": [
    "best_return = get_return(f'{folder_path}/{best_model}')\n",
    "get_metrics(best_return)"
   ]
  },
  {
   "cell_type": "code",
   "execution_count": null,
   "metadata": {},
   "outputs": [],
   "source": [
    "fig, ax = plt.subplots()\n",
    "\n",
    "ax.set_title(\"Profit and Loss\")\n",
    "ax.plot(best_return['returns'])\n",
    "\n",
    "plt.show()"
   ]
  },
  {
   "cell_type": "code",
   "execution_count": null,
   "metadata": {},
   "outputs": [],
   "source": [
    "qs.reports.full(best_return['returns'])"
   ]
  },
  {
   "cell_type": "code",
   "execution_count": null,
   "metadata": {},
   "outputs": [],
   "source": []
  }
 ],
 "metadata": {
  "kernelspec": {
   "display_name": "Python 3 (ipykernel)",
   "language": "python",
   "name": "python3"
  },
  "language_info": {
   "codemirror_mode": {
    "name": "ipython",
    "version": 3
   },
   "file_extension": ".py",
   "mimetype": "text/x-python",
   "name": "python",
   "nbconvert_exporter": "python",
   "pygments_lexer": "ipython3",
   "version": "3.8.18"
  }
 },
 "nbformat": 4,
 "nbformat_minor": 4
}

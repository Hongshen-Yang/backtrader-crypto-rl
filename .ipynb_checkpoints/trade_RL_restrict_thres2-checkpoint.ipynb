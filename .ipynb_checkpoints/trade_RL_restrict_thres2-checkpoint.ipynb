{
 "cells": [
  {
   "cell_type": "markdown",
   "metadata": {},
   "source": [
    "# Construct a custom Environment for Pair Trading\n",
    "\n",
    "Some examples on the market\n",
    "* [custom env example](https://colab.research.google.com/github/araffin/rl-tutorial-jnrr19/blob/sb3/5_custom_gym_env.ipynb#scrollTo=RqxatIwPOXe_)\n",
    "* [StockTradingEnv by Adam King](https://github.com/notadamking/Stock-Trading-Environment)\n",
    "* [FinRL](https://github.com/AI4Finance-Foundation/FinRL)\n",
    "\n",
    "Target is to construct a custom Env for pair trading\n",
    "\n",
    "This env restrict the behaviour of RL learner to pair trading only"
   ]
  },
  {
   "cell_type": "markdown",
   "metadata": {},
   "source": [
    "## 1. Import the Custom Trading Env"
   ]
  },
  {
   "cell_type": "code",
   "execution_count": null,
   "metadata": {},
   "outputs": [],
   "source": [
    "import os\n",
    "import pickle\n",
    "import pandas as pd\n",
    "import matplotlib.pyplot as plt\n",
    "from tqdm import trange\n",
    "from stable_baselines3 import PPO, A2C, DQN\n",
    "\n",
    "from params import *\n",
    "from utils.read2df import read2df, unify_dfs\n",
    "from utils.clearlogs import clear_logs\n",
    "from envs.env_rl_restrict_thres import RL_Restrict_TradeEnv\n",
    "\n",
    "folder_path = f\"result/rl-restrict-thres\"\n",
    "os.makedirs(folder_path, exist_ok=True)"
   ]
  },
  {
   "cell_type": "markdown",
   "metadata": {},
   "source": [
    "## 2. Prepare Trading Data\n",
    "Load data from `preliminaries.ipynb`"
   ]
  },
  {
   "cell_type": "code",
   "execution_count": null,
   "metadata": {},
   "outputs": [],
   "source": [
    "with open('result/cointncorr.pickle', 'rb') as pk:\n",
    "    cointncorr = pickle.load(pk)\n",
    "\n",
    "with open('result/gridsearch/best_res.pickle', 'rb') as pk:\n",
    "    best_profit, best_params = pickle.load(pk)\n",
    "\n",
    "dfs = read2df(symbols=cointncorr[0], freqs={cointncorr[1]: freqs[cointncorr[1]]})\n",
    "tics, df = unify_dfs(dfs, symbols=cointncorr[0], period=best_params['period'])"
   ]
  },
  {
   "cell_type": "code",
   "execution_count": null,
   "metadata": {},
   "outputs": [],
   "source": [
    "df.tail(20)"
   ]
  },
  {
   "cell_type": "code",
   "execution_count": null,
   "metadata": {},
   "outputs": [],
   "source": [
    "fig, (ax1, ax2) = plt.subplots(2, 1, sharex=True)\n",
    "\n",
    "ax1.plot(df['datetime'], df['spread'], label='spread')\n",
    "ax2.plot(df['datetime'], df['zscore'], label='zscore')\n",
    "\n",
    "ax1.legend()\n",
    "ax2.legend()\n",
    "plt.suptitle(f'The Spread between {cointncorr[0][0]} and {cointncorr[0][1]}')\n",
    "\n",
    "plt.xticks(rotation=45)\n",
    "plt.show()"
   ]
  },
  {
   "cell_type": "code",
   "execution_count": null,
   "metadata": {},
   "outputs": [],
   "source": [
    "train = df[(df['datetime'] >= datetime.strptime(start_date, date_format)) & (df['datetime'] < datetime.strptime(trade_date, date_format))]\n",
    "test = df[(df['datetime'] >= datetime.strptime(trade_date, date_format)) & (df['datetime'] < datetime.strptime(end_date, date_format))]\n",
    "\n",
    "max_train_len = (len(train)-best_params['period']) * 0.95\n",
    "print(f\"The length of our training data: {len(train)}\")"
   ]
  },
  {
   "cell_type": "markdown",
   "metadata": {},
   "source": [
    "## 3. Check with baselin3 `env_checker`\n",
    "\n",
    "Check if the env meets the requirements of `stable_baseline3`"
   ]
  },
  {
   "cell_type": "code",
   "execution_count": null,
   "metadata": {},
   "outputs": [],
   "source": [
    "from stable_baselines3.common.env_checker import check_env\n",
    "\n",
    "env = RL_Restrict_TradeEnv(train)\n",
    "obs, _ = env.reset()\n",
    "check_env(env)"
   ]
  },
  {
   "cell_type": "markdown",
   "metadata": {},
   "source": [
    "Tensorboard"
   ]
  },
  {
   "cell_type": "markdown",
   "metadata": {},
   "source": [
    "## 4. Train the Model with Trading Env"
   ]
  },
  {
   "cell_type": "code",
   "execution_count": null,
   "metadata": {},
   "outputs": [],
   "source": [
    "log_path = f\"logs/restrict_thres/\"\n",
    "clear_logs(log_path)\n",
    "\n",
    "# Read more about tensorboard\n",
    "# https://github.com/tensorflow/tensorboard/blob/master/README.md\n",
    "# https://www.tensorflow.org/tensorboard/get_started"
   ]
  },
  {
   "cell_type": "code",
   "execution_count": null,
   "metadata": {},
   "outputs": [
    {
     "name": "stdout",
     "output_type": "stream",
     "text": [
      "-------------------------------------------\n",
      "| time/                   |               |\n",
      "|    fps                  | 351           |\n",
      "|    iterations           | 22            |\n",
      "|    time_elapsed         | 128           |\n",
      "|    total_timesteps      | 45056         |\n",
      "| train/                  |               |\n",
      "|    approx_kl            | 0.00039190365 |\n",
      "|    clip_fraction        | 0.00293       |\n",
      "|    clip_range           | 0.2           |\n",
      "|    entropy_loss         | -0.0852       |\n",
      "|    explained_variance   | -0.000712     |\n",
      "|    learning_rate        | 0.0003        |\n",
      "|    loss                 | 157           |\n",
      "|    n_updates            | 210           |\n",
      "|    policy_gradient_loss | -0.00122      |\n",
      "|    value_loss           | 337           |\n",
      "-------------------------------------------\n"
     ]
    },
    {
     "name": "stdout",
     "output_type": "stream",
     "text": [
      "-------------------------------------------\n",
      "| time/                   |               |\n",
      "|    fps                  | 353           |\n",
      "|    iterations           | 23            |\n",
      "|    time_elapsed         | 133           |\n",
      "|    total_timesteps      | 47104         |\n",
      "| train/                  |               |\n",
      "|    approx_kl            | 0.00041572363 |\n",
      "|    clip_fraction        | 0.00293       |\n",
      "|    clip_range           | 0.2           |\n",
      "|    entropy_loss         | -0.0586       |\n",
      "|    explained_variance   | 3.04e-05      |\n",
      "|    learning_rate        | 0.0003        |\n",
      "|    loss                 | 158           |\n",
      "|    n_updates            | 220           |\n",
      "|    policy_gradient_loss | -0.00142      |\n",
      "|    value_loss           | 345           |\n",
      "-------------------------------------------\n"
     ]
    },
    {
     "name": "stdout",
     "output_type": "stream",
     "text": [
      "-------------------------------------------\n",
      "| time/                   |               |\n",
      "|    fps                  | 355           |\n",
      "|    iterations           | 24            |\n",
      "|    time_elapsed         | 138           |\n",
      "|    total_timesteps      | 49152         |\n",
      "| train/                  |               |\n",
      "|    approx_kl            | 3.7014164e-05 |\n",
      "|    clip_fraction        | 0             |\n",
      "|    clip_range           | 0.2           |\n",
      "|    entropy_loss         | -0.0738       |\n",
      "|    explained_variance   | 0.0027        |\n",
      "|    learning_rate        | 0.0003        |\n",
      "|    loss                 | 155           |\n",
      "|    n_updates            | 230           |\n",
      "|    policy_gradient_loss | -0.00028      |\n",
      "|    value_loss           | 337           |\n",
      "-------------------------------------------\n"
     ]
    },
    {
     "name": "stdout",
     "output_type": "stream",
     "text": [
      "-------------------------------------------\n",
      "| time/                   |               |\n",
      "|    fps                  | 356           |\n",
      "|    iterations           | 25            |\n",
      "|    time_elapsed         | 143           |\n",
      "|    total_timesteps      | 51200         |\n",
      "| train/                  |               |\n",
      "|    approx_kl            | 0.00014277536 |\n",
      "|    clip_fraction        | 0.00151       |\n",
      "|    clip_range           | 0.2           |\n",
      "|    entropy_loss         | -0.0816       |\n",
      "|    explained_variance   | 0.00157       |\n",
      "|    learning_rate        | 0.0003        |\n",
      "|    loss                 | 146           |\n",
      "|    n_updates            | 240           |\n",
      "|    policy_gradient_loss | -0.000629     |\n",
      "|    value_loss           | 320           |\n",
      "-------------------------------------------\n"
     ]
    },
    {
     "name": "stdout",
     "output_type": "stream",
     "text": [
      "-------------------------------------------\n",
      "| time/                   |               |\n",
      "|    fps                  | 357           |\n",
      "|    iterations           | 26            |\n",
      "|    time_elapsed         | 149           |\n",
      "|    total_timesteps      | 53248         |\n",
      "| train/                  |               |\n",
      "|    approx_kl            | 0.00036866544 |\n",
      "|    clip_fraction        | 0.00391       |\n",
      "|    clip_range           | 0.2           |\n",
      "|    entropy_loss         | -0.0825       |\n",
      "|    explained_variance   | 0.00215       |\n",
      "|    learning_rate        | 0.0003        |\n",
      "|    loss                 | 149           |\n",
      "|    n_updates            | 250           |\n",
      "|    policy_gradient_loss | -0.00163      |\n",
      "|    value_loss           | 327           |\n",
      "-------------------------------------------\n"
     ]
    },
    {
     "name": "stdout",
     "output_type": "stream",
     "text": [
      "------------------------------------------\n",
      "| time/                   |              |\n",
      "|    fps                  | 358          |\n",
      "|    iterations           | 27           |\n",
      "|    time_elapsed         | 154          |\n",
      "|    total_timesteps      | 55296        |\n",
      "| train/                  |              |\n",
      "|    approx_kl            | 0.0006094368 |\n",
      "|    clip_fraction        | 0.00781      |\n",
      "|    clip_range           | 0.2          |\n",
      "|    entropy_loss         | -0.0974      |\n",
      "|    explained_variance   | 0.00102      |\n",
      "|    learning_rate        | 0.0003       |\n",
      "|    loss                 | 156          |\n",
      "|    n_updates            | 260          |\n",
      "|    policy_gradient_loss | -0.00168     |\n",
      "|    value_loss           | 339          |\n",
      "------------------------------------------\n"
     ]
    },
    {
     "name": "stdout",
     "output_type": "stream",
     "text": [
      "-------------------------------------------\n",
      "| time/                   |               |\n",
      "|    fps                  | 359           |\n",
      "|    iterations           | 28            |\n",
      "|    time_elapsed         | 159           |\n",
      "|    total_timesteps      | 57344         |\n",
      "| train/                  |               |\n",
      "|    approx_kl            | 0.00023004919 |\n",
      "|    clip_fraction        | 0             |\n",
      "|    clip_range           | 0.2           |\n",
      "|    entropy_loss         | -0.0935       |\n",
      "|    explained_variance   | 0.000815      |\n",
      "|    learning_rate        | 0.0003        |\n",
      "|    loss                 | 143           |\n",
      "|    n_updates            | 270           |\n",
      "|    policy_gradient_loss | -0.000699     |\n",
      "|    value_loss           | 320           |\n",
      "-------------------------------------------\n"
     ]
    },
    {
     "name": "stdout",
     "output_type": "stream",
     "text": [
      "-------------------------------------------\n",
      "| time/                   |               |\n",
      "|    fps                  | 361           |\n",
      "|    iterations           | 29            |\n",
      "|    time_elapsed         | 164           |\n",
      "|    total_timesteps      | 59392         |\n",
      "| train/                  |               |\n",
      "|    approx_kl            | 0.00041149367 |\n",
      "|    clip_fraction        | 0.0042        |\n",
      "|    clip_range           | 0.2           |\n",
      "|    entropy_loss         | -0.0555       |\n",
      "|    explained_variance   | 0.000646      |\n",
      "|    learning_rate        | 0.0003        |\n",
      "|    loss                 | 155           |\n",
      "|    n_updates            | 280           |\n",
      "|    policy_gradient_loss | -0.000922     |\n",
      "|    value_loss           | 339           |\n",
      "-------------------------------------------\n"
     ]
    },
    {
     "name": "stdout",
     "output_type": "stream",
     "text": [
      "-------------------------------------------\n",
      "| time/                   |               |\n",
      "|    fps                  | 362           |\n",
      "|    iterations           | 30            |\n",
      "|    time_elapsed         | 169           |\n",
      "|    total_timesteps      | 61440         |\n",
      "| train/                  |               |\n",
      "|    approx_kl            | 0.00037754534 |\n",
      "|    clip_fraction        | 0.00308       |\n",
      "|    clip_range           | 0.2           |\n",
      "|    entropy_loss         | -0.0623       |\n",
      "|    explained_variance   | 0.000199      |\n",
      "|    learning_rate        | 0.0003        |\n",
      "|    loss                 | 150           |\n",
      "|    n_updates            | 290           |\n",
      "|    policy_gradient_loss | -0.000999     |\n",
      "|    value_loss           | 324           |\n",
      "-------------------------------------------\n"
     ]
    },
    {
     "name": "stdout",
     "output_type": "stream",
     "text": [
      "-------------------------------------------\n",
      "| time/                   |               |\n",
      "|    fps                  | 364           |\n",
      "|    iterations           | 31            |\n",
      "|    time_elapsed         | 174           |\n",
      "|    total_timesteps      | 63488         |\n",
      "| train/                  |               |\n",
      "|    approx_kl            | 0.00036344014 |\n",
      "|    clip_fraction        | 0.00244       |\n",
      "|    clip_range           | 0.2           |\n",
      "|    entropy_loss         | -0.0732       |\n",
      "|    explained_variance   | 3.53e-05      |\n",
      "|    learning_rate        | 0.0003        |\n",
      "|    loss                 | 154           |\n",
      "|    n_updates            | 300           |\n",
      "|    policy_gradient_loss | -0.00134      |\n",
      "|    value_loss           | 339           |\n",
      "-------------------------------------------\n"
     ]
    },
    {
     "name": "stdout",
     "output_type": "stream",
     "text": [
      "-------------------------------------------\n",
      "| time/                   |               |\n",
      "|    fps                  | 365           |\n",
      "|    iterations           | 32            |\n",
      "|    time_elapsed         | 179           |\n",
      "|    total_timesteps      | 65536         |\n",
      "| train/                  |               |\n",
      "|    approx_kl            | 0.00029333335 |\n",
      "|    clip_fraction        | 0.00132       |\n",
      "|    clip_range           | 0.2           |\n",
      "|    entropy_loss         | -0.0656       |\n",
      "|    explained_variance   | -0.00111      |\n",
      "|    learning_rate        | 0.0003        |\n",
      "|    loss                 | 150           |\n",
      "|    n_updates            | 310           |\n",
      "|    policy_gradient_loss | -0.00059      |\n",
      "|    value_loss           | 330           |\n",
      "-------------------------------------------\n"
     ]
    },
    {
     "name": "stdout",
     "output_type": "stream",
     "text": [
      "-------------------------------------------\n",
      "| time/                   |               |\n",
      "|    fps                  | 366           |\n",
      "|    iterations           | 33            |\n",
      "|    time_elapsed         | 184           |\n",
      "|    total_timesteps      | 67584         |\n",
      "| train/                  |               |\n",
      "|    approx_kl            | 0.00020467435 |\n",
      "|    clip_fraction        | 0.00322       |\n",
      "|    clip_range           | 0.2           |\n",
      "|    entropy_loss         | -0.0599       |\n",
      "|    explained_variance   | -0.000357     |\n",
      "|    learning_rate        | 0.0003        |\n",
      "|    loss                 | 156           |\n",
      "|    n_updates            | 320           |\n",
      "|    policy_gradient_loss | -0.0005       |\n",
      "|    value_loss           | 342           |\n",
      "-------------------------------------------\n"
     ]
    },
    {
     "name": "stdout",
     "output_type": "stream",
     "text": [
      "-------------------------------------------\n",
      "| time/                   |               |\n",
      "|    fps                  | 367           |\n",
      "|    iterations           | 34            |\n",
      "|    time_elapsed         | 189           |\n",
      "|    total_timesteps      | 69632         |\n",
      "| train/                  |               |\n",
      "|    approx_kl            | 0.00036096576 |\n",
      "|    clip_fraction        | 0.00278       |\n",
      "|    clip_range           | 0.2           |\n",
      "|    entropy_loss         | -0.0696       |\n",
      "|    explained_variance   | 0.00048       |\n",
      "|    learning_rate        | 0.0003        |\n",
      "|    loss                 | 148           |\n",
      "|    n_updates            | 330           |\n",
      "|    policy_gradient_loss | -0.00108      |\n",
      "|    value_loss           | 323           |\n",
      "-------------------------------------------\n"
     ]
    },
    {
     "name": "stdout",
     "output_type": "stream",
     "text": [
      "------------------------------------------\n",
      "| time/                   |              |\n",
      "|    fps                  | 368          |\n",
      "|    iterations           | 35           |\n",
      "|    time_elapsed         | 194          |\n",
      "|    total_timesteps      | 71680        |\n",
      "| train/                  |              |\n",
      "|    approx_kl            | 0.0013443009 |\n",
      "|    clip_fraction        | 0.00386      |\n",
      "|    clip_range           | 0.2          |\n",
      "|    entropy_loss         | -0.0633      |\n",
      "|    explained_variance   | -0.000103    |\n",
      "|    learning_rate        | 0.0003       |\n",
      "|    loss                 | 156          |\n",
      "|    n_updates            | 340          |\n",
      "|    policy_gradient_loss | -0.00219     |\n",
      "|    value_loss           | 339          |\n",
      "------------------------------------------\n"
     ]
    },
    {
     "name": "stdout",
     "output_type": "stream",
     "text": [
      "-----------------------------------------\n",
      "| time/                   |             |\n",
      "|    fps                  | 367         |\n",
      "|    iterations           | 36          |\n",
      "|    time_elapsed         | 200         |\n",
      "|    total_timesteps      | 73728       |\n",
      "| train/                  |             |\n",
      "|    approx_kl            | 0.001375996 |\n",
      "|    clip_fraction        | 0.0111      |\n",
      "|    clip_range           | 0.2         |\n",
      "|    entropy_loss         | -0.0726     |\n",
      "|    explained_variance   | -0.000349   |\n",
      "|    learning_rate        | 0.0003      |\n",
      "|    loss                 | 156         |\n",
      "|    n_updates            | 350         |\n",
      "|    policy_gradient_loss | -0.00194    |\n",
      "|    value_loss           | 339         |\n",
      "-----------------------------------------\n"
     ]
    },
    {
     "name": "stdout",
     "output_type": "stream",
     "text": [
      "-------------------------------------------\n",
      "| time/                   |               |\n",
      "|    fps                  | 367           |\n",
      "|    iterations           | 37            |\n",
      "|    time_elapsed         | 206           |\n",
      "|    total_timesteps      | 75776         |\n",
      "| train/                  |               |\n",
      "|    approx_kl            | 0.00097073324 |\n",
      "|    clip_fraction        | 0.00884       |\n",
      "|    clip_range           | 0.2           |\n",
      "|    entropy_loss         | -0.0752       |\n",
      "|    explained_variance   | 0.000305      |\n",
      "|    learning_rate        | 0.0003        |\n",
      "|    loss                 | 156           |\n",
      "|    n_updates            | 360           |\n",
      "|    policy_gradient_loss | -0.0015       |\n",
      "|    value_loss           | 344           |\n",
      "-------------------------------------------\n"
     ]
    },
    {
     "name": "stdout",
     "output_type": "stream",
     "text": [
      "------------------------------------------\n",
      "| time/                   |              |\n",
      "|    fps                  | 368          |\n",
      "|    iterations           | 38           |\n",
      "|    time_elapsed         | 211          |\n",
      "|    total_timesteps      | 77824        |\n",
      "| train/                  |              |\n",
      "|    approx_kl            | 0.0013730555 |\n",
      "|    clip_fraction        | 0.0144       |\n",
      "|    clip_range           | 0.2          |\n",
      "|    entropy_loss         | -0.0921      |\n",
      "|    explained_variance   | 0.000633     |\n",
      "|    learning_rate        | 0.0003       |\n",
      "|    loss                 | 151          |\n",
      "|    n_updates            | 370          |\n",
      "|    policy_gradient_loss | -0.00236     |\n",
      "|    value_loss           | 329          |\n",
      "------------------------------------------\n"
     ]
    },
    {
     "name": "stdout",
     "output_type": "stream",
     "text": [
      "-------------------------------------------\n",
      "| time/                   |               |\n",
      "|    fps                  | 369           |\n",
      "|    iterations           | 39            |\n",
      "|    time_elapsed         | 216           |\n",
      "|    total_timesteps      | 79872         |\n",
      "| train/                  |               |\n",
      "|    approx_kl            | 0.00025597433 |\n",
      "|    clip_fraction        | 0.00137       |\n",
      "|    clip_range           | 0.2           |\n",
      "|    entropy_loss         | -0.0737       |\n",
      "|    explained_variance   | 0.000417      |\n",
      "|    learning_rate        | 0.0003        |\n",
      "|    loss                 | 159           |\n",
      "|    n_updates            | 380           |\n",
      "|    policy_gradient_loss | -0.000957     |\n",
      "|    value_loss           | 348           |\n",
      "-------------------------------------------\n"
     ]
    },
    {
     "data": {
      "text/html": [
       "<pre style=\"white-space:pre;overflow-x:auto;line-height:normal;font-family:Menlo,'DejaVu Sans Mono',consolas,'Courier New',monospace\"></pre>\n"
      ],
      "text/plain": []
     },
     "metadata": {},
     "output_type": "display_data"
    },
    {
     "data": {
      "text/html": [
       "<pre style=\"white-space:pre;overflow-x:auto;line-height:normal;font-family:Menlo,'DejaVu Sans Mono',consolas,'Courier New',monospace\">\n",
       "</pre>\n"
      ],
      "text/plain": [
       "\n"
      ]
     },
     "metadata": {},
     "output_type": "display_data"
    }
   ],
   "source": [
    "'''PPO'''\n",
    "\n",
    "model_ppo = PPO(\"MultiInputPolicy\", env, verbose=1, gamma=1, batch_size=256)\n",
    "model_ppo.learn(total_timesteps=int(max_train_len), progress_bar=True)\n",
    "model_ppo.save(f\"{folder_path}/ppo_pairtrading\")"
   ]
  },
  {
   "cell_type": "markdown",
   "metadata": {},
   "source": [
    "## 5. Create the Custom Test Env"
   ]
  },
  {
   "cell_type": "code",
   "execution_count": null,
   "metadata": {},
   "outputs": [],
   "source": [
    "test_env = RL_Restrict_TradeEnv(test)"
   ]
  },
  {
   "cell_type": "code",
   "execution_count": null,
   "metadata": {},
   "outputs": [],
   "source": [
    "max_test_len = len(test) * 0.95\n",
    "print(f\"The length of our test data: {max_test_len}\")"
   ]
  },
  {
   "cell_type": "markdown",
   "metadata": {},
   "source": [
    "## 6. Test Env with Trained Model"
   ]
  },
  {
   "cell_type": "code",
   "execution_count": null,
   "metadata": {},
   "outputs": [],
   "source": [
    "try:\n",
    "    os.remove(f\"{folder_path}/networth_ppo.csv\")\n",
    "except OSError:\n",
    "    pass\n",
    "\n",
    "obs, _ = test_env.reset()\n",
    "\n",
    "for i in trange(int(max_test_len)):\n",
    "    action, _states = model_ppo.predict(obs)\n",
    "    obs, rewards, terminated, truncated, info = test_env.step(action)\n",
    "    # test_env.render()\n",
    "\n",
    "test_env.close()"
   ]
  },
  {
   "cell_type": "code",
   "execution_count": null,
   "metadata": {},
   "outputs": [],
   "source": []
  }
 ],
 "metadata": {
  "kernelspec": {
   "display_name": "Python 3 (ipykernel)",
   "language": "python",
   "name": "python3"
  },
  "language_info": {
   "codemirror_mode": {
    "name": "ipython",
    "version": 3
   },
   "file_extension": ".py",
   "mimetype": "text/x-python",
   "name": "python",
   "nbconvert_exporter": "python",
   "pygments_lexer": "ipython3",
   "version": "3.8.18"
  }
 },
 "nbformat": 4,
 "nbformat_minor": 4
}

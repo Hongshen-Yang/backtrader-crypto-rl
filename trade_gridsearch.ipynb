{
 "cells": [
  {
   "cell_type": "markdown",
   "metadata": {},
   "source": [
    "# Introduction\n",
    "\n",
    "* Thoughts on improve the profitability\n",
    "> Should find pairs with stronger relationship\n",
    ">\n",
    "> Should use some other econometrics model to calculate the spread (?Can we use something other than OLS?)\n",
    "\n",
    "This notebook aims for providing an experiment of traditional pair trading with parameter autotuning grid search.\n",
    "\n",
    "This experiment is based on [backtrader](https://www.backtrader.com/) which has an agnosticism philosophy that the data come in as a per-sample basis. Indicators are recalculate when new data come in."
   ]
  },
  {
   "cell_type": "code",
   "execution_count": 1,
   "metadata": {
    "tags": []
   },
   "outputs": [],
   "source": [
    "import warnings\n",
    "warnings.filterwarnings('ignore')\n",
    "\n",
    "import os\n",
    "import pyfolio\n",
    "import json\n",
    "import numpy as np\n",
    "import pandas as pd\n",
    "import statsmodels.api as sm\n",
    "import backtrader as bt\n",
    "\n",
    "from tqdm import tqdm\n",
    "from itertools import combinations\n",
    "# Find parameters in `params.py`\n",
    "from params import *\n",
    "from utils.gridsearch import gridsearch\n",
    "from utils.read2df import read2df\n",
    "from utils.cointncorr import CointnCorr\n",
    "from utils.resanalyse import res_analyse\n",
    "from utils.pyfolioprocess import pyfolio_process\n",
    "from envs.env_gridsearch import KellyCriterionIndicator, PairTrading\n",
    "\n",
    "cointncorrtxt = f\"result/gridsearch/cointncorr.txt\"\n",
    "\n",
    "os.makedirs(\"result/gridsearch\", exist_ok=True)\n",
    "os.remove(cointncorrtxt) if os.path.exists(cointncorrtxt) else None\n",
    "\n",
    "# for root, dirs, files in os.walk(f\"result/gridsearch/\"):\n",
    "#     for file in files:\n",
    "#         os.remove(os.path.join(root, file))"
   ]
  },
  {
   "cell_type": "markdown",
   "metadata": {},
   "source": [
    "# Data Preparation\n",
    "\n",
    "Download historical data for `symbols` after `start_date` with selected `freqs` from [`binance-public-data`](https://github.com/binance/binance-public-data/tree/master/python)\n",
    "\n",
    "We will train data from `start_date` until `trade_date`, and start trade after `trade_date`."
   ]
  },
  {
   "cell_type": "code",
   "execution_count": 2,
   "metadata": {},
   "outputs": [
    {
     "data": {
      "text/html": [
       "<div>\n",
       "<style scoped>\n",
       "    .dataframe tbody tr th:only-of-type {\n",
       "        vertical-align: middle;\n",
       "    }\n",
       "\n",
       "    .dataframe tbody tr th {\n",
       "        vertical-align: top;\n",
       "    }\n",
       "\n",
       "    .dataframe thead th {\n",
       "        text-align: right;\n",
       "    }\n",
       "</style>\n",
       "<table border=\"1\" class=\"dataframe\">\n",
       "  <thead>\n",
       "    <tr style=\"text-align: right;\">\n",
       "      <th></th>\n",
       "      <th>time</th>\n",
       "      <th>open</th>\n",
       "      <th>high</th>\n",
       "      <th>low</th>\n",
       "      <th>close</th>\n",
       "      <th>volume</th>\n",
       "      <th>tic</th>\n",
       "      <th>itvl</th>\n",
       "      <th>datetime</th>\n",
       "    </tr>\n",
       "  </thead>\n",
       "  <tbody>\n",
       "    <tr>\n",
       "      <th>0</th>\n",
       "      <td>1610434859999</td>\n",
       "      <td>36060.50</td>\n",
       "      <td>36060.50</td>\n",
       "      <td>36060.50</td>\n",
       "      <td>36060.50</td>\n",
       "      <td>0.469</td>\n",
       "      <td>BTCBUSD</td>\n",
       "      <td>1m</td>\n",
       "      <td>2021-01-12 07:00:59.999</td>\n",
       "    </tr>\n",
       "    <tr>\n",
       "      <th>1</th>\n",
       "      <td>1610434859999</td>\n",
       "      <td>36026.67</td>\n",
       "      <td>36150.00</td>\n",
       "      <td>36001.50</td>\n",
       "      <td>36112.93</td>\n",
       "      <td>287.146</td>\n",
       "      <td>BTCUSDT</td>\n",
       "      <td>1m</td>\n",
       "      <td>2021-01-12 07:00:59.999</td>\n",
       "    </tr>\n",
       "    <tr>\n",
       "      <th>2</th>\n",
       "      <td>1610434919999</td>\n",
       "      <td>36042.00</td>\n",
       "      <td>36042.00</td>\n",
       "      <td>36042.00</td>\n",
       "      <td>36042.00</td>\n",
       "      <td>0.001</td>\n",
       "      <td>BTCBUSD</td>\n",
       "      <td>1m</td>\n",
       "      <td>2021-01-12 07:01:59.999</td>\n",
       "    </tr>\n",
       "    <tr>\n",
       "      <th>3</th>\n",
       "      <td>1610434919999</td>\n",
       "      <td>36112.95</td>\n",
       "      <td>36112.95</td>\n",
       "      <td>35900.75</td>\n",
       "      <td>35900.75</td>\n",
       "      <td>229.559</td>\n",
       "      <td>BTCUSDT</td>\n",
       "      <td>1m</td>\n",
       "      <td>2021-01-12 07:01:59.999</td>\n",
       "    </tr>\n",
       "    <tr>\n",
       "      <th>4</th>\n",
       "      <td>1610434979999</td>\n",
       "      <td>36042.00</td>\n",
       "      <td>36042.00</td>\n",
       "      <td>35856.50</td>\n",
       "      <td>35856.50</td>\n",
       "      <td>0.906</td>\n",
       "      <td>BTCBUSD</td>\n",
       "      <td>1m</td>\n",
       "      <td>2021-01-12 07:02:59.999</td>\n",
       "    </tr>\n",
       "    <tr>\n",
       "      <th>...</th>\n",
       "      <td>...</td>\n",
       "      <td>...</td>\n",
       "      <td>...</td>\n",
       "      <td>...</td>\n",
       "      <td>...</td>\n",
       "      <td>...</td>\n",
       "      <td>...</td>\n",
       "      <td>...</td>\n",
       "      <td>...</td>\n",
       "    </tr>\n",
       "    <tr>\n",
       "      <th>2945395</th>\n",
       "      <td>1698796679999</td>\n",
       "      <td>34660.40</td>\n",
       "      <td>34677.00</td>\n",
       "      <td>34660.30</td>\n",
       "      <td>34677.00</td>\n",
       "      <td>69.881</td>\n",
       "      <td>BTCUSDT</td>\n",
       "      <td>1m</td>\n",
       "      <td>2023-10-31 23:57:46.880</td>\n",
       "    </tr>\n",
       "    <tr>\n",
       "      <th>2945396</th>\n",
       "      <td>1698796739999</td>\n",
       "      <td>34669.80</td>\n",
       "      <td>34669.90</td>\n",
       "      <td>34669.80</td>\n",
       "      <td>34669.90</td>\n",
       "      <td>0.687</td>\n",
       "      <td>BTCBUSD</td>\n",
       "      <td>1m</td>\n",
       "      <td>2023-10-31 23:59:57.952</td>\n",
       "    </tr>\n",
       "    <tr>\n",
       "      <th>2945397</th>\n",
       "      <td>1698796739999</td>\n",
       "      <td>34677.00</td>\n",
       "      <td>34677.00</td>\n",
       "      <td>34670.80</td>\n",
       "      <td>34671.70</td>\n",
       "      <td>54.919</td>\n",
       "      <td>BTCUSDT</td>\n",
       "      <td>1m</td>\n",
       "      <td>2023-10-31 23:59:57.952</td>\n",
       "    </tr>\n",
       "    <tr>\n",
       "      <th>2945398</th>\n",
       "      <td>1698796799999</td>\n",
       "      <td>34669.90</td>\n",
       "      <td>34669.90</td>\n",
       "      <td>34653.80</td>\n",
       "      <td>34653.80</td>\n",
       "      <td>4.307</td>\n",
       "      <td>BTCBUSD</td>\n",
       "      <td>1m</td>\n",
       "      <td>2023-10-31 23:59:57.952</td>\n",
       "    </tr>\n",
       "    <tr>\n",
       "      <th>2945399</th>\n",
       "      <td>1698796799999</td>\n",
       "      <td>34671.70</td>\n",
       "      <td>34675.40</td>\n",
       "      <td>34651.30</td>\n",
       "      <td>34651.40</td>\n",
       "      <td>119.791</td>\n",
       "      <td>BTCUSDT</td>\n",
       "      <td>1m</td>\n",
       "      <td>2023-10-31 23:59:57.952</td>\n",
       "    </tr>\n",
       "  </tbody>\n",
       "</table>\n",
       "<p>2945400 rows × 9 columns</p>\n",
       "</div>"
      ],
      "text/plain": [
       "                  time      open      high       low     close   volume  \\\n",
       "0        1610434859999  36060.50  36060.50  36060.50  36060.50    0.469   \n",
       "1        1610434859999  36026.67  36150.00  36001.50  36112.93  287.146   \n",
       "2        1610434919999  36042.00  36042.00  36042.00  36042.00    0.001   \n",
       "3        1610434919999  36112.95  36112.95  35900.75  35900.75  229.559   \n",
       "4        1610434979999  36042.00  36042.00  35856.50  35856.50    0.906   \n",
       "...                ...       ...       ...       ...       ...      ...   \n",
       "2945395  1698796679999  34660.40  34677.00  34660.30  34677.00   69.881   \n",
       "2945396  1698796739999  34669.80  34669.90  34669.80  34669.90    0.687   \n",
       "2945397  1698796739999  34677.00  34677.00  34670.80  34671.70   54.919   \n",
       "2945398  1698796799999  34669.90  34669.90  34653.80  34653.80    4.307   \n",
       "2945399  1698796799999  34671.70  34675.40  34651.30  34651.40  119.791   \n",
       "\n",
       "             tic itvl                datetime  \n",
       "0        BTCBUSD   1m 2021-01-12 07:00:59.999  \n",
       "1        BTCUSDT   1m 2021-01-12 07:00:59.999  \n",
       "2        BTCBUSD   1m 2021-01-12 07:01:59.999  \n",
       "3        BTCUSDT   1m 2021-01-12 07:01:59.999  \n",
       "4        BTCBUSD   1m 2021-01-12 07:02:59.999  \n",
       "...          ...  ...                     ...  \n",
       "2945395  BTCUSDT   1m 2023-10-31 23:57:46.880  \n",
       "2945396  BTCBUSD   1m 2023-10-31 23:59:57.952  \n",
       "2945397  BTCUSDT   1m 2023-10-31 23:59:57.952  \n",
       "2945398  BTCBUSD   1m 2023-10-31 23:59:57.952  \n",
       "2945399  BTCUSDT   1m 2023-10-31 23:59:57.952  \n",
       "\n",
       "[2945400 rows x 9 columns]"
      ]
     },
     "execution_count": 2,
     "metadata": {},
     "output_type": "execute_result"
    }
   ],
   "source": [
    "'''\n",
    "Read the downloaded OHLCV data into `pandas` dataframe\n",
    "'''\n",
    "\n",
    "# dfs = read2df(symbols, freqs)\n",
    "dfs = read2df(symbols, freqs, marketType='futures/um')\n",
    "\n",
    "# have a preview\n",
    "dfs[0]"
   ]
  },
  {
   "cell_type": "code",
   "execution_count": 3,
   "metadata": {},
   "outputs": [],
   "source": [
    "'''\n",
    "Set data before `trade_data` as training data, after `trade_data` is trade_data\n",
    "'''\n",
    "\n",
    "trains, tests = [], []\n",
    "for i in range(len(dfs)):\n",
    "    trains.append(dfs[i][(dfs[i]['datetime'] > start_date) & (dfs[i]['datetime'] < trade_date)].reset_index(drop=True))\n",
    "    tests.append(dfs[i][dfs[i]['datetime'] >= trade_date].reset_index(drop=True))"
   ]
  },
  {
   "cell_type": "markdown",
   "metadata": {},
   "source": [
    "# Cointegration and Correlation\n",
    "\n",
    "We need to make sure that our data is capable for pair trading. \n",
    "At least it should have the tendency to merge together therefore we test the coint and corr between every possible two pairs \n",
    "\n",
    "Calculate daily coint and corr for all the pairs\n",
    "Consider 1 day with 1440 minutes.\n",
    "\n",
    "Delete the pickle file in the `\\result` if want to recalculate"
   ]
  },
  {
   "cell_type": "code",
   "execution_count": 4,
   "metadata": {},
   "outputs": [
    {
     "name": "stdout",
     "output_type": "stream",
     "text": [
      "===========================================\n",
      "Data loaded as: BTCBUSD_BTCUSDT under 1m interval\n",
      "===========================================\n"
     ]
    }
   ],
   "source": [
    "'''\n",
    "Load data from pickle or recalculate\n",
    "'''\n",
    "\n",
    "import pickle\n",
    "\n",
    "# If there is already a pickle file\n",
    "pickle_file = 'result/cointncorr.pickle'\n",
    "\n",
    "if os.path.exists(pickle_file):\n",
    "    with open('result/cointncorr.pickle', 'rb') as pk:\n",
    "        data = pickle.load(pk)\n",
    "\n",
    "    freq_position = list(freqs.keys()).index(data[1])\n",
    "\n",
    "    df0 = dfs[freq_position][dfs[freq_position]['tic']==data[0][0]].reset_index(drop=True)\n",
    "    df1 = dfs[freq_position][dfs[freq_position]['tic']==data[0][1]].reset_index(drop=True)\n",
    "\n",
    "    pair, best_freq = data \n",
    "    best_pair = f\"{pair[0]}_{pair[1]}\"\n",
    "\n",
    "    print(\"===========================================\")\n",
    "    print(f\"Data loaded as: {best_pair} under {best_freq} interval\")\n",
    "    print(\"===========================================\")\n",
    "\n",
    "else: \n",
    "    # If there is no pickle file, then recalculate\n",
    "    # Takes a looooong time\n",
    "    tables = CointnCorr(trains, freqs).tabulate()\n",
    "\n",
    "    with open(cointncorrtxt, \"a\") as f:\n",
    "        for k, v in tables.items():\n",
    "            f.write(f\"{k}\\n\")\n",
    "            f.write(f\"{v}\\n\\n\")\n",
    "    f.close()\n",
    "\n",
    "    best_value = 0\n",
    "    for key in tables.keys():\n",
    "        for freq in freqs:\n",
    "            rel = tables[key].at['coint', freq] + tables[key].at['corr', freq]\n",
    "            if rel > best_value:\n",
    "                best_value = rel\n",
    "                best_pair = key\n",
    "                best_freq = freq\n",
    "\n",
    "    print(\"===========================================\")\n",
    "    print(f\"Best trading pairs shall be: {best_pair} under {best_freq} interval\")\n",
    "    print(f\"the coint is {round(tables[best_pair].at['coint', best_freq]*100, 2)}%\")\n",
    "    print(f\"and the corr is {round(tables[best_pair].at['corr', best_freq],3)}\")\n",
    "    print(\"===========================================\")"
   ]
  },
  {
   "cell_type": "code",
   "execution_count": 5,
   "metadata": {},
   "outputs": [
    {
     "data": {
      "image/png": "[encoded data removed]",
      "text/plain": [
       "<Figure size 640x480 with 1 Axes>"
      ]
     },
     "metadata": {},
     "output_type": "display_data"
    }
   ],
   "source": [
    "import matplotlib.pyplot as plt\n",
    "\n",
    "distance = df0['close']-df1['close']\n",
    "stddev = np.std(distance)\n",
    "\n",
    "plt.plot(df0['datetime'], distance, linewidth=0.5)\n",
    "plt.axhline(4*stddev, color='r', linestyle='--')\n",
    "plt.axhline(-4*stddev, color='r', linestyle='--')\n",
    "\n",
    "# Set labels and title\n",
    "plt.xlabel('Datetime')\n",
    "plt.xticks(rotation=45) \n",
    "\n",
    "# Display the plot\n",
    "plt.show()"
   ]
  },
  {
   "cell_type": "code",
   "execution_count": 6,
   "metadata": {},
   "outputs": [
    {
     "name": "stdout",
     "output_type": "stream",
     "text": [
      "length of train set is 902459\n"
     ]
    }
   ],
   "source": [
    "cointncorr = best_pair.split(\"_\"), best_freq\n",
    "\n",
    "with open('result/cointncorr.pickle', 'wb') as pk:\n",
    "    pickle.dump(cointncorr, pk)\n",
    "    \n",
    "freq_pos = list(freqs.keys()).index(best_freq)\n",
    "\n",
    "traindata0 = trains[freq_pos][trains[freq_pos]['tic']==best_pair.split('_')[0]].reset_index(drop=True)\n",
    "traindata1 = trains[freq_pos][trains[freq_pos]['tic']==best_pair.split('_')[1]].reset_index(drop=True)\n",
    "\n",
    "# How come a datetime of 2022(ish) is converted to 738786.635416655???\n",
    "datafeed0 = bt.feeds.PandasData(\n",
    "        dataname=traindata0,\n",
    "        datetime='datetime',\n",
    "        open='open',\n",
    "        high='high',\n",
    "        low='low',\n",
    "        close='close',\n",
    "        volume='volume',\n",
    "        openinterest=None,\n",
    "    )\n",
    "\n",
    "datafeed1 = bt.feeds.PandasData(\n",
    "        dataname=traindata1,\n",
    "        datetime='datetime',\n",
    "        open='open',\n",
    "        high='high',\n",
    "        low='low',\n",
    "        close='close',\n",
    "        volume='volume',\n",
    "        openinterest=None,\n",
    "    )\n",
    "\n",
    "datafeeds = [datafeed0, datafeed1]\n",
    "print(f\"length of train set is {len(traindata0)}\")"
   ]
  },
  {
   "cell_type": "markdown",
   "metadata": {},
   "source": [
    "# Execute the Strategy\n",
    "\n",
    "We should firstly have a test run on the strategy to make sure it works."
   ]
  },
  {
   "cell_type": "markdown",
   "metadata": {},
   "source": [
    "Submitted a PR for Backtrader-OLS results\n",
    "\n",
    "> https://github.com/mementum/backtrader/pull/487"
   ]
  },
  {
   "cell_type": "code",
   "execution_count": 11,
   "metadata": {},
   "outputs": [],
   "source": [
    "def cerebro_run(datafeeds, param):\n",
    "    # Create a Cerebro instance and add the data feed\n",
    "    cerebro = bt.Cerebro()\n",
    "    # TODO: should I include `best_pair` as a parameter?\n",
    "    cerebro.adddata(datafeeds[0], name=best_pair.split('_')[0])\n",
    "    cerebro.adddata(datafeeds[1], name=best_pair.split('_')[1])\n",
    "\n",
    "    # Set up other parameters for backtest\n",
    "    cerebro.broker.set_cash(100000)  # Set initial capital\n",
    "\n",
    "    # Binance fee structure\n",
    "    # https://www.binance.com/en-BH/support/faq/binance-futures-fee-structure-fee-calculations-360033544231\n",
    "    # cerebro.broker.setcommission(commission=0.0002)\n",
    "\n",
    "    # comminfo = PairTradingCommInfo(commission=0.002, margin=1000, mult=10)\n",
    "    # cerebro.broker.addcommissioninfo(comminfo)\n",
    "\n",
    "    # cerebro.addanalyzer(bt.analyzers.TimeReturn, _name='timereturns', compression=60)\n",
    "    cerebro.addanalyzer(bt.analyzers.Returns, _name='Returns')\n",
    "    # cerebro.addanalyzer(bt.analyzers.PyFolio, _name='pyfolio')\n",
    "    # cerebro.addanalyzer(bt.analyzers.TradeAnalyzer, _name='tradeanalyzer')\n",
    "    # cerebro.addsizer(KellyCriterionSizer)\n",
    "\n",
    "    cerebro.addstrategy(PairTrading, **param)\n",
    "    strats = cerebro.run()\n",
    "    return strats"
   ]
  },
  {
   "cell_type": "code",
   "execution_count": 8,
   "metadata": {
    "tags": []
   },
   "outputs": [
    {
     "name": "stdout",
     "output_type": "stream",
     "text": [
      "==================================================\n",
      "\n",
      "Open Threshold:7, Close Threshold:0.1, period: 1000\n",
      "\n",
      "Starting Value - 100000.00\n",
      "\n",
      "Ending   Value - 102452.79\n",
      "\n",
      "==================================================\n",
      "\n"
     ]
    }
   ],
   "source": [
    "# A test run\n",
    "# https://github.com/mementum/backtrader/blob/master/backtrader/indicators/ols.py\n",
    "# It always returns weird error like the number of params\n",
    "\n",
    "# 1. The default OLS indicator is precarious, always weird errors like num of params, or sometimes index error\n",
    "# 2. The custom indicator is precious as well. not trustworthy\n",
    "\n",
    "param = {'OPEN_THRE':7, 'CLOS_THRE':0.1, 'period':1000, 'verbose':2, 'prefix':'Experiment'}\n",
    "experiment = cerebro_run(datafeeds, param)"
   ]
  },
  {
   "cell_type": "markdown",
   "metadata": {},
   "source": [
    "# Grid Search the Strategy\n",
    "\n",
    "The grid search on all the possible results for an optimal outcome\n",
    "\n",
    "Define `scoring` function and `param_grid` for grid search\n",
    "\n",
    "then `gridsearch` from `utils.gridsearch`"
   ]
  },
  {
   "cell_type": "code",
   "execution_count": 12,
   "metadata": {},
   "outputs": [
    {
     "name": "stderr",
     "output_type": "stream",
     "text": [
      "100%|██████████| 2/2 [37:49<00:00, 1134.91s/it]"
     ]
    },
    {
     "name": "stdout",
     "output_type": "stream",
     "text": [
      "Best parameters as: {'OPEN_THRE': 6, 'CLOS_THRE': 0.1, 'period': 1000, 'verbose': 0, 'prefix': 'Gridsearch'}\n",
      "Best profit as: 0.02572196361556568\n"
     ]
    },
    {
     "name": "stderr",
     "output_type": "stream",
     "text": [
      "\n"
     ]
    }
   ],
   "source": [
    "datafeeds = [datafeed0, datafeed1]\n",
    "freq_adjust = freqs[best_freq]\n",
    "\n",
    "'''\n",
    "Seems longer period provides better result\n",
    "I guess its because the zscore is relatively stabler\n",
    "'''\n",
    "param_grid = {\n",
    "    'OPEN_THRE': [6, 7], # np.arange(6, 7, 1), \n",
    "    'CLOS_THRE': [0.1], # np.arange(0.1, 0.3, 0.2), \n",
    "    'period': [1000], # np.arange(800, 1200, 200),\n",
    "    'verbose': [0],\n",
    "    'prefix': ['Gridsearch']\n",
    "}\n",
    "\n",
    "def scoring(strats):\n",
    "    score = strats[0].analyzers.Returns.get_analysis()['rtot']\n",
    "    return score\n",
    "\n",
    "# included tqdm for progress bar\n",
    "# Take a loooong time\n",
    "best_profit, best_params, best_result = gridsearch(cerebro_run, param_grid, scoring, datafeeds)\n",
    "\n",
    "print(f\"Best parameters as: {best_params}\")\n",
    "print(f\"Best profit as: {best_profit}\")"
   ]
  },
  {
   "cell_type": "markdown",
   "metadata": {},
   "source": [
    "# Trade with test data"
   ]
  },
  {
   "cell_type": "code",
   "execution_count": 13,
   "metadata": {},
   "outputs": [],
   "source": [
    "freq_position = list(freqs.keys()).index(best_freq)\n",
    "\n",
    "testdata0 = tests[freq_position][tests[freq_position]['tic']==best_pair.split('_')[0]].reset_index(drop=True)\n",
    "testdata1 = tests[freq_position][tests[freq_position]['tic']==best_pair.split('_')[1]].reset_index(drop=True)\n",
    "\n",
    "test_datafeed0 = bt.feeds.PandasData(\n",
    "        dataname=testdata0,\n",
    "        datetime='datetime',\n",
    "        open='open',\n",
    "        high='high',\n",
    "        low='low',\n",
    "        close='close',\n",
    "        volume='volume',\n",
    "        openinterest=None,\n",
    "    )\n",
    "\n",
    "test_datafeed1 = bt.feeds.PandasData(\n",
    "        dataname=testdata1,\n",
    "        datetime='datetime',\n",
    "        open='open',\n",
    "        high='high',\n",
    "        low='low',\n",
    "        close='close',\n",
    "        volume='volume',\n",
    "        openinterest=None,\n",
    ")\n",
    "\n",
    "test_datafeeds = [test_datafeed0, test_datafeed1]"
   ]
  },
  {
   "cell_type": "code",
   "execution_count": 14,
   "metadata": {},
   "outputs": [
    {
     "name": "stdout",
     "output_type": "stream",
     "text": [
      "==================================================\n",
      "\n",
      "Open Threshold:6, Close Threshold:0.1, period: 1000\n",
      "\n",
      "Starting Value - 100000.00\n",
      "\n",
      "Ending   Value - 99043.18\n",
      "\n",
      "==================================================\n",
      "\n"
     ]
    }
   ],
   "source": [
    "best_params['verbose']=2\n",
    "best_params['prefix']= 'Test'\n",
    "# test_res = cerebro_run(test_datafeeds, best_params)\n",
    "\n",
    "test_res = cerebro_run(test_datafeeds, best_params)"
   ]
  },
  {
   "cell_type": "markdown",
   "metadata": {},
   "source": [
    "# Analyze with [Pyfolio](https://pyfolio.ml4trading.io/api-reference.html)\n",
    "\n",
    "#TODO: We need find a way to calculate the per arbitrage data!... or should we?\n",
    "\n",
    "Default package has an known error issue out of lack of maintainence, requires to modify the package manually\n",
    "> https://github.com/quantopian/pyfolio/issues/652\n",
    "\n",
    "Created a github merge\n",
    "> https://github.com/quantopian/pyfolio/pull/703"
   ]
  },
  {
   "cell_type": "markdown",
   "metadata": {},
   "source": [
    "### Analyze the grid search result"
   ]
  },
  {
   "cell_type": "code",
   "execution_count": 28,
   "metadata": {},
   "outputs": [
    {
     "data": {
      "text/plain": [
       "({'OPEN_THRE': 6,\n",
       "  'CLOS_THRE': 0.1,\n",
       "  'period': 1000,\n",
       "  'verbose': 2,\n",
       "  'prefix': 'Test'},\n",
       " ['BTCUSDT', 'BTCBUSD'],\n",
       " 'BTCBUSD')"
      ]
     },
     "execution_count": 28,
     "metadata": {},
     "output_type": "execute_result"
    }
   ],
   "source": [
    "best_params, "
   ]
  },
  {
   "cell_type": "code",
   "execution_count": 33,
   "metadata": {},
   "outputs": [],
   "source": [
    "from utils.rlmetrics import get_return, get_metrics\n",
    "\n",
    "result_path = \"result/gridsearch/\"\n",
    "files = os.listdir(result_path)\n",
    "gridsearch_files = [file for file in files if file.startswith(f\"Gridsearch_{test_datafeed0._name}_{test_datafeed1._name}_O{int(best_params['OPEN_THRE']*10)}C{int(best_params['CLOS_THRE']*10)}P{best_params['period']}\")]\n",
    "test_files = [file for file in files if file.startswith(f\"Test_{test_datafeed0._name}_{test_datafeed1._name}_O{int(best_params['OPEN_THRE']*10)}C{int(best_params['CLOS_THRE']*10)}P{best_params['period']}\")]"
   ]
  },
  {
   "cell_type": "code",
   "execution_count": 34,
   "metadata": {},
   "outputs": [
    {
     "name": "stdout",
     "output_type": "stream",
     "text": [
      "Total orders count: 901459\n",
      "Total long action: 1774\n",
      "Total short action: 1591\n",
      "Won orders count: 1774\n",
      "Lost orders count: 1591\n",
      "Win/Loss order ratio: 1.115021998742929\n",
      "Avg order pnl: 2.8674747486972353e-08\n",
      "Avg order pnl won: 6.150622547737343e-05\n",
      "Avg order pnl lost: -5.233371137775101e-05\n",
      "Avg long order pnl: 0.0\n",
      "Avg short order pnl: 0.0\n"
     ]
    }
   ],
   "source": [
    "best_return = get_return(result_path + gridsearch_files[0])\n",
    "get_metrics(best_return)"
   ]
  },
  {
   "cell_type": "code",
   "execution_count": 35,
   "metadata": {},
   "outputs": [
    {
     "data": {
      "image/png": "[encoded data removed]",
      "text/plain": [
       "<Figure size 640x480 with 2 Axes>"
      ]
     },
     "metadata": {},
     "output_type": "display_data"
    }
   ],
   "source": [
    "# pyfolio.tears.create_full_tear_sheet(best_return['returns'])\n",
    "\n",
    "import matplotlib.pyplot as plt\n",
    "import matplotlib.dates as mdates\n",
    "\n",
    "fig, (ax1, ax2) = plt.subplots(2, 1, sharex=True)\n",
    "\n",
    "ax1.plot(best_return.index, best_return['returns'], linewidth=0.5)\n",
    "ax1.set_title(\"Portfolio Returns\")\n",
    "\n",
    "ax2.plot(best_return.index, best_return['values'], linewidth=0.5)\n",
    "ax2.set_title(\"Portfolio Networth\")\n",
    "\n",
    "ax2.set_xticklabels(ax2.get_xticks(), rotation=45)\n",
    "ax2.xaxis.set_major_formatter(mdates.DateFormatter('%Y-%m-%d'))"
   ]
  },
  {
   "cell_type": "markdown",
   "metadata": {},
   "source": [
    "### Analyze the test result"
   ]
  },
  {
   "cell_type": "code",
   "execution_count": 36,
   "metadata": {},
   "outputs": [
    {
     "name": "stdout",
     "output_type": "stream",
     "text": [
      "Total orders count: 569241\n",
      "Total long action: 1641\n",
      "Total short action: 1664\n",
      "Won orders count: 1641\n",
      "Lost orders count: 1664\n",
      "Win/Loss order ratio: 0.9861778846153846\n",
      "Avg order pnl: -1.6626985144479004e-08\n",
      "Avg order pnl won: 8.197380676773424e-05\n",
      "Avg order pnl lost: -8.652871307480784e-05\n",
      "Avg long order pnl: 0.0\n",
      "Avg short order pnl: 0.0\n"
     ]
    }
   ],
   "source": [
    "test_return = get_return(result_path + test_files[0])\n",
    "get_metrics(test_return)"
   ]
  },
  {
   "cell_type": "code",
   "execution_count": 37,
   "metadata": {},
   "outputs": [
    {
     "data": {
      "image/png": "[encoded data removed]",
      "text/plain": [
       "<Figure size 640x480 with 2 Axes>"
      ]
     },
     "metadata": {},
     "output_type": "display_data"
    }
   ],
   "source": [
    "# pyfolio.tears.create_full_tear_sheet(test_return['returns'])\n",
    "\n",
    "fig, (ax1, ax2) = plt.subplots(2, 1, sharex=True)\n",
    "\n",
    "ax1.plot(test_return.index, test_return['returns'], linewidth=0.5)\n",
    "ax1.set_title(\"Portfolio Returns\")\n",
    "\n",
    "ax2.plot(test_return.index, test_return['values'], linewidth=0.5)\n",
    "ax2.set_title(\"Portfolio Networth\")\n",
    "\n",
    "ax2.set_xticklabels(ax2.get_xticks(), rotation=45)\n",
    "ax2.xaxis.set_major_formatter(mdates.DateFormatter('%Y-%m-%d'))"
   ]
  },
  {
   "cell_type": "code",
   "execution_count": null,
   "metadata": {},
   "outputs": [],
   "source": []
  }
 ],
 "metadata": {
  "kernelspec": {
   "display_name": "Python 3 (ipykernel)",
   "language": "python",
   "name": "python3"
  },
  "language_info": {
   "codemirror_mode": {
    "name": "ipython",
    "version": 3
   },
   "file_extension": ".py",
   "mimetype": "text/x-python",
   "name": "python",
   "nbconvert_exporter": "python",
   "pygments_lexer": "ipython3",
   "version": "3.9.18"
  },
  "toc": {
   "base_numbering": 1,
   "nav_menu": {},
   "number_sections": true,
   "sideBar": true,
   "skip_h1_title": false,
   "title_cell": "Table of Contents",
   "title_sidebar": "Contents",
   "toc_cell": false,
   "toc_position": {
    "height": "calc(100% - 180px)",
    "left": "10px",
    "top": "150px",
    "width": "541px"
   },
   "toc_section_display": true,
   "toc_window_display": true
  }
 },
 "nbformat": 4,
 "nbformat_minor": 4
}

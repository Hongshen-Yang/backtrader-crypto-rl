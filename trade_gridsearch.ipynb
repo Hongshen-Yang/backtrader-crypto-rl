{
 "cells": [
  {
   "cell_type": "markdown",
   "metadata": {},
   "source": [
    "# Introduction\n",
    "\n",
    "\n",
    "This notebook aims for providing an experiment of traditional pair trading with parameter autotuning grid search.\n",
    "\n",
    "This experiment is based on [backtrader](https://www.backtrader.com/) which has an agnosticism philosophy that the data come in as a per-sample basis. Indicators are recalculate when new data come in.\n",
    "\n",
    "And [Quantstat](https://github.com/ranaroussi/quantstats) for metrics and graphical analysis"
   ]
  },
  {
   "cell_type": "code",
   "execution_count": 1,
   "metadata": {
    "tags": []
   },
   "outputs": [],
   "source": [
    "import warnings\n",
    "warnings.filterwarnings('ignore')\n",
    "\n",
    "import os, json, pickle\n",
    "import numpy as np\n",
    "import pandas as pd\n",
    "import statsmodels.api as sm\n",
    "import backtrader as bt\n",
    "import quantstats as qs\n",
    "\n",
    "from tqdm import tqdm\n",
    "from itertools import combinations\n",
    "# Find parameters in `params.py`\n",
    "from params import *\n",
    "from utils.deletion import clear_previous_res\n",
    "from utils.gridsearch import gridsearch\n",
    "from utils.read2df import read2df\n",
    "from utils.cointncorr import CointnCorr\n",
    "from utils.resanalyse import res_analyse\n",
    "from utils.pyfolioprocess import pyfolio_process\n",
    "from utils.rlmetrics import get_return, get_metrics\n",
    "from envs.env_gridsearch import KellyCriterionIndicator, PairTrading\n",
    "\n",
    "folder_path = \"result/gridsearch\"\n",
    "os.makedirs(folder_path, exist_ok=True)"
   ]
  },
  {
   "cell_type": "markdown",
   "metadata": {},
   "source": [
    "# Data Preparation\n",
    "\n",
    "Load proper `symbols` and `freqs` from the analysis of `trade_preliminaries.ipynb`\n",
    "\n",
    "Then is split for train data and test data from `start_date` until `trade_date`, and start trade after `trade_date`."
   ]
  },
  {
   "cell_type": "code",
   "execution_count": 2,
   "metadata": {},
   "outputs": [
    {
     "name": "stdout",
     "output_type": "stream",
     "text": [
      "===========================================\n",
      "Data loaded as: ETHEUR_ETHGBP under 1m interval\n",
      "===========================================\n"
     ]
    },
    {
     "data": {
      "text/html": [
       "<div>\n",
       "<style scoped>\n",
       "    .dataframe tbody tr th:only-of-type {\n",
       "        vertical-align: middle;\n",
       "    }\n",
       "\n",
       "    .dataframe tbody tr th {\n",
       "        vertical-align: top;\n",
       "    }\n",
       "\n",
       "    .dataframe thead th {\n",
       "        text-align: right;\n",
       "    }\n",
       "</style>\n",
       "<table border=\"1\" class=\"dataframe\">\n",
       "  <thead>\n",
       "    <tr style=\"text-align: right;\">\n",
       "      <th></th>\n",
       "      <th>time</th>\n",
       "      <th>open</th>\n",
       "      <th>high</th>\n",
       "      <th>low</th>\n",
       "      <th>close</th>\n",
       "      <th>volume</th>\n",
       "      <th>tic</th>\n",
       "      <th>itvl</th>\n",
       "      <th>datetime</th>\n",
       "    </tr>\n",
       "  </thead>\n",
       "  <tbody>\n",
       "    <tr>\n",
       "      <th>0</th>\n",
       "      <td>1592560859999</td>\n",
       "      <td>207.15</td>\n",
       "      <td>207.15</td>\n",
       "      <td>207.15</td>\n",
       "      <td>207.15</td>\n",
       "      <td>0.00000</td>\n",
       "      <td>ETHEUR</td>\n",
       "      <td>1m</td>\n",
       "      <td>2020-06-19 10:00:59.999</td>\n",
       "    </tr>\n",
       "    <tr>\n",
       "      <th>1</th>\n",
       "      <td>1592560859999</td>\n",
       "      <td>184.44</td>\n",
       "      <td>184.44</td>\n",
       "      <td>184.44</td>\n",
       "      <td>184.44</td>\n",
       "      <td>0.05500</td>\n",
       "      <td>ETHGBP</td>\n",
       "      <td>1m</td>\n",
       "      <td>2020-06-19 10:00:59.999</td>\n",
       "    </tr>\n",
       "    <tr>\n",
       "      <th>2</th>\n",
       "      <td>1592560919999</td>\n",
       "      <td>207.15</td>\n",
       "      <td>207.15</td>\n",
       "      <td>207.15</td>\n",
       "      <td>207.15</td>\n",
       "      <td>0.00000</td>\n",
       "      <td>ETHEUR</td>\n",
       "      <td>1m</td>\n",
       "      <td>2020-06-19 10:01:59.999</td>\n",
       "    </tr>\n",
       "    <tr>\n",
       "      <th>3</th>\n",
       "      <td>1592560919999</td>\n",
       "      <td>184.78</td>\n",
       "      <td>184.78</td>\n",
       "      <td>184.78</td>\n",
       "      <td>184.78</td>\n",
       "      <td>0.68455</td>\n",
       "      <td>ETHGBP</td>\n",
       "      <td>1m</td>\n",
       "      <td>2020-06-19 10:01:59.999</td>\n",
       "    </tr>\n",
       "    <tr>\n",
       "      <th>4</th>\n",
       "      <td>1592560979999</td>\n",
       "      <td>207.15</td>\n",
       "      <td>207.15</td>\n",
       "      <td>207.15</td>\n",
       "      <td>207.15</td>\n",
       "      <td>0.00000</td>\n",
       "      <td>ETHEUR</td>\n",
       "      <td>1m</td>\n",
       "      <td>2020-06-19 10:02:59.999</td>\n",
       "    </tr>\n",
       "    <tr>\n",
       "      <th>5</th>\n",
       "      <td>1592560979999</td>\n",
       "      <td>184.78</td>\n",
       "      <td>184.78</td>\n",
       "      <td>184.78</td>\n",
       "      <td>184.78</td>\n",
       "      <td>0.00000</td>\n",
       "      <td>ETHGBP</td>\n",
       "      <td>1m</td>\n",
       "      <td>2020-06-19 10:02:59.999</td>\n",
       "    </tr>\n",
       "    <tr>\n",
       "      <th>6</th>\n",
       "      <td>1592561039999</td>\n",
       "      <td>206.00</td>\n",
       "      <td>206.00</td>\n",
       "      <td>206.00</td>\n",
       "      <td>206.00</td>\n",
       "      <td>0.18051</td>\n",
       "      <td>ETHEUR</td>\n",
       "      <td>1m</td>\n",
       "      <td>2020-06-19 10:03:59.999</td>\n",
       "    </tr>\n",
       "    <tr>\n",
       "      <th>7</th>\n",
       "      <td>1592561039999</td>\n",
       "      <td>184.78</td>\n",
       "      <td>184.78</td>\n",
       "      <td>184.78</td>\n",
       "      <td>184.78</td>\n",
       "      <td>0.00000</td>\n",
       "      <td>ETHGBP</td>\n",
       "      <td>1m</td>\n",
       "      <td>2020-06-19 10:03:59.999</td>\n",
       "    </tr>\n",
       "    <tr>\n",
       "      <th>8</th>\n",
       "      <td>1592561099999</td>\n",
       "      <td>206.00</td>\n",
       "      <td>206.00</td>\n",
       "      <td>206.00</td>\n",
       "      <td>206.00</td>\n",
       "      <td>0.00000</td>\n",
       "      <td>ETHEUR</td>\n",
       "      <td>1m</td>\n",
       "      <td>2020-06-19 10:04:59.999</td>\n",
       "    </tr>\n",
       "    <tr>\n",
       "      <th>9</th>\n",
       "      <td>1592561099999</td>\n",
       "      <td>184.78</td>\n",
       "      <td>184.78</td>\n",
       "      <td>184.78</td>\n",
       "      <td>184.78</td>\n",
       "      <td>0.00000</td>\n",
       "      <td>ETHGBP</td>\n",
       "      <td>1m</td>\n",
       "      <td>2020-06-19 10:04:59.999</td>\n",
       "    </tr>\n",
       "    <tr>\n",
       "      <th>10</th>\n",
       "      <td>1592561159999</td>\n",
       "      <td>206.00</td>\n",
       "      <td>206.00</td>\n",
       "      <td>206.00</td>\n",
       "      <td>206.00</td>\n",
       "      <td>0.00000</td>\n",
       "      <td>ETHEUR</td>\n",
       "      <td>1m</td>\n",
       "      <td>2020-06-19 10:05:59.999</td>\n",
       "    </tr>\n",
       "    <tr>\n",
       "      <th>11</th>\n",
       "      <td>1592561159999</td>\n",
       "      <td>184.78</td>\n",
       "      <td>184.78</td>\n",
       "      <td>184.78</td>\n",
       "      <td>184.78</td>\n",
       "      <td>0.00000</td>\n",
       "      <td>ETHGBP</td>\n",
       "      <td>1m</td>\n",
       "      <td>2020-06-19 10:05:59.999</td>\n",
       "    </tr>\n",
       "    <tr>\n",
       "      <th>12</th>\n",
       "      <td>1592561219999</td>\n",
       "      <td>206.00</td>\n",
       "      <td>206.00</td>\n",
       "      <td>206.00</td>\n",
       "      <td>206.00</td>\n",
       "      <td>0.00000</td>\n",
       "      <td>ETHEUR</td>\n",
       "      <td>1m</td>\n",
       "      <td>2020-06-19 10:06:59.999</td>\n",
       "    </tr>\n",
       "    <tr>\n",
       "      <th>13</th>\n",
       "      <td>1592561219999</td>\n",
       "      <td>184.78</td>\n",
       "      <td>184.78</td>\n",
       "      <td>184.78</td>\n",
       "      <td>184.78</td>\n",
       "      <td>0.00000</td>\n",
       "      <td>ETHGBP</td>\n",
       "      <td>1m</td>\n",
       "      <td>2020-06-19 10:06:59.999</td>\n",
       "    </tr>\n",
       "    <tr>\n",
       "      <th>14</th>\n",
       "      <td>1592561279999</td>\n",
       "      <td>206.00</td>\n",
       "      <td>206.00</td>\n",
       "      <td>206.00</td>\n",
       "      <td>206.00</td>\n",
       "      <td>0.00000</td>\n",
       "      <td>ETHEUR</td>\n",
       "      <td>1m</td>\n",
       "      <td>2020-06-19 10:07:59.999</td>\n",
       "    </tr>\n",
       "    <tr>\n",
       "      <th>15</th>\n",
       "      <td>1592561279999</td>\n",
       "      <td>184.83</td>\n",
       "      <td>185.02</td>\n",
       "      <td>184.82</td>\n",
       "      <td>184.92</td>\n",
       "      <td>2.26315</td>\n",
       "      <td>ETHGBP</td>\n",
       "      <td>1m</td>\n",
       "      <td>2020-06-19 10:07:59.999</td>\n",
       "    </tr>\n",
       "    <tr>\n",
       "      <th>16</th>\n",
       "      <td>1592561339999</td>\n",
       "      <td>206.00</td>\n",
       "      <td>206.00</td>\n",
       "      <td>206.00</td>\n",
       "      <td>206.00</td>\n",
       "      <td>0.00000</td>\n",
       "      <td>ETHEUR</td>\n",
       "      <td>1m</td>\n",
       "      <td>2020-06-19 10:08:59.999</td>\n",
       "    </tr>\n",
       "    <tr>\n",
       "      <th>17</th>\n",
       "      <td>1592561339999</td>\n",
       "      <td>184.92</td>\n",
       "      <td>184.92</td>\n",
       "      <td>184.92</td>\n",
       "      <td>184.92</td>\n",
       "      <td>0.00000</td>\n",
       "      <td>ETHGBP</td>\n",
       "      <td>1m</td>\n",
       "      <td>2020-06-19 10:08:59.999</td>\n",
       "    </tr>\n",
       "    <tr>\n",
       "      <th>18</th>\n",
       "      <td>1592561399999</td>\n",
       "      <td>206.00</td>\n",
       "      <td>206.00</td>\n",
       "      <td>206.00</td>\n",
       "      <td>206.00</td>\n",
       "      <td>0.00000</td>\n",
       "      <td>ETHEUR</td>\n",
       "      <td>1m</td>\n",
       "      <td>2020-06-19 10:09:59.999</td>\n",
       "    </tr>\n",
       "    <tr>\n",
       "      <th>19</th>\n",
       "      <td>1592561399999</td>\n",
       "      <td>184.92</td>\n",
       "      <td>184.92</td>\n",
       "      <td>184.92</td>\n",
       "      <td>184.92</td>\n",
       "      <td>0.00000</td>\n",
       "      <td>ETHGBP</td>\n",
       "      <td>1m</td>\n",
       "      <td>2020-06-19 10:09:59.999</td>\n",
       "    </tr>\n",
       "  </tbody>\n",
       "</table>\n",
       "</div>"
      ],
      "text/plain": [
       "             time    open    high     low   close   volume     tic itvl  \\\n",
       "0   1592560859999  207.15  207.15  207.15  207.15  0.00000  ETHEUR   1m   \n",
       "1   1592560859999  184.44  184.44  184.44  184.44  0.05500  ETHGBP   1m   \n",
       "2   1592560919999  207.15  207.15  207.15  207.15  0.00000  ETHEUR   1m   \n",
       "3   1592560919999  184.78  184.78  184.78  184.78  0.68455  ETHGBP   1m   \n",
       "4   1592560979999  207.15  207.15  207.15  207.15  0.00000  ETHEUR   1m   \n",
       "5   1592560979999  184.78  184.78  184.78  184.78  0.00000  ETHGBP   1m   \n",
       "6   1592561039999  206.00  206.00  206.00  206.00  0.18051  ETHEUR   1m   \n",
       "7   1592561039999  184.78  184.78  184.78  184.78  0.00000  ETHGBP   1m   \n",
       "8   1592561099999  206.00  206.00  206.00  206.00  0.00000  ETHEUR   1m   \n",
       "9   1592561099999  184.78  184.78  184.78  184.78  0.00000  ETHGBP   1m   \n",
       "10  1592561159999  206.00  206.00  206.00  206.00  0.00000  ETHEUR   1m   \n",
       "11  1592561159999  184.78  184.78  184.78  184.78  0.00000  ETHGBP   1m   \n",
       "12  1592561219999  206.00  206.00  206.00  206.00  0.00000  ETHEUR   1m   \n",
       "13  1592561219999  184.78  184.78  184.78  184.78  0.00000  ETHGBP   1m   \n",
       "14  1592561279999  206.00  206.00  206.00  206.00  0.00000  ETHEUR   1m   \n",
       "15  1592561279999  184.83  185.02  184.82  184.92  2.26315  ETHGBP   1m   \n",
       "16  1592561339999  206.00  206.00  206.00  206.00  0.00000  ETHEUR   1m   \n",
       "17  1592561339999  184.92  184.92  184.92  184.92  0.00000  ETHGBP   1m   \n",
       "18  1592561399999  206.00  206.00  206.00  206.00  0.00000  ETHEUR   1m   \n",
       "19  1592561399999  184.92  184.92  184.92  184.92  0.00000  ETHGBP   1m   \n",
       "\n",
       "                  datetime  \n",
       "0  2020-06-19 10:00:59.999  \n",
       "1  2020-06-19 10:00:59.999  \n",
       "2  2020-06-19 10:01:59.999  \n",
       "3  2020-06-19 10:01:59.999  \n",
       "4  2020-06-19 10:02:59.999  \n",
       "5  2020-06-19 10:02:59.999  \n",
       "6  2020-06-19 10:03:59.999  \n",
       "7  2020-06-19 10:03:59.999  \n",
       "8  2020-06-19 10:04:59.999  \n",
       "9  2020-06-19 10:04:59.999  \n",
       "10 2020-06-19 10:05:59.999  \n",
       "11 2020-06-19 10:05:59.999  \n",
       "12 2020-06-19 10:06:59.999  \n",
       "13 2020-06-19 10:06:59.999  \n",
       "14 2020-06-19 10:07:59.999  \n",
       "15 2020-06-19 10:07:59.999  \n",
       "16 2020-06-19 10:08:59.999  \n",
       "17 2020-06-19 10:08:59.999  \n",
       "18 2020-06-19 10:09:59.999  \n",
       "19 2020-06-19 10:09:59.999  "
      ]
     },
     "execution_count": 2,
     "metadata": {},
     "output_type": "execute_result"
    }
   ],
   "source": [
    "# Load from cointncorr pickle file\n",
    "with open('result/cointncorr.pickle', 'rb') as pk:\n",
    "    data = pickle.load(pk)\n",
    "\n",
    "# dfs = read2df(symbols, freqs)\n",
    "dfs = read2df(symbols=data[0], freqs={data[1]: freqs[data[1]]})\n",
    "\n",
    "freq_position = list(freqs.keys()).index(data[1])\n",
    "\n",
    "df0 = dfs[freq_position][dfs[freq_position]['tic']==data[0][0]].reset_index(drop=True)\n",
    "df1 = dfs[freq_position][dfs[freq_position]['tic']==data[0][1]].reset_index(drop=True)\n",
    "\n",
    "# Because we want to calculate profit based on BTC. Hence the price need to be changed.\n",
    "df0 = df0[['time', 'close', 'volume', 'tic', 'itvl', 'datetime']]\n",
    "df0['close'] = df0['close'].apply(lambda x: 1/x)\n",
    "\n",
    "df1 = df1[['time', 'close', 'volume', 'tic', 'itvl', 'datetime']]\n",
    "df1['close'] = df1['close'].apply(lambda x: 1/x)\n",
    "\n",
    "pair, best_freq = data \n",
    "best_pair = f\"{pair[0]}_{pair[1]}\"\n",
    "\n",
    "print(\"===========================================\")\n",
    "print(f\"Data loaded as: {best_pair} under {best_freq} interval\")\n",
    "print(\"===========================================\")\n",
    "\n",
    "# have a preview\n",
    "dfs[0].head(20)"
   ]
  },
  {
   "cell_type": "code",
   "execution_count": 3,
   "metadata": {},
   "outputs": [],
   "source": [
    "'''\n",
    "Set data before `trade_data` as training data, after `trade_data` is trade_data\n",
    "'''\n",
    "\n",
    "trains, tests = [], []\n",
    "for i in range(len(dfs)):\n",
    "    trains.append(dfs[i][(dfs[i]['datetime'] > start_date) & (dfs[i]['datetime'] < trade_date)].reset_index(drop=True))\n",
    "    tests.append(dfs[i][dfs[i]['datetime'] >= trade_date].reset_index(drop=True))"
   ]
  },
  {
   "cell_type": "markdown",
   "metadata": {},
   "source": [
    "# Cointegration and Correlation\n",
    "\n",
    "We need to make sure that our data is capable for pair trading. \n",
    "At least it should have the tendency to merge together therefore we test the coint and corr between every possible two pairs \n",
    "\n",
    "Calculate daily coint and corr for all the pairs\n",
    "Consider 1 day with 1440 minutes.\n",
    "\n",
    "Delete the pickle file in the `\\result` if want to recalculate"
   ]
  },
  {
   "cell_type": "code",
   "execution_count": 4,
   "metadata": {},
   "outputs": [
    {
     "data": {
      "image/png": "[encoded data removed]",
      "text/plain": [
       "<Figure size 1000x600 with 1 Axes>"
      ]
     },
     "metadata": {},
     "output_type": "display_data"
    }
   ],
   "source": [
    "import matplotlib.pyplot as plt\n",
    "\n",
    "distance = df0['close']-df1['close']\n",
    "stddev = np.std(distance)\n",
    "\n",
    "plt.plot(df0['datetime'], distance, linewidth=0.5)\n",
    "\n",
    "# Set labels and title\n",
    "plt.xlabel('Datetime')\n",
    "plt.xticks(rotation=45) \n",
    "\n",
    "plt.title(f\"The distance between {best_pair}\")\n",
    "\n",
    "# Display the plot\n",
    "plt.show()"
   ]
  },
  {
   "cell_type": "code",
   "execution_count": 5,
   "metadata": {},
   "outputs": [
    {
     "name": "stdout",
     "output_type": "stream",
     "text": [
      "length of train set is 786159\n"
     ]
    }
   ],
   "source": [
    "freq_pos = list(freqs.keys()).index(best_freq)\n",
    "\n",
    "traindata0 = trains[freq_pos][trains[freq_pos]['tic']==best_pair.split('_')[0]].reset_index(drop=True)\n",
    "traindata1 = trains[freq_pos][trains[freq_pos]['tic']==best_pair.split('_')[1]].reset_index(drop=True)\n",
    "\n",
    "# How come a datetime of 2022(ish) is converted to 738786.635416655???\n",
    "datafeed0 = bt.feeds.PandasData(\n",
    "        dataname=traindata0,\n",
    "        datetime='datetime',\n",
    "        open='open',\n",
    "        high='high',\n",
    "        low='low',\n",
    "        close='close',\n",
    "        volume='volume',\n",
    "        openinterest=None,\n",
    "    )\n",
    "\n",
    "datafeed1 = bt.feeds.PandasData(\n",
    "        dataname=traindata1,\n",
    "        datetime='datetime',\n",
    "        open='open',\n",
    "        high='high',\n",
    "        low='low',\n",
    "        close='close',\n",
    "        volume='volume',\n",
    "        openinterest=None,\n",
    "    )\n",
    "\n",
    "datafeeds = [datafeed0, datafeed1]\n",
    "print(f\"length of train set is {len(traindata0)}\")"
   ]
  },
  {
   "cell_type": "markdown",
   "metadata": {},
   "source": [
    "# Execute the Strategy\n",
    "\n",
    "We should firstly have a test run on the strategy to make sure it works."
   ]
  },
  {
   "cell_type": "markdown",
   "metadata": {},
   "source": [
    "Submitted a PR for Backtrader-OLS results\n",
    "\n",
    "> https://github.com/mementum/backtrader/pull/487"
   ]
  },
  {
   "cell_type": "code",
   "execution_count": 6,
   "metadata": {},
   "outputs": [],
   "source": [
    "def cerebro_run(datafeeds, param):\n",
    "\n",
    "    cerebro = bt.Cerebro()\n",
    "\n",
    "    cerebro.adddata(datafeeds[0], name=best_pair.split('_')[0])\n",
    "    cerebro.adddata(datafeeds[1], name=best_pair.split('_')[1])\n",
    "\n",
    "    cerebro.broker.set_cash(1)  # Set initial capital\n",
    "\n",
    "    # Binance fee structure\n",
    "    # https://www.binance.com/en-BH/support/faq/binance-futures-fee-structure-fee-calculations-360033544231\n",
    "    cerebro.broker.setcommission(commission=0.0002)\n",
    "\n",
    "    # comminfo = PairTradingCommInfo(commission=0.002, margin=1000, mult=10)\n",
    "    # cerebro.broker.addcommissioninfo(comminfo)\n",
    "\n",
    "    cerebro.addanalyzer(bt.analyzers.Returns, _name='Returns')\n",
    "    # cerebro.addanalyzer(bt.analyzers.TimeReturn, _name='timereturns', compression=60)\n",
    "    # cerebro.addanalyzer(bt.analyzers.TradeAnalyzer, _name='tradeanalyzer')\n",
    "    # cerebro.addsizer(KellyCriterionSizer)\n",
    "\n",
    "    cerebro.addstrategy(PairTrading, **param)\n",
    "    strats = cerebro.run()\n",
    "    return strats"
   ]
  },
  {
   "cell_type": "markdown",
   "metadata": {},
   "source": [
    "An Experimental Run"
   ]
  },
  {
   "cell_type": "code",
   "execution_count": 7,
   "metadata": {
    "tags": []
   },
   "outputs": [],
   "source": [
    "# prefix = \"Experiment\"\n",
    "# clear_previous_res(prefix)\n",
    "\n",
    "# # A test run\n",
    "# # https://github.com/mementum/backtrader/blob/master/backtrader/indicators/ols.py\n",
    "# # It always returns weird error like the number of params\n",
    "# a\n",
    "# # 1. The default OLS indicator is precarious, always weird errors like num of params, or sometimes index error\n",
    "# # 2. The custom indicator is precious as well. not trustworthy\n",
    "\n",
    "# param = {'kellycriterion': False, 'OPEN_THRE':1.7, 'CLOS_THRE':0.3, 'period': 1300, 'verbose':1, 'prefix':prefix, 'fixed_amount':0.1}\n",
    "# experiment = cerebro_run(datafeeds, param)"
   ]
  },
  {
   "cell_type": "markdown",
   "metadata": {},
   "source": [
    "# Grid Search the Strategy\n",
    "\n",
    "The grid search on all the possible results for an optimal outcome\n",
    "\n",
    "Define `scoring` function and `param_grid` for grid search\n",
    "\n",
    "then `gridsearch` from `utils.gridsearch`"
   ]
  },
  {
   "cell_type": "code",
   "execution_count": 8,
   "metadata": {},
   "outputs": [
    {
     "name": "stderr",
     "output_type": "stream",
     "text": [
      "  0%|          | 0/1 [00:00<?, ?it/s]"
     ]
    },
    {
     "name": "stdout",
     "output_type": "stream",
     "text": [
      "{'OPEN_THRE': 1.6, 'CLOS_THRE': 0.4, 'period': 900, 'verbose': 0, 'prefix': 'Gridsearch', 'kellycriterion': False, 'fixed_amount': 0.1}\n"
     ]
    },
    {
     "name": "stderr",
     "output_type": "stream",
     "text": [
      "100%|██████████| 1/1 [31:16<00:00, 1876.67s/it]"
     ]
    },
    {
     "name": "stdout",
     "output_type": "stream",
     "text": [
      "Best parameters as: {'OPEN_THRE': 1.6, 'CLOS_THRE': 0.4, 'period': 900, 'verbose': 0, 'prefix': 'Gridsearch', 'kellycriterion': False, 'fixed_amount': 0.1}\n",
      "Best profit as: -0.10480857113033562\n"
     ]
    },
    {
     "name": "stderr",
     "output_type": "stream",
     "text": [
      "\n"
     ]
    }
   ],
   "source": [
    "prefix = \"Gridsearch\"\n",
    "clear_previous_res(prefix)\n",
    "\n",
    "datafeeds = [datafeed0, datafeed1]\n",
    "freq_adjust = freqs[best_freq]\n",
    "\n",
    "'''\n",
    "Seems longer period provides better result\n",
    "I guess its because the zscore is relatively stabler\n",
    "'''\n",
    "param_grid = {\n",
    "    'OPEN_THRE': [1.6], \n",
    "    'CLOS_THRE': [0.4], \n",
    "    'period': [900], # np.arange(800, 1200, 200),\n",
    "    'verbose': [0],\n",
    "    'prefix': [prefix],\n",
    "    'kellycriterion': [False],\n",
    "    'fixed_amount': [0.1]\n",
    "}\n",
    "\n",
    "def scoring(strats):\n",
    "    score = strats[0].analyzers.Returns.get_analysis()['rtot']\n",
    "    return score\n",
    "\n",
    "# included tqdm for progress bar\n",
    "# Take a loooong time\n",
    "best_profit, best_params, best_result = gridsearch(cerebro_run, param_grid, scoring, datafeeds)\n",
    "\n",
    "grids_res = best_profit, best_params\n",
    "with open('result/gridsearch/best_res.pickle', 'wb') as pk:\n",
    "    pickle.dump(grids_res, pk)\n",
    "\n",
    "print(f\"Best parameters as: {best_params}\")\n",
    "print(f\"Best profit as: {best_profit}\")"
   ]
  },
  {
   "cell_type": "markdown",
   "metadata": {},
   "source": [
    "# Trade with test data"
   ]
  },
  {
   "cell_type": "code",
   "execution_count": 9,
   "metadata": {},
   "outputs": [],
   "source": [
    "freq_position = list(freqs.keys()).index(best_freq)\n",
    "\n",
    "testdata0 = tests[freq_position][tests[freq_position]['tic']==best_pair.split('_')[0]].reset_index(drop=True)\n",
    "testdata1 = tests[freq_position][tests[freq_position]['tic']==best_pair.split('_')[1]].reset_index(drop=True)\n",
    "\n",
    "test_datafeed0 = bt.feeds.PandasData(\n",
    "        dataname=testdata0,\n",
    "        datetime='datetime',\n",
    "        open='open',\n",
    "        high='high',\n",
    "        low='low',\n",
    "        close='close',\n",
    "        volume='volume',\n",
    "        openinterest=None,\n",
    "    )\n",
    "\n",
    "test_datafeed1 = bt.feeds.PandasData(\n",
    "        dataname=testdata1,\n",
    "        datetime='datetime',\n",
    "        open='open',\n",
    "        high='high',\n",
    "        low='low',\n",
    "        close='close',\n",
    "        volume='volume',\n",
    "        openinterest=None,\n",
    ")\n",
    "\n",
    "test_datafeeds = [test_datafeed0, test_datafeed1]"
   ]
  },
  {
   "cell_type": "code",
   "execution_count": 10,
   "metadata": {},
   "outputs": [
    {
     "name": "stdout",
     "output_type": "stream",
     "text": [
      "Deleted: result/gridsearch/Test_ETHEUR_ETHGBP_O15C4P900.csv\n"
     ]
    }
   ],
   "source": [
    "prefix = \"Test\"\n",
    "clear_previous_res(prefix)\n",
    "\n",
    "bestres_pickle = 'result/best_res.pickle'\n",
    "\n",
    "if os.path.exists(bestres_pickle):\n",
    "    with open(bestres_pickle, 'rb') as pk:\n",
    "        best_profit, best_params = pickle.load(pk)\n",
    "\n",
    "best_params['verbose']=1\n",
    "best_params['prefix']= prefix\n",
    "\n",
    "test_res = cerebro_run(test_datafeeds, best_params)"
   ]
  },
  {
   "cell_type": "markdown",
   "metadata": {},
   "source": [
    "# Analyze with Quanstats"
   ]
  },
  {
   "cell_type": "markdown",
   "metadata": {},
   "source": [
    "### Analyze the grid search result"
   ]
  },
  {
   "cell_type": "code",
   "execution_count": null,
   "metadata": {},
   "outputs": [],
   "source": [
    "result_path = \"result/gridsearch/\"\n",
    "files = os.listdir(result_path)\n",
    "\n",
    "gridsearch_files = ([\n",
    "    file for file in files if file.startswith(\n",
    "        f\"Gridsearch_{test_datafeed0._name}_{test_datafeed1._name}_O{int(best_params['OPEN_THRE']*10)}C{int(best_params['CLOS_THRE']*10)}P{best_params['period']}\"\n",
    "    )\n",
    "])\n",
    "\n",
    "test_files = ([\n",
    "    file for file in files if file.startswith(\n",
    "        f\"Test_{test_datafeed0._name}_{test_datafeed1._name}_O{int(best_params['OPEN_THRE']*10)}C{int(best_params['CLOS_THRE']*10)}P{best_params['period']}\"\n",
    "    )\n",
    "])"
   ]
  },
  {
   "cell_type": "code",
   "execution_count": null,
   "metadata": {},
   "outputs": [],
   "source": [
    "returns = pd.read_csv(result_path + gridsearch_files[0], names=['datetime', 'values', 'action', 'zscore', 'position'])\n",
    "\n",
    "returns"
   ]
  },
  {
   "cell_type": "code",
   "execution_count": null,
   "metadata": {},
   "outputs": [],
   "source": [
    "best_return = get_return(result_path + gridsearch_files[0])\n",
    "get_metrics(best_return)"
   ]
  },
  {
   "cell_type": "code",
   "execution_count": null,
   "metadata": {},
   "outputs": [],
   "source": [
    "qs.reports.full(best_return['returns'])"
   ]
  },
  {
   "cell_type": "markdown",
   "metadata": {},
   "source": [
    "### Analyze the test result"
   ]
  },
  {
   "cell_type": "code",
   "execution_count": null,
   "metadata": {},
   "outputs": [],
   "source": [
    "test_return = get_return(result_path + test_files[0])\n",
    "get_metrics(test_return)"
   ]
  },
  {
   "cell_type": "code",
   "execution_count": null,
   "metadata": {},
   "outputs": [],
   "source": [
    "qs.reports.full(test_return['returns'])"
   ]
  },
  {
   "cell_type": "code",
   "execution_count": null,
   "metadata": {},
   "outputs": [],
   "source": []
  }
 ],
 "metadata": {
  "kernelspec": {
   "display_name": "Python 3 (ipykernel)",
   "language": "python",
   "name": "python3"
  },
  "language_info": {
   "codemirror_mode": {
    "name": "ipython",
    "version": 3
   },
   "file_extension": ".py",
   "mimetype": "text/x-python",
   "name": "python",
   "nbconvert_exporter": "python",
   "pygments_lexer": "ipython3",
   "version": "3.8.18"
  },
  "toc": {
   "base_numbering": 1,
   "nav_menu": {},
   "number_sections": true,
   "sideBar": true,
   "skip_h1_title": false,
   "title_cell": "Table of Contents",
   "title_sidebar": "Contents",
   "toc_cell": false,
   "toc_position": {
    "height": "calc(100% - 180px)",
    "left": "10px",
    "top": "150px",
    "width": "541px"
   },
   "toc_section_display": true,
   "toc_window_display": true
  }
 },
 "nbformat": 4,
 "nbformat_minor": 4
}

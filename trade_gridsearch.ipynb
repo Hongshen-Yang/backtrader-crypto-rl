{
 "cells": [
  {
   "cell_type": "code",
   "execution_count": 1,
   "metadata": {},
   "outputs": [],
   "source": [
    "import os\n",
    "import numpy as np\n",
    "import pandas as pd\n",
    "from utils.gridsearch import gridsearch\n",
    "from utils.read2df import read2df\n",
    "from utils.cointncorr import cointncorr\n",
    "import statsmodels.api as sm\n",
    "\n",
    "import backtrader as bt\n",
    "from itertools import combinations"
   ]
  },
  {
   "cell_type": "markdown",
   "metadata": {},
   "source": [
    "The `symbols` are the trading pairs we are interested in the pair trading.\n",
    "\n",
    "`start_date` means we will start trading from the marked date.\n",
    "\n",
    "`freqs` is a dictionary of all trading intervals to be considered"
   ]
  },
  {
   "cell_type": "code",
   "execution_count": 2,
   "metadata": {},
   "outputs": [],
   "source": [
    "# symbols = ['BTCUSDT', 'ETHUSDT', 'LTCUSDT', 'XMRUSDT', 'BNBUSDT', 'ADAUSDT', 'DOGEUSDT', 'SOLUSDT', 'TRXUSDT']\n",
    "symbols = ['BTCUSDT', 'BNBUSDT', 'ADAUSDT']\n",
    "start_date = '2023-01-01'\n",
    "\n",
    "# freqs = {'1h':60, '2h':120, '4h':240, '6h':360, '8h':480, '12h':720, '1d':1440}\n",
    "freqs = {'1m':1, '3m':3, '5m':5, '15m':15, '30m':30}"
   ]
  },
  {
   "cell_type": "markdown",
   "metadata": {},
   "source": [
    "# Download Data from [binance-public-data](https://github.com/binance/binance-public-data/tree/master/python)\n",
    "\n",
    "Download BTCUSDT and ETHUSDT for histories after `start_date` with interested intervals.\n"
   ]
  },
  {
   "cell_type": "code",
   "execution_count": null,
   "metadata": {},
   "outputs": [],
   "source": [
    "%%capture\n",
    "if symbols is None:\n",
    "    !python binance-public-data/python/download-kline.py -i {\" \".join(list(freqs.keys()))} -startDate {start_date} -t spot -skip-daily 1\n",
    "else:\n",
    "    !python binance-public-data/python/download-kline.py -s {\" \".join(symbols)} -i {\" \".join(list(freqs.keys()))} -startDate {start_date} -t spot -skip-daily 1"
   ]
  },
  {
   "cell_type": "markdown",
   "metadata": {},
   "source": [
    "Read the downloaded OHLCV data into `pandas` dataframe"
   ]
  },
  {
   "cell_type": "code",
   "execution_count": 3,
   "metadata": {},
   "outputs": [
    {
     "data": {
      "text/html": [
       "<div>\n",
       "<style scoped>\n",
       "    .dataframe tbody tr th:only-of-type {\n",
       "        vertical-align: middle;\n",
       "    }\n",
       "\n",
       "    .dataframe tbody tr th {\n",
       "        vertical-align: top;\n",
       "    }\n",
       "\n",
       "    .dataframe thead th {\n",
       "        text-align: right;\n",
       "    }\n",
       "</style>\n",
       "<table border=\"1\" class=\"dataframe\">\n",
       "  <thead>\n",
       "    <tr style=\"text-align: right;\">\n",
       "      <th></th>\n",
       "      <th>time</th>\n",
       "      <th>open</th>\n",
       "      <th>high</th>\n",
       "      <th>low</th>\n",
       "      <th>close</th>\n",
       "      <th>volume</th>\n",
       "      <th>tic</th>\n",
       "      <th>itvl</th>\n",
       "      <th>datetime</th>\n",
       "    </tr>\n",
       "  </thead>\n",
       "  <tbody>\n",
       "    <tr>\n",
       "      <th>0</th>\n",
       "      <td>1672531259999</td>\n",
       "      <td>0.2458</td>\n",
       "      <td>0.2458</td>\n",
       "      <td>0.2456</td>\n",
       "      <td>0.2458</td>\n",
       "      <td>27891.90000</td>\n",
       "      <td>ADAUSDT</td>\n",
       "      <td>1m</td>\n",
       "      <td>2023-01-01 00:00:59.999</td>\n",
       "    </tr>\n",
       "    <tr>\n",
       "      <th>1</th>\n",
       "      <td>1672531259999</td>\n",
       "      <td>246.3000</td>\n",
       "      <td>246.3000</td>\n",
       "      <td>246.2000</td>\n",
       "      <td>246.3000</td>\n",
       "      <td>39.29900</td>\n",
       "      <td>BNBUSDT</td>\n",
       "      <td>1m</td>\n",
       "      <td>2023-01-01 00:00:59.999</td>\n",
       "    </tr>\n",
       "    <tr>\n",
       "      <th>2</th>\n",
       "      <td>1672531259999</td>\n",
       "      <td>16541.7700</td>\n",
       "      <td>16544.7600</td>\n",
       "      <td>16538.4500</td>\n",
       "      <td>16543.6700</td>\n",
       "      <td>83.08143</td>\n",
       "      <td>BTCUSDT</td>\n",
       "      <td>1m</td>\n",
       "      <td>2023-01-01 00:00:59.999</td>\n",
       "    </tr>\n",
       "    <tr>\n",
       "      <th>3</th>\n",
       "      <td>1672531319999</td>\n",
       "      <td>0.2458</td>\n",
       "      <td>0.2459</td>\n",
       "      <td>0.2458</td>\n",
       "      <td>0.2458</td>\n",
       "      <td>7442.90000</td>\n",
       "      <td>ADAUSDT</td>\n",
       "      <td>1m</td>\n",
       "      <td>2023-01-01 00:01:59.999</td>\n",
       "    </tr>\n",
       "    <tr>\n",
       "      <th>4</th>\n",
       "      <td>1672531319999</td>\n",
       "      <td>246.3000</td>\n",
       "      <td>246.4000</td>\n",
       "      <td>246.2000</td>\n",
       "      <td>246.3000</td>\n",
       "      <td>29.55400</td>\n",
       "      <td>BNBUSDT</td>\n",
       "      <td>1m</td>\n",
       "      <td>2023-01-01 00:01:59.999</td>\n",
       "    </tr>\n",
       "    <tr>\n",
       "      <th>...</th>\n",
       "      <td>...</td>\n",
       "      <td>...</td>\n",
       "      <td>...</td>\n",
       "      <td>...</td>\n",
       "      <td>...</td>\n",
       "      <td>...</td>\n",
       "      <td>...</td>\n",
       "      <td>...</td>\n",
       "      <td>...</td>\n",
       "    </tr>\n",
       "    <tr>\n",
       "      <th>1049512</th>\n",
       "      <td>1693526339999</td>\n",
       "      <td>216.7000</td>\n",
       "      <td>216.7000</td>\n",
       "      <td>216.6000</td>\n",
       "      <td>216.7000</td>\n",
       "      <td>8.65100</td>\n",
       "      <td>BNBUSDT</td>\n",
       "      <td>1m</td>\n",
       "      <td>2023-08-31 23:58:59.999</td>\n",
       "    </tr>\n",
       "    <tr>\n",
       "      <th>1049513</th>\n",
       "      <td>1693526339999</td>\n",
       "      <td>25936.7500</td>\n",
       "      <td>25941.6000</td>\n",
       "      <td>25936.7500</td>\n",
       "      <td>25937.8500</td>\n",
       "      <td>15.87660</td>\n",
       "      <td>BTCUSDT</td>\n",
       "      <td>1m</td>\n",
       "      <td>2023-08-31 23:58:59.999</td>\n",
       "    </tr>\n",
       "    <tr>\n",
       "      <th>1049514</th>\n",
       "      <td>1693526399999</td>\n",
       "      <td>0.2553</td>\n",
       "      <td>0.2554</td>\n",
       "      <td>0.2553</td>\n",
       "      <td>0.2554</td>\n",
       "      <td>743.40000</td>\n",
       "      <td>ADAUSDT</td>\n",
       "      <td>1m</td>\n",
       "      <td>2023-08-31 23:59:59.999</td>\n",
       "    </tr>\n",
       "    <tr>\n",
       "      <th>1049515</th>\n",
       "      <td>1693526399999</td>\n",
       "      <td>216.6000</td>\n",
       "      <td>216.7000</td>\n",
       "      <td>216.6000</td>\n",
       "      <td>216.7000</td>\n",
       "      <td>10.00200</td>\n",
       "      <td>BNBUSDT</td>\n",
       "      <td>1m</td>\n",
       "      <td>2023-08-31 23:59:59.999</td>\n",
       "    </tr>\n",
       "    <tr>\n",
       "      <th>1049516</th>\n",
       "      <td>1693526399999</td>\n",
       "      <td>25937.8500</td>\n",
       "      <td>25940.7800</td>\n",
       "      <td>25937.8400</td>\n",
       "      <td>25940.7800</td>\n",
       "      <td>7.79362</td>\n",
       "      <td>BTCUSDT</td>\n",
       "      <td>1m</td>\n",
       "      <td>2023-08-31 23:59:59.999</td>\n",
       "    </tr>\n",
       "  </tbody>\n",
       "</table>\n",
       "<p>1049517 rows × 9 columns</p>\n",
       "</div>"
      ],
      "text/plain": [
       "                  time        open        high         low       close  \\\n",
       "0        1672531259999      0.2458      0.2458      0.2456      0.2458   \n",
       "1        1672531259999    246.3000    246.3000    246.2000    246.3000   \n",
       "2        1672531259999  16541.7700  16544.7600  16538.4500  16543.6700   \n",
       "3        1672531319999      0.2458      0.2459      0.2458      0.2458   \n",
       "4        1672531319999    246.3000    246.4000    246.2000    246.3000   \n",
       "...                ...         ...         ...         ...         ...   \n",
       "1049512  1693526339999    216.7000    216.7000    216.6000    216.7000   \n",
       "1049513  1693526339999  25936.7500  25941.6000  25936.7500  25937.8500   \n",
       "1049514  1693526399999      0.2553      0.2554      0.2553      0.2554   \n",
       "1049515  1693526399999    216.6000    216.7000    216.6000    216.7000   \n",
       "1049516  1693526399999  25937.8500  25940.7800  25937.8400  25940.7800   \n",
       "\n",
       "              volume      tic itvl                datetime  \n",
       "0        27891.90000  ADAUSDT   1m 2023-01-01 00:00:59.999  \n",
       "1           39.29900  BNBUSDT   1m 2023-01-01 00:00:59.999  \n",
       "2           83.08143  BTCUSDT   1m 2023-01-01 00:00:59.999  \n",
       "3         7442.90000  ADAUSDT   1m 2023-01-01 00:01:59.999  \n",
       "4           29.55400  BNBUSDT   1m 2023-01-01 00:01:59.999  \n",
       "...              ...      ...  ...                     ...  \n",
       "1049512      8.65100  BNBUSDT   1m 2023-08-31 23:58:59.999  \n",
       "1049513     15.87660  BTCUSDT   1m 2023-08-31 23:58:59.999  \n",
       "1049514    743.40000  ADAUSDT   1m 2023-08-31 23:59:59.999  \n",
       "1049515     10.00200  BNBUSDT   1m 2023-08-31 23:59:59.999  \n",
       "1049516      7.79362  BTCUSDT   1m 2023-08-31 23:59:59.999  \n",
       "\n",
       "[1049517 rows x 9 columns]"
      ]
     },
     "execution_count": 3,
     "metadata": {},
     "output_type": "execute_result"
    }
   ],
   "source": [
    "# dfs = read2df(symbols, freqs)\n",
    "dfs = read2df(symbols, freqs)\n",
    "dfs[0]"
   ]
  },
  {
   "cell_type": "markdown",
   "metadata": {},
   "source": [
    "# Cointegration and Correlation"
   ]
  },
  {
   "cell_type": "markdown",
   "metadata": {},
   "source": [
    "Calculate daily coint and corr for all the pairs\n",
    "Consider 1 day with 1440 minutes."
   ]
  },
  {
   "cell_type": "code",
   "execution_count": 4,
   "metadata": {},
   "outputs": [
    {
     "data": {
      "text/plain": [
       "0.1522633744855967"
      ]
     },
     "execution_count": 4,
     "metadata": {},
     "output_type": "execute_result"
    }
   ],
   "source": [
    "dfs_res = cointncorr(dfs, freqs)\n",
    "dfs_res['1m']['ADAUSDT-BNBUSDT']['coint']"
   ]
  },
  {
   "cell_type": "code",
   "execution_count": null,
   "metadata": {},
   "outputs": [],
   "source": [
    "# best_pairs = ()\n",
    "# best_corr = 0.0\n",
    "# FREQUENCY = None\n",
    "# for i, (freq, f) in enumerate(freqs.items()):\n",
    "#     for comb in combinations(set(dfs[i]['tic']), 2):\n",
    "#         first_ele = dfs[i][dfs[i]['tic'] == comb[0]]['close']\n",
    "#         second_ele = dfs[i][dfs[i]['tic'] == comb[1]]['close']\n",
    "#         _, pvalue, _ = coint(first_ele, second_ele)\n",
    "#         corr = np.corrcoef(first_ele, second_ele)[0][1]\n",
    "#         if pvalue <= 0.05 and corr >= 0.8:\n",
    "#             print(f\"{comb[0]} and {comb[1]} are cointegrated under {freq} interval (correlation {corr})\")\n",
    "#             if corr > best_corr:\n",
    "#                 best_pairs = (comb[0], comb[1])\n",
    "#                 best_corr = corr\n",
    "#                 FREQUENCY = freq\n",
    "#         else:\n",
    "#             # print(f\"{comb[0]} and {comb[1]} are NOT cointegrated under {FREQUENCY} interval\")\n",
    "\n",
    "# print(\"===========================================\")\n",
    "# print(f\"Best trading pairs shall be: {best_pairs[0]} and {best_pairs[1]} under {FREQUENCY} interval\")\n",
    "# print(\"===========================================\")"
   ]
  },
  {
   "cell_type": "markdown",
   "metadata": {},
   "source": [
    "# Define Trading Strategy\n",
    "\n",
    "Firstly define a sizer based on [Kelly Criterion](https://www.wikiwand.com/en/Kelly_criterion)"
   ]
  },
  {
   "cell_type": "code",
   "execution_count": null,
   "metadata": {},
   "outputs": [],
   "source": [
    "# Seems that Sizer can only be executed when self.buy(size=None). \n",
    "# We need to purchase amount in a certain ratio in Pair Trading.\n",
    "# Therefore the Sizer is hard to implemented.\n",
    "\n",
    "class KellyCriterionSizer(bt.Sizer):\n",
    "    params = (('period', 30),)\n",
    "\n",
    "    def _getsizing(self, comminfo, cash, data, isbuy):\n",
    "        position = self.broker.getposition(data).size\n",
    "\n",
    "        close_prices = data.close.get(size=self.p.period)\n",
    "        returns = np.log(close_prices / close_prices.shift(1)).dropna()\n",
    "\n",
    "        p = len(returns[returns > 0]) / len(returns)\n",
    "        a = (returns[returns > 0].mean() + 1) if len(returns[returns > 0]) > 0 else 1.0\n",
    "        b = (-returns[returns > 0].mean() + 1) if len(returns[returns < 0]) > 0 else 1.0\n",
    "        q = 1 - p\n",
    "\n",
    "        f = min(max((p/a - q/b), 0), 1)\n",
    "\n",
    "        if isbuy:\n",
    "            size = cash * f / data.close[0]\n",
    "        else:\n",
    "            size = position * f\n",
    "\n",
    "        return size"
   ]
  },
  {
   "cell_type": "markdown",
   "metadata": {},
   "source": [
    "Define a custom indicator for [Kelly Criterion](https://www.wikiwand.com/en/Kelly_criterion)"
   ]
  },
  {
   "cell_type": "code",
   "execution_count": null,
   "metadata": {},
   "outputs": [],
   "source": [
    "class KellyCriterionIndicator(bt.indicators.PeriodN):\n",
    "    '''\n",
    "    Uses ``pandas``\n",
    "    '''\n",
    "    _mindatas = 1\n",
    "\n",
    "    packages = (\n",
    "        ('pandas', 'pd'),\n",
    "    )\n",
    "    lines = ('kc_f',)\n",
    "    params = (\n",
    "        ('period', 30),\n",
    "    )\n",
    "\n",
    "    def next(self):\n",
    "        spreads = pd.Series(self.data.get(size=self.p.period))\n",
    "        returns = spreads.pct_change()\n",
    "\n",
    "        kc_p = len(returns[returns > 0]) / len(returns)\n",
    "        kc_a = (returns[returns > 0].mean() + 1) if len(returns[returns > 0]) > 0 else 1\n",
    "        kc_b = (returns[returns < 0].mean() + 1) if len(returns[returns < 0]) > 0 else 1\n",
    "        kc_q = 1 - kc_p\n",
    "        \n",
    "        kc_f = min(max((kc_p/kc_a - kc_q/kc_b), 0), 1)\n",
    "        self.lines.kc_f[0] = kc_f"
   ]
  },
  {
   "cell_type": "markdown",
   "metadata": {},
   "source": [
    "Define custom CommissionInfo"
   ]
  },
  {
   "cell_type": "code",
   "execution_count": null,
   "metadata": {},
   "outputs": [],
   "source": [
    "class PairTradingCommInfo(bt.CommInfoBase):\n",
    "    params = (\n",
    "        ('commission', 0.0), ('mult', 10), ('margin', 1000),\n",
    "        ('stocklike', False),\n",
    "        ('commtype', bt.CommInfoBase.COMM_PERC),\n",
    "        ('percabs', True),\n",
    "    )"
   ]
  },
  {
   "cell_type": "markdown",
   "metadata": {},
   "source": [
    "The strategy with fixed ordersize"
   ]
  },
  {
   "cell_type": "code",
   "execution_count": null,
   "metadata": {},
   "outputs": [],
   "source": [
    "class PairTrading(bt.Strategy):\n",
    "    params = dict(\n",
    "        OPEN_THRE=2,\n",
    "        CLOS_THRE=0.1,\n",
    "        period=30\n",
    "    )\n",
    "\n",
    "    def notify_order(self, order):\n",
    "        if order.status in [order.Submitted, order.Accepted]:\n",
    "            return\n",
    "\n",
    "        if order.status == order.Completed:\n",
    "            if order.isbuy():\n",
    "                print(f\"Buy {order.data._name} @ price: {order.executed.price} for Qty: {order.executed.size}\")\n",
    "            else:\n",
    "                print(f\"Sell {order.data._name} @ price: {order.executed.price} for Qty: {order.executed.size}\")\n",
    "\n",
    "        elif order.status in [order.Expired, order.Canceled, order.Margin]:\n",
    "            print('%s ,' % order.Status[order.status])\n",
    "            pass\n",
    "\n",
    "    def __init__(self):\n",
    "        self.data0 = self.datas[0]\n",
    "        self.data1 = self.datas[1]\n",
    "\n",
    "        # Calculate zscore of the ratio\n",
    "        transform = bt.indicators.OLS_TransformationN(self.data1, self.data0, period=self.p.period)\n",
    "        spread = transform.spread\n",
    "        self.zscore = transform.zscore\n",
    "\n",
    "        self.kc_f = KellyCriterionIndicator(spread, period=self.p.period)\n",
    "\n",
    "        # -1 for short data1/data0, 1 for long data1/data0, 0 for no position\n",
    "        self.position_status = 0\n",
    "\n",
    "    def next(self):\n",
    "        # print(f'Right now the zscore is {self.transform.zscore[0]}, and the position is {self.position_status}')\n",
    "        \n",
    "        # Calculate the ratio between the 2 assets\n",
    "        ratio = self.data1.close[0] / self.data0.close[0]\n",
    "        cash = self.broker.get_cash()\n",
    "\n",
    "        if abs(self.zscore[0]) < self.p.CLOS_THRE and self.position_status != 0:\n",
    "            print(\"------\")\n",
    "            print(\"close position\")\n",
    "            self.position_status = 0\n",
    "            self.close(data=self.data0)\n",
    "            self.close(data=self.data1)\n",
    "    \n",
    "        elif self.zscore[0] < -self.p.OPEN_THRE and self.position_status == 0:\n",
    "            print(\"------\")\n",
    "            print(f\"long {self.data0.alias} and short {self.data1.alias}\")\n",
    "            self.position_status = 1\n",
    "\n",
    "            purchase_amount = self.broker.get_cash()/self.data0.close[0]*self.kc_f[0]\n",
    "\n",
    "            self.sell(data=self.data1, size=purchase_amount/ratio)\n",
    "            self.buy(data=self.data0, size=purchase_amount)\n",
    "\n",
    "        elif self.zscore[0] > self.p.OPEN_THRE and self.position_status == 0:\n",
    "            print(\"------\")\n",
    "            print(f\"long {self.data1.alias} and short {self.data0.alias}\")\n",
    "            self.position_status = -1\n",
    "            \n",
    "            purchase_amount = self.broker.get_cash()/self.data1.close[0]*self.kc_f[0]\n",
    "\n",
    "            self.sell(data=self.data0, size=purchase_amount*ratio)\n",
    "            self.buy(data=self.data1, size=purchase_amount)\n",
    "\n",
    "    def stop(self):\n",
    "        self.close(data=self.data0)\n",
    "        self.close(data=self.data1)\n",
    "        \n",
    "        print('==================================================')\n",
    "        print('Starting Value - %.2f' % self.broker.startingcash)\n",
    "        print('Ending   Value - %.2f' % self.broker.getvalue())\n",
    "        print('==================================================')"
   ]
  },
  {
   "cell_type": "markdown",
   "metadata": {},
   "source": [
    "# Execute the Strategy\n",
    "\n",
    "Load the data"
   ]
  },
  {
   "cell_type": "code",
   "execution_count": null,
   "metadata": {},
   "outputs": [],
   "source": [
    "datafeeds_0 = []\n",
    "datafeeds_1 = []\n",
    "\n",
    "for idx, freq in enumerate(freqs):\n",
    "    datafeeds_0.append(\n",
    "        bt.feeds.PandasData(\n",
    "            dataname=dfs[idx][dfs[idx]['tic']==best_pairs[0]],\n",
    "            datetime='datetime',\n",
    "            open='open',\n",
    "            high='high',\n",
    "            low='low',\n",
    "            close='close',\n",
    "            volume='volume',\n",
    "            openinterest=None\n",
    "        )\n",
    "    )\n",
    "    datafeeds_1.append(\n",
    "        bt.feeds.PandasData(\n",
    "            dataname=dfs[idx][dfs[idx]['tic']==best_pairs[1]],\n",
    "            datetime='datetime',\n",
    "            open='open',\n",
    "            high='high',\n",
    "            low='low',\n",
    "            close='close',\n",
    "            volume='volume',\n",
    "            openinterest=None\n",
    "        )\n",
    "    )\n",
    "    print(freq)"
   ]
  },
  {
   "cell_type": "markdown",
   "metadata": {},
   "source": [
    "The main strategy engine"
   ]
  },
  {
   "cell_type": "code",
   "execution_count": null,
   "metadata": {},
   "outputs": [],
   "source": [
    "freq_position = list(freqs.keys()).index(FREQUENCY)\n",
    "datafeed0 = datafeeds_0[freq_position]\n",
    "datafeed1 = datafeeds_1[freq_position]\n",
    "datafeeds = [datafeed0, datafeed1]\n",
    "param = {'OPEN_THRE':1, 'CLOS_THRE':0.1, 'period':30}"
   ]
  },
  {
   "cell_type": "code",
   "execution_count": null,
   "metadata": {},
   "outputs": [],
   "source": [
    "def cerebro_run(datafeeds, param):\n",
    "    # Create a Cerebro instance and add the data feed\n",
    "    cerebro = bt.Cerebro()\n",
    "    cerebro.adddata(datafeeds[0], name=best_pairs[0])\n",
    "    cerebro.adddata(datafeeds[1], name=best_pairs[1])\n",
    "\n",
    "    # Set up other parameters for backtest\n",
    "    cerebro.broker.set_cash(100000)  # Set initial capital\n",
    "    \n",
    "    comminfo = PairTradingCommInfo(commission=0.002, margin=1000, mult=10)\n",
    "    cerebro.broker.addcommissioninfo(comminfo)\n",
    "\n",
    "    # cerebro.addanalyzer(bt.analyzers.TimeReturn, _name='timereturns')\n",
    "    cerebro.addanalyzer(bt.analyzers.Returns, _name='Returns')\n",
    "    # cerebro.addsizer(KellyCriterionSizer)\n",
    "\n",
    "    cerebro.addstrategy(PairTrading, **param)\n",
    "    strats = cerebro.run()\n",
    "    return strats\n",
    "\n",
    "# cerebro_run(datafeeds, param)"
   ]
  },
  {
   "cell_type": "markdown",
   "metadata": {},
   "source": [
    "# Grid Search the Strategy\n",
    "Define scoring and param_grid"
   ]
  },
  {
   "cell_type": "code",
   "execution_count": null,
   "metadata": {},
   "outputs": [],
   "source": [
    "# param_grid = {\n",
    "#     'OPEN_THRE':np.arange(1, 3, 1), \n",
    "#     'CLOS_THRE':np.arange(0.2, 1.0, 0.2), \n",
    "#     'period': np.arange(30, 60, 10)\n",
    "# }\n",
    "\n",
    "param_grid = {\n",
    "    'OPEN_THRE': np.arange(2, 5, 1), \n",
    "    'CLOS_THRE': np.arange(0.1, 1.0, 0.2), \n",
    "    'period': [30, 40, 50]\n",
    "}\n",
    "\n",
    "def scoring(strats):\n",
    "    score = strats[0].analyzers.Returns.get_analysis()['rtot']\n",
    "    return score"
   ]
  },
  {
   "cell_type": "markdown",
   "metadata": {},
   "source": [
    "Grid Searching"
   ]
  },
  {
   "cell_type": "code",
   "execution_count": null,
   "metadata": {},
   "outputs": [],
   "source": [
    "gridsearch(cerebro_run, param_grid, scoring, datafeeds)"
   ]
  },
  {
   "cell_type": "code",
   "execution_count": null,
   "metadata": {},
   "outputs": [],
   "source": []
  }
 ],
 "metadata": {
  "kernelspec": {
   "display_name": "Python 3 (ipykernel)",
   "language": "python",
   "name": "python3"
  },
  "language_info": {
   "codemirror_mode": {
    "name": "ipython",
    "version": 3
   },
   "file_extension": ".py",
   "mimetype": "text/x-python",
   "name": "python",
   "nbconvert_exporter": "python",
   "pygments_lexer": "ipython3",
   "version": "3.10.0"
  }
 },
 "nbformat": 4,
 "nbformat_minor": 4
}

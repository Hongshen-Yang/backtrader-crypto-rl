{
 "cells": [
  {
   "cell_type": "markdown",
   "metadata": {},
   "source": [
    "# Construct a custom Environment for Pair Trading\n",
    "\n",
    "Some examples on the market\n",
    "* [custom env example](https://colab.research.google.com/github/araffin/rl-tutorial-jnrr19/blob/sb3/5_custom_gym_env.ipynb#scrollTo=RqxatIwPOXe_)\n",
    "* [StockTradingEnv by Adam King](https://github.com/notadamking/Stock-Trading-Environment)\n",
    "* [FinRL](https://github.com/AI4Finance-Foundation/FinRL)\n",
    "\n",
    "Target is to construct a custom Env for pair trading\n",
    "\n",
    "This env restrict the behaviour of RL learner to pair trading only\n",
    "Agent can only bet a fixed amount quantity"
   ]
  },
  {
   "cell_type": "markdown",
   "metadata": {},
   "source": [
    "## Import the Custom Trading Env"
   ]
  },
  {
   "cell_type": "code",
   "execution_count": 1,
   "metadata": {},
   "outputs": [],
   "source": [
    "import os\n",
    "import csv\n",
    "import pickle\n",
    "import pandas as pd\n",
    "import quantstats as qs\n",
    "import matplotlib.pyplot as plt\n",
    "from tqdm import trange\n",
    "from stable_baselines3 import PPO, A2C, DQN\n",
    "\n",
    "from params import *\n",
    "from utils.read2df import read2df, unify_dfs\n",
    "from utils.clearlogs import clear_logs\n",
    "from utils.rlmetrics import get_return, get_metrics\n",
    "from envs.env_rl_restrict_thres import RL_Restrict_TradeEnv\n",
    "\n",
    "folder_path = f\"result/rl-restrict-thres\"\n",
    "os.makedirs(folder_path, exist_ok=True)"
   ]
  },
  {
   "cell_type": "markdown",
   "metadata": {},
   "source": [
    "## Prepare Trading Data\n",
    "Load data from `preliminaries.ipynb`"
   ]
  },
  {
   "cell_type": "code",
   "execution_count": 2,
   "metadata": {},
   "outputs": [],
   "source": [
    "with open('result/cointncorr.pickle', 'rb') as pk:\n",
    "    cointncorr = pickle.load(pk)\n",
    "\n",
    "with open('result/gridsearch/best_res.pickle', 'rb') as pk:\n",
    "    best_profit, best_params = pickle.load(pk)\n",
    "\n",
    "dfs = read2df(symbols=cointncorr[0], freqs={cointncorr[1]: freqs[cointncorr[1]]}, marketType='spot')\n",
    "tics, df = unify_dfs(dfs, symbols=cointncorr[0], period=best_params['period'])"
   ]
  },
  {
   "cell_type": "code",
   "execution_count": 3,
   "metadata": {},
   "outputs": [
    {
     "data": {
      "text/plain": [
       "{'OPEN_THRE': 1.3,\n",
       " 'CLOS_THRE': 0.05,\n",
       " 'period': 700,\n",
       " 'verbose': 0,\n",
       " 'prefix': 'Gridsearch',\n",
       " 'kellycriterion': False,\n",
       " 'fixed_amount': 0.1}"
      ]
     },
     "execution_count": 3,
     "metadata": {},
     "output_type": "execute_result"
    }
   ],
   "source": [
    "best_params"
   ]
  },
  {
   "cell_type": "code",
   "execution_count": 4,
   "metadata": {},
   "outputs": [
    {
     "data": {
      "text/html": [
       "<div>\n",
       "<style scoped>\n",
       "    .dataframe tbody tr th:only-of-type {\n",
       "        vertical-align: middle;\n",
       "    }\n",
       "\n",
       "    .dataframe tbody tr th {\n",
       "        vertical-align: top;\n",
       "    }\n",
       "\n",
       "    .dataframe thead th {\n",
       "        text-align: right;\n",
       "    }\n",
       "</style>\n",
       "<table border=\"1\" class=\"dataframe\">\n",
       "  <thead>\n",
       "    <tr style=\"text-align: right;\">\n",
       "      <th></th>\n",
       "      <th>time</th>\n",
       "      <th>close0</th>\n",
       "      <th>itvl</th>\n",
       "      <th>datetime</th>\n",
       "      <th>close1</th>\n",
       "      <th>spread</th>\n",
       "      <th>zscore</th>\n",
       "    </tr>\n",
       "  </thead>\n",
       "  <tbody>\n",
       "    <tr>\n",
       "      <th>521369</th>\n",
       "      <td>1703818259999</td>\n",
       "      <td>0.000026</td>\n",
       "      <td>1m</td>\n",
       "      <td>2023-12-29 02:50:59.999</td>\n",
       "      <td>0.000028</td>\n",
       "      <td>-0.000002</td>\n",
       "      <td>-0.396319</td>\n",
       "    </tr>\n",
       "    <tr>\n",
       "      <th>521370</th>\n",
       "      <td>1703818319999</td>\n",
       "      <td>0.000026</td>\n",
       "      <td>1m</td>\n",
       "      <td>2023-12-29 02:51:59.999</td>\n",
       "      <td>0.000028</td>\n",
       "      <td>-0.000002</td>\n",
       "      <td>-0.396239</td>\n",
       "    </tr>\n",
       "    <tr>\n",
       "      <th>521371</th>\n",
       "      <td>1703818379999</td>\n",
       "      <td>0.000026</td>\n",
       "      <td>1m</td>\n",
       "      <td>2023-12-29 02:52:59.999</td>\n",
       "      <td>0.000028</td>\n",
       "      <td>-0.000002</td>\n",
       "      <td>-0.420932</td>\n",
       "    </tr>\n",
       "    <tr>\n",
       "      <th>521372</th>\n",
       "      <td>1703818439999</td>\n",
       "      <td>0.000026</td>\n",
       "      <td>1m</td>\n",
       "      <td>2023-12-29 02:53:59.999</td>\n",
       "      <td>0.000028</td>\n",
       "      <td>-0.000002</td>\n",
       "      <td>-0.386968</td>\n",
       "    </tr>\n",
       "    <tr>\n",
       "      <th>521373</th>\n",
       "      <td>1703818499999</td>\n",
       "      <td>0.000026</td>\n",
       "      <td>1m</td>\n",
       "      <td>2023-12-29 02:54:59.999</td>\n",
       "      <td>0.000028</td>\n",
       "      <td>-0.000002</td>\n",
       "      <td>-0.389093</td>\n",
       "    </tr>\n",
       "    <tr>\n",
       "      <th>521374</th>\n",
       "      <td>1703818559999</td>\n",
       "      <td>0.000026</td>\n",
       "      <td>1m</td>\n",
       "      <td>2023-12-29 02:55:59.999</td>\n",
       "      <td>0.000028</td>\n",
       "      <td>-0.000002</td>\n",
       "      <td>-0.207767</td>\n",
       "    </tr>\n",
       "    <tr>\n",
       "      <th>521375</th>\n",
       "      <td>1703818619999</td>\n",
       "      <td>0.000026</td>\n",
       "      <td>1m</td>\n",
       "      <td>2023-12-29 02:56:59.999</td>\n",
       "      <td>0.000028</td>\n",
       "      <td>-0.000002</td>\n",
       "      <td>-0.164779</td>\n",
       "    </tr>\n",
       "    <tr>\n",
       "      <th>521376</th>\n",
       "      <td>1703818679999</td>\n",
       "      <td>0.000026</td>\n",
       "      <td>1m</td>\n",
       "      <td>2023-12-29 02:57:59.999</td>\n",
       "      <td>0.000028</td>\n",
       "      <td>-0.000002</td>\n",
       "      <td>-0.119399</td>\n",
       "    </tr>\n",
       "    <tr>\n",
       "      <th>521377</th>\n",
       "      <td>1703818739999</td>\n",
       "      <td>0.000026</td>\n",
       "      <td>1m</td>\n",
       "      <td>2023-12-29 02:58:59.999</td>\n",
       "      <td>0.000028</td>\n",
       "      <td>-0.000002</td>\n",
       "      <td>0.200959</td>\n",
       "    </tr>\n",
       "    <tr>\n",
       "      <th>521378</th>\n",
       "      <td>1703818799999</td>\n",
       "      <td>0.000026</td>\n",
       "      <td>1m</td>\n",
       "      <td>2023-12-29 02:59:59.999</td>\n",
       "      <td>0.000028</td>\n",
       "      <td>-0.000002</td>\n",
       "      <td>0.873463</td>\n",
       "    </tr>\n",
       "  </tbody>\n",
       "</table>\n",
       "</div>"
      ],
      "text/plain": [
       "                 time    close0 itvl                datetime    close1  \\\n",
       "521369  1703818259999  0.000026   1m 2023-12-29 02:50:59.999  0.000028   \n",
       "521370  1703818319999  0.000026   1m 2023-12-29 02:51:59.999  0.000028   \n",
       "521371  1703818379999  0.000026   1m 2023-12-29 02:52:59.999  0.000028   \n",
       "521372  1703818439999  0.000026   1m 2023-12-29 02:53:59.999  0.000028   \n",
       "521373  1703818499999  0.000026   1m 2023-12-29 02:54:59.999  0.000028   \n",
       "521374  1703818559999  0.000026   1m 2023-12-29 02:55:59.999  0.000028   \n",
       "521375  1703818619999  0.000026   1m 2023-12-29 02:56:59.999  0.000028   \n",
       "521376  1703818679999  0.000026   1m 2023-12-29 02:57:59.999  0.000028   \n",
       "521377  1703818739999  0.000026   1m 2023-12-29 02:58:59.999  0.000028   \n",
       "521378  1703818799999  0.000026   1m 2023-12-29 02:59:59.999  0.000028   \n",
       "\n",
       "          spread    zscore  \n",
       "521369 -0.000002 -0.396319  \n",
       "521370 -0.000002 -0.396239  \n",
       "521371 -0.000002 -0.420932  \n",
       "521372 -0.000002 -0.386968  \n",
       "521373 -0.000002 -0.389093  \n",
       "521374 -0.000002 -0.207767  \n",
       "521375 -0.000002 -0.164779  \n",
       "521376 -0.000002 -0.119399  \n",
       "521377 -0.000002  0.200959  \n",
       "521378 -0.000002  0.873463  "
      ]
     },
     "execution_count": 4,
     "metadata": {},
     "output_type": "execute_result"
    }
   ],
   "source": [
    "df.tail(10)"
   ]
  },
  {
   "cell_type": "code",
   "execution_count": 5,
   "metadata": {},
   "outputs": [
    {
     "data": {
      "image/png": "[encoded data removed]",
      "text/plain": [
       "<Figure size 1000x600 with 2 Axes>"
      ]
     },
     "metadata": {},
     "output_type": "display_data"
    }
   ],
   "source": [
    "fig, (ax1, ax2) = plt.subplots(2, 1, sharex=True)\n",
    "\n",
    "ax1.plot(df['datetime'], df['spread'], label='spread')\n",
    "ax2.plot(df['datetime'], df['zscore'], label='zscore')\n",
    "\n",
    "ax1.legend()\n",
    "ax2.legend()\n",
    "plt.suptitle(f'The Spread between {cointncorr[0][0]} and {cointncorr[0][1]}')\n",
    "\n",
    "plt.xticks(rotation=45)\n",
    "plt.show()"
   ]
  },
  {
   "cell_type": "code",
   "execution_count": 6,
   "metadata": {},
   "outputs": [
    {
     "name": "stdout",
     "output_type": "stream",
     "text": [
      "The length of our training data: 87840\n"
     ]
    }
   ],
   "source": [
    "train = df[(df['datetime'] >= datetime.strptime(start_date, date_format)) & (df['datetime'] < datetime.strptime(trade_date, date_format))]\n",
    "test = df[(df['datetime'] >= datetime.strptime(trade_date, date_format)) & (df['datetime'] < datetime.strptime(end_date, date_format))]\n",
    "\n",
    "max_train_len = int((len(train)-best_params['period']) * 0.95)\n",
    "print(f\"The length of our training data: {len(train)}\")"
   ]
  },
  {
   "cell_type": "markdown",
   "metadata": {},
   "source": [
    "## Check with baselin3 `env_checker`\n",
    "\n",
    "Check if the env meets the requirements of `stable_baseline3`"
   ]
  },
  {
   "cell_type": "code",
   "execution_count": 7,
   "metadata": {},
   "outputs": [],
   "source": [
    "from stable_baselines3.common.env_checker import check_env\n",
    "\n",
    "env = RL_Restrict_TradeEnv(train)\n",
    "obs, _ = env.reset()\n",
    "check_env(env)"
   ]
  },
  {
   "cell_type": "markdown",
   "metadata": {},
   "source": [
    "Tensorboard"
   ]
  },
  {
   "cell_type": "markdown",
   "metadata": {},
   "source": [
    "## Train the Model with Trading Env"
   ]
  },
  {
   "cell_type": "code",
   "execution_count": 8,
   "metadata": {},
   "outputs": [
    {
     "name": "stdout",
     "output_type": "stream",
     "text": [
      "Deleted: logs/restrict_thres/A2C_1\n",
      "Deleted: logs/restrict_thres/DQN_1\n",
      "Deleted: logs/restrict_thres/PPO_1\n"
     ]
    }
   ],
   "source": [
    "log_path = f\"logs/restrict_thres/\"\n",
    "clear_logs(log_path)\n",
    "\n",
    "# Read more about tensorboard\n",
    "# https://github.com/tensorflow/tensorboard/blob/master/README.md\n",
    "# https://www.tensorflow.org/tensorboard/get_started"
   ]
  },
  {
   "cell_type": "code",
   "execution_count": 9,
   "metadata": {},
   "outputs": [
    {
     "data": {
      "application/vnd.jupyter.widget-view+json": {
       "model_id": "c3c56950cf4c463ea94f03b0317c6102",
       "version_major": 2,
       "version_minor": 0
      },
      "text/plain": [
       "Output()"
      ]
     },
     "metadata": {},
     "output_type": "display_data"
    },
    {
     "data": {
      "text/html": [
       "<pre style=\"white-space:pre;overflow-x:auto;line-height:normal;font-family:Menlo,'DejaVu Sans Mono',consolas,'Courier New',monospace\"></pre>\n"
      ],
      "text/plain": []
     },
     "metadata": {},
     "output_type": "display_data"
    },
    {
     "data": {
      "text/html": [
       "<pre style=\"white-space:pre;overflow-x:auto;line-height:normal;font-family:Menlo,'DejaVu Sans Mono',consolas,'Courier New',monospace\">\n",
       "</pre>\n"
      ],
      "text/plain": [
       "\n"
      ]
     },
     "metadata": {},
     "output_type": "display_data"
    }
   ],
   "source": [
    "'''PPO'''\n",
    "\n",
    "model_ppo = PPO(\"MultiInputPolicy\", env, verbose=0, gamma=1, batch_size=256, tensorboard_log=log_path)\n",
    "model_ppo.learn(total_timesteps=max_train_len, progress_bar=True)\n",
    "model_ppo.save(f\"{folder_path}/ppo_pairtrading\")"
   ]
  },
  {
   "cell_type": "code",
   "execution_count": 10,
   "metadata": {},
   "outputs": [
    {
     "data": {
      "application/vnd.jupyter.widget-view+json": {
       "model_id": "cea0e5fcb66a4e458b0d3dd9d6c16067",
       "version_major": 2,
       "version_minor": 0
      },
      "text/plain": [
       "Output()"
      ]
     },
     "metadata": {},
     "output_type": "display_data"
    },
    {
     "data": {
      "text/html": [
       "<pre style=\"white-space:pre;overflow-x:auto;line-height:normal;font-family:Menlo,'DejaVu Sans Mono',consolas,'Courier New',monospace\"></pre>\n"
      ],
      "text/plain": []
     },
     "metadata": {},
     "output_type": "display_data"
    },
    {
     "data": {
      "text/html": [
       "<pre style=\"white-space:pre;overflow-x:auto;line-height:normal;font-family:Menlo,'DejaVu Sans Mono',consolas,'Courier New',monospace\">\n",
       "</pre>\n"
      ],
      "text/plain": [
       "\n"
      ]
     },
     "metadata": {},
     "output_type": "display_data"
    }
   ],
   "source": [
    "'''A2C'''\n",
    "\n",
    "model_a2c = A2C(\"MultiInputPolicy\", env, verbose=0, gamma=1, tensorboard_log=log_path)\n",
    "model_a2c.learn(total_timesteps=max_train_len, progress_bar=True)\n",
    "model_a2c.save(f\"{folder_path}/a2c_pairtrading\")"
   ]
  },
  {
   "cell_type": "code",
   "execution_count": 11,
   "metadata": {},
   "outputs": [
    {
     "data": {
      "application/vnd.jupyter.widget-view+json": {
       "model_id": "0541bdf32ac54205bc50a914683d929b",
       "version_major": 2,
       "version_minor": 0
      },
      "text/plain": [
       "Output()"
      ]
     },
     "metadata": {},
     "output_type": "display_data"
    },
    {
     "data": {
      "text/html": [
       "<pre style=\"white-space:pre;overflow-x:auto;line-height:normal;font-family:Menlo,'DejaVu Sans Mono',consolas,'Courier New',monospace\"></pre>\n"
      ],
      "text/plain": []
     },
     "metadata": {},
     "output_type": "display_data"
    },
    {
     "data": {
      "text/html": [
       "<pre style=\"white-space:pre;overflow-x:auto;line-height:normal;font-family:Menlo,'DejaVu Sans Mono',consolas,'Courier New',monospace\">\n",
       "</pre>\n"
      ],
      "text/plain": [
       "\n"
      ]
     },
     "metadata": {},
     "output_type": "display_data"
    }
   ],
   "source": [
    "'''DQN'''\n",
    "\n",
    "model_dqn = DQN(\"MultiInputPolicy\", env, verbose=0, gamma=1, batch_size=256, tensorboard_log=log_path)\n",
    "model_dqn.learn(total_timesteps=max_train_len, progress_bar=True)\n",
    "model_dqn.save(f\"{folder_path}/dqn_pairtrading\")"
   ]
  },
  {
   "cell_type": "markdown",
   "metadata": {},
   "source": [
    "## Create the Custom Test Env"
   ]
  },
  {
   "cell_type": "code",
   "execution_count": 12,
   "metadata": {},
   "outputs": [],
   "source": [
    "test_env_ppo = RL_Restrict_TradeEnv(test, model=f\"{folder_path}/networth_ppo.csv\", verbose=1)\n",
    "test_env_a2c = RL_Restrict_TradeEnv(test, model=f\"{folder_path}/networth_a2c.csv\", verbose=1)\n",
    "test_env_dqn = RL_Restrict_TradeEnv(test, model=f\"{folder_path}/networth_dqn.csv\", verbose=1)\n",
    "test_env_expt = RL_Restrict_TradeEnv(test, model=f\"{folder_path}/networth_expt.csv\", verbose=1)"
   ]
  },
  {
   "cell_type": "code",
   "execution_count": 13,
   "metadata": {},
   "outputs": [
    {
     "name": "stdout",
     "output_type": "stream",
     "text": [
      "The length of our test data: 38475\n"
     ]
    }
   ],
   "source": [
    "max_test_len = int(len(test) * 0.95)\n",
    "print(f\"The length of our test data: {max_test_len}\")"
   ]
  },
  {
   "cell_type": "markdown",
   "metadata": {},
   "source": [
    "## Test Env with Trained Model"
   ]
  },
  {
   "cell_type": "code",
   "execution_count": 14,
   "metadata": {},
   "outputs": [
    {
     "name": "stderr",
     "output_type": "stream",
     "text": [
      "  0%|          | 13/38475 [00:00<05:04, 126.35it/s]"
     ]
    },
    {
     "name": "stdout",
     "output_type": "stream",
     "text": [
      "signal: {'position': 1, 'zone': 0, 'zscore': array([3.697308])}, action: 0, reward:1.0, networth: 1.0\n"
     ]
    },
    {
     "name": "stderr",
     "output_type": "stream",
     "text": [
      " 10%|█         | 3867/38475 [00:40<05:48, 99.36it/s] "
     ]
    },
    {
     "name": "stdout",
     "output_type": "stream",
     "text": [
      "signal: {'position': array(1, dtype=int64), 'zone': 3, 'zscore': array([-0.10806032])}, action: 1, reward:1.0, networth: 1.0076\n"
     ]
    },
    {
     "name": "stderr",
     "output_type": "stream",
     "text": [
      " 20%|██        | 7715/38475 [01:14<04:02, 126.65it/s]"
     ]
    },
    {
     "name": "stdout",
     "output_type": "stream",
     "text": [
      "signal: {'position': array(0, dtype=int64), 'zone': 1, 'zscore': array([1.19648429])}, action: 0, reward:1.0, networth: 1.0108\n"
     ]
    },
    {
     "name": "stderr",
     "output_type": "stream",
     "text": [
      " 30%|███       | 11563/38475 [01:47<03:53, 115.02it/s]"
     ]
    },
    {
     "name": "stdout",
     "output_type": "stream",
     "text": [
      "signal: {'position': array(1, dtype=int64), 'zone': 1, 'zscore': array([0.78748593])}, action: 1, reward:1.0, networth: 1.0252\n"
     ]
    },
    {
     "name": "stderr",
     "output_type": "stream",
     "text": [
      " 40%|████      | 15410/38475 [02:20<03:16, 117.61it/s]"
     ]
    },
    {
     "name": "stdout",
     "output_type": "stream",
     "text": [
      "signal: {'position': array(1, dtype=int64), 'zone': 1, 'zscore': array([0.53174725])}, action: 1, reward:1.0, networth: 1.036\n"
     ]
    },
    {
     "name": "stderr",
     "output_type": "stream",
     "text": [
      " 50%|█████     | 19254/38475 [02:55<02:41, 118.96it/s]"
     ]
    },
    {
     "name": "stdout",
     "output_type": "stream",
     "text": [
      "signal: {'position': array(0, dtype=int64), 'zone': 0, 'zscore': array([1.78440887])}, action: 0, reward:1.0, networth: 1.0492\n"
     ]
    },
    {
     "name": "stderr",
     "output_type": "stream",
     "text": [
      " 60%|██████    | 23104/38475 [03:28<02:08, 119.82it/s]"
     ]
    },
    {
     "name": "stdout",
     "output_type": "stream",
     "text": [
      "signal: {'position': array(1, dtype=int64), 'zone': 1, 'zscore': array([0.19242718])}, action: 1, reward:1.0, networth: 1.0629\n"
     ]
    },
    {
     "name": "stderr",
     "output_type": "stream",
     "text": [
      " 70%|███████   | 26950/38475 [04:02<01:38, 116.59it/s]"
     ]
    },
    {
     "name": "stdout",
     "output_type": "stream",
     "text": [
      "signal: {'position': array(2, dtype=int64), 'zone': 3, 'zscore': array([-0.76275417])}, action: 2, reward:1.0, networth: 1.0838\n"
     ]
    },
    {
     "name": "stderr",
     "output_type": "stream",
     "text": [
      " 80%|████████  | 30793/38475 [04:36<01:06, 115.36it/s]"
     ]
    },
    {
     "name": "stdout",
     "output_type": "stream",
     "text": [
      "signal: {'position': array(0, dtype=int64), 'zone': 0, 'zscore': array([1.33974132])}, action: 0, reward:1.0, networth: 1.1056\n"
     ]
    },
    {
     "name": "stderr",
     "output_type": "stream",
     "text": [
      " 90%|█████████ | 34635/38475 [05:12<00:34, 111.28it/s]"
     ]
    },
    {
     "name": "stdout",
     "output_type": "stream",
     "text": [
      "signal: {'position': array(1, dtype=int64), 'zone': 1, 'zscore': array([0.49405665])}, action: 1, reward:1.0, networth: 1.1319\n"
     ]
    },
    {
     "name": "stderr",
     "output_type": "stream",
     "text": [
      "100%|██████████| 38475/38475 [05:46<00:00, 111.06it/s]"
     ]
    },
    {
     "name": "stdout",
     "output_type": "stream",
     "text": [
      "signal: {'position': array(1, dtype=int64), 'zone': 1, 'zscore': array([0.29127686])}, action: 1, reward:1.0, networth: 1.1618\n",
      "Finished\n",
      "networth: 1.161758678546551\n"
     ]
    },
    {
     "name": "stderr",
     "output_type": "stream",
     "text": [
      "\n"
     ]
    }
   ],
   "source": [
    "try:\n",
    "    os.remove(f\"{folder_path}/networth_ppo.csv\")\n",
    "except OSError:\n",
    "    pass\n",
    "\n",
    "obs, _ = test_env_ppo.reset()\n",
    "\n",
    "for i in trange(max_test_len):\n",
    "    action, _states = model_ppo.predict(obs)\n",
    "    obs, rewards, terminated, truncated, info = test_env_ppo.step(action)\n",
    "    if i%int(max_test_len/10)==0:\n",
    "        test_env_ppo.render()\n",
    "\n",
    "test_env_ppo.close()"
   ]
  },
  {
   "cell_type": "code",
   "execution_count": null,
   "metadata": {},
   "outputs": [],
   "source": [
    "try:\n",
    "    os.remove(f\"{folder_path}/networth_a2c.csv\")\n",
    "except OSError:\n",
    "    pass\n",
    "\n",
    "obs, _ = test_env_a2c.reset()\n",
    "\n",
    "for i in trange(max_test_len):\n",
    "    action, _states = model_a2c.predict(obs)\n",
    "    obs, rewards, terminated, truncated, info = test_env_a2c.step(action)\n",
    "    if i%int(max_test_len/10)==0:\n",
    "        test_env_a2c.render()\n",
    "\n",
    "test_env_a2c.close()"
   ]
  },
  {
   "cell_type": "code",
   "execution_count": null,
   "metadata": {},
   "outputs": [],
   "source": [
    "try:\n",
    "    os.remove(f\"{folder_path}/networth_dqn.csv\")\n",
    "except OSError:\n",
    "    pass\n",
    "\n",
    "obs, _ = test_env_dqn.reset()\n",
    "\n",
    "for i in trange(max_test_len):\n",
    "    action, _states = model_dqn.predict(obs)\n",
    "    obs, rewards, terminated, truncated, info = test_env_dqn.step(action)\n",
    "    if i%int(max_test_len/10)==0:\n",
    "        test_env_dqn.render()\n",
    "\n",
    "test_env_dqn.close()"
   ]
  },
  {
   "cell_type": "markdown",
   "metadata": {},
   "source": [
    "## Also run randomly generated actions"
   ]
  },
  {
   "cell_type": "code",
   "execution_count": null,
   "metadata": {},
   "outputs": [],
   "source": [
    "try:\n",
    "    os.remove(f\"{folder_path}/networth_expt.csv\")\n",
    "except OSError:\n",
    "    pass\n",
    "\n",
    "obs, _ = test_env_expt.reset()\n",
    "\n",
    "for i in trange(max_test_len):\n",
    "    obs, rewards, terminated, truncated, info = test_env_expt.step(action=env.action_space.sample())\n",
    "    if i%int(max_test_len/10)==0:\n",
    "        test_env_expt.render()\n",
    "\n",
    "test_env_expt.close()"
   ]
  },
  {
   "cell_type": "markdown",
   "metadata": {},
   "source": [
    "### Analyze with Quanstats"
   ]
  },
  {
   "cell_type": "code",
   "execution_count": null,
   "metadata": {},
   "outputs": [],
   "source": [
    "os.remove(f\"{folder_path}/networth_expt.csv\") if os.path.exists(f\"{folder_path}/networth_expt.csv\") else None\n",
    "\n",
    "csv_files = [file for file in os.listdir(folder_path) if file.endswith('.csv')]\n",
    "\n",
    "best_res, best_model = None, None\n",
    "for file_name in csv_files:\n",
    "    file_path = os.path.join(folder_path, file_name)\n",
    "    \n",
    "    with open(file_path, 'r') as csv_file:\n",
    "        csv_reader = csv.reader(csv_file)\n",
    "        \n",
    "        # Loop through the lines in the CSV file\n",
    "        last_line = None\n",
    "        for row in csv_reader:\n",
    "            last_line = row  # Update last_line with the current row\n",
    "    \n",
    "    if best_res is None or float(best_res) < float(last_line[1]):\n",
    "        best_res = last_line[1]\n",
    "        best_model = file_name\n",
    "\n",
    "    print(f\"The ending capital of {file_name} is {last_line[0:2]}\")\n",
    "\n",
    "print(f\"The best model is {best_model}\")"
   ]
  },
  {
   "cell_type": "code",
   "execution_count": null,
   "metadata": {},
   "outputs": [],
   "source": [
    "best_return = get_return(f'{folder_path}/{best_model}')\n",
    "get_metrics(best_return)"
   ]
  },
  {
   "cell_type": "code",
   "execution_count": null,
   "metadata": {},
   "outputs": [],
   "source": [
    "best_return"
   ]
  },
  {
   "cell_type": "code",
   "execution_count": null,
   "metadata": {},
   "outputs": [],
   "source": [
    "best_return[best_return['pnl']!=0]"
   ]
  },
  {
   "cell_type": "code",
   "execution_count": null,
   "metadata": {},
   "outputs": [],
   "source": [
    "fig, ax = plt.subplots()\n",
    "\n",
    "ax.set_title(\"Profit and Loss\")\n",
    "ax.plot(best_return['returns'])\n",
    "\n",
    "plt.show()"
   ]
  },
  {
   "cell_type": "code",
   "execution_count": null,
   "metadata": {},
   "outputs": [],
   "source": [
    "qs.reports.basic(best_return['returns'])"
   ]
  },
  {
   "cell_type": "code",
   "execution_count": null,
   "metadata": {},
   "outputs": [],
   "source": []
  }
 ],
 "metadata": {
  "kernelspec": {
   "display_name": "Python 3 (ipykernel)",
   "language": "python",
   "name": "python3"
  },
  "language_info": {
   "codemirror_mode": {
    "name": "ipython",
    "version": 3
   },
   "file_extension": ".py",
   "mimetype": "text/x-python",
   "name": "python",
   "nbconvert_exporter": "python",
   "pygments_lexer": "ipython3",
   "version": "3.8.18"
  }
 },
 "nbformat": 4,
 "nbformat_minor": 4
}

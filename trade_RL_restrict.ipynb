{
 "cells": [
  {
   "cell_type": "markdown",
   "metadata": {},
   "source": [
    "# Construct a custom Environment for Financial Trading\n",
    "\n",
    "Some examples on the market\n",
    "* [custom env example](https://colab.research.google.com/github/araffin/rl-tutorial-jnrr19/blob/sb3/5_custom_gym_env.ipynb#scrollTo=RqxatIwPOXe_)\n",
    "* [StockTradingEnv by Adam King](https://github.com/notadamking/Stock-Trading-Environment)\n",
    "* [FinRL](https://github.com/AI4Finance-Foundation/FinRL)\n",
    "\n",
    "Target is to construct a custom Env for pair trading\n",
    "\n",
    "This env restrict the behaviour of RL learner to pair trading only"
   ]
  },
  {
   "cell_type": "code",
   "execution_count": 1,
   "metadata": {},
   "outputs": [],
   "source": [
    "import os\n",
    "import numpy as np\n",
    "import gymnasium as gym\n",
    "from gymnasium import spaces\n",
    "from datetime import date\n",
    "from sklearn.model_selection import train_test_split\n",
    "\n",
    "from utils.read2df import read2df\n",
    "\n",
    "os.makedirs(\"result/rl-restrict\", exist_ok=True)\n",
    "strategy_txt = f\"result/rl-restrict/strategy.txt\"\n",
    "os.remove(strategy_txt) if os.path.exists(strategy_txt) else None"
   ]
  },
  {
   "cell_type": "markdown",
   "metadata": {},
   "source": [
    "Define data parameters"
   ]
  },
  {
   "cell_type": "code",
   "execution_count": 2,
   "metadata": {},
   "outputs": [],
   "source": [
    "symbols = ['BTCUSDT', 'ETHUSDT', 'LTCUSDT', 'XMRUSDT', 'BNBUSDT', 'ADAUSDT', 'DOGEUSDT', 'SOLUSDT', 'TRXUSDT']\n",
    "\n",
    "start_date = '2022-01-01'\n",
    "trade_date = '2023-01-01'\n",
    "\n",
    "# freqs = {'1h':60, '2h':120, '4h':240, '6h':360, '8h':480, '12h':720, '1d':1440}\n",
    "freqs = {'3m':3, '5m':5, '15m':15, '30m':30}"
   ]
  },
  {
   "cell_type": "markdown",
   "metadata": {},
   "source": [
    "Download data from `binance-public-data`"
   ]
  },
  {
   "cell_type": "code",
   "execution_count": 3,
   "metadata": {},
   "outputs": [],
   "source": [
    "%%capture\n",
    "if symbols is None:\n",
    "    !python binance-public-data/python/download-kline.py -i {\" \".join(list(freqs.keys()))} -startDate {start_date} -t spot -skip-daily 1\n",
    "else:\n",
    "    !python binance-public-data/python/download-kline.py -s {\" \".join(symbols)} -i {\" \".join(list(freqs.keys()))} -startDate {start_date} -t spot -skip-daily 1"
   ]
  },
  {
   "cell_type": "code",
   "execution_count": 4,
   "metadata": {},
   "outputs": [],
   "source": [
    "# dfs = read2df(symbols, freqs)\n",
    "dfs = read2df(symbols, freqs)\n",
    "\n",
    "df0 = dfs[0][dfs[0]['tic']=='BTCUSDT'].reset_index(drop=True)\n",
    "df1 = dfs[0][dfs[0]['tic']=='ETHUSDT'].reset_index(drop=True)"
   ]
  },
  {
   "cell_type": "markdown",
   "metadata": {},
   "source": [
    "Set data before `trade_data` as training data, after `trade_data` is trade_data"
   ]
  },
  {
   "cell_type": "code",
   "execution_count": 5,
   "metadata": {},
   "outputs": [],
   "source": [
    "train0 = df0[df0['datetime'] < trade_date]\n",
    "train1 = df1[df1['datetime'] < trade_date]\n",
    "\n",
    "test0 = df0[df0['datetime'] >= trade_date]\n",
    "test1 = df1[df1['datetime'] >= trade_date]"
   ]
  },
  {
   "cell_type": "code",
   "execution_count": 6,
   "metadata": {},
   "outputs": [
    {
     "data": {
      "text/html": [
       "<div>\n",
       "<style scoped>\n",
       "    .dataframe tbody tr th:only-of-type {\n",
       "        vertical-align: middle;\n",
       "    }\n",
       "\n",
       "    .dataframe tbody tr th {\n",
       "        vertical-align: top;\n",
       "    }\n",
       "\n",
       "    .dataframe thead th {\n",
       "        text-align: right;\n",
       "    }\n",
       "</style>\n",
       "<table border=\"1\" class=\"dataframe\">\n",
       "  <thead>\n",
       "    <tr style=\"text-align: right;\">\n",
       "      <th></th>\n",
       "      <th>time</th>\n",
       "      <th>close</th>\n",
       "    </tr>\n",
       "  </thead>\n",
       "  <tbody>\n",
       "    <tr>\n",
       "      <th>0</th>\n",
       "      <td>1597125779999</td>\n",
       "      <td>11850.14</td>\n",
       "    </tr>\n",
       "    <tr>\n",
       "      <th>1</th>\n",
       "      <td>1597125959999</td>\n",
       "      <td>11847.86</td>\n",
       "    </tr>\n",
       "    <tr>\n",
       "      <th>2</th>\n",
       "      <td>1597126139999</td>\n",
       "      <td>11848.32</td>\n",
       "    </tr>\n",
       "    <tr>\n",
       "      <th>3</th>\n",
       "      <td>1597126319999</td>\n",
       "      <td>11840.89</td>\n",
       "    </tr>\n",
       "    <tr>\n",
       "      <th>4</th>\n",
       "      <td>1597126499999</td>\n",
       "      <td>11836.65</td>\n",
       "    </tr>\n",
       "    <tr>\n",
       "      <th>...</th>\n",
       "      <td>...</td>\n",
       "      <td>...</td>\n",
       "    </tr>\n",
       "    <tr>\n",
       "      <th>549477</th>\n",
       "      <td>1696117679999</td>\n",
       "      <td>26966.38</td>\n",
       "    </tr>\n",
       "    <tr>\n",
       "      <th>549478</th>\n",
       "      <td>1696117859999</td>\n",
       "      <td>26974.11</td>\n",
       "    </tr>\n",
       "    <tr>\n",
       "      <th>549479</th>\n",
       "      <td>1696118039999</td>\n",
       "      <td>26969.55</td>\n",
       "    </tr>\n",
       "    <tr>\n",
       "      <th>549480</th>\n",
       "      <td>1696118219999</td>\n",
       "      <td>26964.77</td>\n",
       "    </tr>\n",
       "    <tr>\n",
       "      <th>549481</th>\n",
       "      <td>1696118399999</td>\n",
       "      <td>26962.56</td>\n",
       "    </tr>\n",
       "  </tbody>\n",
       "</table>\n",
       "<p>549482 rows × 2 columns</p>\n",
       "</div>"
      ],
      "text/plain": [
       "                 time     close\n",
       "0       1597125779999  11850.14\n",
       "1       1597125959999  11847.86\n",
       "2       1597126139999  11848.32\n",
       "3       1597126319999  11840.89\n",
       "4       1597126499999  11836.65\n",
       "...               ...       ...\n",
       "549477  1696117679999  26966.38\n",
       "549478  1696117859999  26974.11\n",
       "549479  1696118039999  26969.55\n",
       "549480  1696118219999  26964.77\n",
       "549481  1696118399999  26962.56\n",
       "\n",
       "[549482 rows x 2 columns]"
      ]
     },
     "execution_count": 6,
     "metadata": {},
     "output_type": "execute_result"
    }
   ],
   "source": [
    "df0[['time', 'close']]"
   ]
  },
  {
   "cell_type": "code",
   "execution_count": 7,
   "metadata": {},
   "outputs": [
    {
     "data": {
      "text/plain": [
       "'\\nclass PairTradingActionSpace(gym.Space):\\n  def __init__(self, low=-1.0, high=1.0, shape=(2, ), dtype=np.float32):\\n    super().__init__(shape, dtype)\\n    self.low = low\\n    self.high = high\\n\\n  def sample(self):\\n    action = np.random.uniform(self.low, self.high, self.shape)\\n    # Normalize the action so that the summation of action[0] and action[1] is within -1 and 1.\\n    action = action / np.linalg.norm(action)\\n    return action\\n\\n  def contains(self, x):\\n    return np.all(self.low <= x) and np.all(x <= self.high) and np.linalg.norm(x) <= 1.0\\n'"
      ]
     },
     "execution_count": 7,
     "metadata": {},
     "output_type": "execute_result"
    }
   ],
   "source": [
    "# Don't use custom observation & action spaces\n",
    "# See the warning on https://gymnasium.farama.org/api/spaces/\n",
    "\n",
    "'''\n",
    "class PairTradingActionSpace(gym.Space):\n",
    "  def __init__(self, low=-1.0, high=1.0, shape=(2, ), dtype=np.float32):\n",
    "    super().__init__(shape, dtype)\n",
    "    self.low = low\n",
    "    self.high = high\n",
    "\n",
    "  def sample(self):\n",
    "    action = np.random.uniform(self.low, self.high, self.shape)\n",
    "    # Normalize the action so that the summation of action[0] and action[1] is within -1 and 1.\n",
    "    action = action / np.linalg.norm(action)\n",
    "    return action\n",
    "\n",
    "  def contains(self, x):\n",
    "    return np.all(self.low <= x) and np.all(x <= self.high) and np.linalg.norm(x) <= 1.0\n",
    "'''"
   ]
  },
  {
   "cell_type": "markdown",
   "metadata": {},
   "source": [
    "# Define the custom Environment\n",
    "\n",
    "The behaviour of RL learner is restricted. \n",
    "\n",
    "The action is defined as discrete actions -1, 0, 1\n",
    "\n",
    "-1 means short df0 long df1, 0 means close position, +1 means long df0 short df1"
   ]
  },
  {
   "cell_type": "code",
   "execution_count": 8,
   "metadata": {},
   "outputs": [],
   "source": [
    "# The lookback period for the observation space\n",
    "PERIOD = 100 # Only look at the current price\n",
    "CASH = 10000\n",
    "\n",
    "class PairTradingEnv(gym.Env):\n",
    "    metadata = {'render.modes': ['console']}\n",
    "\n",
    "    # for pair trading, we need to feed in two OHLCV dataframes\n",
    "    def __init__(self, df0, df1, tc=0.001):\n",
    "        super().__init__()\n",
    "\n",
    "        if not df0['time'].equals(df1['time']):\n",
    "            raise ValueError(\"Two dataframe must have same time index\")\n",
    "\n",
    "        self.tic0 = df0['tic'].iloc[0]\n",
    "        self.tic1 = df1['tic'].iloc[0]\n",
    "\n",
    "        # transaction cost\n",
    "        self.tc = tc\n",
    "\n",
    "        # get two datasets\n",
    "        # self.df0 = df0[['time', 'open', 'high', 'low', 'close', 'volume']]\n",
    "        # self.df1 = df1[['time', 'open', 'high', 'low', 'close', 'volume']]\n",
    "\n",
    "        column_feed = ['close']\n",
    "        self.df0 = df0[column_feed]\n",
    "        self.df1 = df1[column_feed]\n",
    "\n",
    "        self.reward_range = (-np.inf, np.inf)\n",
    "\n",
    "        # We have to start fro 0 according to baseline3\n",
    "        # 0 means short df0 long df1, 1 means do nothing, 2 means long df0 short df1\n",
    "        self.action_space = spaces.Discrete(3) # {-1, 0, 1}\n",
    "\n",
    "        # The data requires to be at least [time, open, high, low, close, volume]\n",
    "        # Let's assume that we feed in previous 30 period data into the observation_space\n",
    "        self.observation_space = spaces.Box(low=0.0, high=np.inf, shape=(2*(PERIOD-1)*len(column_feed),), dtype=np.float64)\n",
    "\n",
    "        # if the length is 35, then the index shall be 0~34\n",
    "        self.max_steps = len(df0)-1\n",
    "\n",
    "    def _next_observation(self):\n",
    "        # The current step is always higher than the PERIOD as defined in the \n",
    "\n",
    "        obs_df0 = self.df0.iloc[self.current_step-PERIOD+1: self.current_step]\n",
    "        obs_df1 = self.df1.iloc[self.current_step-PERIOD+1: self.current_step]\n",
    "\n",
    "        obs = np.array([obs_df0, obs_df1]).flatten()\n",
    "\n",
    "        return obs\n",
    "\n",
    "    def _take_action(self, action):\n",
    "        # Make it 0 means close position, -1 means short df0 long df1, 1 means long df0 short df1\n",
    "        # The reason we -1 here is because Baseline requires the action starts with 0\n",
    "        self.action = action-1\n",
    "\n",
    "        curr_price0 = self.df0['close'].iloc[self.current_step]\n",
    "        curr_price1 = self.df1['close'].iloc[self.current_step]\n",
    "\n",
    "        curr_holding0 = self.holding0\n",
    "        curr_holding1 = self.holding1\n",
    "\n",
    "        prev_action = self.holding0 > 0\n",
    "\n",
    "        # We shouldn't do any action if we are already holding the position\n",
    "        if prev_action != self.action:\n",
    "\n",
    "            # evaluate purchasing power \n",
    "            max_amount0 = self.net_worth/curr_price0\n",
    "            max_amount1 = self.net_worth/curr_price1\n",
    "\n",
    "            # if action is 0, then both holding becomes 0\n",
    "            # if action is -1, then short df0 long df1 to the max_amount\n",
    "            # if action is 1, then long df0 short df1 to the max_amount\n",
    "            self.holding0 = self.action*max_amount0\n",
    "            self.holding1 = -self.action*max_amount1\n",
    "\n",
    "            # if action is 0, then clear out based on curr_holding*curr_price\n",
    "            # if action is -1, then use all the money to sell df0 and buy df1\n",
    "            # if action is 1, then use all the money to buy df1 and sell df0\n",
    "            self.cash -= (self.holding0-curr_holding0)*curr_price0 + (self.holding1-curr_holding1)*curr_price1\n",
    "\n",
    "        # We record the net_worth from previous period to prev_net_worth\n",
    "        self.prev_net_worth = self.net_worth\n",
    "        self.net_worth = self.cash + curr_holding0*curr_price0 + curr_holding1*curr_price1\n",
    "\n",
    "    def step(self, action):\n",
    "        self._take_action(action)\n",
    "        self.current_step += 1\n",
    "\n",
    "        observation = self._next_observation()\n",
    "        reward = self.net_worth - self.prev_net_worth\n",
    "        terminated = bool(self.current_step >= self.max_steps)\n",
    "        truncated = bool(self.net_worth <= 0)\n",
    "        info = {}\n",
    "\n",
    "        return observation, reward, terminated, truncated, info\n",
    "\n",
    "    def reset(self, seed=None):\n",
    "        np.random.seed(seed)\n",
    "        \n",
    "        self.cash = CASH\n",
    "        self.net_worth = CASH\n",
    "        self.max_net_worth = CASH\n",
    "        self.holding0 = 0\n",
    "        self.holding1 = 0\n",
    "\n",
    "        self.current_step = np.random.randint(PERIOD, self.max_steps)\n",
    "\n",
    "        return self._next_observation(), {}\n",
    "    \n",
    "    def render(self):\n",
    "        profit = self.net_worth - CASH\n",
    "\n",
    "        with open(strategy_txt, \"a\") as f:\n",
    "            f.write(f\"Current net worth is {self.net_worth}, cash is {self.cash}\\n\")\n",
    "            f.write(f\"Actions for this step is {self.action}\\n\")\n",
    "            f.write(f\"Current holding is {self.holding0} of {self.tic0} and {self.holding1} of {self.tic1}\\n\\n\")\n",
    "        f.close()"
   ]
  },
  {
   "cell_type": "markdown",
   "metadata": {},
   "source": [
    "## Check with baselin3 `env_checker`\n",
    "\n",
    "Check if the env meets the requirements of `stable_baseline3`"
   ]
  },
  {
   "cell_type": "code",
   "execution_count": 9,
   "metadata": {},
   "outputs": [],
   "source": [
    "from stable_baselines3.common.env_checker import check_env\n",
    "\n",
    "env = PairTradingEnv(train0, train1)\n",
    "check_env(env)"
   ]
  },
  {
   "cell_type": "markdown",
   "metadata": {},
   "source": [
    "## Do a test run with random generated actions"
   ]
  },
  {
   "cell_type": "code",
   "execution_count": 10,
   "metadata": {},
   "outputs": [
    {
     "name": "stdout",
     "output_type": "stream",
     "text": [
      "observation_space: Box(0.0, inf, (198,), float64)\n",
      "action_space: Discrete(3)\n",
      "action_space.sample: 2\n"
     ]
    }
   ],
   "source": [
    "import random\n",
    "\n",
    "env = PairTradingEnv(train0, train1)\n",
    "\n",
    "obs, _ = env.reset()\n",
    "\n",
    "print(f\"observation_space: {env.observation_space}\")\n",
    "print(f\"action_space: {env.action_space}\")\n",
    "print(f\"action_space.sample: {env.action_space.sample()}\")\n",
    "\n",
    "n_steps = 5\n",
    "\n",
    "with open(strategy_txt, \"a\") as f:\n",
    "    f.write(f\"Start random testing\\n\")\n",
    "f.close()\n",
    "\n",
    "for step in range(n_steps):\n",
    "    with open(strategy_txt, \"a\") as f:\n",
    "        f.write(f\"Step {step + 1}\\n\")\n",
    "    f.close()\n",
    "    obs, reward, terminated, truncated, info = env.step(action=random.randint(0, 2))\n",
    "    done = terminated or truncated\n",
    "    env.render()\n",
    "    if done:\n",
    "        break"
   ]
  },
  {
   "cell_type": "markdown",
   "metadata": {},
   "source": [
    "## PPO model from stable_baselines3\n",
    "\n",
    "Train with training data"
   ]
  },
  {
   "cell_type": "code",
   "execution_count": 11,
   "metadata": {},
   "outputs": [],
   "source": [
    "from stable_baselines3 import PPO\n",
    "\n",
    "env = PairTradingEnv(train0, train1)\n",
    "\n",
    "model = PPO(\"MlpPolicy\", env, verbose=0, tensorboard_log=\"logs\")\n",
    "model.learn(total_timesteps=100000)\n",
    "model.save(\"ppo_pairtrading\")"
   ]
  },
  {
   "cell_type": "markdown",
   "metadata": {},
   "source": [
    "## Use the model on Trade data"
   ]
  },
  {
   "cell_type": "code",
   "execution_count": 12,
   "metadata": {},
   "outputs": [],
   "source": [
    "del model\n",
    "model = PPO.load(\"ppo_pairtrading\")"
   ]
  },
  {
   "cell_type": "code",
   "execution_count": 13,
   "metadata": {},
   "outputs": [
    {
     "name": "stdout",
     "output_type": "stream",
     "text": [
      "Test Finished!\n"
     ]
    }
   ],
   "source": [
    "env = PairTradingEnv(test0, test1)\n",
    "\n",
    "with open(strategy_txt, \"a\") as f:\n",
    "    f.write(f\"Start test trading\\n\")\n",
    "f.close()\n",
    "\n",
    "env.reset()\n",
    "while True:\n",
    "    action, _states = model.predict(obs)\n",
    "    observation, reward, terminated, truncated, info = env.step(action)\n",
    "    done = terminated or truncated\n",
    "    env.render()\n",
    "    if terminated:\n",
    "        print(\"Test Finished!\")\n",
    "        break\n",
    "    elif truncated:\n",
    "        print(\"bankrupted!\")\n",
    "        break"
   ]
  },
  {
   "cell_type": "code",
   "execution_count": null,
   "metadata": {},
   "outputs": [],
   "source": []
  }
 ],
 "metadata": {
  "kernelspec": {
   "display_name": "uoa-mdt",
   "language": "python",
   "name": "python3"
  },
  "language_info": {
   "codemirror_mode": {
    "name": "ipython",
    "version": 3
   },
   "file_extension": ".py",
   "mimetype": "text/x-python",
   "name": "python",
   "nbconvert_exporter": "python",
   "pygments_lexer": "ipython3",
   "version": "3.10.0"
  },
  "orig_nbformat": 4
 },
 "nbformat": 4,
 "nbformat_minor": 2
}
